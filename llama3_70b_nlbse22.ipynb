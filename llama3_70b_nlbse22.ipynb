{
  "nbformat": 4,
  "nbformat_minor": 0,
  "metadata": {
    "colab": {
      "provenance": [],
      "machine_shape": "hm",
      "gpuType": "A100",
      "authorship_tag": "ABX9TyN1VxzoB6hutC4Ns2goAfNt",
      "include_colab_link": true
    },
    "kernelspec": {
      "name": "python3",
      "display_name": "Python 3"
    },
    "language_info": {
      "name": "python"
    },
    "accelerator": "GPU"
  },
  "cells": [
    {
      "cell_type": "markdown",
      "metadata": {
        "id": "view-in-github",
        "colab_type": "text"
      },
      "source": [
        "<a href=\"https://colab.research.google.com/github/isdeniz/msc-2024/blob/main/llama3_70b_nlbse22.ipynb\" target=\"_parent\"><img src=\"https://colab.research.google.com/assets/colab-badge.svg\" alt=\"Open In Colab\"/></a>"
      ]
    },
    {
      "cell_type": "code",
      "execution_count": 1,
      "metadata": {
        "colab": {
          "base_uri": "https://localhost:8080/"
        },
        "id": "gevtu4Da2tyx",
        "outputId": "0a777ebb-a83e-44e8-83ef-65ebaca4bf5d"
      },
      "outputs": [
        {
          "output_type": "stream",
          "name": "stdout",
          "text": [
            ">>> Downloading ollama...\n",
            "############################################################################################# 100.0%\n",
            ">>> Installing ollama to /usr/local/bin...\n",
            ">>> Creating ollama user...\n",
            ">>> Adding ollama user to video group...\n",
            ">>> Adding current user to ollama group...\n",
            ">>> Creating ollama systemd service...\n",
            "WARNING: Unable to detect NVIDIA/AMD GPU. Install lspci or lshw to automatically detect and install GPU dependencies.\n",
            ">>> The Ollama API is now available at 127.0.0.1:11434.\n",
            ">>> Install complete. Run \"ollama\" from the command line.\n"
          ]
        }
      ],
      "source": [
        "!curl -fsSL https://ollama.com/install.sh | sh"
      ]
    },
    {
      "cell_type": "code",
      "source": [
        "!python3.10 -m pip install langchain"
      ],
      "metadata": {
        "colab": {
          "base_uri": "https://localhost:8080/"
        },
        "id": "5-dMSYc84iqD",
        "outputId": "303aa6cf-bba0-4fb4-ad7e-aa1f9f5abc70"
      },
      "execution_count": 2,
      "outputs": [
        {
          "output_type": "stream",
          "name": "stdout",
          "text": [
            "Collecting langchain\n",
            "  Downloading langchain-0.2.12-py3-none-any.whl.metadata (7.1 kB)\n",
            "Requirement already satisfied: PyYAML>=5.3 in /usr/local/lib/python3.10/dist-packages (from langchain) (6.0.1)\n",
            "Requirement already satisfied: SQLAlchemy<3,>=1.4 in /usr/local/lib/python3.10/dist-packages (from langchain) (2.0.31)\n",
            "Requirement already satisfied: aiohttp<4.0.0,>=3.8.3 in /usr/local/lib/python3.10/dist-packages (from langchain) (3.10.1)\n",
            "Requirement already satisfied: async-timeout<5.0.0,>=4.0.0 in /usr/local/lib/python3.10/dist-packages (from langchain) (4.0.3)\n",
            "Collecting langchain-core<0.3.0,>=0.2.27 (from langchain)\n",
            "  Downloading langchain_core-0.2.29-py3-none-any.whl.metadata (6.2 kB)\n",
            "Collecting langchain-text-splitters<0.3.0,>=0.2.0 (from langchain)\n",
            "  Downloading langchain_text_splitters-0.2.2-py3-none-any.whl.metadata (2.1 kB)\n",
            "Collecting langsmith<0.2.0,>=0.1.17 (from langchain)\n",
            "  Downloading langsmith-0.1.98-py3-none-any.whl.metadata (13 kB)\n",
            "Requirement already satisfied: numpy<2,>=1 in /usr/local/lib/python3.10/dist-packages (from langchain) (1.26.4)\n",
            "Requirement already satisfied: pydantic<3,>=1 in /usr/local/lib/python3.10/dist-packages (from langchain) (2.8.2)\n",
            "Requirement already satisfied: requests<3,>=2 in /usr/local/lib/python3.10/dist-packages (from langchain) (2.32.3)\n",
            "Collecting tenacity!=8.4.0,<9.0.0,>=8.1.0 (from langchain)\n",
            "  Downloading tenacity-8.5.0-py3-none-any.whl.metadata (1.2 kB)\n",
            "Requirement already satisfied: aiohappyeyeballs>=2.3.0 in /usr/local/lib/python3.10/dist-packages (from aiohttp<4.0.0,>=3.8.3->langchain) (2.3.4)\n",
            "Requirement already satisfied: aiosignal>=1.1.2 in /usr/local/lib/python3.10/dist-packages (from aiohttp<4.0.0,>=3.8.3->langchain) (1.3.1)\n",
            "Requirement already satisfied: attrs>=17.3.0 in /usr/local/lib/python3.10/dist-packages (from aiohttp<4.0.0,>=3.8.3->langchain) (24.1.0)\n",
            "Requirement already satisfied: frozenlist>=1.1.1 in /usr/local/lib/python3.10/dist-packages (from aiohttp<4.0.0,>=3.8.3->langchain) (1.4.1)\n",
            "Requirement already satisfied: multidict<7.0,>=4.5 in /usr/local/lib/python3.10/dist-packages (from aiohttp<4.0.0,>=3.8.3->langchain) (6.0.5)\n",
            "Requirement already satisfied: yarl<2.0,>=1.0 in /usr/local/lib/python3.10/dist-packages (from aiohttp<4.0.0,>=3.8.3->langchain) (1.9.4)\n",
            "Collecting jsonpatch<2.0,>=1.33 (from langchain-core<0.3.0,>=0.2.27->langchain)\n",
            "  Downloading jsonpatch-1.33-py2.py3-none-any.whl.metadata (3.0 kB)\n",
            "Requirement already satisfied: packaging<25,>=23.2 in /usr/local/lib/python3.10/dist-packages (from langchain-core<0.3.0,>=0.2.27->langchain) (24.1)\n",
            "Requirement already satisfied: typing-extensions>=4.7 in /usr/local/lib/python3.10/dist-packages (from langchain-core<0.3.0,>=0.2.27->langchain) (4.12.2)\n",
            "Collecting orjson<4.0.0,>=3.9.14 (from langsmith<0.2.0,>=0.1.17->langchain)\n",
            "  Downloading orjson-3.10.7-cp310-cp310-manylinux_2_17_x86_64.manylinux2014_x86_64.whl.metadata (50 kB)\n",
            "\u001b[2K     \u001b[90m━━━━━━━━━━━━━━━━━━━━━━━━━━━━━━━━━━━━━━━━\u001b[0m \u001b[32m50.4/50.4 kB\u001b[0m \u001b[31m3.6 MB/s\u001b[0m eta \u001b[36m0:00:00\u001b[0m\n",
            "\u001b[?25hRequirement already satisfied: annotated-types>=0.4.0 in /usr/local/lib/python3.10/dist-packages (from pydantic<3,>=1->langchain) (0.7.0)\n",
            "Requirement already satisfied: pydantic-core==2.20.1 in /usr/local/lib/python3.10/dist-packages (from pydantic<3,>=1->langchain) (2.20.1)\n",
            "Requirement already satisfied: charset-normalizer<4,>=2 in /usr/local/lib/python3.10/dist-packages (from requests<3,>=2->langchain) (3.3.2)\n",
            "Requirement already satisfied: idna<4,>=2.5 in /usr/local/lib/python3.10/dist-packages (from requests<3,>=2->langchain) (3.7)\n",
            "Requirement already satisfied: urllib3<3,>=1.21.1 in /usr/local/lib/python3.10/dist-packages (from requests<3,>=2->langchain) (2.0.7)\n",
            "Requirement already satisfied: certifi>=2017.4.17 in /usr/local/lib/python3.10/dist-packages (from requests<3,>=2->langchain) (2024.7.4)\n",
            "Requirement already satisfied: greenlet!=0.4.17 in /usr/local/lib/python3.10/dist-packages (from SQLAlchemy<3,>=1.4->langchain) (3.0.3)\n",
            "Collecting jsonpointer>=1.9 (from jsonpatch<2.0,>=1.33->langchain-core<0.3.0,>=0.2.27->langchain)\n",
            "  Downloading jsonpointer-3.0.0-py2.py3-none-any.whl.metadata (2.3 kB)\n",
            "Downloading langchain-0.2.12-py3-none-any.whl (990 kB)\n",
            "\u001b[2K   \u001b[90m━━━━━━━━━━━━━━━━━━━━━━━━━━━━━━━━━━━━━━━━\u001b[0m \u001b[32m990.6/990.6 kB\u001b[0m \u001b[31m53.6 MB/s\u001b[0m eta \u001b[36m0:00:00\u001b[0m\n",
            "\u001b[?25hDownloading langchain_core-0.2.29-py3-none-any.whl (383 kB)\n",
            "\u001b[2K   \u001b[90m━━━━━━━━━━━━━━━━━━━━━━━━━━━━━━━━━━━━━━━━\u001b[0m \u001b[32m384.0/384.0 kB\u001b[0m \u001b[31m27.8 MB/s\u001b[0m eta \u001b[36m0:00:00\u001b[0m\n",
            "\u001b[?25hDownloading langchain_text_splitters-0.2.2-py3-none-any.whl (25 kB)\n",
            "Downloading langsmith-0.1.98-py3-none-any.whl (140 kB)\n",
            "\u001b[2K   \u001b[90m━━━━━━━━━━━━━━━━━━━━━━━━━━━━━━━━━━━━━━━━\u001b[0m \u001b[32m140.2/140.2 kB\u001b[0m \u001b[31m13.7 MB/s\u001b[0m eta \u001b[36m0:00:00\u001b[0m\n",
            "\u001b[?25hDownloading tenacity-8.5.0-py3-none-any.whl (28 kB)\n",
            "Downloading jsonpatch-1.33-py2.py3-none-any.whl (12 kB)\n",
            "Downloading orjson-3.10.7-cp310-cp310-manylinux_2_17_x86_64.manylinux2014_x86_64.whl (141 kB)\n",
            "\u001b[2K   \u001b[90m━━━━━━━━━━━━━━━━━━━━━━━━━━━━━━━━━━━━━━━━\u001b[0m \u001b[32m141.9/141.9 kB\u001b[0m \u001b[31m13.7 MB/s\u001b[0m eta \u001b[36m0:00:00\u001b[0m\n",
            "\u001b[?25hDownloading jsonpointer-3.0.0-py2.py3-none-any.whl (7.6 kB)\n",
            "Installing collected packages: tenacity, orjson, jsonpointer, jsonpatch, langsmith, langchain-core, langchain-text-splitters, langchain\n",
            "  Attempting uninstall: tenacity\n",
            "    Found existing installation: tenacity 9.0.0\n",
            "    Uninstalling tenacity-9.0.0:\n",
            "      Successfully uninstalled tenacity-9.0.0\n",
            "Successfully installed jsonpatch-1.33 jsonpointer-3.0.0 langchain-0.2.12 langchain-core-0.2.29 langchain-text-splitters-0.2.2 langsmith-0.1.98 orjson-3.10.7 tenacity-8.5.0\n"
          ]
        }
      ]
    },
    {
      "cell_type": "code",
      "source": [
        "!python3.10 -m pip install langchain-core"
      ],
      "metadata": {
        "colab": {
          "base_uri": "https://localhost:8080/"
        },
        "id": "uF6rwgQU4mAc",
        "outputId": "e1662a04-c798-436f-a1fe-f61c3a53590c"
      },
      "execution_count": 3,
      "outputs": [
        {
          "output_type": "stream",
          "name": "stdout",
          "text": [
            "Requirement already satisfied: langchain-core in /usr/local/lib/python3.10/dist-packages (0.2.29)\n",
            "Requirement already satisfied: PyYAML>=5.3 in /usr/local/lib/python3.10/dist-packages (from langchain-core) (6.0.1)\n",
            "Requirement already satisfied: jsonpatch<2.0,>=1.33 in /usr/local/lib/python3.10/dist-packages (from langchain-core) (1.33)\n",
            "Requirement already satisfied: langsmith<0.2.0,>=0.1.75 in /usr/local/lib/python3.10/dist-packages (from langchain-core) (0.1.98)\n",
            "Requirement already satisfied: packaging<25,>=23.2 in /usr/local/lib/python3.10/dist-packages (from langchain-core) (24.1)\n",
            "Requirement already satisfied: pydantic<3,>=1 in /usr/local/lib/python3.10/dist-packages (from langchain-core) (2.8.2)\n",
            "Requirement already satisfied: tenacity!=8.4.0,<9.0.0,>=8.1.0 in /usr/local/lib/python3.10/dist-packages (from langchain-core) (8.5.0)\n",
            "Requirement already satisfied: typing-extensions>=4.7 in /usr/local/lib/python3.10/dist-packages (from langchain-core) (4.12.2)\n",
            "Requirement already satisfied: jsonpointer>=1.9 in /usr/local/lib/python3.10/dist-packages (from jsonpatch<2.0,>=1.33->langchain-core) (3.0.0)\n",
            "Requirement already satisfied: orjson<4.0.0,>=3.9.14 in /usr/local/lib/python3.10/dist-packages (from langsmith<0.2.0,>=0.1.75->langchain-core) (3.10.7)\n",
            "Requirement already satisfied: requests<3,>=2 in /usr/local/lib/python3.10/dist-packages (from langsmith<0.2.0,>=0.1.75->langchain-core) (2.32.3)\n",
            "Requirement already satisfied: annotated-types>=0.4.0 in /usr/local/lib/python3.10/dist-packages (from pydantic<3,>=1->langchain-core) (0.7.0)\n",
            "Requirement already satisfied: pydantic-core==2.20.1 in /usr/local/lib/python3.10/dist-packages (from pydantic<3,>=1->langchain-core) (2.20.1)\n",
            "Requirement already satisfied: charset-normalizer<4,>=2 in /usr/local/lib/python3.10/dist-packages (from requests<3,>=2->langsmith<0.2.0,>=0.1.75->langchain-core) (3.3.2)\n",
            "Requirement already satisfied: idna<4,>=2.5 in /usr/local/lib/python3.10/dist-packages (from requests<3,>=2->langsmith<0.2.0,>=0.1.75->langchain-core) (3.7)\n",
            "Requirement already satisfied: urllib3<3,>=1.21.1 in /usr/local/lib/python3.10/dist-packages (from requests<3,>=2->langsmith<0.2.0,>=0.1.75->langchain-core) (2.0.7)\n",
            "Requirement already satisfied: certifi>=2017.4.17 in /usr/local/lib/python3.10/dist-packages (from requests<3,>=2->langsmith<0.2.0,>=0.1.75->langchain-core) (2024.7.4)\n"
          ]
        }
      ]
    },
    {
      "cell_type": "code",
      "source": [
        "!python3.10 -m pip install langchain-community"
      ],
      "metadata": {
        "colab": {
          "base_uri": "https://localhost:8080/"
        },
        "id": "ZHXtGtlJ4mGB",
        "outputId": "679dc581-49a5-4c18-df4b-f7961b90702d"
      },
      "execution_count": 4,
      "outputs": [
        {
          "output_type": "stream",
          "name": "stdout",
          "text": [
            "Collecting langchain-community\n",
            "  Downloading langchain_community-0.2.11-py3-none-any.whl.metadata (2.7 kB)\n",
            "Requirement already satisfied: PyYAML>=5.3 in /usr/local/lib/python3.10/dist-packages (from langchain-community) (6.0.1)\n",
            "Requirement already satisfied: SQLAlchemy<3,>=1.4 in /usr/local/lib/python3.10/dist-packages (from langchain-community) (2.0.31)\n",
            "Requirement already satisfied: aiohttp<4.0.0,>=3.8.3 in /usr/local/lib/python3.10/dist-packages (from langchain-community) (3.10.1)\n",
            "Collecting dataclasses-json<0.7,>=0.5.7 (from langchain-community)\n",
            "  Downloading dataclasses_json-0.6.7-py3-none-any.whl.metadata (25 kB)\n",
            "Requirement already satisfied: langchain<0.3.0,>=0.2.12 in /usr/local/lib/python3.10/dist-packages (from langchain-community) (0.2.12)\n",
            "Requirement already satisfied: langchain-core<0.3.0,>=0.2.27 in /usr/local/lib/python3.10/dist-packages (from langchain-community) (0.2.29)\n",
            "Requirement already satisfied: langsmith<0.2.0,>=0.1.0 in /usr/local/lib/python3.10/dist-packages (from langchain-community) (0.1.98)\n",
            "Requirement already satisfied: numpy<2,>=1 in /usr/local/lib/python3.10/dist-packages (from langchain-community) (1.26.4)\n",
            "Requirement already satisfied: requests<3,>=2 in /usr/local/lib/python3.10/dist-packages (from langchain-community) (2.32.3)\n",
            "Requirement already satisfied: tenacity!=8.4.0,<9.0.0,>=8.1.0 in /usr/local/lib/python3.10/dist-packages (from langchain-community) (8.5.0)\n",
            "Requirement already satisfied: aiohappyeyeballs>=2.3.0 in /usr/local/lib/python3.10/dist-packages (from aiohttp<4.0.0,>=3.8.3->langchain-community) (2.3.4)\n",
            "Requirement already satisfied: aiosignal>=1.1.2 in /usr/local/lib/python3.10/dist-packages (from aiohttp<4.0.0,>=3.8.3->langchain-community) (1.3.1)\n",
            "Requirement already satisfied: attrs>=17.3.0 in /usr/local/lib/python3.10/dist-packages (from aiohttp<4.0.0,>=3.8.3->langchain-community) (24.1.0)\n",
            "Requirement already satisfied: frozenlist>=1.1.1 in /usr/local/lib/python3.10/dist-packages (from aiohttp<4.0.0,>=3.8.3->langchain-community) (1.4.1)\n",
            "Requirement already satisfied: multidict<7.0,>=4.5 in /usr/local/lib/python3.10/dist-packages (from aiohttp<4.0.0,>=3.8.3->langchain-community) (6.0.5)\n",
            "Requirement already satisfied: yarl<2.0,>=1.0 in /usr/local/lib/python3.10/dist-packages (from aiohttp<4.0.0,>=3.8.3->langchain-community) (1.9.4)\n",
            "Requirement already satisfied: async-timeout<5.0,>=4.0 in /usr/local/lib/python3.10/dist-packages (from aiohttp<4.0.0,>=3.8.3->langchain-community) (4.0.3)\n",
            "Collecting marshmallow<4.0.0,>=3.18.0 (from dataclasses-json<0.7,>=0.5.7->langchain-community)\n",
            "  Downloading marshmallow-3.21.3-py3-none-any.whl.metadata (7.1 kB)\n",
            "Collecting typing-inspect<1,>=0.4.0 (from dataclasses-json<0.7,>=0.5.7->langchain-community)\n",
            "  Downloading typing_inspect-0.9.0-py3-none-any.whl.metadata (1.5 kB)\n",
            "Requirement already satisfied: langchain-text-splitters<0.3.0,>=0.2.0 in /usr/local/lib/python3.10/dist-packages (from langchain<0.3.0,>=0.2.12->langchain-community) (0.2.2)\n",
            "Requirement already satisfied: pydantic<3,>=1 in /usr/local/lib/python3.10/dist-packages (from langchain<0.3.0,>=0.2.12->langchain-community) (2.8.2)\n",
            "Requirement already satisfied: jsonpatch<2.0,>=1.33 in /usr/local/lib/python3.10/dist-packages (from langchain-core<0.3.0,>=0.2.27->langchain-community) (1.33)\n",
            "Requirement already satisfied: packaging<25,>=23.2 in /usr/local/lib/python3.10/dist-packages (from langchain-core<0.3.0,>=0.2.27->langchain-community) (24.1)\n",
            "Requirement already satisfied: typing-extensions>=4.7 in /usr/local/lib/python3.10/dist-packages (from langchain-core<0.3.0,>=0.2.27->langchain-community) (4.12.2)\n",
            "Requirement already satisfied: orjson<4.0.0,>=3.9.14 in /usr/local/lib/python3.10/dist-packages (from langsmith<0.2.0,>=0.1.0->langchain-community) (3.10.7)\n",
            "Requirement already satisfied: charset-normalizer<4,>=2 in /usr/local/lib/python3.10/dist-packages (from requests<3,>=2->langchain-community) (3.3.2)\n",
            "Requirement already satisfied: idna<4,>=2.5 in /usr/local/lib/python3.10/dist-packages (from requests<3,>=2->langchain-community) (3.7)\n",
            "Requirement already satisfied: urllib3<3,>=1.21.1 in /usr/local/lib/python3.10/dist-packages (from requests<3,>=2->langchain-community) (2.0.7)\n",
            "Requirement already satisfied: certifi>=2017.4.17 in /usr/local/lib/python3.10/dist-packages (from requests<3,>=2->langchain-community) (2024.7.4)\n",
            "Requirement already satisfied: greenlet!=0.4.17 in /usr/local/lib/python3.10/dist-packages (from SQLAlchemy<3,>=1.4->langchain-community) (3.0.3)\n",
            "Requirement already satisfied: jsonpointer>=1.9 in /usr/local/lib/python3.10/dist-packages (from jsonpatch<2.0,>=1.33->langchain-core<0.3.0,>=0.2.27->langchain-community) (3.0.0)\n",
            "Requirement already satisfied: annotated-types>=0.4.0 in /usr/local/lib/python3.10/dist-packages (from pydantic<3,>=1->langchain<0.3.0,>=0.2.12->langchain-community) (0.7.0)\n",
            "Requirement already satisfied: pydantic-core==2.20.1 in /usr/local/lib/python3.10/dist-packages (from pydantic<3,>=1->langchain<0.3.0,>=0.2.12->langchain-community) (2.20.1)\n",
            "Collecting mypy-extensions>=0.3.0 (from typing-inspect<1,>=0.4.0->dataclasses-json<0.7,>=0.5.7->langchain-community)\n",
            "  Downloading mypy_extensions-1.0.0-py3-none-any.whl.metadata (1.1 kB)\n",
            "Downloading langchain_community-0.2.11-py3-none-any.whl (2.3 MB)\n",
            "\u001b[2K   \u001b[90m━━━━━━━━━━━━━━━━━━━━━━━━━━━━━━━━━━━━━━━━\u001b[0m \u001b[32m2.3/2.3 MB\u001b[0m \u001b[31m74.0 MB/s\u001b[0m eta \u001b[36m0:00:00\u001b[0m\n",
            "\u001b[?25hDownloading dataclasses_json-0.6.7-py3-none-any.whl (28 kB)\n",
            "Downloading marshmallow-3.21.3-py3-none-any.whl (49 kB)\n",
            "\u001b[2K   \u001b[90m━━━━━━━━━━━━━━━━━━━━━━━━━━━━━━━━━━━━━━━━\u001b[0m \u001b[32m49.2/49.2 kB\u001b[0m \u001b[31m4.5 MB/s\u001b[0m eta \u001b[36m0:00:00\u001b[0m\n",
            "\u001b[?25hDownloading typing_inspect-0.9.0-py3-none-any.whl (8.8 kB)\n",
            "Downloading mypy_extensions-1.0.0-py3-none-any.whl (4.7 kB)\n",
            "Installing collected packages: mypy-extensions, marshmallow, typing-inspect, dataclasses-json, langchain-community\n",
            "Successfully installed dataclasses-json-0.6.7 langchain-community-0.2.11 marshmallow-3.21.3 mypy-extensions-1.0.0 typing-inspect-0.9.0\n"
          ]
        }
      ]
    },
    {
      "cell_type": "code",
      "source": [
        "from langchain_community.llms import Ollama\n",
        "llm = Ollama(model = \"llama3:70b\", num_ctx=8192, temperature=0)"
      ],
      "metadata": {
        "id": "u7j4kLkP4yBG"
      },
      "execution_count": 5,
      "outputs": []
    },
    {
      "cell_type": "code",
      "source": [
        "pip install tqdm"
      ],
      "metadata": {
        "colab": {
          "base_uri": "https://localhost:8080/"
        },
        "id": "MrR1Lw8n41JF",
        "outputId": "0c8e49b9-02c7-440e-8b59-6bb67d9101e5"
      },
      "execution_count": 6,
      "outputs": [
        {
          "output_type": "stream",
          "name": "stdout",
          "text": [
            "Requirement already satisfied: tqdm in /usr/local/lib/python3.10/dist-packages (4.66.5)\n"
          ]
        }
      ]
    },
    {
      "cell_type": "code",
      "source": [
        "import pandas as pd\n",
        "from tqdm import tqdm\n",
        "import numpy as np"
      ],
      "metadata": {
        "id": "xxIdst8K43E6"
      },
      "execution_count": 7,
      "outputs": []
    },
    {
      "cell_type": "code",
      "source": [
        "test_sample = pd.read_pickle('data/llama3_test_sample.pkl')\n",
        "print('Number of issues: ', test_sample.shape)"
      ],
      "metadata": {
        "colab": {
          "base_uri": "https://localhost:8080/"
        },
        "id": "Iu8ajnsa44_J",
        "outputId": "40e38da6-3154-4a88-b249-d998a4c9f05d"
      },
      "execution_count": 8,
      "outputs": [
        {
          "output_type": "stream",
          "name": "stdout",
          "text": [
            "Number of issues:  (10000, 8)\n"
          ]
        }
      ]
    },
    {
      "cell_type": "code",
      "source": [
        "test_sample.head()"
      ],
      "metadata": {
        "colab": {
          "base_uri": "https://localhost:8080/",
          "height": 530
        },
        "id": "wBBPRLEc46_1",
        "outputId": "0e393238-8b34-4edf-ead7-fdb454c86693"
      },
      "execution_count": 9,
      "outputs": [
        {
          "output_type": "execute_result",
          "data": {
            "text/plain": [
              "                                    original_issue_title  \\\n",
              "4121   [BUG] Stonecutter recipe generator generates w...   \n",
              "69306  qssh: function key f1 broken in iTerm2 when \"R...   \n",
              "27210        Leftover console logs in ScrollableTerminal   \n",
              "25140  CUDA.jl initialisation fails after suspending ...   \n",
              "39392                                          生成コードの不具合   \n",
              "\n",
              "                                      preprocessed_title  \\\n",
              "4121   bug stonecutter recipe generator generates wro...   \n",
              "69306  qssh function key f1 broken in iterm2 when rep...   \n",
              "27210        leftover console logs in scrollableterminal   \n",
              "25140  cuda.jl initialisation fails after suspending ...   \n",
              "39392                                                NaN   \n",
              "\n",
              "                                     original_issue_body  \\\n",
              "4121   ## **Describe the bug**\\r\\nIt generates the .j...   \n",
              "69306                       Other keys affected as well.   \n",
              "27210                                        From #6748    \n",
              "25140  **Describe the bug**\\r\\n\\r\\nCUDA.jl initialisa...   \n",
              "39392  controller_initializer\\r\\n\\r\\n```// Code gener...   \n",
              "\n",
              "                                       preprocessed_body  \\\n",
              "4121   describe the bug it generates the .json prefix...   \n",
              "69306                       other keys affected as well.   \n",
              "27210                                         from issue   \n",
              "25140  describe the bug cuda.jl initialisation fails ...   \n",
              "39392  controller_initializer code generated by api_g...   \n",
              "\n",
              "                                                    text issue_label  labels  \\\n",
              "4121   time 2021-01-30T10:22:05Z author NONE repo Dev...         bug       0   \n",
              "69306  time 2021-04-29T12:35:06Z author OWNER repo Ko...         bug       0   \n",
              "27210  time 2021-01-26T21:32:36Z author MEMBER repo I...         bug       0   \n",
              "25140  time 2020-12-23T15:54:50Z author NONE repo Jul...         bug       0   \n",
              "39392  time 2021-05-26T16:28:29Z author MEMBER repo g...         bug       0   \n",
              "\n",
              "      roberta_prediction  \n",
              "4121                 bug  \n",
              "69306                bug  \n",
              "27210                bug  \n",
              "25140                bug  \n",
              "39392        enhancement  "
            ],
            "text/html": [
              "\n",
              "  <div id=\"df-a2a752a0-ac25-4ed2-9dd9-4d94e346c1cf\" class=\"colab-df-container\">\n",
              "    <div>\n",
              "<style scoped>\n",
              "    .dataframe tbody tr th:only-of-type {\n",
              "        vertical-align: middle;\n",
              "    }\n",
              "\n",
              "    .dataframe tbody tr th {\n",
              "        vertical-align: top;\n",
              "    }\n",
              "\n",
              "    .dataframe thead th {\n",
              "        text-align: right;\n",
              "    }\n",
              "</style>\n",
              "<table border=\"1\" class=\"dataframe\">\n",
              "  <thead>\n",
              "    <tr style=\"text-align: right;\">\n",
              "      <th></th>\n",
              "      <th>original_issue_title</th>\n",
              "      <th>preprocessed_title</th>\n",
              "      <th>original_issue_body</th>\n",
              "      <th>preprocessed_body</th>\n",
              "      <th>text</th>\n",
              "      <th>issue_label</th>\n",
              "      <th>labels</th>\n",
              "      <th>roberta_prediction</th>\n",
              "    </tr>\n",
              "  </thead>\n",
              "  <tbody>\n",
              "    <tr>\n",
              "      <th>4121</th>\n",
              "      <td>[BUG] Stonecutter recipe generator generates w...</td>\n",
              "      <td>bug stonecutter recipe generator generates wro...</td>\n",
              "      <td>## **Describe the bug**\\r\\nIt generates the .j...</td>\n",
              "      <td>describe the bug it generates the .json prefix...</td>\n",
              "      <td>time 2021-01-30T10:22:05Z author NONE repo Dev...</td>\n",
              "      <td>bug</td>\n",
              "      <td>0</td>\n",
              "      <td>bug</td>\n",
              "    </tr>\n",
              "    <tr>\n",
              "      <th>69306</th>\n",
              "      <td>qssh: function key f1 broken in iTerm2 when \"R...</td>\n",
              "      <td>qssh function key f1 broken in iterm2 when rep...</td>\n",
              "      <td>Other keys affected as well.</td>\n",
              "      <td>other keys affected as well.</td>\n",
              "      <td>time 2021-04-29T12:35:06Z author OWNER repo Ko...</td>\n",
              "      <td>bug</td>\n",
              "      <td>0</td>\n",
              "      <td>bug</td>\n",
              "    </tr>\n",
              "    <tr>\n",
              "      <th>27210</th>\n",
              "      <td>Leftover console logs in ScrollableTerminal</td>\n",
              "      <td>leftover console logs in scrollableterminal</td>\n",
              "      <td>From #6748</td>\n",
              "      <td>from issue</td>\n",
              "      <td>time 2021-01-26T21:32:36Z author MEMBER repo I...</td>\n",
              "      <td>bug</td>\n",
              "      <td>0</td>\n",
              "      <td>bug</td>\n",
              "    </tr>\n",
              "    <tr>\n",
              "      <th>25140</th>\n",
              "      <td>CUDA.jl initialisation fails after suspending ...</td>\n",
              "      <td>cuda.jl initialisation fails after suspending ...</td>\n",
              "      <td>**Describe the bug**\\r\\n\\r\\nCUDA.jl initialisa...</td>\n",
              "      <td>describe the bug cuda.jl initialisation fails ...</td>\n",
              "      <td>time 2020-12-23T15:54:50Z author NONE repo Jul...</td>\n",
              "      <td>bug</td>\n",
              "      <td>0</td>\n",
              "      <td>bug</td>\n",
              "    </tr>\n",
              "    <tr>\n",
              "      <th>39392</th>\n",
              "      <td>生成コードの不具合</td>\n",
              "      <td>NaN</td>\n",
              "      <td>controller_initializer\\r\\n\\r\\n```// Code gener...</td>\n",
              "      <td>controller_initializer code generated by api_g...</td>\n",
              "      <td>time 2021-05-26T16:28:29Z author MEMBER repo g...</td>\n",
              "      <td>bug</td>\n",
              "      <td>0</td>\n",
              "      <td>enhancement</td>\n",
              "    </tr>\n",
              "  </tbody>\n",
              "</table>\n",
              "</div>\n",
              "    <div class=\"colab-df-buttons\">\n",
              "\n",
              "  <div class=\"colab-df-container\">\n",
              "    <button class=\"colab-df-convert\" onclick=\"convertToInteractive('df-a2a752a0-ac25-4ed2-9dd9-4d94e346c1cf')\"\n",
              "            title=\"Convert this dataframe to an interactive table.\"\n",
              "            style=\"display:none;\">\n",
              "\n",
              "  <svg xmlns=\"http://www.w3.org/2000/svg\" height=\"24px\" viewBox=\"0 -960 960 960\">\n",
              "    <path d=\"M120-120v-720h720v720H120Zm60-500h600v-160H180v160Zm220 220h160v-160H400v160Zm0 220h160v-160H400v160ZM180-400h160v-160H180v160Zm440 0h160v-160H620v160ZM180-180h160v-160H180v160Zm440 0h160v-160H620v160Z\"/>\n",
              "  </svg>\n",
              "    </button>\n",
              "\n",
              "  <style>\n",
              "    .colab-df-container {\n",
              "      display:flex;\n",
              "      gap: 12px;\n",
              "    }\n",
              "\n",
              "    .colab-df-convert {\n",
              "      background-color: #E8F0FE;\n",
              "      border: none;\n",
              "      border-radius: 50%;\n",
              "      cursor: pointer;\n",
              "      display: none;\n",
              "      fill: #1967D2;\n",
              "      height: 32px;\n",
              "      padding: 0 0 0 0;\n",
              "      width: 32px;\n",
              "    }\n",
              "\n",
              "    .colab-df-convert:hover {\n",
              "      background-color: #E2EBFA;\n",
              "      box-shadow: 0px 1px 2px rgba(60, 64, 67, 0.3), 0px 1px 3px 1px rgba(60, 64, 67, 0.15);\n",
              "      fill: #174EA6;\n",
              "    }\n",
              "\n",
              "    .colab-df-buttons div {\n",
              "      margin-bottom: 4px;\n",
              "    }\n",
              "\n",
              "    [theme=dark] .colab-df-convert {\n",
              "      background-color: #3B4455;\n",
              "      fill: #D2E3FC;\n",
              "    }\n",
              "\n",
              "    [theme=dark] .colab-df-convert:hover {\n",
              "      background-color: #434B5C;\n",
              "      box-shadow: 0px 1px 3px 1px rgba(0, 0, 0, 0.15);\n",
              "      filter: drop-shadow(0px 1px 2px rgba(0, 0, 0, 0.3));\n",
              "      fill: #FFFFFF;\n",
              "    }\n",
              "  </style>\n",
              "\n",
              "    <script>\n",
              "      const buttonEl =\n",
              "        document.querySelector('#df-a2a752a0-ac25-4ed2-9dd9-4d94e346c1cf button.colab-df-convert');\n",
              "      buttonEl.style.display =\n",
              "        google.colab.kernel.accessAllowed ? 'block' : 'none';\n",
              "\n",
              "      async function convertToInteractive(key) {\n",
              "        const element = document.querySelector('#df-a2a752a0-ac25-4ed2-9dd9-4d94e346c1cf');\n",
              "        const dataTable =\n",
              "          await google.colab.kernel.invokeFunction('convertToInteractive',\n",
              "                                                    [key], {});\n",
              "        if (!dataTable) return;\n",
              "\n",
              "        const docLinkHtml = 'Like what you see? Visit the ' +\n",
              "          '<a target=\"_blank\" href=https://colab.research.google.com/notebooks/data_table.ipynb>data table notebook</a>'\n",
              "          + ' to learn more about interactive tables.';\n",
              "        element.innerHTML = '';\n",
              "        dataTable['output_type'] = 'display_data';\n",
              "        await google.colab.output.renderOutput(dataTable, element);\n",
              "        const docLink = document.createElement('div');\n",
              "        docLink.innerHTML = docLinkHtml;\n",
              "        element.appendChild(docLink);\n",
              "      }\n",
              "    </script>\n",
              "  </div>\n",
              "\n",
              "\n",
              "<div id=\"df-15bcd223-c204-4484-9e45-db985115bca1\">\n",
              "  <button class=\"colab-df-quickchart\" onclick=\"quickchart('df-15bcd223-c204-4484-9e45-db985115bca1')\"\n",
              "            title=\"Suggest charts\"\n",
              "            style=\"display:none;\">\n",
              "\n",
              "<svg xmlns=\"http://www.w3.org/2000/svg\" height=\"24px\"viewBox=\"0 0 24 24\"\n",
              "     width=\"24px\">\n",
              "    <g>\n",
              "        <path d=\"M19 3H5c-1.1 0-2 .9-2 2v14c0 1.1.9 2 2 2h14c1.1 0 2-.9 2-2V5c0-1.1-.9-2-2-2zM9 17H7v-7h2v7zm4 0h-2V7h2v10zm4 0h-2v-4h2v4z\"/>\n",
              "    </g>\n",
              "</svg>\n",
              "  </button>\n",
              "\n",
              "<style>\n",
              "  .colab-df-quickchart {\n",
              "      --bg-color: #E8F0FE;\n",
              "      --fill-color: #1967D2;\n",
              "      --hover-bg-color: #E2EBFA;\n",
              "      --hover-fill-color: #174EA6;\n",
              "      --disabled-fill-color: #AAA;\n",
              "      --disabled-bg-color: #DDD;\n",
              "  }\n",
              "\n",
              "  [theme=dark] .colab-df-quickchart {\n",
              "      --bg-color: #3B4455;\n",
              "      --fill-color: #D2E3FC;\n",
              "      --hover-bg-color: #434B5C;\n",
              "      --hover-fill-color: #FFFFFF;\n",
              "      --disabled-bg-color: #3B4455;\n",
              "      --disabled-fill-color: #666;\n",
              "  }\n",
              "\n",
              "  .colab-df-quickchart {\n",
              "    background-color: var(--bg-color);\n",
              "    border: none;\n",
              "    border-radius: 50%;\n",
              "    cursor: pointer;\n",
              "    display: none;\n",
              "    fill: var(--fill-color);\n",
              "    height: 32px;\n",
              "    padding: 0;\n",
              "    width: 32px;\n",
              "  }\n",
              "\n",
              "  .colab-df-quickchart:hover {\n",
              "    background-color: var(--hover-bg-color);\n",
              "    box-shadow: 0 1px 2px rgba(60, 64, 67, 0.3), 0 1px 3px 1px rgba(60, 64, 67, 0.15);\n",
              "    fill: var(--button-hover-fill-color);\n",
              "  }\n",
              "\n",
              "  .colab-df-quickchart-complete:disabled,\n",
              "  .colab-df-quickchart-complete:disabled:hover {\n",
              "    background-color: var(--disabled-bg-color);\n",
              "    fill: var(--disabled-fill-color);\n",
              "    box-shadow: none;\n",
              "  }\n",
              "\n",
              "  .colab-df-spinner {\n",
              "    border: 2px solid var(--fill-color);\n",
              "    border-color: transparent;\n",
              "    border-bottom-color: var(--fill-color);\n",
              "    animation:\n",
              "      spin 1s steps(1) infinite;\n",
              "  }\n",
              "\n",
              "  @keyframes spin {\n",
              "    0% {\n",
              "      border-color: transparent;\n",
              "      border-bottom-color: var(--fill-color);\n",
              "      border-left-color: var(--fill-color);\n",
              "    }\n",
              "    20% {\n",
              "      border-color: transparent;\n",
              "      border-left-color: var(--fill-color);\n",
              "      border-top-color: var(--fill-color);\n",
              "    }\n",
              "    30% {\n",
              "      border-color: transparent;\n",
              "      border-left-color: var(--fill-color);\n",
              "      border-top-color: var(--fill-color);\n",
              "      border-right-color: var(--fill-color);\n",
              "    }\n",
              "    40% {\n",
              "      border-color: transparent;\n",
              "      border-right-color: var(--fill-color);\n",
              "      border-top-color: var(--fill-color);\n",
              "    }\n",
              "    60% {\n",
              "      border-color: transparent;\n",
              "      border-right-color: var(--fill-color);\n",
              "    }\n",
              "    80% {\n",
              "      border-color: transparent;\n",
              "      border-right-color: var(--fill-color);\n",
              "      border-bottom-color: var(--fill-color);\n",
              "    }\n",
              "    90% {\n",
              "      border-color: transparent;\n",
              "      border-bottom-color: var(--fill-color);\n",
              "    }\n",
              "  }\n",
              "</style>\n",
              "\n",
              "  <script>\n",
              "    async function quickchart(key) {\n",
              "      const quickchartButtonEl =\n",
              "        document.querySelector('#' + key + ' button');\n",
              "      quickchartButtonEl.disabled = true;  // To prevent multiple clicks.\n",
              "      quickchartButtonEl.classList.add('colab-df-spinner');\n",
              "      try {\n",
              "        const charts = await google.colab.kernel.invokeFunction(\n",
              "            'suggestCharts', [key], {});\n",
              "      } catch (error) {\n",
              "        console.error('Error during call to suggestCharts:', error);\n",
              "      }\n",
              "      quickchartButtonEl.classList.remove('colab-df-spinner');\n",
              "      quickchartButtonEl.classList.add('colab-df-quickchart-complete');\n",
              "    }\n",
              "    (() => {\n",
              "      let quickchartButtonEl =\n",
              "        document.querySelector('#df-15bcd223-c204-4484-9e45-db985115bca1 button');\n",
              "      quickchartButtonEl.style.display =\n",
              "        google.colab.kernel.accessAllowed ? 'block' : 'none';\n",
              "    })();\n",
              "  </script>\n",
              "</div>\n",
              "\n",
              "    </div>\n",
              "  </div>\n"
            ],
            "application/vnd.google.colaboratory.intrinsic+json": {
              "type": "dataframe",
              "variable_name": "test_sample",
              "summary": "{\n  \"name\": \"test_sample\",\n  \"rows\": 10000,\n  \"fields\": [\n    {\n      \"column\": \"original_issue_title\",\n      \"properties\": {\n        \"dtype\": \"string\",\n        \"num_unique_values\": 9867,\n        \"samples\": [\n          \"exiv2 corrupts Sony 2010e tags on import from .exv\",\n          \"Wallet View: USD Estimation not working\",\n          \"Design for login functionality\"\n        ],\n        \"semantic_type\": \"\",\n        \"description\": \"\"\n      }\n    },\n    {\n      \"column\": \"preprocessed_title\",\n      \"properties\": {\n        \"dtype\": \"string\",\n        \"num_unique_values\": 9615,\n        \"samples\": [\n          \"can't compile dll\",\n          \"in neurospin the user specific home is not in the correct directory\",\n          \"enchanted tools breaking lock fatigue mechanics\"\n        ],\n        \"semantic_type\": \"\",\n        \"description\": \"\"\n      }\n    },\n    {\n      \"column\": \"original_issue_body\",\n      \"properties\": {\n        \"dtype\": \"string\",\n        \"num_unique_values\": 8876,\n        \"samples\": [\n          \"Hi\\r\\n\\r\\nI am having an issue with shynet for only one of my accounts. Is there any way to fix this or put it into a try/except? Maybe have a value this expression defaults to if there is an error?\\r\\n\\r\\nThank you\\r\\n\\r\\n```\\r\\nshynet_1  | ERROR Internal Server Error: /dashboard/\\r\\nshynet_1  | Traceback (most recent call last):\\r\\nshynet_1  |   File \\\"/usr/local/lib/python3.9/site-packages/django/core/handlers/exception.py\\\", line 47, in inner\\r\\nshynet_1  |     response = get_response(request)\\r\\nshynet_1  |   File \\\"/usr/local/lib/python3.9/site-packages/django/core/handlers/base.py\\\", line 202, in _get_response\\r\\nshynet_1  |     response = response.render()\\r\\nshynet_1  |   File \\\"/usr/local/lib/python3.9/site-packages/django/template/response.py\\\", line 105, in render\\r\\nshynet_1  |     self.content = self.rendered_content\\r\\nshynet_1  |   File \\\"/usr/local/lib/python3.9/site-packages/django/template/response.py\\\", line 83, in rendered_content\\r\\nshynet_1  |     return template.render(context, self._request)\\r\\nshynet_1  |   File \\\"/usr/local/lib/python3.9/site-packages/django/template/backends/django.py\\\", line 61, in render\\r\\nshynet_1  |     return self.template.render(context)\\r\\nshynet_1  |   File \\\"/usr/local/lib/python3.9/site-packages/django/template/base.py\\\", line 170, in render\\r\\nshynet_1  |     return self._render(context)\\r\\nshynet_1  |   File \\\"/usr/local/lib/python3.9/site-packages/django/template/base.py\\\", line 162, in _render\\r\\nshynet_1  |     return self.nodelist.render(context)\\r\\nshynet_1  |   File \\\"/usr/local/lib/python3.9/site-packages/django/template/base.py\\\", line 938, in render\\r\\nshynet_1  |     bit = node.render_annotated(context)\\r\\nshynet_1  |   File \\\"/usr/local/lib/python3.9/site-packages/django/template/base.py\\\", line 905, in render_annotated\\r\\nshynet_1  |     return self.render(context)\\r\\nshynet_1  |   File \\\"/usr/local/lib/python3.9/site-packages/django/template/loader_tags.py\\\", line 150, in render\\r\\nshynet_1  |     return compiled_parent._render(context)\\r\\nshynet_1  |   File \\\"/usr/local/lib/python3.9/site-packages/django/template/base.py\\\", line 162, in _render\\r\\nshynet_1  |     return self.nodelist.render(context)\\r\\nshynet_1  |   File \\\"/usr/local/lib/python3.9/site-packages/django/template/base.py\\\", line 938, in render\\r\\nshynet_1  |     bit = node.render_annotated(context)\\r\\nshynet_1  |   File \\\"/usr/local/lib/python3.9/site-packages/django/template/base.py\\\", line 905, in render_annotated\\r\\nshynet_1  |     return self.render(context)\\r\\nshynet_1  |   File \\\"/usr/local/lib/python3.9/site-packages/django/template/loader_tags.py\\\", line 62, in render\\r\\nshynet_1  |     result = block.nodelist.render(context)\\r\\nshynet_1  |   File \\\"/usr/local/lib/python3.9/site-packages/django/template/base.py\\\", line 938, in render\\r\\nshynet_1  |     bit = node.render_annotated(context)\\r\\nshynet_1  |   File \\\"/usr/local/lib/python3.9/site-packages/django/template/base.py\\\", line 905, in render_annotated\\r\\nshynet_1  |     return self.render(context)\\r\\nshynet_1  |   File \\\"/usr/local/lib/python3.9/site-packages/django/template/loader_tags.py\\\", line 62, in render\\r\\nshynet_1  |     result = block.nodelist.render(context)\\r\\nshynet_1  |   File \\\"/usr/local/lib/python3.9/site-packages/django/template/base.py\\\", line 938, in render\\r\\nshynet_1  |     bit = node.render_annotated(context)\\r\\nshynet_1  |   File \\\"/usr/local/lib/python3.9/site-packages/django/template/base.py\\\", line 905, in render_annotated\\r\\nshynet_1  |     return self.render(context)\\r\\nshynet_1  |   File \\\"/usr/local/lib/python3.9/site-packages/django/template/defaulttags.py\\\", line 211, in render\\r\\nshynet_1  |     nodelist.append(node.render_annotated(context))\\r\\nshynet_1  |   File \\\"/usr/local/lib/python3.9/site-packages/django/template/base.py\\\", line 905, in render_annotated\\r\\nshynet_1  |     return self.render(context)\\r\\nshynet_1  |   File \\\"/usr/local/lib/python3.9/site-packages/django/template/loader_tags.py\\\", line 192, in render\\r\\nshynet_1  |     return template.render(context)\\r\\nshynet_1  |   File \\\"/usr/local/lib/python3.9/site-packages/django/template/base.py\\\", line 172, in render\\r\\nshynet_1  |     return self._render(context)\\r\\nshynet_1  |   File \\\"/usr/local/lib/python3.9/site-packages/django/template/base.py\\\", line 162, in _render\\r\\nshynet_1  |     return self.nodelist.render(context)\\r\\nshynet_1  |   File \\\"/usr/local/lib/python3.9/site-packages/django/template/base.py\\\", line 938, in render\\r\\nshynet_1  |     bit = node.render_annotated(context)\\r\\nshynet_1  |   File \\\"/usr/local/lib/python3.9/site-packages/django/template/base.py\\\", line 905, in render_annotated\\r\\nshynet_1  |     return self.render(context)\\r\\nshynet_1  |   File \\\"/usr/local/lib/python3.9/site-packages/django/template/defaulttags.py\\\", line 516, in render\\r\\nshynet_1  |     return self.nodelist.render(context)\\r\\nshynet_1  |   File \\\"/usr/local/lib/python3.9/site-packages/django/template/base.py\\\", line 938, in render\\r\\nshynet_1  |     bit = node.render_annotated(context)\\r\\nshynet_1  |   File \\\"/usr/local/lib/python3.9/site-packages/django/template/base.py\\\", line 905, in render_annotated\\r\\nshynet_1  |     return self.render(context)\\r\\nshynet_1  |   File \\\"/usr/local/lib/python3.9/site-packages/django/template/library.py\\\", line 234, in render\\r\\nshynet_1  |     return t.render(new_context)\\r\\nshynet_1  |   File \\\"/usr/local/lib/python3.9/site-packages/django/template/base.py\\\", line 172, in render\\r\\nshynet_1  |     return self._render(context)\\r\\nshynet_1  |   File \\\"/usr/local/lib/python3.9/site-packages/django/template/base.py\\\", line 162, in _render\\r\\nshynet_1  |     return self.nodelist.render(context)\\r\\nshynet_1  |   File \\\"/usr/local/lib/python3.9/site-packages/django/template/base.py\\\", line 938, in render\\r\\nshynet_1  |     bit = node.render_annotated(context)\\r\\nshynet_1  |   File \\\"/usr/local/lib/python3.9/site-packages/django/template/base.py\\\", line 905, in render_annotated\\r\\nshynet_1  |     return self.render(context)\\r\\nshynet_1  |   File \\\"/usr/local/lib/python3.9/site-packages/django/template/library.py\\\", line 192, in render\\r\\nshynet_1  |     output = self.func(*resolved_args, **resolved_kwargs)\\r\\nshynet_1  |   File \\\"/usr/src/shynet/dashboard/templatetags/helpers.py\\\", line 76, in percent_change_display\\r\\nshynet_1  |     change = int(round(100 * abs(end - start) / start))\\r\\nshynet_1  | ZeroDivisionError: division by zero\\r\\n```\",\n          \"<!-- Have you searched for similar issues? Before submitting this issue, please check the open issues and add a note before logging a new issue. \\r\\n\\r\\nPLEASE USE THE TEMPLATE BELOW TO PROVIDE INFORMATION ABOUT THE ISSUE. \\r\\nINSUFFICIENT INFO WILL GET THE ISSUE CLOSED. IT WILL ONLY BE REOPENED AFTER SUFFICIENT INFO IS PROVIDED-->\\r\\n\\r\\n## Description <!-- Provide a brief description of the issue -->\\r\\nConvert tab doesn't load assets\\r\\n\\r\\n## Steps to reproduce <!-- Please add a series of steps to reproduce the issue -->\\r\\n\\r\\n   1. Connect to Binance widget\\r\\n   2. Switch to Convert tab\\r\\n   3. Doesn't load \\r\\n\\r\\n## Actual result <!-- Please add screenshots if needed -->\\r\\n\\r\\nhttps://user-images.githubusercontent.com/17010094/111591381-4620f380-87bf-11eb-8c34-8bba3acdddda.mp4\\r\\n\\r\\n## Expected result\\r\\nShould load the convert window\\r\\n\\r\\n## Issue reproduces how often <!-- [Easily reproduced/Intermittent issue/No steps to reproduce] -->\\r\\nEasy\\r\\n\\r\\n## Version/Channel Information:\\r\\n<!--Does this issue happen on any other channels? Or is it specific to a certain channel?-->\\r\\n\\r\\n- Can you reproduce this issue with the current Play Store version? Yes\\r\\n- Can you reproduce this issue with the current Play Store Beta version? Yes\\r\\n- Can you reproduce this issue with the current Play Store Nightly version? Yes\\r\\n\\r\\n## Device details\\r\\n   - Install type (ARM, x86): ARM\\r\\n   - Device type (Phone, Tablet, Phablet): All\\r\\n   - Android version: 10\\r\\n   \\r\\n## Brave version\\r\\n1.21.77\\r\\n\\r\\n### Website problems only\\r\\n- Does the issue resolve itself when disabling Brave Shields? NA\\r\\n- Does the issue resolve itself when disabling Brave Rewards? NA\\r\\n- Is the issue reproducible on the latest version of Chrome? NA\\r\\n\\r\\n### Additional information\\r\\n<!-- Any additional information, related issues, extra QA steps, configuration or data that might be necessary to reproduce the issue -->\\r\\nRelated desktop issue #14778\",\n          \"I don't believe this functionality is being used.\\r\\nShould be removed to eliminate dependency bloat\"\n        ],\n        \"semantic_type\": \"\",\n        \"description\": \"\"\n      }\n    },\n    {\n      \"column\": \"preprocessed_body\",\n      \"properties\": {\n        \"dtype\": \"string\",\n        \"num_unique_values\": 8796,\n        \"samples\": [\n          \"x allow more than one light source x glossy emitter cosine lobe emission profile about the normal vector useful for testing bidir algorithms and di guiding x environment map loaded from .exr hosek wilkie sky model rgb and spectral\",\n          \"add translations for next languages en ja ru tr ua\",\n          \"if i upload something to a language in weblate the source language works very well in utf 8 e.g. a is displayed correctly . but if i upload a translation to a normal language it isn't in utf 8 and in front of a there's a weird character image https user images.githubusercontent.com 42046014 102817734 96f79a80 43d0 11eb 8304 9050678c9aaf.png i'm using the newest version of weblate\"\n        ],\n        \"semantic_type\": \"\",\n        \"description\": \"\"\n      }\n    },\n    {\n      \"column\": \"text\",\n      \"properties\": {\n        \"dtype\": \"string\",\n        \"num_unique_values\": 9995,\n        \"samples\": [\n          \"time 2017-02-15T23:59:06Z author MEMBER repo microsoft/xunit-performance title when all tests fail we do not make an output xml body if all of the tests that are run inside of a dll fail we do not create an output xml. is this the intended behavior? it seems like we should at least make an empty xml file with no results in it.\",\n          \"time 2020-09-04T10:33:43Z author CONTRIBUTOR repo mpi2/PhenotypeData title inconsistencies impc_via_002 body team found some inconsistencies in the s r core thanks to the procedurecompleteness report which seem to be related to impc_via_002. this produces 5 docs with these problems http ves ebi d0.ebi.ac.uk 8986 solr statistical result select?fl strain_name zygosity parameter_stable_id parameter_name life_stage_name q colony_id ucd 10243a e8 2 1 20and 20procedure_stable_id impc_via_002 hemizygotes are missing life_stage_name and life_stage_acc and strain_name but not the strain_accession_id parameter_name 'heterozygous animals viability' impc_via_066_001 shows zygosity 'homozygote'\",\n          \"time 2021-04-03T00:57:35Z author NONE repo nextcloud/android title activities do not work on android app. as it seems it tries to use port 80. why not use 443 too body steps to reproduce 1. just tap on aktivitten 2. 3. expected behaviour show the recent activities actual behaviour http status code 1 fail can you reproduce this problem on https try.nextcloud.com? please create a test demo account and see if this still happens there. if yes please open up a bug report if not please verify server setup and ask for help on forum environment data android version device model stock or customized system nextcloud app version nextcloud server version reverse proxy logs web server error log insert your webserver log here nextcloud log data nextcloud.log insert your nextcloud log here note be super sure to remove sensitive data like passwords note that everybody can look here you can use the issue template application to prefill some of the required information https apps.nextcloud.com apps issuetemplate\"\n        ],\n        \"semantic_type\": \"\",\n        \"description\": \"\"\n      }\n    },\n    {\n      \"column\": \"issue_label\",\n      \"properties\": {\n        \"dtype\": \"category\",\n        \"num_unique_values\": 3,\n        \"samples\": [\n          \"bug\",\n          \"enhancement\",\n          \"question\"\n        ],\n        \"semantic_type\": \"\",\n        \"description\": \"\"\n      }\n    },\n    {\n      \"column\": \"labels\",\n      \"properties\": {\n        \"dtype\": \"number\",\n        \"std\": 0,\n        \"min\": 0,\n        \"max\": 2,\n        \"num_unique_values\": 3,\n        \"samples\": [\n          0,\n          1,\n          2\n        ],\n        \"semantic_type\": \"\",\n        \"description\": \"\"\n      }\n    },\n    {\n      \"column\": \"roberta_prediction\",\n      \"properties\": {\n        \"dtype\": \"category\",\n        \"num_unique_values\": 3,\n        \"samples\": [\n          \"bug\",\n          \"enhancement\",\n          \"question\"\n        ],\n        \"semantic_type\": \"\",\n        \"description\": \"\"\n      }\n    }\n  ]\n}"
            }
          },
          "metadata": {},
          "execution_count": 9
        }
      ]
    },
    {
      "cell_type": "code",
      "source": [
        "test_sample = test_sample.reset_index(drop = False)"
      ],
      "metadata": {
        "id": "l47yFJvf49fL"
      },
      "execution_count": 10,
      "outputs": []
    },
    {
      "cell_type": "code",
      "source": [
        "test_sample.head()"
      ],
      "metadata": {
        "colab": {
          "base_uri": "https://localhost:8080/",
          "height": 530
        },
        "id": "Muj3Xinf4_Y4",
        "outputId": "4b33e41e-c7b6-48fc-e193-77d336c80c75"
      },
      "execution_count": 11,
      "outputs": [
        {
          "output_type": "execute_result",
          "data": {
            "text/plain": [
              "   index                               original_issue_title  \\\n",
              "0   4121  [BUG] Stonecutter recipe generator generates w...   \n",
              "1  69306  qssh: function key f1 broken in iTerm2 when \"R...   \n",
              "2  27210        Leftover console logs in ScrollableTerminal   \n",
              "3  25140  CUDA.jl initialisation fails after suspending ...   \n",
              "4  39392                                          生成コードの不具合   \n",
              "\n",
              "                                  preprocessed_title  \\\n",
              "0  bug stonecutter recipe generator generates wro...   \n",
              "1  qssh function key f1 broken in iterm2 when rep...   \n",
              "2        leftover console logs in scrollableterminal   \n",
              "3  cuda.jl initialisation fails after suspending ...   \n",
              "4                                                NaN   \n",
              "\n",
              "                                 original_issue_body  \\\n",
              "0  ## **Describe the bug**\\r\\nIt generates the .j...   \n",
              "1                       Other keys affected as well.   \n",
              "2                                        From #6748    \n",
              "3  **Describe the bug**\\r\\n\\r\\nCUDA.jl initialisa...   \n",
              "4  controller_initializer\\r\\n\\r\\n```// Code gener...   \n",
              "\n",
              "                                   preprocessed_body  \\\n",
              "0  describe the bug it generates the .json prefix...   \n",
              "1                       other keys affected as well.   \n",
              "2                                         from issue   \n",
              "3  describe the bug cuda.jl initialisation fails ...   \n",
              "4  controller_initializer code generated by api_g...   \n",
              "\n",
              "                                                text issue_label  labels  \\\n",
              "0  time 2021-01-30T10:22:05Z author NONE repo Dev...         bug       0   \n",
              "1  time 2021-04-29T12:35:06Z author OWNER repo Ko...         bug       0   \n",
              "2  time 2021-01-26T21:32:36Z author MEMBER repo I...         bug       0   \n",
              "3  time 2020-12-23T15:54:50Z author NONE repo Jul...         bug       0   \n",
              "4  time 2021-05-26T16:28:29Z author MEMBER repo g...         bug       0   \n",
              "\n",
              "  roberta_prediction  \n",
              "0                bug  \n",
              "1                bug  \n",
              "2                bug  \n",
              "3                bug  \n",
              "4        enhancement  "
            ],
            "text/html": [
              "\n",
              "  <div id=\"df-73ba1ca4-15d5-4504-b1fc-3970b524b6e9\" class=\"colab-df-container\">\n",
              "    <div>\n",
              "<style scoped>\n",
              "    .dataframe tbody tr th:only-of-type {\n",
              "        vertical-align: middle;\n",
              "    }\n",
              "\n",
              "    .dataframe tbody tr th {\n",
              "        vertical-align: top;\n",
              "    }\n",
              "\n",
              "    .dataframe thead th {\n",
              "        text-align: right;\n",
              "    }\n",
              "</style>\n",
              "<table border=\"1\" class=\"dataframe\">\n",
              "  <thead>\n",
              "    <tr style=\"text-align: right;\">\n",
              "      <th></th>\n",
              "      <th>index</th>\n",
              "      <th>original_issue_title</th>\n",
              "      <th>preprocessed_title</th>\n",
              "      <th>original_issue_body</th>\n",
              "      <th>preprocessed_body</th>\n",
              "      <th>text</th>\n",
              "      <th>issue_label</th>\n",
              "      <th>labels</th>\n",
              "      <th>roberta_prediction</th>\n",
              "    </tr>\n",
              "  </thead>\n",
              "  <tbody>\n",
              "    <tr>\n",
              "      <th>0</th>\n",
              "      <td>4121</td>\n",
              "      <td>[BUG] Stonecutter recipe generator generates w...</td>\n",
              "      <td>bug stonecutter recipe generator generates wro...</td>\n",
              "      <td>## **Describe the bug**\\r\\nIt generates the .j...</td>\n",
              "      <td>describe the bug it generates the .json prefix...</td>\n",
              "      <td>time 2021-01-30T10:22:05Z author NONE repo Dev...</td>\n",
              "      <td>bug</td>\n",
              "      <td>0</td>\n",
              "      <td>bug</td>\n",
              "    </tr>\n",
              "    <tr>\n",
              "      <th>1</th>\n",
              "      <td>69306</td>\n",
              "      <td>qssh: function key f1 broken in iTerm2 when \"R...</td>\n",
              "      <td>qssh function key f1 broken in iterm2 when rep...</td>\n",
              "      <td>Other keys affected as well.</td>\n",
              "      <td>other keys affected as well.</td>\n",
              "      <td>time 2021-04-29T12:35:06Z author OWNER repo Ko...</td>\n",
              "      <td>bug</td>\n",
              "      <td>0</td>\n",
              "      <td>bug</td>\n",
              "    </tr>\n",
              "    <tr>\n",
              "      <th>2</th>\n",
              "      <td>27210</td>\n",
              "      <td>Leftover console logs in ScrollableTerminal</td>\n",
              "      <td>leftover console logs in scrollableterminal</td>\n",
              "      <td>From #6748</td>\n",
              "      <td>from issue</td>\n",
              "      <td>time 2021-01-26T21:32:36Z author MEMBER repo I...</td>\n",
              "      <td>bug</td>\n",
              "      <td>0</td>\n",
              "      <td>bug</td>\n",
              "    </tr>\n",
              "    <tr>\n",
              "      <th>3</th>\n",
              "      <td>25140</td>\n",
              "      <td>CUDA.jl initialisation fails after suspending ...</td>\n",
              "      <td>cuda.jl initialisation fails after suspending ...</td>\n",
              "      <td>**Describe the bug**\\r\\n\\r\\nCUDA.jl initialisa...</td>\n",
              "      <td>describe the bug cuda.jl initialisation fails ...</td>\n",
              "      <td>time 2020-12-23T15:54:50Z author NONE repo Jul...</td>\n",
              "      <td>bug</td>\n",
              "      <td>0</td>\n",
              "      <td>bug</td>\n",
              "    </tr>\n",
              "    <tr>\n",
              "      <th>4</th>\n",
              "      <td>39392</td>\n",
              "      <td>生成コードの不具合</td>\n",
              "      <td>NaN</td>\n",
              "      <td>controller_initializer\\r\\n\\r\\n```// Code gener...</td>\n",
              "      <td>controller_initializer code generated by api_g...</td>\n",
              "      <td>time 2021-05-26T16:28:29Z author MEMBER repo g...</td>\n",
              "      <td>bug</td>\n",
              "      <td>0</td>\n",
              "      <td>enhancement</td>\n",
              "    </tr>\n",
              "  </tbody>\n",
              "</table>\n",
              "</div>\n",
              "    <div class=\"colab-df-buttons\">\n",
              "\n",
              "  <div class=\"colab-df-container\">\n",
              "    <button class=\"colab-df-convert\" onclick=\"convertToInteractive('df-73ba1ca4-15d5-4504-b1fc-3970b524b6e9')\"\n",
              "            title=\"Convert this dataframe to an interactive table.\"\n",
              "            style=\"display:none;\">\n",
              "\n",
              "  <svg xmlns=\"http://www.w3.org/2000/svg\" height=\"24px\" viewBox=\"0 -960 960 960\">\n",
              "    <path d=\"M120-120v-720h720v720H120Zm60-500h600v-160H180v160Zm220 220h160v-160H400v160Zm0 220h160v-160H400v160ZM180-400h160v-160H180v160Zm440 0h160v-160H620v160ZM180-180h160v-160H180v160Zm440 0h160v-160H620v160Z\"/>\n",
              "  </svg>\n",
              "    </button>\n",
              "\n",
              "  <style>\n",
              "    .colab-df-container {\n",
              "      display:flex;\n",
              "      gap: 12px;\n",
              "    }\n",
              "\n",
              "    .colab-df-convert {\n",
              "      background-color: #E8F0FE;\n",
              "      border: none;\n",
              "      border-radius: 50%;\n",
              "      cursor: pointer;\n",
              "      display: none;\n",
              "      fill: #1967D2;\n",
              "      height: 32px;\n",
              "      padding: 0 0 0 0;\n",
              "      width: 32px;\n",
              "    }\n",
              "\n",
              "    .colab-df-convert:hover {\n",
              "      background-color: #E2EBFA;\n",
              "      box-shadow: 0px 1px 2px rgba(60, 64, 67, 0.3), 0px 1px 3px 1px rgba(60, 64, 67, 0.15);\n",
              "      fill: #174EA6;\n",
              "    }\n",
              "\n",
              "    .colab-df-buttons div {\n",
              "      margin-bottom: 4px;\n",
              "    }\n",
              "\n",
              "    [theme=dark] .colab-df-convert {\n",
              "      background-color: #3B4455;\n",
              "      fill: #D2E3FC;\n",
              "    }\n",
              "\n",
              "    [theme=dark] .colab-df-convert:hover {\n",
              "      background-color: #434B5C;\n",
              "      box-shadow: 0px 1px 3px 1px rgba(0, 0, 0, 0.15);\n",
              "      filter: drop-shadow(0px 1px 2px rgba(0, 0, 0, 0.3));\n",
              "      fill: #FFFFFF;\n",
              "    }\n",
              "  </style>\n",
              "\n",
              "    <script>\n",
              "      const buttonEl =\n",
              "        document.querySelector('#df-73ba1ca4-15d5-4504-b1fc-3970b524b6e9 button.colab-df-convert');\n",
              "      buttonEl.style.display =\n",
              "        google.colab.kernel.accessAllowed ? 'block' : 'none';\n",
              "\n",
              "      async function convertToInteractive(key) {\n",
              "        const element = document.querySelector('#df-73ba1ca4-15d5-4504-b1fc-3970b524b6e9');\n",
              "        const dataTable =\n",
              "          await google.colab.kernel.invokeFunction('convertToInteractive',\n",
              "                                                    [key], {});\n",
              "        if (!dataTable) return;\n",
              "\n",
              "        const docLinkHtml = 'Like what you see? Visit the ' +\n",
              "          '<a target=\"_blank\" href=https://colab.research.google.com/notebooks/data_table.ipynb>data table notebook</a>'\n",
              "          + ' to learn more about interactive tables.';\n",
              "        element.innerHTML = '';\n",
              "        dataTable['output_type'] = 'display_data';\n",
              "        await google.colab.output.renderOutput(dataTable, element);\n",
              "        const docLink = document.createElement('div');\n",
              "        docLink.innerHTML = docLinkHtml;\n",
              "        element.appendChild(docLink);\n",
              "      }\n",
              "    </script>\n",
              "  </div>\n",
              "\n",
              "\n",
              "<div id=\"df-5e7928ed-907e-4896-b719-dae0a65bd3ed\">\n",
              "  <button class=\"colab-df-quickchart\" onclick=\"quickchart('df-5e7928ed-907e-4896-b719-dae0a65bd3ed')\"\n",
              "            title=\"Suggest charts\"\n",
              "            style=\"display:none;\">\n",
              "\n",
              "<svg xmlns=\"http://www.w3.org/2000/svg\" height=\"24px\"viewBox=\"0 0 24 24\"\n",
              "     width=\"24px\">\n",
              "    <g>\n",
              "        <path d=\"M19 3H5c-1.1 0-2 .9-2 2v14c0 1.1.9 2 2 2h14c1.1 0 2-.9 2-2V5c0-1.1-.9-2-2-2zM9 17H7v-7h2v7zm4 0h-2V7h2v10zm4 0h-2v-4h2v4z\"/>\n",
              "    </g>\n",
              "</svg>\n",
              "  </button>\n",
              "\n",
              "<style>\n",
              "  .colab-df-quickchart {\n",
              "      --bg-color: #E8F0FE;\n",
              "      --fill-color: #1967D2;\n",
              "      --hover-bg-color: #E2EBFA;\n",
              "      --hover-fill-color: #174EA6;\n",
              "      --disabled-fill-color: #AAA;\n",
              "      --disabled-bg-color: #DDD;\n",
              "  }\n",
              "\n",
              "  [theme=dark] .colab-df-quickchart {\n",
              "      --bg-color: #3B4455;\n",
              "      --fill-color: #D2E3FC;\n",
              "      --hover-bg-color: #434B5C;\n",
              "      --hover-fill-color: #FFFFFF;\n",
              "      --disabled-bg-color: #3B4455;\n",
              "      --disabled-fill-color: #666;\n",
              "  }\n",
              "\n",
              "  .colab-df-quickchart {\n",
              "    background-color: var(--bg-color);\n",
              "    border: none;\n",
              "    border-radius: 50%;\n",
              "    cursor: pointer;\n",
              "    display: none;\n",
              "    fill: var(--fill-color);\n",
              "    height: 32px;\n",
              "    padding: 0;\n",
              "    width: 32px;\n",
              "  }\n",
              "\n",
              "  .colab-df-quickchart:hover {\n",
              "    background-color: var(--hover-bg-color);\n",
              "    box-shadow: 0 1px 2px rgba(60, 64, 67, 0.3), 0 1px 3px 1px rgba(60, 64, 67, 0.15);\n",
              "    fill: var(--button-hover-fill-color);\n",
              "  }\n",
              "\n",
              "  .colab-df-quickchart-complete:disabled,\n",
              "  .colab-df-quickchart-complete:disabled:hover {\n",
              "    background-color: var(--disabled-bg-color);\n",
              "    fill: var(--disabled-fill-color);\n",
              "    box-shadow: none;\n",
              "  }\n",
              "\n",
              "  .colab-df-spinner {\n",
              "    border: 2px solid var(--fill-color);\n",
              "    border-color: transparent;\n",
              "    border-bottom-color: var(--fill-color);\n",
              "    animation:\n",
              "      spin 1s steps(1) infinite;\n",
              "  }\n",
              "\n",
              "  @keyframes spin {\n",
              "    0% {\n",
              "      border-color: transparent;\n",
              "      border-bottom-color: var(--fill-color);\n",
              "      border-left-color: var(--fill-color);\n",
              "    }\n",
              "    20% {\n",
              "      border-color: transparent;\n",
              "      border-left-color: var(--fill-color);\n",
              "      border-top-color: var(--fill-color);\n",
              "    }\n",
              "    30% {\n",
              "      border-color: transparent;\n",
              "      border-left-color: var(--fill-color);\n",
              "      border-top-color: var(--fill-color);\n",
              "      border-right-color: var(--fill-color);\n",
              "    }\n",
              "    40% {\n",
              "      border-color: transparent;\n",
              "      border-right-color: var(--fill-color);\n",
              "      border-top-color: var(--fill-color);\n",
              "    }\n",
              "    60% {\n",
              "      border-color: transparent;\n",
              "      border-right-color: var(--fill-color);\n",
              "    }\n",
              "    80% {\n",
              "      border-color: transparent;\n",
              "      border-right-color: var(--fill-color);\n",
              "      border-bottom-color: var(--fill-color);\n",
              "    }\n",
              "    90% {\n",
              "      border-color: transparent;\n",
              "      border-bottom-color: var(--fill-color);\n",
              "    }\n",
              "  }\n",
              "</style>\n",
              "\n",
              "  <script>\n",
              "    async function quickchart(key) {\n",
              "      const quickchartButtonEl =\n",
              "        document.querySelector('#' + key + ' button');\n",
              "      quickchartButtonEl.disabled = true;  // To prevent multiple clicks.\n",
              "      quickchartButtonEl.classList.add('colab-df-spinner');\n",
              "      try {\n",
              "        const charts = await google.colab.kernel.invokeFunction(\n",
              "            'suggestCharts', [key], {});\n",
              "      } catch (error) {\n",
              "        console.error('Error during call to suggestCharts:', error);\n",
              "      }\n",
              "      quickchartButtonEl.classList.remove('colab-df-spinner');\n",
              "      quickchartButtonEl.classList.add('colab-df-quickchart-complete');\n",
              "    }\n",
              "    (() => {\n",
              "      let quickchartButtonEl =\n",
              "        document.querySelector('#df-5e7928ed-907e-4896-b719-dae0a65bd3ed button');\n",
              "      quickchartButtonEl.style.display =\n",
              "        google.colab.kernel.accessAllowed ? 'block' : 'none';\n",
              "    })();\n",
              "  </script>\n",
              "</div>\n",
              "\n",
              "    </div>\n",
              "  </div>\n"
            ],
            "application/vnd.google.colaboratory.intrinsic+json": {
              "type": "dataframe",
              "variable_name": "test_sample",
              "summary": "{\n  \"name\": \"test_sample\",\n  \"rows\": 10000,\n  \"fields\": [\n    {\n      \"column\": \"index\",\n      \"properties\": {\n        \"dtype\": \"number\",\n        \"std\": 23243,\n        \"min\": 1,\n        \"max\": 80511,\n        \"num_unique_values\": 10000,\n        \"samples\": [\n          41260,\n          35310,\n          4464\n        ],\n        \"semantic_type\": \"\",\n        \"description\": \"\"\n      }\n    },\n    {\n      \"column\": \"original_issue_title\",\n      \"properties\": {\n        \"dtype\": \"string\",\n        \"num_unique_values\": 9867,\n        \"samples\": [\n          \"exiv2 corrupts Sony 2010e tags on import from .exv\",\n          \"Wallet View: USD Estimation not working\",\n          \"Design for login functionality\"\n        ],\n        \"semantic_type\": \"\",\n        \"description\": \"\"\n      }\n    },\n    {\n      \"column\": \"preprocessed_title\",\n      \"properties\": {\n        \"dtype\": \"string\",\n        \"num_unique_values\": 9615,\n        \"samples\": [\n          \"can't compile dll\",\n          \"in neurospin the user specific home is not in the correct directory\",\n          \"enchanted tools breaking lock fatigue mechanics\"\n        ],\n        \"semantic_type\": \"\",\n        \"description\": \"\"\n      }\n    },\n    {\n      \"column\": \"original_issue_body\",\n      \"properties\": {\n        \"dtype\": \"string\",\n        \"num_unique_values\": 8876,\n        \"samples\": [\n          \"Hi\\r\\n\\r\\nI am having an issue with shynet for only one of my accounts. Is there any way to fix this or put it into a try/except? Maybe have a value this expression defaults to if there is an error?\\r\\n\\r\\nThank you\\r\\n\\r\\n```\\r\\nshynet_1  | ERROR Internal Server Error: /dashboard/\\r\\nshynet_1  | Traceback (most recent call last):\\r\\nshynet_1  |   File \\\"/usr/local/lib/python3.9/site-packages/django/core/handlers/exception.py\\\", line 47, in inner\\r\\nshynet_1  |     response = get_response(request)\\r\\nshynet_1  |   File \\\"/usr/local/lib/python3.9/site-packages/django/core/handlers/base.py\\\", line 202, in _get_response\\r\\nshynet_1  |     response = response.render()\\r\\nshynet_1  |   File \\\"/usr/local/lib/python3.9/site-packages/django/template/response.py\\\", line 105, in render\\r\\nshynet_1  |     self.content = self.rendered_content\\r\\nshynet_1  |   File \\\"/usr/local/lib/python3.9/site-packages/django/template/response.py\\\", line 83, in rendered_content\\r\\nshynet_1  |     return template.render(context, self._request)\\r\\nshynet_1  |   File \\\"/usr/local/lib/python3.9/site-packages/django/template/backends/django.py\\\", line 61, in render\\r\\nshynet_1  |     return self.template.render(context)\\r\\nshynet_1  |   File \\\"/usr/local/lib/python3.9/site-packages/django/template/base.py\\\", line 170, in render\\r\\nshynet_1  |     return self._render(context)\\r\\nshynet_1  |   File \\\"/usr/local/lib/python3.9/site-packages/django/template/base.py\\\", line 162, in _render\\r\\nshynet_1  |     return self.nodelist.render(context)\\r\\nshynet_1  |   File \\\"/usr/local/lib/python3.9/site-packages/django/template/base.py\\\", line 938, in render\\r\\nshynet_1  |     bit = node.render_annotated(context)\\r\\nshynet_1  |   File \\\"/usr/local/lib/python3.9/site-packages/django/template/base.py\\\", line 905, in render_annotated\\r\\nshynet_1  |     return self.render(context)\\r\\nshynet_1  |   File \\\"/usr/local/lib/python3.9/site-packages/django/template/loader_tags.py\\\", line 150, in render\\r\\nshynet_1  |     return compiled_parent._render(context)\\r\\nshynet_1  |   File \\\"/usr/local/lib/python3.9/site-packages/django/template/base.py\\\", line 162, in _render\\r\\nshynet_1  |     return self.nodelist.render(context)\\r\\nshynet_1  |   File \\\"/usr/local/lib/python3.9/site-packages/django/template/base.py\\\", line 938, in render\\r\\nshynet_1  |     bit = node.render_annotated(context)\\r\\nshynet_1  |   File \\\"/usr/local/lib/python3.9/site-packages/django/template/base.py\\\", line 905, in render_annotated\\r\\nshynet_1  |     return self.render(context)\\r\\nshynet_1  |   File \\\"/usr/local/lib/python3.9/site-packages/django/template/loader_tags.py\\\", line 62, in render\\r\\nshynet_1  |     result = block.nodelist.render(context)\\r\\nshynet_1  |   File \\\"/usr/local/lib/python3.9/site-packages/django/template/base.py\\\", line 938, in render\\r\\nshynet_1  |     bit = node.render_annotated(context)\\r\\nshynet_1  |   File \\\"/usr/local/lib/python3.9/site-packages/django/template/base.py\\\", line 905, in render_annotated\\r\\nshynet_1  |     return self.render(context)\\r\\nshynet_1  |   File \\\"/usr/local/lib/python3.9/site-packages/django/template/loader_tags.py\\\", line 62, in render\\r\\nshynet_1  |     result = block.nodelist.render(context)\\r\\nshynet_1  |   File \\\"/usr/local/lib/python3.9/site-packages/django/template/base.py\\\", line 938, in render\\r\\nshynet_1  |     bit = node.render_annotated(context)\\r\\nshynet_1  |   File \\\"/usr/local/lib/python3.9/site-packages/django/template/base.py\\\", line 905, in render_annotated\\r\\nshynet_1  |     return self.render(context)\\r\\nshynet_1  |   File \\\"/usr/local/lib/python3.9/site-packages/django/template/defaulttags.py\\\", line 211, in render\\r\\nshynet_1  |     nodelist.append(node.render_annotated(context))\\r\\nshynet_1  |   File \\\"/usr/local/lib/python3.9/site-packages/django/template/base.py\\\", line 905, in render_annotated\\r\\nshynet_1  |     return self.render(context)\\r\\nshynet_1  |   File \\\"/usr/local/lib/python3.9/site-packages/django/template/loader_tags.py\\\", line 192, in render\\r\\nshynet_1  |     return template.render(context)\\r\\nshynet_1  |   File \\\"/usr/local/lib/python3.9/site-packages/django/template/base.py\\\", line 172, in render\\r\\nshynet_1  |     return self._render(context)\\r\\nshynet_1  |   File \\\"/usr/local/lib/python3.9/site-packages/django/template/base.py\\\", line 162, in _render\\r\\nshynet_1  |     return self.nodelist.render(context)\\r\\nshynet_1  |   File \\\"/usr/local/lib/python3.9/site-packages/django/template/base.py\\\", line 938, in render\\r\\nshynet_1  |     bit = node.render_annotated(context)\\r\\nshynet_1  |   File \\\"/usr/local/lib/python3.9/site-packages/django/template/base.py\\\", line 905, in render_annotated\\r\\nshynet_1  |     return self.render(context)\\r\\nshynet_1  |   File \\\"/usr/local/lib/python3.9/site-packages/django/template/defaulttags.py\\\", line 516, in render\\r\\nshynet_1  |     return self.nodelist.render(context)\\r\\nshynet_1  |   File \\\"/usr/local/lib/python3.9/site-packages/django/template/base.py\\\", line 938, in render\\r\\nshynet_1  |     bit = node.render_annotated(context)\\r\\nshynet_1  |   File \\\"/usr/local/lib/python3.9/site-packages/django/template/base.py\\\", line 905, in render_annotated\\r\\nshynet_1  |     return self.render(context)\\r\\nshynet_1  |   File \\\"/usr/local/lib/python3.9/site-packages/django/template/library.py\\\", line 234, in render\\r\\nshynet_1  |     return t.render(new_context)\\r\\nshynet_1  |   File \\\"/usr/local/lib/python3.9/site-packages/django/template/base.py\\\", line 172, in render\\r\\nshynet_1  |     return self._render(context)\\r\\nshynet_1  |   File \\\"/usr/local/lib/python3.9/site-packages/django/template/base.py\\\", line 162, in _render\\r\\nshynet_1  |     return self.nodelist.render(context)\\r\\nshynet_1  |   File \\\"/usr/local/lib/python3.9/site-packages/django/template/base.py\\\", line 938, in render\\r\\nshynet_1  |     bit = node.render_annotated(context)\\r\\nshynet_1  |   File \\\"/usr/local/lib/python3.9/site-packages/django/template/base.py\\\", line 905, in render_annotated\\r\\nshynet_1  |     return self.render(context)\\r\\nshynet_1  |   File \\\"/usr/local/lib/python3.9/site-packages/django/template/library.py\\\", line 192, in render\\r\\nshynet_1  |     output = self.func(*resolved_args, **resolved_kwargs)\\r\\nshynet_1  |   File \\\"/usr/src/shynet/dashboard/templatetags/helpers.py\\\", line 76, in percent_change_display\\r\\nshynet_1  |     change = int(round(100 * abs(end - start) / start))\\r\\nshynet_1  | ZeroDivisionError: division by zero\\r\\n```\",\n          \"<!-- Have you searched for similar issues? Before submitting this issue, please check the open issues and add a note before logging a new issue. \\r\\n\\r\\nPLEASE USE THE TEMPLATE BELOW TO PROVIDE INFORMATION ABOUT THE ISSUE. \\r\\nINSUFFICIENT INFO WILL GET THE ISSUE CLOSED. IT WILL ONLY BE REOPENED AFTER SUFFICIENT INFO IS PROVIDED-->\\r\\n\\r\\n## Description <!-- Provide a brief description of the issue -->\\r\\nConvert tab doesn't load assets\\r\\n\\r\\n## Steps to reproduce <!-- Please add a series of steps to reproduce the issue -->\\r\\n\\r\\n   1. Connect to Binance widget\\r\\n   2. Switch to Convert tab\\r\\n   3. Doesn't load \\r\\n\\r\\n## Actual result <!-- Please add screenshots if needed -->\\r\\n\\r\\nhttps://user-images.githubusercontent.com/17010094/111591381-4620f380-87bf-11eb-8c34-8bba3acdddda.mp4\\r\\n\\r\\n## Expected result\\r\\nShould load the convert window\\r\\n\\r\\n## Issue reproduces how often <!-- [Easily reproduced/Intermittent issue/No steps to reproduce] -->\\r\\nEasy\\r\\n\\r\\n## Version/Channel Information:\\r\\n<!--Does this issue happen on any other channels? Or is it specific to a certain channel?-->\\r\\n\\r\\n- Can you reproduce this issue with the current Play Store version? Yes\\r\\n- Can you reproduce this issue with the current Play Store Beta version? Yes\\r\\n- Can you reproduce this issue with the current Play Store Nightly version? Yes\\r\\n\\r\\n## Device details\\r\\n   - Install type (ARM, x86): ARM\\r\\n   - Device type (Phone, Tablet, Phablet): All\\r\\n   - Android version: 10\\r\\n   \\r\\n## Brave version\\r\\n1.21.77\\r\\n\\r\\n### Website problems only\\r\\n- Does the issue resolve itself when disabling Brave Shields? NA\\r\\n- Does the issue resolve itself when disabling Brave Rewards? NA\\r\\n- Is the issue reproducible on the latest version of Chrome? NA\\r\\n\\r\\n### Additional information\\r\\n<!-- Any additional information, related issues, extra QA steps, configuration or data that might be necessary to reproduce the issue -->\\r\\nRelated desktop issue #14778\",\n          \"I don't believe this functionality is being used.\\r\\nShould be removed to eliminate dependency bloat\"\n        ],\n        \"semantic_type\": \"\",\n        \"description\": \"\"\n      }\n    },\n    {\n      \"column\": \"preprocessed_body\",\n      \"properties\": {\n        \"dtype\": \"string\",\n        \"num_unique_values\": 8796,\n        \"samples\": [\n          \"x allow more than one light source x glossy emitter cosine lobe emission profile about the normal vector useful for testing bidir algorithms and di guiding x environment map loaded from .exr hosek wilkie sky model rgb and spectral\",\n          \"add translations for next languages en ja ru tr ua\",\n          \"if i upload something to a language in weblate the source language works very well in utf 8 e.g. a is displayed correctly . but if i upload a translation to a normal language it isn't in utf 8 and in front of a there's a weird character image https user images.githubusercontent.com 42046014 102817734 96f79a80 43d0 11eb 8304 9050678c9aaf.png i'm using the newest version of weblate\"\n        ],\n        \"semantic_type\": \"\",\n        \"description\": \"\"\n      }\n    },\n    {\n      \"column\": \"text\",\n      \"properties\": {\n        \"dtype\": \"string\",\n        \"num_unique_values\": 9995,\n        \"samples\": [\n          \"time 2017-02-15T23:59:06Z author MEMBER repo microsoft/xunit-performance title when all tests fail we do not make an output xml body if all of the tests that are run inside of a dll fail we do not create an output xml. is this the intended behavior? it seems like we should at least make an empty xml file with no results in it.\",\n          \"time 2020-09-04T10:33:43Z author CONTRIBUTOR repo mpi2/PhenotypeData title inconsistencies impc_via_002 body team found some inconsistencies in the s r core thanks to the procedurecompleteness report which seem to be related to impc_via_002. this produces 5 docs with these problems http ves ebi d0.ebi.ac.uk 8986 solr statistical result select?fl strain_name zygosity parameter_stable_id parameter_name life_stage_name q colony_id ucd 10243a e8 2 1 20and 20procedure_stable_id impc_via_002 hemizygotes are missing life_stage_name and life_stage_acc and strain_name but not the strain_accession_id parameter_name 'heterozygous animals viability' impc_via_066_001 shows zygosity 'homozygote'\",\n          \"time 2021-04-03T00:57:35Z author NONE repo nextcloud/android title activities do not work on android app. as it seems it tries to use port 80. why not use 443 too body steps to reproduce 1. just tap on aktivitten 2. 3. expected behaviour show the recent activities actual behaviour http status code 1 fail can you reproduce this problem on https try.nextcloud.com? please create a test demo account and see if this still happens there. if yes please open up a bug report if not please verify server setup and ask for help on forum environment data android version device model stock or customized system nextcloud app version nextcloud server version reverse proxy logs web server error log insert your webserver log here nextcloud log data nextcloud.log insert your nextcloud log here note be super sure to remove sensitive data like passwords note that everybody can look here you can use the issue template application to prefill some of the required information https apps.nextcloud.com apps issuetemplate\"\n        ],\n        \"semantic_type\": \"\",\n        \"description\": \"\"\n      }\n    },\n    {\n      \"column\": \"issue_label\",\n      \"properties\": {\n        \"dtype\": \"category\",\n        \"num_unique_values\": 3,\n        \"samples\": [\n          \"bug\",\n          \"enhancement\",\n          \"question\"\n        ],\n        \"semantic_type\": \"\",\n        \"description\": \"\"\n      }\n    },\n    {\n      \"column\": \"labels\",\n      \"properties\": {\n        \"dtype\": \"number\",\n        \"std\": 0,\n        \"min\": 0,\n        \"max\": 2,\n        \"num_unique_values\": 3,\n        \"samples\": [\n          0,\n          1,\n          2\n        ],\n        \"semantic_type\": \"\",\n        \"description\": \"\"\n      }\n    },\n    {\n      \"column\": \"roberta_prediction\",\n      \"properties\": {\n        \"dtype\": \"category\",\n        \"num_unique_values\": 3,\n        \"samples\": [\n          \"bug\",\n          \"enhancement\",\n          \"question\"\n        ],\n        \"semantic_type\": \"\",\n        \"description\": \"\"\n      }\n    }\n  ]\n}"
            }
          },
          "metadata": {},
          "execution_count": 11
        }
      ]
    },
    {
      "cell_type": "code",
      "source": [
        "test_sample.loc[3,'original_issue_title']"
      ],
      "metadata": {
        "colab": {
          "base_uri": "https://localhost:8080/",
          "height": 35
        },
        "id": "pPi0eJZZ5GsY",
        "outputId": "df8e0995-9ec3-4c7c-8eda-eab8d0f11ee4"
      },
      "execution_count": 12,
      "outputs": [
        {
          "output_type": "execute_result",
          "data": {
            "text/plain": [
              "'CUDA.jl initialisation fails after suspending Ubuntu 20.04 with CUDA 11.2'"
            ],
            "application/vnd.google.colaboratory.intrinsic+json": {
              "type": "string"
            }
          },
          "metadata": {},
          "execution_count": 12
        }
      ]
    },
    {
      "cell_type": "code",
      "source": [
        "i = 3\n",
        "llm.invoke(f\"\"\"Classify the following issue as \"bug\", \"enhancement\", \"question\" or \"other\" and rate your classification confidence and issue understandability in range 0 - 100. Your answer should only include:\n",
        "Classification: your classification answer\n",
        "Prediction Confidence: your level of confidence\n",
        "Issue Understandability: level of understandability\n",
        "Do not provide any explanation.\n",
        "Issue Title: {test_sample.loc[i,'original_issue_title']}\n",
        "Issue Body: {test_sample.loc[i,'original_issue_body']}\n",
        "\"\"\")"
      ],
      "metadata": {
        "colab": {
          "base_uri": "https://localhost:8080/",
          "height": 35
        },
        "id": "-sdkoajQ5IdK",
        "outputId": "8b4a586e-4927-4323-eedc-804f1f94ae1d"
      },
      "execution_count": 13,
      "outputs": [
        {
          "output_type": "execute_result",
          "data": {
            "text/plain": [
              "'Classification: bug\\nPrediction Confidence: 95\\nIssue Understandability: 90'"
            ],
            "application/vnd.google.colaboratory.intrinsic+json": {
              "type": "string"
            }
          },
          "metadata": {},
          "execution_count": 13
        }
      ]
    },
    {
      "cell_type": "code",
      "source": [
        "i = 9684\n",
        "llm.invoke(f\"\"\"Classify the following issue as \"bug\", \"enhancement\", \"question\" or \"other\" and rate your classification confidence and issue understandability in range 0 - 100. Your answer should only include:\n",
        "Classification: your classification answer\n",
        "Prediction Confidence: your level of confidence\n",
        "Issue Understandability: level of understandability\n",
        "Do not provide any explanation.\n",
        "Issue Title: {test_sample.loc[i,'original_issue_title']}\n",
        "Issue Body: {test_sample.loc[i,'original_issue_body']}\n",
        "\"\"\")"
      ],
      "metadata": {
        "colab": {
          "base_uri": "https://localhost:8080/",
          "height": 35
        },
        "id": "GZrDDEIw5YWa",
        "outputId": "51f0101d-c4f3-4cd1-9fad-e2be3c2c150a"
      },
      "execution_count": 14,
      "outputs": [
        {
          "output_type": "execute_result",
          "data": {
            "text/plain": [
              "'Classification: bug\\nPrediction Confidence: 100\\nIssue Understandability: 90'"
            ],
            "application/vnd.google.colaboratory.intrinsic+json": {
              "type": "string"
            }
          },
          "metadata": {},
          "execution_count": 14
        }
      ]
    },
    {
      "cell_type": "markdown",
      "source": [
        "Run for all issues :)"
      ],
      "metadata": {
        "id": "7asyxyxg5D8p"
      }
    },
    {
      "cell_type": "code",
      "source": [
        "s = test_sample.shape[0] // 1000\n",
        "print(s)"
      ],
      "metadata": {
        "colab": {
          "base_uri": "https://localhost:8080/"
        },
        "id": "xqpL57Fi5EEm",
        "outputId": "399f07bc-c3d5-4f42-dfa2-2c171637c8cc"
      },
      "execution_count": 15,
      "outputs": [
        {
          "output_type": "stream",
          "name": "stdout",
          "text": [
            "10\n"
          ]
        }
      ]
    },
    {
      "cell_type": "code",
      "source": [
        "x = 1\n",
        "i = 0\n",
        "\n",
        "while x < (s+1):\n",
        "    i = (x - 1) * 1000\n",
        "    n = x * 1000\n",
        "    with tqdm(total = (n - i), ncols = 100) as pbar:\n",
        "        while i < n:\n",
        "            try:\n",
        "                test_sample.loc[i,'llama3_70b_prediction'] = llm.invoke(f\"\"\"Classify the following issue as \"bug\", \"enhancement\", \"question\" or \"other\" and rate your classification confidence and issue understandability in range 0 - 100. Your answer should only include:\n",
        "Classification: your classification answer\n",
        "Prediction Confidence: your level of confidence\n",
        "Issue Understandability: level of understandability\n",
        "Do not provide any explanation.\n",
        "Issue Title: {test_sample.loc[i,'original_issue_title']}\n",
        "Issue Body: {test_sample.loc[i,'original_issue_body']}\n",
        "\"\"\")\n",
        "                pbar.update(1)\n",
        "                i = i + 1\n",
        "            except:\n",
        "                print('exception')\n",
        "                continue\n",
        "    test_sample.to_pickle('data/nlbse22_test_sample_llama3_70b_preds.pkl')\n",
        "    print(f'Categorization of {n} issues is complete')\n",
        "    x = x + 1"
      ],
      "metadata": {
        "colab": {
          "base_uri": "https://localhost:8080/"
        },
        "id": "5uTRbfBB5jDr",
        "outputId": "afcef240-de36-47f1-f110-eb9267bc715d"
      },
      "execution_count": 16,
      "outputs": [
        {
          "metadata": {
            "tags": null
          },
          "name": "stderr",
          "output_type": "stream",
          "text": [
            "100%|█████████████████████████████████████████████████████████| 1000/1000 [1:02:38<00:00,  3.76s/it]\n"
          ]
        },
        {
          "metadata": {
            "tags": null
          },
          "name": "stdout",
          "output_type": "stream",
          "text": [
            "Categorization of 1000 issues is complete\n"
          ]
        },
        {
          "metadata": {
            "tags": null
          },
          "name": "stderr",
          "output_type": "stream",
          "text": [
            "100%|█████████████████████████████████████████████████████████| 1000/1000 [1:06:32<00:00,  3.99s/it]\n"
          ]
        },
        {
          "metadata": {
            "tags": null
          },
          "name": "stdout",
          "output_type": "stream",
          "text": [
            "Categorization of 2000 issues is complete\n"
          ]
        },
        {
          "metadata": {
            "tags": null
          },
          "name": "stderr",
          "output_type": "stream",
          "text": [
            "100%|█████████████████████████████████████████████████████████| 1000/1000 [1:02:55<00:00,  3.78s/it]\n"
          ]
        },
        {
          "metadata": {
            "tags": null
          },
          "name": "stdout",
          "output_type": "stream",
          "text": [
            "Categorization of 3000 issues is complete\n"
          ]
        },
        {
          "metadata": {
            "tags": null
          },
          "name": "stderr",
          "output_type": "stream",
          "text": [
            "100%|█████████████████████████████████████████████████████████| 1000/1000 [1:06:25<00:00,  3.99s/it]\n"
          ]
        },
        {
          "metadata": {
            "tags": null
          },
          "name": "stdout",
          "output_type": "stream",
          "text": [
            "Categorization of 4000 issues is complete\n"
          ]
        },
        {
          "metadata": {
            "tags": null
          },
          "name": "stderr",
          "output_type": "stream",
          "text": [
            "100%|█████████████████████████████████████████████████████████| 1000/1000 [1:01:35<00:00,  3.70s/it]\n"
          ]
        },
        {
          "metadata": {
            "tags": null
          },
          "name": "stdout",
          "output_type": "stream",
          "text": [
            "Categorization of 5000 issues is complete\n"
          ]
        },
        {
          "metadata": {
            "tags": null
          },
          "name": "stderr",
          "output_type": "stream",
          "text": [
            "100%|█████████████████████████████████████████████████████████| 1000/1000 [1:03:03<00:00,  3.78s/it]\n"
          ]
        },
        {
          "metadata": {
            "tags": null
          },
          "name": "stdout",
          "output_type": "stream",
          "text": [
            "Categorization of 6000 issues is complete\n"
          ]
        },
        {
          "metadata": {
            "tags": null
          },
          "name": "stderr",
          "output_type": "stream",
          "text": [
            "100%|█████████████████████████████████████████████████████████| 1000/1000 [1:01:41<00:00,  3.70s/it]\n"
          ]
        },
        {
          "metadata": {
            "tags": null
          },
          "name": "stdout",
          "output_type": "stream",
          "text": [
            "Categorization of 7000 issues is complete\n"
          ]
        },
        {
          "metadata": {
            "tags": null
          },
          "name": "stderr",
          "output_type": "stream",
          "text": [
            "100%|███████████████████████████████████████████████████████████| 1000/1000 [59:30<00:00,  3.57s/it]\n"
          ]
        },
        {
          "metadata": {
            "tags": null
          },
          "name": "stdout",
          "output_type": "stream",
          "text": [
            "Categorization of 8000 issues is complete\n"
          ]
        },
        {
          "metadata": {
            "tags": null
          },
          "name": "stderr",
          "output_type": "stream",
          "text": [
            "100%|█████████████████████████████████████████████████████████| 1000/1000 [1:02:45<00:00,  3.77s/it]\n"
          ]
        },
        {
          "metadata": {
            "tags": null
          },
          "name": "stdout",
          "output_type": "stream",
          "text": [
            "Categorization of 9000 issues is complete\n"
          ]
        },
        {
          "output_type": "stream",
          "name": "stderr",
          "text": [
            "100%|█████████████████████████████████████████████████████████| 1000/1000 [1:03:14<00:00,  3.79s/it]"
          ]
        },
        {
          "output_type": "stream",
          "name": "stdout",
          "text": [
            "Categorization of 10000 issues is complete\n"
          ]
        },
        {
          "output_type": "stream",
          "name": "stderr",
          "text": [
            "\n"
          ]
        }
      ]
    }
  ]
}