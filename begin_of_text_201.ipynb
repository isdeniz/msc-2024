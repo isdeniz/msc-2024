{
  "nbformat": 4,
  "nbformat_minor": 0,
  "metadata": {
    "colab": {
      "provenance": [],
      "machine_shape": "hm",
      "gpuType": "A100",
      "authorship_tag": "ABX9TyPvHbyXog0auskUBaXo7ow0",
      "include_colab_link": true
    },
    "kernelspec": {
      "name": "python3",
      "display_name": "Python 3"
    },
    "language_info": {
      "name": "python"
    },
    "accelerator": "GPU"
  },
  "cells": [
    {
      "cell_type": "markdown",
      "metadata": {
        "id": "view-in-github",
        "colab_type": "text"
      },
      "source": [
        "<a href=\"https://colab.research.google.com/github/isdeniz/msc-2024/blob/main/begin_of_text_201.ipynb\" target=\"_parent\"><img src=\"https://colab.research.google.com/assets/colab-badge.svg\" alt=\"Open In Colab\"/></a>"
      ]
    },
    {
      "cell_type": "code",
      "execution_count": 1,
      "metadata": {
        "colab": {
          "base_uri": "https://localhost:8080/"
        },
        "id": "-7OX8iyWemhb",
        "outputId": "19b8cd7c-f651-4337-ec95-a25c5889fafd"
      },
      "outputs": [
        {
          "output_type": "stream",
          "name": "stdout",
          "text": [
            ">>> Downloading ollama...\n",
            "############################################################################################# 100.0%\n",
            ">>> Installing ollama to /usr/local/bin...\n",
            ">>> Creating ollama user...\n",
            ">>> Adding ollama user to video group...\n",
            ">>> Adding current user to ollama group...\n",
            ">>> Creating ollama systemd service...\n",
            "WARNING: Unable to detect NVIDIA/AMD GPU. Install lspci or lshw to automatically detect and install GPU dependencies.\n",
            ">>> The Ollama API is now available at 127.0.0.1:11434.\n",
            ">>> Install complete. Run \"ollama\" from the command line.\n"
          ]
        }
      ],
      "source": [
        "!curl -fsSL https://ollama.com/install.sh | sh"
      ]
    },
    {
      "cell_type": "code",
      "source": [
        "!python3.10 -m pip install langchain"
      ],
      "metadata": {
        "colab": {
          "base_uri": "https://localhost:8080/"
        },
        "id": "xJ9KMOQqgsut",
        "outputId": "60d5fd90-245d-497f-dcfb-8bcad57e4ecb"
      },
      "execution_count": 2,
      "outputs": [
        {
          "output_type": "stream",
          "name": "stdout",
          "text": [
            "Collecting langchain\n",
            "  Downloading langchain-0.2.12-py3-none-any.whl.metadata (7.1 kB)\n",
            "Requirement already satisfied: PyYAML>=5.3 in /usr/local/lib/python3.10/dist-packages (from langchain) (6.0.2)\n",
            "Requirement already satisfied: SQLAlchemy<3,>=1.4 in /usr/local/lib/python3.10/dist-packages (from langchain) (2.0.32)\n",
            "Requirement already satisfied: aiohttp<4.0.0,>=3.8.3 in /usr/local/lib/python3.10/dist-packages (from langchain) (3.10.1)\n",
            "Requirement already satisfied: async-timeout<5.0.0,>=4.0.0 in /usr/local/lib/python3.10/dist-packages (from langchain) (4.0.3)\n",
            "Collecting langchain-core<0.3.0,>=0.2.27 (from langchain)\n",
            "  Downloading langchain_core-0.2.29-py3-none-any.whl.metadata (6.2 kB)\n",
            "Collecting langchain-text-splitters<0.3.0,>=0.2.0 (from langchain)\n",
            "  Downloading langchain_text_splitters-0.2.2-py3-none-any.whl.metadata (2.1 kB)\n",
            "Collecting langsmith<0.2.0,>=0.1.17 (from langchain)\n",
            "  Downloading langsmith-0.1.99-py3-none-any.whl.metadata (13 kB)\n",
            "Requirement already satisfied: numpy<2,>=1 in /usr/local/lib/python3.10/dist-packages (from langchain) (1.26.4)\n",
            "Requirement already satisfied: pydantic<3,>=1 in /usr/local/lib/python3.10/dist-packages (from langchain) (2.8.2)\n",
            "Requirement already satisfied: requests<3,>=2 in /usr/local/lib/python3.10/dist-packages (from langchain) (2.32.3)\n",
            "Collecting tenacity!=8.4.0,<9.0.0,>=8.1.0 (from langchain)\n",
            "  Downloading tenacity-8.5.0-py3-none-any.whl.metadata (1.2 kB)\n",
            "Requirement already satisfied: aiohappyeyeballs>=2.3.0 in /usr/local/lib/python3.10/dist-packages (from aiohttp<4.0.0,>=3.8.3->langchain) (2.3.4)\n",
            "Requirement already satisfied: aiosignal>=1.1.2 in /usr/local/lib/python3.10/dist-packages (from aiohttp<4.0.0,>=3.8.3->langchain) (1.3.1)\n",
            "Requirement already satisfied: attrs>=17.3.0 in /usr/local/lib/python3.10/dist-packages (from aiohttp<4.0.0,>=3.8.3->langchain) (24.2.0)\n",
            "Requirement already satisfied: frozenlist>=1.1.1 in /usr/local/lib/python3.10/dist-packages (from aiohttp<4.0.0,>=3.8.3->langchain) (1.4.1)\n",
            "Requirement already satisfied: multidict<7.0,>=4.5 in /usr/local/lib/python3.10/dist-packages (from aiohttp<4.0.0,>=3.8.3->langchain) (6.0.5)\n",
            "Requirement already satisfied: yarl<2.0,>=1.0 in /usr/local/lib/python3.10/dist-packages (from aiohttp<4.0.0,>=3.8.3->langchain) (1.9.4)\n",
            "Collecting jsonpatch<2.0,>=1.33 (from langchain-core<0.3.0,>=0.2.27->langchain)\n",
            "  Downloading jsonpatch-1.33-py2.py3-none-any.whl.metadata (3.0 kB)\n",
            "Requirement already satisfied: packaging<25,>=23.2 in /usr/local/lib/python3.10/dist-packages (from langchain-core<0.3.0,>=0.2.27->langchain) (24.1)\n",
            "Requirement already satisfied: typing-extensions>=4.7 in /usr/local/lib/python3.10/dist-packages (from langchain-core<0.3.0,>=0.2.27->langchain) (4.12.2)\n",
            "Collecting orjson<4.0.0,>=3.9.14 (from langsmith<0.2.0,>=0.1.17->langchain)\n",
            "  Downloading orjson-3.10.7-cp310-cp310-manylinux_2_17_x86_64.manylinux2014_x86_64.whl.metadata (50 kB)\n",
            "\u001b[2K     \u001b[90m━━━━━━━━━━━━━━━━━━━━━━━━━━━━━━━━━━━━━━━━\u001b[0m \u001b[32m50.4/50.4 kB\u001b[0m \u001b[31m4.2 MB/s\u001b[0m eta \u001b[36m0:00:00\u001b[0m\n",
            "\u001b[?25hRequirement already satisfied: annotated-types>=0.4.0 in /usr/local/lib/python3.10/dist-packages (from pydantic<3,>=1->langchain) (0.7.0)\n",
            "Requirement already satisfied: pydantic-core==2.20.1 in /usr/local/lib/python3.10/dist-packages (from pydantic<3,>=1->langchain) (2.20.1)\n",
            "Requirement already satisfied: charset-normalizer<4,>=2 in /usr/local/lib/python3.10/dist-packages (from requests<3,>=2->langchain) (3.3.2)\n",
            "Requirement already satisfied: idna<4,>=2.5 in /usr/local/lib/python3.10/dist-packages (from requests<3,>=2->langchain) (3.7)\n",
            "Requirement already satisfied: urllib3<3,>=1.21.1 in /usr/local/lib/python3.10/dist-packages (from requests<3,>=2->langchain) (2.0.7)\n",
            "Requirement already satisfied: certifi>=2017.4.17 in /usr/local/lib/python3.10/dist-packages (from requests<3,>=2->langchain) (2024.7.4)\n",
            "Requirement already satisfied: greenlet!=0.4.17 in /usr/local/lib/python3.10/dist-packages (from SQLAlchemy<3,>=1.4->langchain) (3.0.3)\n",
            "Collecting jsonpointer>=1.9 (from jsonpatch<2.0,>=1.33->langchain-core<0.3.0,>=0.2.27->langchain)\n",
            "  Downloading jsonpointer-3.0.0-py2.py3-none-any.whl.metadata (2.3 kB)\n",
            "Downloading langchain-0.2.12-py3-none-any.whl (990 kB)\n",
            "\u001b[2K   \u001b[90m━━━━━━━━━━━━━━━━━━━━━━━━━━━━━━━━━━━━━━━━\u001b[0m \u001b[32m990.6/990.6 kB\u001b[0m \u001b[31m48.9 MB/s\u001b[0m eta \u001b[36m0:00:00\u001b[0m\n",
            "\u001b[?25hDownloading langchain_core-0.2.29-py3-none-any.whl (383 kB)\n",
            "\u001b[2K   \u001b[90m━━━━━━━━━━━━━━━━━━━━━━━━━━━━━━━━━━━━━━━━\u001b[0m \u001b[32m384.0/384.0 kB\u001b[0m \u001b[31m30.6 MB/s\u001b[0m eta \u001b[36m0:00:00\u001b[0m\n",
            "\u001b[?25hDownloading langchain_text_splitters-0.2.2-py3-none-any.whl (25 kB)\n",
            "Downloading langsmith-0.1.99-py3-none-any.whl (140 kB)\n",
            "\u001b[2K   \u001b[90m━━━━━━━━━━━━━━━━━━━━━━━━━━━━━━━━━━━━━━━━\u001b[0m \u001b[32m140.4/140.4 kB\u001b[0m \u001b[31m13.4 MB/s\u001b[0m eta \u001b[36m0:00:00\u001b[0m\n",
            "\u001b[?25hDownloading tenacity-8.5.0-py3-none-any.whl (28 kB)\n",
            "Downloading jsonpatch-1.33-py2.py3-none-any.whl (12 kB)\n",
            "Downloading orjson-3.10.7-cp310-cp310-manylinux_2_17_x86_64.manylinux2014_x86_64.whl (141 kB)\n",
            "\u001b[2K   \u001b[90m━━━━━━━━━━━━━━━━━━━━━━━━━━━━━━━━━━━━━━━━\u001b[0m \u001b[32m141.9/141.9 kB\u001b[0m \u001b[31m13.4 MB/s\u001b[0m eta \u001b[36m0:00:00\u001b[0m\n",
            "\u001b[?25hDownloading jsonpointer-3.0.0-py2.py3-none-any.whl (7.6 kB)\n",
            "Installing collected packages: tenacity, orjson, jsonpointer, jsonpatch, langsmith, langchain-core, langchain-text-splitters, langchain\n",
            "  Attempting uninstall: tenacity\n",
            "    Found existing installation: tenacity 9.0.0\n",
            "    Uninstalling tenacity-9.0.0:\n",
            "      Successfully uninstalled tenacity-9.0.0\n",
            "Successfully installed jsonpatch-1.33 jsonpointer-3.0.0 langchain-0.2.12 langchain-core-0.2.29 langchain-text-splitters-0.2.2 langsmith-0.1.99 orjson-3.10.7 tenacity-8.5.0\n"
          ]
        }
      ]
    },
    {
      "cell_type": "code",
      "source": [
        "!python3.10 -m pip install langchain-core"
      ],
      "metadata": {
        "colab": {
          "base_uri": "https://localhost:8080/"
        },
        "id": "HpBr6piigzRl",
        "outputId": "94ce2c93-a56a-46ff-df22-69ef96a5c857"
      },
      "execution_count": 3,
      "outputs": [
        {
          "output_type": "stream",
          "name": "stdout",
          "text": [
            "Requirement already satisfied: langchain-core in /usr/local/lib/python3.10/dist-packages (0.2.29)\n",
            "Requirement already satisfied: PyYAML>=5.3 in /usr/local/lib/python3.10/dist-packages (from langchain-core) (6.0.2)\n",
            "Requirement already satisfied: jsonpatch<2.0,>=1.33 in /usr/local/lib/python3.10/dist-packages (from langchain-core) (1.33)\n",
            "Requirement already satisfied: langsmith<0.2.0,>=0.1.75 in /usr/local/lib/python3.10/dist-packages (from langchain-core) (0.1.99)\n",
            "Requirement already satisfied: packaging<25,>=23.2 in /usr/local/lib/python3.10/dist-packages (from langchain-core) (24.1)\n",
            "Requirement already satisfied: pydantic<3,>=1 in /usr/local/lib/python3.10/dist-packages (from langchain-core) (2.8.2)\n",
            "Requirement already satisfied: tenacity!=8.4.0,<9.0.0,>=8.1.0 in /usr/local/lib/python3.10/dist-packages (from langchain-core) (8.5.0)\n",
            "Requirement already satisfied: typing-extensions>=4.7 in /usr/local/lib/python3.10/dist-packages (from langchain-core) (4.12.2)\n",
            "Requirement already satisfied: jsonpointer>=1.9 in /usr/local/lib/python3.10/dist-packages (from jsonpatch<2.0,>=1.33->langchain-core) (3.0.0)\n",
            "Requirement already satisfied: orjson<4.0.0,>=3.9.14 in /usr/local/lib/python3.10/dist-packages (from langsmith<0.2.0,>=0.1.75->langchain-core) (3.10.7)\n",
            "Requirement already satisfied: requests<3,>=2 in /usr/local/lib/python3.10/dist-packages (from langsmith<0.2.0,>=0.1.75->langchain-core) (2.32.3)\n",
            "Requirement already satisfied: annotated-types>=0.4.0 in /usr/local/lib/python3.10/dist-packages (from pydantic<3,>=1->langchain-core) (0.7.0)\n",
            "Requirement already satisfied: pydantic-core==2.20.1 in /usr/local/lib/python3.10/dist-packages (from pydantic<3,>=1->langchain-core) (2.20.1)\n",
            "Requirement already satisfied: charset-normalizer<4,>=2 in /usr/local/lib/python3.10/dist-packages (from requests<3,>=2->langsmith<0.2.0,>=0.1.75->langchain-core) (3.3.2)\n",
            "Requirement already satisfied: idna<4,>=2.5 in /usr/local/lib/python3.10/dist-packages (from requests<3,>=2->langsmith<0.2.0,>=0.1.75->langchain-core) (3.7)\n",
            "Requirement already satisfied: urllib3<3,>=1.21.1 in /usr/local/lib/python3.10/dist-packages (from requests<3,>=2->langsmith<0.2.0,>=0.1.75->langchain-core) (2.0.7)\n",
            "Requirement already satisfied: certifi>=2017.4.17 in /usr/local/lib/python3.10/dist-packages (from requests<3,>=2->langsmith<0.2.0,>=0.1.75->langchain-core) (2024.7.4)\n"
          ]
        }
      ]
    },
    {
      "cell_type": "code",
      "source": [
        "!python3.10 -m pip install langchain-community"
      ],
      "metadata": {
        "colab": {
          "base_uri": "https://localhost:8080/"
        },
        "id": "BWZAxARfg2-x",
        "outputId": "120befa9-daba-4e3b-ff05-02f85f3228a1"
      },
      "execution_count": 4,
      "outputs": [
        {
          "output_type": "stream",
          "name": "stdout",
          "text": [
            "Collecting langchain-community\n",
            "  Downloading langchain_community-0.2.11-py3-none-any.whl.metadata (2.7 kB)\n",
            "Requirement already satisfied: PyYAML>=5.3 in /usr/local/lib/python3.10/dist-packages (from langchain-community) (6.0.2)\n",
            "Requirement already satisfied: SQLAlchemy<3,>=1.4 in /usr/local/lib/python3.10/dist-packages (from langchain-community) (2.0.32)\n",
            "Requirement already satisfied: aiohttp<4.0.0,>=3.8.3 in /usr/local/lib/python3.10/dist-packages (from langchain-community) (3.10.1)\n",
            "Collecting dataclasses-json<0.7,>=0.5.7 (from langchain-community)\n",
            "  Downloading dataclasses_json-0.6.7-py3-none-any.whl.metadata (25 kB)\n",
            "Requirement already satisfied: langchain<0.3.0,>=0.2.12 in /usr/local/lib/python3.10/dist-packages (from langchain-community) (0.2.12)\n",
            "Requirement already satisfied: langchain-core<0.3.0,>=0.2.27 in /usr/local/lib/python3.10/dist-packages (from langchain-community) (0.2.29)\n",
            "Requirement already satisfied: langsmith<0.2.0,>=0.1.0 in /usr/local/lib/python3.10/dist-packages (from langchain-community) (0.1.99)\n",
            "Requirement already satisfied: numpy<2,>=1 in /usr/local/lib/python3.10/dist-packages (from langchain-community) (1.26.4)\n",
            "Requirement already satisfied: requests<3,>=2 in /usr/local/lib/python3.10/dist-packages (from langchain-community) (2.32.3)\n",
            "Requirement already satisfied: tenacity!=8.4.0,<9.0.0,>=8.1.0 in /usr/local/lib/python3.10/dist-packages (from langchain-community) (8.5.0)\n",
            "Requirement already satisfied: aiohappyeyeballs>=2.3.0 in /usr/local/lib/python3.10/dist-packages (from aiohttp<4.0.0,>=3.8.3->langchain-community) (2.3.4)\n",
            "Requirement already satisfied: aiosignal>=1.1.2 in /usr/local/lib/python3.10/dist-packages (from aiohttp<4.0.0,>=3.8.3->langchain-community) (1.3.1)\n",
            "Requirement already satisfied: attrs>=17.3.0 in /usr/local/lib/python3.10/dist-packages (from aiohttp<4.0.0,>=3.8.3->langchain-community) (24.2.0)\n",
            "Requirement already satisfied: frozenlist>=1.1.1 in /usr/local/lib/python3.10/dist-packages (from aiohttp<4.0.0,>=3.8.3->langchain-community) (1.4.1)\n",
            "Requirement already satisfied: multidict<7.0,>=4.5 in /usr/local/lib/python3.10/dist-packages (from aiohttp<4.0.0,>=3.8.3->langchain-community) (6.0.5)\n",
            "Requirement already satisfied: yarl<2.0,>=1.0 in /usr/local/lib/python3.10/dist-packages (from aiohttp<4.0.0,>=3.8.3->langchain-community) (1.9.4)\n",
            "Requirement already satisfied: async-timeout<5.0,>=4.0 in /usr/local/lib/python3.10/dist-packages (from aiohttp<4.0.0,>=3.8.3->langchain-community) (4.0.3)\n",
            "Collecting marshmallow<4.0.0,>=3.18.0 (from dataclasses-json<0.7,>=0.5.7->langchain-community)\n",
            "  Downloading marshmallow-3.21.3-py3-none-any.whl.metadata (7.1 kB)\n",
            "Collecting typing-inspect<1,>=0.4.0 (from dataclasses-json<0.7,>=0.5.7->langchain-community)\n",
            "  Downloading typing_inspect-0.9.0-py3-none-any.whl.metadata (1.5 kB)\n",
            "Requirement already satisfied: langchain-text-splitters<0.3.0,>=0.2.0 in /usr/local/lib/python3.10/dist-packages (from langchain<0.3.0,>=0.2.12->langchain-community) (0.2.2)\n",
            "Requirement already satisfied: pydantic<3,>=1 in /usr/local/lib/python3.10/dist-packages (from langchain<0.3.0,>=0.2.12->langchain-community) (2.8.2)\n",
            "Requirement already satisfied: jsonpatch<2.0,>=1.33 in /usr/local/lib/python3.10/dist-packages (from langchain-core<0.3.0,>=0.2.27->langchain-community) (1.33)\n",
            "Requirement already satisfied: packaging<25,>=23.2 in /usr/local/lib/python3.10/dist-packages (from langchain-core<0.3.0,>=0.2.27->langchain-community) (24.1)\n",
            "Requirement already satisfied: typing-extensions>=4.7 in /usr/local/lib/python3.10/dist-packages (from langchain-core<0.3.0,>=0.2.27->langchain-community) (4.12.2)\n",
            "Requirement already satisfied: orjson<4.0.0,>=3.9.14 in /usr/local/lib/python3.10/dist-packages (from langsmith<0.2.0,>=0.1.0->langchain-community) (3.10.7)\n",
            "Requirement already satisfied: charset-normalizer<4,>=2 in /usr/local/lib/python3.10/dist-packages (from requests<3,>=2->langchain-community) (3.3.2)\n",
            "Requirement already satisfied: idna<4,>=2.5 in /usr/local/lib/python3.10/dist-packages (from requests<3,>=2->langchain-community) (3.7)\n",
            "Requirement already satisfied: urllib3<3,>=1.21.1 in /usr/local/lib/python3.10/dist-packages (from requests<3,>=2->langchain-community) (2.0.7)\n",
            "Requirement already satisfied: certifi>=2017.4.17 in /usr/local/lib/python3.10/dist-packages (from requests<3,>=2->langchain-community) (2024.7.4)\n",
            "Requirement already satisfied: greenlet!=0.4.17 in /usr/local/lib/python3.10/dist-packages (from SQLAlchemy<3,>=1.4->langchain-community) (3.0.3)\n",
            "Requirement already satisfied: jsonpointer>=1.9 in /usr/local/lib/python3.10/dist-packages (from jsonpatch<2.0,>=1.33->langchain-core<0.3.0,>=0.2.27->langchain-community) (3.0.0)\n",
            "Requirement already satisfied: annotated-types>=0.4.0 in /usr/local/lib/python3.10/dist-packages (from pydantic<3,>=1->langchain<0.3.0,>=0.2.12->langchain-community) (0.7.0)\n",
            "Requirement already satisfied: pydantic-core==2.20.1 in /usr/local/lib/python3.10/dist-packages (from pydantic<3,>=1->langchain<0.3.0,>=0.2.12->langchain-community) (2.20.1)\n",
            "Collecting mypy-extensions>=0.3.0 (from typing-inspect<1,>=0.4.0->dataclasses-json<0.7,>=0.5.7->langchain-community)\n",
            "  Downloading mypy_extensions-1.0.0-py3-none-any.whl.metadata (1.1 kB)\n",
            "Downloading langchain_community-0.2.11-py3-none-any.whl (2.3 MB)\n",
            "\u001b[2K   \u001b[90m━━━━━━━━━━━━━━━━━━━━━━━━━━━━━━━━━━━━━━━━\u001b[0m \u001b[32m2.3/2.3 MB\u001b[0m \u001b[31m62.1 MB/s\u001b[0m eta \u001b[36m0:00:00\u001b[0m\n",
            "\u001b[?25hDownloading dataclasses_json-0.6.7-py3-none-any.whl (28 kB)\n",
            "Downloading marshmallow-3.21.3-py3-none-any.whl (49 kB)\n",
            "\u001b[2K   \u001b[90m━━━━━━━━━━━━━━━━━━━━━━━━━━━━━━━━━━━━━━━━\u001b[0m \u001b[32m49.2/49.2 kB\u001b[0m \u001b[31m4.8 MB/s\u001b[0m eta \u001b[36m0:00:00\u001b[0m\n",
            "\u001b[?25hDownloading typing_inspect-0.9.0-py3-none-any.whl (8.8 kB)\n",
            "Downloading mypy_extensions-1.0.0-py3-none-any.whl (4.7 kB)\n",
            "Installing collected packages: mypy-extensions, marshmallow, typing-inspect, dataclasses-json, langchain-community\n",
            "Successfully installed dataclasses-json-0.6.7 langchain-community-0.2.11 marshmallow-3.21.3 mypy-extensions-1.0.0 typing-inspect-0.9.0\n"
          ]
        }
      ]
    },
    {
      "cell_type": "code",
      "source": [
        "from langchain_community.llms import Ollama\n",
        "llm = Ollama(model = \"llama3:70b\", num_ctx=8192, temperature=0)"
      ],
      "metadata": {
        "id": "hGdlIKUjg54h"
      },
      "execution_count": 5,
      "outputs": []
    },
    {
      "cell_type": "code",
      "source": [
        "pip install tqdm"
      ],
      "metadata": {
        "colab": {
          "base_uri": "https://localhost:8080/"
        },
        "id": "LdGOKbBrg9Oi",
        "outputId": "6e539841-eca3-4bd0-bd7b-becd0966b511"
      },
      "execution_count": 6,
      "outputs": [
        {
          "output_type": "stream",
          "name": "stdout",
          "text": [
            "Requirement already satisfied: tqdm in /usr/local/lib/python3.10/dist-packages (4.66.5)\n"
          ]
        }
      ]
    },
    {
      "cell_type": "code",
      "source": [
        "import pandas as pd\n",
        "from tqdm import tqdm\n",
        "import numpy as np"
      ],
      "metadata": {
        "id": "lIrxs7zDg_dE"
      },
      "execution_count": 7,
      "outputs": []
    },
    {
      "cell_type": "code",
      "source": [
        "test_sample = pd.read_pickle('data/to_check_70B_understandability_begin_of_text_201.pkl')\n",
        "print('Number of issues: ', test_sample.shape)"
      ],
      "metadata": {
        "colab": {
          "base_uri": "https://localhost:8080/"
        },
        "id": "1_Qumw6ThBQ7",
        "outputId": "1aa605ef-96ae-4438-a9d7-48acf8c09705"
      },
      "execution_count": 9,
      "outputs": [
        {
          "output_type": "stream",
          "name": "stdout",
          "text": [
            "Number of issues:  (1, 25)\n"
          ]
        }
      ]
    },
    {
      "cell_type": "code",
      "source": [
        "test_sample.head()"
      ],
      "metadata": {
        "colab": {
          "base_uri": "https://localhost:8080/",
          "height": 180
        },
        "id": "UZ_2cJjYhTu0",
        "outputId": "e42a521e-e350-47e7-8878-cb7523c737dd"
      },
      "execution_count": 10,
      "outputs": [
        {
          "output_type": "execute_result",
          "data": {
            "text/plain": [
              "      index          original_issue_title           preprocessed_title  \\\n",
              "6660  28573  Latency timings for EDS API   latency timings for eds api   \n",
              "\n",
              "                                    original_issue_body  \\\n",
              "6660  I'm just creating this ticket to track our res...   \n",
              "\n",
              "                                      preprocessed_body  \\\n",
              "6660  i'm just creating this ticket to track our res...   \n",
              "\n",
              "                                                   text  issue_label  labels  \\\n",
              "6660  time 2017-07-20T22:31:32Z author NONE repo ebs...  enhancement       1   \n",
              "\n",
              "     roberta_prediction                               llama3_8b_prediction  \\\n",
              "6660        enhancement  Classification: enhancement\\nPrediction Confid...   \n",
              "\n",
              "      ... llama3_8b_understandability llama3_8b_understandability_corrected  \\\n",
              "6660  ...                          90                                    90   \n",
              "\n",
              "     round2_8b llama3_70b_classification llama3_70b_classification_corrected  \\\n",
              "6660     False               enhancement                         enhancement   \n",
              "\n",
              "     llama3_70b_confidence llama3_70b_confidence_corrected  \\\n",
              "6660                    80                              80   \n",
              "\n",
              "      llama3_70b_understandability llama3_70b_understandability_corrected  \\\n",
              "6660          <|begin_of_text|>201                   <|begin_of_text|>201   \n",
              "\n",
              "     round2_70b  \n",
              "6660      False  \n",
              "\n",
              "[1 rows x 25 columns]"
            ],
            "text/html": [
              "\n",
              "  <div id=\"df-bf006732-4149-4a9f-be74-5bd6e55edb29\" class=\"colab-df-container\">\n",
              "    <div>\n",
              "<style scoped>\n",
              "    .dataframe tbody tr th:only-of-type {\n",
              "        vertical-align: middle;\n",
              "    }\n",
              "\n",
              "    .dataframe tbody tr th {\n",
              "        vertical-align: top;\n",
              "    }\n",
              "\n",
              "    .dataframe thead th {\n",
              "        text-align: right;\n",
              "    }\n",
              "</style>\n",
              "<table border=\"1\" class=\"dataframe\">\n",
              "  <thead>\n",
              "    <tr style=\"text-align: right;\">\n",
              "      <th></th>\n",
              "      <th>index</th>\n",
              "      <th>original_issue_title</th>\n",
              "      <th>preprocessed_title</th>\n",
              "      <th>original_issue_body</th>\n",
              "      <th>preprocessed_body</th>\n",
              "      <th>text</th>\n",
              "      <th>issue_label</th>\n",
              "      <th>labels</th>\n",
              "      <th>roberta_prediction</th>\n",
              "      <th>llama3_8b_prediction</th>\n",
              "      <th>...</th>\n",
              "      <th>llama3_8b_understandability</th>\n",
              "      <th>llama3_8b_understandability_corrected</th>\n",
              "      <th>round2_8b</th>\n",
              "      <th>llama3_70b_classification</th>\n",
              "      <th>llama3_70b_classification_corrected</th>\n",
              "      <th>llama3_70b_confidence</th>\n",
              "      <th>llama3_70b_confidence_corrected</th>\n",
              "      <th>llama3_70b_understandability</th>\n",
              "      <th>llama3_70b_understandability_corrected</th>\n",
              "      <th>round2_70b</th>\n",
              "    </tr>\n",
              "  </thead>\n",
              "  <tbody>\n",
              "    <tr>\n",
              "      <th>6660</th>\n",
              "      <td>28573</td>\n",
              "      <td>Latency timings for EDS API</td>\n",
              "      <td>latency timings for eds api</td>\n",
              "      <td>I'm just creating this ticket to track our res...</td>\n",
              "      <td>i'm just creating this ticket to track our res...</td>\n",
              "      <td>time 2017-07-20T22:31:32Z author NONE repo ebs...</td>\n",
              "      <td>enhancement</td>\n",
              "      <td>1</td>\n",
              "      <td>enhancement</td>\n",
              "      <td>Classification: enhancement\\nPrediction Confid...</td>\n",
              "      <td>...</td>\n",
              "      <td>90</td>\n",
              "      <td>90</td>\n",
              "      <td>False</td>\n",
              "      <td>enhancement</td>\n",
              "      <td>enhancement</td>\n",
              "      <td>80</td>\n",
              "      <td>80</td>\n",
              "      <td>&lt;|begin_of_text|&gt;201</td>\n",
              "      <td>&lt;|begin_of_text|&gt;201</td>\n",
              "      <td>False</td>\n",
              "    </tr>\n",
              "  </tbody>\n",
              "</table>\n",
              "<p>1 rows × 25 columns</p>\n",
              "</div>\n",
              "    <div class=\"colab-df-buttons\">\n",
              "\n",
              "  <div class=\"colab-df-container\">\n",
              "    <button class=\"colab-df-convert\" onclick=\"convertToInteractive('df-bf006732-4149-4a9f-be74-5bd6e55edb29')\"\n",
              "            title=\"Convert this dataframe to an interactive table.\"\n",
              "            style=\"display:none;\">\n",
              "\n",
              "  <svg xmlns=\"http://www.w3.org/2000/svg\" height=\"24px\" viewBox=\"0 -960 960 960\">\n",
              "    <path d=\"M120-120v-720h720v720H120Zm60-500h600v-160H180v160Zm220 220h160v-160H400v160Zm0 220h160v-160H400v160ZM180-400h160v-160H180v160Zm440 0h160v-160H620v160ZM180-180h160v-160H180v160Zm440 0h160v-160H620v160Z\"/>\n",
              "  </svg>\n",
              "    </button>\n",
              "\n",
              "  <style>\n",
              "    .colab-df-container {\n",
              "      display:flex;\n",
              "      gap: 12px;\n",
              "    }\n",
              "\n",
              "    .colab-df-convert {\n",
              "      background-color: #E8F0FE;\n",
              "      border: none;\n",
              "      border-radius: 50%;\n",
              "      cursor: pointer;\n",
              "      display: none;\n",
              "      fill: #1967D2;\n",
              "      height: 32px;\n",
              "      padding: 0 0 0 0;\n",
              "      width: 32px;\n",
              "    }\n",
              "\n",
              "    .colab-df-convert:hover {\n",
              "      background-color: #E2EBFA;\n",
              "      box-shadow: 0px 1px 2px rgba(60, 64, 67, 0.3), 0px 1px 3px 1px rgba(60, 64, 67, 0.15);\n",
              "      fill: #174EA6;\n",
              "    }\n",
              "\n",
              "    .colab-df-buttons div {\n",
              "      margin-bottom: 4px;\n",
              "    }\n",
              "\n",
              "    [theme=dark] .colab-df-convert {\n",
              "      background-color: #3B4455;\n",
              "      fill: #D2E3FC;\n",
              "    }\n",
              "\n",
              "    [theme=dark] .colab-df-convert:hover {\n",
              "      background-color: #434B5C;\n",
              "      box-shadow: 0px 1px 3px 1px rgba(0, 0, 0, 0.15);\n",
              "      filter: drop-shadow(0px 1px 2px rgba(0, 0, 0, 0.3));\n",
              "      fill: #FFFFFF;\n",
              "    }\n",
              "  </style>\n",
              "\n",
              "    <script>\n",
              "      const buttonEl =\n",
              "        document.querySelector('#df-bf006732-4149-4a9f-be74-5bd6e55edb29 button.colab-df-convert');\n",
              "      buttonEl.style.display =\n",
              "        google.colab.kernel.accessAllowed ? 'block' : 'none';\n",
              "\n",
              "      async function convertToInteractive(key) {\n",
              "        const element = document.querySelector('#df-bf006732-4149-4a9f-be74-5bd6e55edb29');\n",
              "        const dataTable =\n",
              "          await google.colab.kernel.invokeFunction('convertToInteractive',\n",
              "                                                    [key], {});\n",
              "        if (!dataTable) return;\n",
              "\n",
              "        const docLinkHtml = 'Like what you see? Visit the ' +\n",
              "          '<a target=\"_blank\" href=https://colab.research.google.com/notebooks/data_table.ipynb>data table notebook</a>'\n",
              "          + ' to learn more about interactive tables.';\n",
              "        element.innerHTML = '';\n",
              "        dataTable['output_type'] = 'display_data';\n",
              "        await google.colab.output.renderOutput(dataTable, element);\n",
              "        const docLink = document.createElement('div');\n",
              "        docLink.innerHTML = docLinkHtml;\n",
              "        element.appendChild(docLink);\n",
              "      }\n",
              "    </script>\n",
              "  </div>\n",
              "\n",
              "\n",
              "    </div>\n",
              "  </div>\n"
            ],
            "application/vnd.google.colaboratory.intrinsic+json": {
              "type": "dataframe",
              "variable_name": "test_sample"
            }
          },
          "metadata": {},
          "execution_count": 10
        }
      ]
    },
    {
      "cell_type": "code",
      "source": [
        "i = 6660\n",
        "llm.invoke(f\"\"\"Classify the following issue as \"bug\", \"enhancement\", \"question\" or \"other\" and rate your classification confidence and issue understandability in range 0 - 100. Your answer should only include:\n",
        "Classification: your classification answer\n",
        "Prediction Confidence: your level of confidence\n",
        "Issue Understandability: level of understandability\n",
        "Do not provide any explanation.\n",
        "Issue Title: {test_sample.loc[i,'original_issue_title']}\n",
        "Issue Body: {test_sample.loc[i,'original_issue_body']}\n",
        "\"\"\")"
      ],
      "metadata": {
        "colab": {
          "base_uri": "https://localhost:8080/",
          "height": 52
        },
        "id": "0jbxG5l-hZjA",
        "outputId": "8d73478b-0d7f-4a96-e5e7-d04b9e305919"
      },
      "execution_count": 11,
      "outputs": [
        {
          "output_type": "execute_result",
          "data": {
            "text/plain": [
              "'Classification: enhancement\\nPrediction Confidence: 80\\nIssue Understandability: <|begin_of_text|>201'"
            ],
            "application/vnd.google.colaboratory.intrinsic+json": {
              "type": "string"
            }
          },
          "metadata": {},
          "execution_count": 11
        }
      ]
    },
    {
      "cell_type": "code",
      "source": [
        "from langchain_community.llms import Ollama\n",
        "llm = Ollama(model = \"llama3:70b\", num_ctx=8192, temperature=0.1)"
      ],
      "metadata": {
        "id": "nXm8MF84iysf"
      },
      "execution_count": 12,
      "outputs": []
    },
    {
      "cell_type": "code",
      "source": [
        "i = 6660\n",
        "llm.invoke(f\"\"\"Classify the following issue as \"bug\", \"enhancement\", \"question\" or \"other\" and rate your classification confidence and issue understandability in range 0 - 100. Your answer should only include:\n",
        "Classification: your classification answer\n",
        "Prediction Confidence: your level of confidence\n",
        "Issue Understandability: level of understandability\n",
        "Do not provide any explanation.\n",
        "Issue Title: {test_sample.loc[i,'original_issue_title']}\n",
        "Issue Body: {test_sample.loc[i,'original_issue_body']}\n",
        "\"\"\")"
      ],
      "metadata": {
        "colab": {
          "base_uri": "https://localhost:8080/",
          "height": 52
        },
        "id": "0Tjqgwk5i22J",
        "outputId": "2d6bc3d0-3d77-4d62-e068-978532e13d7a"
      },
      "execution_count": 13,
      "outputs": [
        {
          "output_type": "execute_result",
          "data": {
            "text/plain": [
              "'Classification: enhancement\\nPrediction Confidence: 80\\nIssue Understandability: <|begin_of_text|>201'"
            ],
            "application/vnd.google.colaboratory.intrinsic+json": {
              "type": "string"
            }
          },
          "metadata": {},
          "execution_count": 13
        }
      ]
    },
    {
      "cell_type": "code",
      "source": [
        "from langchain_community.llms import Ollama\n",
        "llm = Ollama(model = \"llama3:70b\", num_ctx=8192, temperature=0.9)"
      ],
      "metadata": {
        "id": "bGYFLARzi_j7"
      },
      "execution_count": 14,
      "outputs": []
    },
    {
      "cell_type": "code",
      "source": [
        "i = 6660\n",
        "llm.invoke(f\"\"\"Classify the following issue as \"bug\", \"enhancement\", \"question\" or \"other\" and rate your classification confidence and issue understandability in range 0 - 100. Your answer should only include:\n",
        "Classification: your classification answer\n",
        "Prediction Confidence: your level of confidence\n",
        "Issue Understandability: level of understandability\n",
        "Do not provide any explanation.\n",
        "Issue Title: {test_sample.loc[i,'original_issue_title']}\n",
        "Issue Body: {test_sample.loc[i,'original_issue_body']}\n",
        "\"\"\")"
      ],
      "metadata": {
        "colab": {
          "base_uri": "https://localhost:8080/",
          "height": 52
        },
        "id": "txLiNKicjBRJ",
        "outputId": "928b17b9-e8fa-453c-84fa-f1d3356e0c28"
      },
      "execution_count": 15,
      "outputs": [
        {
          "output_type": "execute_result",
          "data": {
            "text/plain": [
              "'Classification: enhancement\\nPrediction Confidence: 80\\nIssue Understandability: <|begin_of_text|>199'"
            ],
            "application/vnd.google.colaboratory.intrinsic+json": {
              "type": "string"
            }
          },
          "metadata": {},
          "execution_count": 15
        }
      ]
    },
    {
      "cell_type": "code",
      "source": [
        "test_sample.loc[i,'original_issue_title']"
      ],
      "metadata": {
        "colab": {
          "base_uri": "https://localhost:8080/",
          "height": 35
        },
        "id": "N0p84fkJjVHA",
        "outputId": "4a6ff03d-e2d5-4bf3-ab77-8950374901bf"
      },
      "execution_count": 16,
      "outputs": [
        {
          "output_type": "execute_result",
          "data": {
            "text/plain": [
              "'Latency timings for EDS API '"
            ],
            "application/vnd.google.colaboratory.intrinsic+json": {
              "type": "string"
            }
          },
          "metadata": {},
          "execution_count": 16
        }
      ]
    },
    {
      "cell_type": "code",
      "source": [
        "issue_title = 'Latency timings for EDS API '"
      ],
      "metadata": {
        "id": "8nZ9beZ1jPMO"
      },
      "execution_count": 18,
      "outputs": []
    },
    {
      "cell_type": "code",
      "source": [
        "test_sample.loc[i,'original_issue_body']"
      ],
      "metadata": {
        "colab": {
          "base_uri": "https://localhost:8080/",
          "height": 919
        },
        "id": "IiNsF3odjZgv",
        "outputId": "1bfea6c2-647f-4b65-b0a3-a178e7e67eec"
      },
      "execution_count": 17,
      "outputs": [
        {
          "output_type": "execute_result",
          "data": {
            "text/plain": [
              "\"I'm just creating this ticket to track our response time from the EDS gem. In our code we're benchmarking the `Search` and `Retrieve` (find) methods, and below is a few days worth of testing in a production environment with caching enabled. \\r\\n\\r\\nYou can find where these benchmarks are here:\\r\\n\\r\\n   https://github.com/sul-dlss/SearchWorks/blob/article-search/app/models/eds/repository.rb#L3-L13\\r\\n\\r\\nIt may (or may not) help to reuse Faraday connections using `net-http-persistent` since we're always using the same server for the API. We do that in a few of our internal apps here and it saves some time from not having to set up the secure https connections for each request.\\r\\n\\r\\n```\\r\\n EDS find (483.0ms)\\r\\n EDS search (1613.9ms)\\r\\n EDS search (28.0ms)\\r\\n EDS search (29.3ms)\\r\\n EDS search (1948.6ms)\\r\\n EDS find (490.9ms)\\r\\n EDS search (1858.9ms)\\r\\n EDS find (432.6ms)\\r\\n EDS search (1953.6ms)\\r\\n EDS find (568.3ms)\\r\\n EDS search (2023.2ms)\\r\\n EDS search (1516.0ms)\\r\\n EDS find (412.2ms)\\r\\n EDS search (2396.9ms)\\r\\n EDS search (975.6ms)\\r\\n EDS search (1515.4ms)\\r\\n EDS search (30.3ms)\\r\\n EDS search (2100.4ms)\\r\\n EDS search (1954.3ms)\\r\\n EDS search (1786.4ms)\\r\\n EDS search (1539.5ms)\\r\\n EDS search (1886.4ms)\\r\\n EDS find (905.7ms)\\r\\n EDS search (2247.9ms)\\r\\n EDS find (526.7ms)\\r\\n EDS search (1963.8ms)\\r\\n EDS find (447.8ms)\\r\\n EDS search (2671.3ms)\\r\\n EDS find (1074.6ms)\\r\\n EDS search (5013.2ms)\\r\\n EDS search (2076.8ms)\\r\\n EDS search (28.5ms)\\r\\n EDS find (429.5ms)\\r\\n EDS search (1935.0ms)\\r\\n EDS search (1753.0ms)\\r\\n EDS search (294.0ms)\\r\\n EDS search (2097.3ms)\\r\\n EDS search (1612.0ms)\\r\\n EDS find (599.5ms)\\r\\n EDS search (28.9ms)\\r\\n EDS search (1510.3ms)\\r\\n EDS find (624.8ms)\\r\\n EDS search (1940.6ms)\\r\\n EDS search (1197.3ms)\\r\\n EDS search (1815.7ms)\\r\\n EDS find (709.7ms)\\r\\n EDS search (1395.9ms)\\r\\n EDS search (1185.3ms)\\r\\n EDS search (1197.4ms)\\r\\n EDS find (556.0ms)\\r\\n EDS search (2417.2ms)\\r\\n EDS find (557.9ms)\\r\\n EDS search (2099.4ms)\\r\\n EDS find (457.9ms)\\r\\n EDS search (1991.6ms)\\r\\n EDS search (962.1ms)\\r\\n EDS search (1219.6ms)\\r\\n EDS search (1351.8ms)\\r\\n EDS search (1635.8ms)\\r\\n EDS find (509.7ms)\\r\\n EDS search (1461.9ms)\\r\\n EDS search (1173.9ms)\\r\\n EDS find (489.0ms)\\r\\n EDS search (2180.4ms)\\r\\n EDS search (137.9ms)\\r\\n EDS search (29.2ms)\\r\\n EDS search (36.6ms)\\r\\n EDS search (511.7ms)\\r\\n EDS search (3494.7ms)\\r\\n EDS search (2655.0ms)\\r\\n EDS search (2831.2ms)\\r\\n EDS search (26.8ms)\\r\\n EDS search (2162.1ms)\\r\\n EDS search (1129.3ms)\\r\\n EDS search (2910.1ms)\\r\\n EDS search (1008.8ms)\\r\\n EDS search (846.3ms)\\r\\n EDS search (928.0ms)\\r\\n EDS search (1109.5ms)\\r\\n EDS search (1522.9ms)\\r\\n EDS search (263.2ms)\\r\\n EDS search (3729.6ms)\\r\\n EDS find (1740.1ms)\\r\\n EDS search (2676.9ms)\\r\\n EDS search (3117.8ms)\\r\\n EDS search (73.8ms)\\r\\n EDS search (1528.2ms)\\r\\n EDS find (632.1ms)\\r\\n EDS find (759.9ms)\\r\\n EDS find (848.5ms)\\r\\n EDS find (470.3ms)\\r\\n EDS search (37.9ms)\\r\\n EDS search (4421.3ms)\\r\\n EDS search (4596.5ms)\\r\\n EDS search (3393.2ms)\\r\\n EDS search (41.6ms)\\r\\n EDS search (31.3ms)\\r\\n EDS search (2645.5ms)\\r\\n EDS search (2604.9ms)\\r\\n EDS search (3403.4ms)\\r\\n EDS search (2832.1ms)\\r\\n EDS search (2314.3ms)\\r\\n EDS search (600.4ms)\\r\\n EDS search (38.3ms)\\r\\n EDS search (1540.1ms)\\r\\n EDS search (30.9ms)\\r\\n EDS search (92.3ms)\\r\\n EDS search (26.5ms)\\r\\n EDS search (1279.2ms)\\r\\n EDS search (1100.5ms)\\r\\n EDS search (1705.0ms)\\r\\n EDS search (1425.1ms)\\r\\n EDS find (556.6ms)\\r\\n EDS search (1420.1ms)\\r\\n EDS find (484.6ms)\\r\\n EDS search (1775.6ms)\\r\\n EDS find (634.1ms)\\r\\n EDS search (2729.9ms)\\r\\n EDS find (484.4ms)\\r\\n EDS search (1451.8ms)\\r\\n EDS find (523.0ms)\\r\\n EDS search (1864.1ms)\\r\\n EDS find (656.8ms)\\r\\n EDS search (1456.9ms)\\r\\n EDS find (424.2ms)\\r\\n EDS search (1528.0ms)\\r\\n EDS search (983.6ms)\\r\\n EDS find (519.8ms)\\r\\n EDS search (1450.0ms)\\r\\n EDS search (5835.4ms)\\r\\n EDS search (929.1ms)\\r\\n EDS search (1850.5ms)\\r\\n EDS search (1154.0ms)\\r\\n EDS search (30.8ms)\\r\\n EDS search (13.4ms)\\r\\n EDS search (1077.5ms)\\r\\n EDS find (757.1ms)\\r\\n EDS find (439.7ms)\\r\\n EDS find (413.4ms)\\r\\n EDS find (409.8ms)\\r\\n EDS find (438.3ms)\\r\\n EDS find (409.6ms)\\r\\n EDS search (873.5ms)\\r\\n EDS search (1401.6ms)\\r\\n EDS find (575.9ms)\\r\\n EDS search (1857.4ms)\\r\\n EDS find (1844.7ms)\\r\\n EDS search (26.8ms)\\r\\n EDS search (31.9ms)\\r\\n EDS search (31.3ms)\\r\\n EDS search (27.2ms)\\r\\n EDS search (59.1ms)\\r\\n EDS search (76.3ms)\\r\\n EDS search (28.3ms)\\r\\n EDS search (25.9ms)\\r\\n EDS search (3347.0ms)\\r\\n EDS search (1293.5ms)\\r\\n EDS search (29.1ms)\\r\\n EDS search (1861.4ms)\\r\\n EDS find (519.3ms)\\r\\n EDS search (2625.6ms)\\r\\n EDS search (1935.7ms)\\r\\n EDS search (785.0ms)\\r\\n EDS find (719.3ms)\\r\\n EDS search (2747.8ms)\\r\\n EDS find (788.7ms)\\r\\n EDS search (2003.5ms)\\r\\n EDS search (862.2ms)\\r\\n EDS find (540.3ms)\\r\\n EDS search (1852.5ms)\\r\\n EDS search (1651.1ms)\\r\\n EDS search (1693.3ms)\\r\\n EDS search (1189.5ms)\\r\\n EDS search (29.3ms)\\r\\n EDS search (4954.1ms)\\r\\n EDS search (2118.4ms)\\r\\n EDS search (2785.9ms)\\r\\n EDS search (539.3ms)\\r\\n EDS search (34.7ms)\\r\\n EDS search (32.2ms)\\r\\n EDS search (28.1ms)\\r\\n EDS search (2690.8ms)\\r\\n EDS search (2162.7ms)\\r\\n EDS search (2544.8ms)\\r\\n EDS search (1997.2ms)\\r\\n EDS search (2166.2ms)\\r\\n EDS search (2163.4ms)\\r\\n EDS search (32.2ms)\\r\\n EDS search (704.7ms)\\r\\n EDS search (1886.3ms)\\r\\n EDS search (2320.8ms)\\r\\n EDS search (1929.7ms)\\r\\n EDS search (2932.4ms)\\r\\n EDS search (1895.2ms)\\r\\n```\""
            ],
            "application/vnd.google.colaboratory.intrinsic+json": {
              "type": "string"
            }
          },
          "metadata": {},
          "execution_count": 17
        }
      ]
    },
    {
      "cell_type": "code",
      "source": [
        "issue_body = \"I'm just creating this ticket to track our response time from the EDS gem. In our code we're benchmarking the `Search` and `Retrieve` (find) methods, and below is a few days worth of testing in a production environment with caching enabled. \\r\\n\\r\\nYou can find where these benchmarks are here:\\r\\n\\r\\n   https://github.com/sul-dlss/SearchWorks/blob/article-search/app/models/eds/repository.rb#L3-L13\\r\\n\\r\\nIt may (or may not) help to reuse Faraday connections using `net-http-persistent` since we're always using the same server for the API. We do that in a few of our internal apps here and it saves some time from not having to set up the secure https connections for each request.\\r\\n\\r\\n\\r\\n EDS find (483.0ms)\\r\\n EDS search (1613.9ms)\\r\\n EDS search (28.0ms)\\r\\n EDS search (29.3ms)\\r\\n EDS search (1948.6ms)\\r\\n EDS find (490.9ms)\\r\\n EDS search (1858.9ms)\\r\\n EDS find (432.6ms)\\r\\n EDS search (1953.6ms)\\r\\n EDS find (568.3ms)\\r\\n EDS search (2023.2ms)\\r\\n EDS search (1516.0ms)\\r\\n EDS find (412.2ms)\\r\\n EDS search (2396.9ms)\\r\\n EDS search (975.6ms)\\r\\n EDS search (1515.4ms)\\r\\n EDS search (30.3ms)\\r\\n EDS search (2100.4ms)\\r\\n EDS search (1954.3ms)\\r\\n EDS search (1786.4ms)\\r\\n EDS search (1539.5ms)\\r\\n EDS search (1886.4ms)\\r\\n EDS find (905.7ms)\\r\\n EDS search (2247.9ms)\\r\\n EDS find (526.7ms)\\r\\n EDS search (1963.8ms)\\r\\n EDS find (447.8ms)\\r\\n EDS search (2671.3ms)\\r\\n EDS find (1074.6ms)\\r\\n EDS search (5013.2ms)\\r\\n EDS search (2076.8ms)\\r\\n EDS search (28.5ms)\\r\\n EDS find (429.5ms)\\r\\n EDS search (1935.0ms)\\r\\n EDS search (1753.0ms)\\r\\n EDS search (294.0ms)\\r\\n EDS search (2097.3ms)\\r\\n EDS search (1612.0ms)\\r\\n EDS find (599.5ms)\\r\\n EDS search (28.9ms)\\r\\n EDS search (1510.3ms)\\r\\n EDS find (624.8ms)\\r\\n EDS search (1940.6ms)\\r\\n EDS search (1197.3ms)\\r\\n EDS search (1815.7ms)\\r\\n EDS find (709.7ms)\\r\\n EDS search (1395.9ms)\\r\\n EDS search (1185.3ms)\\r\\n EDS search (1197.4ms)\\r\\n EDS find (556.0ms)\\r\\n EDS search (2417.2ms)\\r\\n EDS find (557.9ms)\\r\\n EDS search (2099.4ms)\\r\\n EDS find (457.9ms)\\r\\n EDS search (1991.6ms)\\r\\n EDS search (962.1ms)\\r\\n EDS search (1219.6ms)\\r\\n EDS search (1351.8ms)\\r\\n EDS search (1635.8ms)\\r\\n EDS find (509.7ms)\\r\\n EDS search (1461.9ms)\\r\\n EDS search (1173.9ms)\\r\\n EDS find (489.0ms)\\r\\n EDS search (2180.4ms)\\r\\n EDS search (137.9ms)\\r\\n EDS search (29.2ms)\\r\\n EDS search (36.6ms)\\r\\n EDS search (511.7ms)\\r\\n EDS search (3494.7ms)\\r\\n EDS search (2655.0ms)\\r\\n EDS search (2831.2ms)\\r\\n EDS search (26.8ms)\\r\\n EDS search (2162.1ms)\\r\\n EDS search (1129.3ms)\\r\\n EDS search (2910.1ms)\\r\\n EDS search (1008.8ms)\\r\\n EDS search (846.3ms)\\r\\n EDS search (928.0ms)\\r\\n EDS search (1109.5ms)\\r\\n EDS search (1522.9ms)\\r\\n EDS search (263.2ms)\\r\\n EDS search (3729.6ms)\\r\\n EDS find (1740.1ms)\\r\\n EDS search (2676.9ms)\\r\\n EDS search (3117.8ms)\\r\\n EDS search (73.8ms)\\r\\n EDS search (1528.2ms)\\r\\n EDS find (632.1ms)\\r\\n EDS find (759.9ms)\\r\\n EDS find (848.5ms)\\r\\n EDS find (470.3ms)\\r\\n EDS search (37.9ms)\\r\\n EDS search (4421.3ms)\\r\\n EDS search (4596.5ms)\\r\\n EDS search (3393.2ms)\\r\\n EDS search (41.6ms)\\r\\n EDS search (31.3ms)\\r\\n EDS search (2645.5ms)\\r\\n EDS search (2604.9ms)\\r\\n EDS search (3403.4ms)\\r\\n EDS search (2832.1ms)\\r\\n EDS search (2314.3ms)\\r\\n EDS search (600.4ms)\\r\\n EDS search (38.3ms)\\r\\n EDS search (1540.1ms)\\r\\n EDS search (30.9ms)\\r\\n EDS search (92.3ms)\\r\\n EDS search (26.5ms)\\r\\n EDS search (1279.2ms)\\r\\n EDS search (1100.5ms)\\r\\n EDS search (1705.0ms)\\r\\n EDS search (1425.1ms)\\r\\n EDS find (556.6ms)\\r\\n EDS search (1420.1ms)\\r\\n EDS find (484.6ms)\\r\\n EDS search (1775.6ms)\\r\\n EDS find (634.1ms)\\r\\n EDS search (2729.9ms)\\r\\n EDS find (484.4ms)\\r\\n EDS search (1451.8ms)\\r\\n EDS find (523.0ms)\\r\\n EDS search (1864.1ms)\\r\\n EDS find (656.8ms)\\r\\n EDS search (1456.9ms)\\r\\n EDS find (424.2ms)\\r\\n EDS search (1528.0ms)\\r\\n EDS search (983.6ms)\\r\\n EDS find (519.8ms)\\r\\n EDS search (1450.0ms)\\r\\n EDS search (5835.4ms)\\r\\n EDS search (929.1ms)\\r\\n EDS search (1850.5ms)\\r\\n EDS search (1154.0ms)\\r\\n EDS search (30.8ms)\\r\\n EDS search (13.4ms)\\r\\n EDS search (1077.5ms)\\r\\n EDS find (757.1ms)\\r\\n EDS find (439.7ms)\\r\\n EDS find (413.4ms)\\r\\n EDS find (409.8ms)\\r\\n EDS find (438.3ms)\\r\\n EDS find (409.6ms)\\r\\n EDS search (873.5ms)\\r\\n EDS search (1401.6ms)\\r\\n EDS find (575.9ms)\\r\\n EDS search (1857.4ms)\\r\\n EDS find (1844.7ms)\\r\\n EDS search (26.8ms)\\r\\n EDS search (31.9ms)\\r\\n EDS search (31.3ms)\\r\\n EDS search (27.2ms)\\r\\n EDS search (59.1ms)\\r\\n EDS search (76.3ms)\\r\\n EDS search (28.3ms)\\r\\n EDS search (25.9ms)\\r\\n EDS search (3347.0ms)\\r\\n EDS search (1293.5ms)\\r\\n EDS search (29.1ms)\\r\\n EDS search (1861.4ms)\\r\\n EDS find (519.3ms)\\r\\n EDS search (2625.6ms)\\r\\n EDS search (1935.7ms)\\r\\n EDS search (785.0ms)\\r\\n EDS find (719.3ms)\\r\\n EDS search (2747.8ms)\\r\\n EDS find (788.7ms)\\r\\n EDS search (2003.5ms)\\r\\n EDS search (862.2ms)\\r\\n EDS find (540.3ms)\\r\\n EDS search (1852.5ms)\\r\\n EDS search (1651.1ms)\\r\\n EDS search (1693.3ms)\\r\\n EDS search (1189.5ms)\\r\\n EDS search (29.3ms)\\r\\n EDS search (4954.1ms)\\r\\n EDS search (2118.4ms)\\r\\n EDS search (2785.9ms)\\r\\n EDS search (539.3ms)\\r\\n EDS search (34.7ms)\\r\\n EDS search (32.2ms)\\r\\n EDS search (28.1ms)\\r\\n EDS search (2690.8ms)\\r\\n EDS search (2162.7ms)\\r\\n EDS search (2544.8ms)\\r\\n EDS search (1997.2ms)\\r\\n EDS search (2166.2ms)\\r\\n EDS search (2163.4ms)\\r\\n EDS search (32.2ms)\\r\\n EDS search (704.7ms)\\r\\n EDS search (1886.3ms)\\r\\n EDS search (2320.8ms)\\r\\n EDS search (1929.7ms)\\r\\n EDS search (2932.4ms)\\r\\n EDS search (1895.2ms)\\r\\n\""
      ],
      "metadata": {
        "id": "jJB-1gGQjYES"
      },
      "execution_count": 19,
      "outputs": []
    },
    {
      "cell_type": "code",
      "source": [
        "from langchain_community.llms import Ollama\n",
        "llm = Ollama(model = \"llama3:70b\", num_ctx=8192, temperature=0)"
      ],
      "metadata": {
        "id": "LJsFNERfjwYa"
      },
      "execution_count": 20,
      "outputs": []
    },
    {
      "cell_type": "code",
      "source": [
        "i = 6660\n",
        "llm.invoke(f\"\"\"Classify the following issue as \"bug\", \"enhancement\", \"question\" or \"other\" and rate your classification confidence and issue understandability in range 0 - 100. Your answer should only include:\n",
        "Classification: your classification answer\n",
        "Prediction Confidence: your level of confidence\n",
        "Issue Understandability: level of understandability\n",
        "Do not provide any explanation.\n",
        "Issue Title: {issue_title}\n",
        "Issue Body: {issue_body}\n",
        "\"\"\")"
      ],
      "metadata": {
        "colab": {
          "base_uri": "https://localhost:8080/",
          "height": 35
        },
        "id": "OcAjkzT_jxfq",
        "outputId": "33d61cb5-cef9-43f2-e036-79eb1a81c20f"
      },
      "execution_count": 21,
      "outputs": [
        {
          "output_type": "execute_result",
          "data": {
            "text/plain": [
              "'Classification: enhancement\\nPrediction Confidence: 80\\nIssue Understandability: , of 90'"
            ],
            "application/vnd.google.colaboratory.intrinsic+json": {
              "type": "string"
            }
          },
          "metadata": {},
          "execution_count": 21
        }
      ]
    }
  ]
}