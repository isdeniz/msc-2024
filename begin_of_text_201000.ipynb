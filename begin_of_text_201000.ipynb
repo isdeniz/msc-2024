{
  "nbformat": 4,
  "nbformat_minor": 0,
  "metadata": {
    "colab": {
      "provenance": [],
      "machine_shape": "hm",
      "gpuType": "A100",
      "authorship_tag": "ABX9TyOKAcgnopS9Auff8cVOa4Ex",
      "include_colab_link": true
    },
    "kernelspec": {
      "name": "python3",
      "display_name": "Python 3"
    },
    "language_info": {
      "name": "python"
    },
    "accelerator": "GPU"
  },
  "cells": [
    {
      "cell_type": "markdown",
      "metadata": {
        "id": "view-in-github",
        "colab_type": "text"
      },
      "source": [
        "<a href=\"https://colab.research.google.com/github/isdeniz/msc-2024/blob/main/begin_of_text_201000.ipynb\" target=\"_parent\"><img src=\"https://colab.research.google.com/assets/colab-badge.svg\" alt=\"Open In Colab\"/></a>"
      ]
    },
    {
      "cell_type": "code",
      "execution_count": 1,
      "metadata": {
        "colab": {
          "base_uri": "https://localhost:8080/"
        },
        "id": "nnmhBh3EMzur",
        "outputId": "b3658c69-0cf5-4a0d-d808-2db1849159d1"
      },
      "outputs": [
        {
          "output_type": "stream",
          "name": "stdout",
          "text": [
            ">>> Downloading ollama...\n",
            "############################################################################################# 100.0%\n",
            ">>> Installing ollama to /usr/local/bin...\n",
            ">>> Creating ollama user...\n",
            ">>> Adding ollama user to video group...\n",
            ">>> Adding current user to ollama group...\n",
            ">>> Creating ollama systemd service...\n",
            "WARNING: Unable to detect NVIDIA/AMD GPU. Install lspci or lshw to automatically detect and install GPU dependencies.\n",
            ">>> The Ollama API is now available at 127.0.0.1:11434.\n",
            ">>> Install complete. Run \"ollama\" from the command line.\n"
          ]
        }
      ],
      "source": [
        "!curl -fsSL https://ollama.com/install.sh | sh"
      ]
    },
    {
      "cell_type": "code",
      "source": [
        "!python3.10 -m pip install langchain"
      ],
      "metadata": {
        "colab": {
          "base_uri": "https://localhost:8080/"
        },
        "id": "b8cILVNqOkis",
        "outputId": "0614585a-16a4-42e1-c582-2a8c3ba64691"
      },
      "execution_count": 2,
      "outputs": [
        {
          "output_type": "stream",
          "name": "stdout",
          "text": [
            "Collecting langchain\n",
            "  Downloading langchain-0.2.14-py3-none-any.whl.metadata (7.1 kB)\n",
            "Requirement already satisfied: PyYAML>=5.3 in /usr/local/lib/python3.10/dist-packages (from langchain) (6.0.2)\n",
            "Requirement already satisfied: SQLAlchemy<3,>=1.4 in /usr/local/lib/python3.10/dist-packages (from langchain) (2.0.32)\n",
            "Requirement already satisfied: aiohttp<4.0.0,>=3.8.3 in /usr/local/lib/python3.10/dist-packages (from langchain) (3.10.2)\n",
            "Requirement already satisfied: async-timeout<5.0.0,>=4.0.0 in /usr/local/lib/python3.10/dist-packages (from langchain) (4.0.3)\n",
            "Collecting langchain-core<0.3.0,>=0.2.32 (from langchain)\n",
            "  Downloading langchain_core-0.2.33-py3-none-any.whl.metadata (6.2 kB)\n",
            "Collecting langchain-text-splitters<0.3.0,>=0.2.0 (from langchain)\n",
            "  Downloading langchain_text_splitters-0.2.2-py3-none-any.whl.metadata (2.1 kB)\n",
            "Collecting langsmith<0.2.0,>=0.1.17 (from langchain)\n",
            "  Downloading langsmith-0.1.99-py3-none-any.whl.metadata (13 kB)\n",
            "Requirement already satisfied: numpy<2,>=1 in /usr/local/lib/python3.10/dist-packages (from langchain) (1.26.4)\n",
            "Requirement already satisfied: pydantic<3,>=1 in /usr/local/lib/python3.10/dist-packages (from langchain) (2.8.2)\n",
            "Requirement already satisfied: requests<3,>=2 in /usr/local/lib/python3.10/dist-packages (from langchain) (2.32.3)\n",
            "Collecting tenacity!=8.4.0,<9.0.0,>=8.1.0 (from langchain)\n",
            "  Downloading tenacity-8.5.0-py3-none-any.whl.metadata (1.2 kB)\n",
            "Requirement already satisfied: aiohappyeyeballs>=2.3.0 in /usr/local/lib/python3.10/dist-packages (from aiohttp<4.0.0,>=3.8.3->langchain) (2.3.5)\n",
            "Requirement already satisfied: aiosignal>=1.1.2 in /usr/local/lib/python3.10/dist-packages (from aiohttp<4.0.0,>=3.8.3->langchain) (1.3.1)\n",
            "Requirement already satisfied: attrs>=17.3.0 in /usr/local/lib/python3.10/dist-packages (from aiohttp<4.0.0,>=3.8.3->langchain) (24.2.0)\n",
            "Requirement already satisfied: frozenlist>=1.1.1 in /usr/local/lib/python3.10/dist-packages (from aiohttp<4.0.0,>=3.8.3->langchain) (1.4.1)\n",
            "Requirement already satisfied: multidict<7.0,>=4.5 in /usr/local/lib/python3.10/dist-packages (from aiohttp<4.0.0,>=3.8.3->langchain) (6.0.5)\n",
            "Requirement already satisfied: yarl<2.0,>=1.0 in /usr/local/lib/python3.10/dist-packages (from aiohttp<4.0.0,>=3.8.3->langchain) (1.9.4)\n",
            "Collecting jsonpatch<2.0,>=1.33 (from langchain-core<0.3.0,>=0.2.32->langchain)\n",
            "  Downloading jsonpatch-1.33-py2.py3-none-any.whl.metadata (3.0 kB)\n",
            "Requirement already satisfied: packaging<25,>=23.2 in /usr/local/lib/python3.10/dist-packages (from langchain-core<0.3.0,>=0.2.32->langchain) (24.1)\n",
            "Requirement already satisfied: typing-extensions>=4.7 in /usr/local/lib/python3.10/dist-packages (from langchain-core<0.3.0,>=0.2.32->langchain) (4.12.2)\n",
            "Collecting orjson<4.0.0,>=3.9.14 (from langsmith<0.2.0,>=0.1.17->langchain)\n",
            "  Downloading orjson-3.10.7-cp310-cp310-manylinux_2_17_x86_64.manylinux2014_x86_64.whl.metadata (50 kB)\n",
            "\u001b[2K     \u001b[90m━━━━━━━━━━━━━━━━━━━━━━━━━━━━━━━━━━━━━━━━\u001b[0m \u001b[32m50.4/50.4 kB\u001b[0m \u001b[31m3.5 MB/s\u001b[0m eta \u001b[36m0:00:00\u001b[0m\n",
            "\u001b[?25hRequirement already satisfied: annotated-types>=0.4.0 in /usr/local/lib/python3.10/dist-packages (from pydantic<3,>=1->langchain) (0.7.0)\n",
            "Requirement already satisfied: pydantic-core==2.20.1 in /usr/local/lib/python3.10/dist-packages (from pydantic<3,>=1->langchain) (2.20.1)\n",
            "Requirement already satisfied: charset-normalizer<4,>=2 in /usr/local/lib/python3.10/dist-packages (from requests<3,>=2->langchain) (3.3.2)\n",
            "Requirement already satisfied: idna<4,>=2.5 in /usr/local/lib/python3.10/dist-packages (from requests<3,>=2->langchain) (3.7)\n",
            "Requirement already satisfied: urllib3<3,>=1.21.1 in /usr/local/lib/python3.10/dist-packages (from requests<3,>=2->langchain) (2.0.7)\n",
            "Requirement already satisfied: certifi>=2017.4.17 in /usr/local/lib/python3.10/dist-packages (from requests<3,>=2->langchain) (2024.7.4)\n",
            "Requirement already satisfied: greenlet!=0.4.17 in /usr/local/lib/python3.10/dist-packages (from SQLAlchemy<3,>=1.4->langchain) (3.0.3)\n",
            "Collecting jsonpointer>=1.9 (from jsonpatch<2.0,>=1.33->langchain-core<0.3.0,>=0.2.32->langchain)\n",
            "  Downloading jsonpointer-3.0.0-py2.py3-none-any.whl.metadata (2.3 kB)\n",
            "Downloading langchain-0.2.14-py3-none-any.whl (997 kB)\n",
            "\u001b[2K   \u001b[90m━━━━━━━━━━━━━━━━━━━━━━━━━━━━━━━━━━━━━━━━\u001b[0m \u001b[32m997.8/997.8 kB\u001b[0m \u001b[31m25.1 MB/s\u001b[0m eta \u001b[36m0:00:00\u001b[0m\n",
            "\u001b[?25hDownloading langchain_core-0.2.33-py3-none-any.whl (391 kB)\n",
            "\u001b[2K   \u001b[90m━━━━━━━━━━━━━━━━━━━━━━━━━━━━━━━━━━━━━━━━\u001b[0m \u001b[32m391.5/391.5 kB\u001b[0m \u001b[31m33.2 MB/s\u001b[0m eta \u001b[36m0:00:00\u001b[0m\n",
            "\u001b[?25hDownloading langchain_text_splitters-0.2.2-py3-none-any.whl (25 kB)\n",
            "Downloading langsmith-0.1.99-py3-none-any.whl (140 kB)\n",
            "\u001b[2K   \u001b[90m━━━━━━━━━━━━━━━━━━━━━━━━━━━━━━━━━━━━━━━━\u001b[0m \u001b[32m140.4/140.4 kB\u001b[0m \u001b[31m14.0 MB/s\u001b[0m eta \u001b[36m0:00:00\u001b[0m\n",
            "\u001b[?25hDownloading tenacity-8.5.0-py3-none-any.whl (28 kB)\n",
            "Downloading jsonpatch-1.33-py2.py3-none-any.whl (12 kB)\n",
            "Downloading orjson-3.10.7-cp310-cp310-manylinux_2_17_x86_64.manylinux2014_x86_64.whl (141 kB)\n",
            "\u001b[2K   \u001b[90m━━━━━━━━━━━━━━━━━━━━━━━━━━━━━━━━━━━━━━━━\u001b[0m \u001b[32m141.9/141.9 kB\u001b[0m \u001b[31m15.5 MB/s\u001b[0m eta \u001b[36m0:00:00\u001b[0m\n",
            "\u001b[?25hDownloading jsonpointer-3.0.0-py2.py3-none-any.whl (7.6 kB)\n",
            "Installing collected packages: tenacity, orjson, jsonpointer, jsonpatch, langsmith, langchain-core, langchain-text-splitters, langchain\n",
            "  Attempting uninstall: tenacity\n",
            "    Found existing installation: tenacity 9.0.0\n",
            "    Uninstalling tenacity-9.0.0:\n",
            "      Successfully uninstalled tenacity-9.0.0\n",
            "Successfully installed jsonpatch-1.33 jsonpointer-3.0.0 langchain-0.2.14 langchain-core-0.2.33 langchain-text-splitters-0.2.2 langsmith-0.1.99 orjson-3.10.7 tenacity-8.5.0\n"
          ]
        }
      ]
    },
    {
      "cell_type": "code",
      "source": [
        "!python3.10 -m pip install langchain-core"
      ],
      "metadata": {
        "colab": {
          "base_uri": "https://localhost:8080/"
        },
        "id": "8qGJ85NZOpF7",
        "outputId": "7e6a2f8c-0cb0-4119-9b3d-fb83ab2bd27c"
      },
      "execution_count": 3,
      "outputs": [
        {
          "output_type": "stream",
          "name": "stdout",
          "text": [
            "Requirement already satisfied: langchain-core in /usr/local/lib/python3.10/dist-packages (0.2.33)\n",
            "Requirement already satisfied: PyYAML>=5.3 in /usr/local/lib/python3.10/dist-packages (from langchain-core) (6.0.2)\n",
            "Requirement already satisfied: jsonpatch<2.0,>=1.33 in /usr/local/lib/python3.10/dist-packages (from langchain-core) (1.33)\n",
            "Requirement already satisfied: langsmith<0.2.0,>=0.1.75 in /usr/local/lib/python3.10/dist-packages (from langchain-core) (0.1.99)\n",
            "Requirement already satisfied: packaging<25,>=23.2 in /usr/local/lib/python3.10/dist-packages (from langchain-core) (24.1)\n",
            "Requirement already satisfied: pydantic<3,>=1 in /usr/local/lib/python3.10/dist-packages (from langchain-core) (2.8.2)\n",
            "Requirement already satisfied: tenacity!=8.4.0,<9.0.0,>=8.1.0 in /usr/local/lib/python3.10/dist-packages (from langchain-core) (8.5.0)\n",
            "Requirement already satisfied: typing-extensions>=4.7 in /usr/local/lib/python3.10/dist-packages (from langchain-core) (4.12.2)\n",
            "Requirement already satisfied: jsonpointer>=1.9 in /usr/local/lib/python3.10/dist-packages (from jsonpatch<2.0,>=1.33->langchain-core) (3.0.0)\n",
            "Requirement already satisfied: orjson<4.0.0,>=3.9.14 in /usr/local/lib/python3.10/dist-packages (from langsmith<0.2.0,>=0.1.75->langchain-core) (3.10.7)\n",
            "Requirement already satisfied: requests<3,>=2 in /usr/local/lib/python3.10/dist-packages (from langsmith<0.2.0,>=0.1.75->langchain-core) (2.32.3)\n",
            "Requirement already satisfied: annotated-types>=0.4.0 in /usr/local/lib/python3.10/dist-packages (from pydantic<3,>=1->langchain-core) (0.7.0)\n",
            "Requirement already satisfied: pydantic-core==2.20.1 in /usr/local/lib/python3.10/dist-packages (from pydantic<3,>=1->langchain-core) (2.20.1)\n",
            "Requirement already satisfied: charset-normalizer<4,>=2 in /usr/local/lib/python3.10/dist-packages (from requests<3,>=2->langsmith<0.2.0,>=0.1.75->langchain-core) (3.3.2)\n",
            "Requirement already satisfied: idna<4,>=2.5 in /usr/local/lib/python3.10/dist-packages (from requests<3,>=2->langsmith<0.2.0,>=0.1.75->langchain-core) (3.7)\n",
            "Requirement already satisfied: urllib3<3,>=1.21.1 in /usr/local/lib/python3.10/dist-packages (from requests<3,>=2->langsmith<0.2.0,>=0.1.75->langchain-core) (2.0.7)\n",
            "Requirement already satisfied: certifi>=2017.4.17 in /usr/local/lib/python3.10/dist-packages (from requests<3,>=2->langsmith<0.2.0,>=0.1.75->langchain-core) (2024.7.4)\n"
          ]
        }
      ]
    },
    {
      "cell_type": "code",
      "source": [
        "!python3.10 -m pip install langchain-community"
      ],
      "metadata": {
        "colab": {
          "base_uri": "https://localhost:8080/"
        },
        "id": "3a_5o2vzOrAR",
        "outputId": "2e106494-94ea-4911-99ba-4fde517f5bdb"
      },
      "execution_count": 4,
      "outputs": [
        {
          "output_type": "stream",
          "name": "stdout",
          "text": [
            "Collecting langchain-community\n",
            "  Downloading langchain_community-0.2.12-py3-none-any.whl.metadata (2.7 kB)\n",
            "Requirement already satisfied: PyYAML>=5.3 in /usr/local/lib/python3.10/dist-packages (from langchain-community) (6.0.2)\n",
            "Requirement already satisfied: SQLAlchemy<3,>=1.4 in /usr/local/lib/python3.10/dist-packages (from langchain-community) (2.0.32)\n",
            "Requirement already satisfied: aiohttp<4.0.0,>=3.8.3 in /usr/local/lib/python3.10/dist-packages (from langchain-community) (3.10.2)\n",
            "Collecting dataclasses-json<0.7,>=0.5.7 (from langchain-community)\n",
            "  Downloading dataclasses_json-0.6.7-py3-none-any.whl.metadata (25 kB)\n",
            "Requirement already satisfied: langchain<0.3.0,>=0.2.13 in /usr/local/lib/python3.10/dist-packages (from langchain-community) (0.2.14)\n",
            "Requirement already satisfied: langchain-core<0.3.0,>=0.2.30 in /usr/local/lib/python3.10/dist-packages (from langchain-community) (0.2.33)\n",
            "Requirement already satisfied: langsmith<0.2.0,>=0.1.0 in /usr/local/lib/python3.10/dist-packages (from langchain-community) (0.1.99)\n",
            "Requirement already satisfied: numpy<2,>=1 in /usr/local/lib/python3.10/dist-packages (from langchain-community) (1.26.4)\n",
            "Requirement already satisfied: requests<3,>=2 in /usr/local/lib/python3.10/dist-packages (from langchain-community) (2.32.3)\n",
            "Requirement already satisfied: tenacity!=8.4.0,<9.0.0,>=8.1.0 in /usr/local/lib/python3.10/dist-packages (from langchain-community) (8.5.0)\n",
            "Requirement already satisfied: aiohappyeyeballs>=2.3.0 in /usr/local/lib/python3.10/dist-packages (from aiohttp<4.0.0,>=3.8.3->langchain-community) (2.3.5)\n",
            "Requirement already satisfied: aiosignal>=1.1.2 in /usr/local/lib/python3.10/dist-packages (from aiohttp<4.0.0,>=3.8.3->langchain-community) (1.3.1)\n",
            "Requirement already satisfied: attrs>=17.3.0 in /usr/local/lib/python3.10/dist-packages (from aiohttp<4.0.0,>=3.8.3->langchain-community) (24.2.0)\n",
            "Requirement already satisfied: frozenlist>=1.1.1 in /usr/local/lib/python3.10/dist-packages (from aiohttp<4.0.0,>=3.8.3->langchain-community) (1.4.1)\n",
            "Requirement already satisfied: multidict<7.0,>=4.5 in /usr/local/lib/python3.10/dist-packages (from aiohttp<4.0.0,>=3.8.3->langchain-community) (6.0.5)\n",
            "Requirement already satisfied: yarl<2.0,>=1.0 in /usr/local/lib/python3.10/dist-packages (from aiohttp<4.0.0,>=3.8.3->langchain-community) (1.9.4)\n",
            "Requirement already satisfied: async-timeout<5.0,>=4.0 in /usr/local/lib/python3.10/dist-packages (from aiohttp<4.0.0,>=3.8.3->langchain-community) (4.0.3)\n",
            "Collecting marshmallow<4.0.0,>=3.18.0 (from dataclasses-json<0.7,>=0.5.7->langchain-community)\n",
            "  Downloading marshmallow-3.21.3-py3-none-any.whl.metadata (7.1 kB)\n",
            "Collecting typing-inspect<1,>=0.4.0 (from dataclasses-json<0.7,>=0.5.7->langchain-community)\n",
            "  Downloading typing_inspect-0.9.0-py3-none-any.whl.metadata (1.5 kB)\n",
            "Requirement already satisfied: langchain-text-splitters<0.3.0,>=0.2.0 in /usr/local/lib/python3.10/dist-packages (from langchain<0.3.0,>=0.2.13->langchain-community) (0.2.2)\n",
            "Requirement already satisfied: pydantic<3,>=1 in /usr/local/lib/python3.10/dist-packages (from langchain<0.3.0,>=0.2.13->langchain-community) (2.8.2)\n",
            "Requirement already satisfied: jsonpatch<2.0,>=1.33 in /usr/local/lib/python3.10/dist-packages (from langchain-core<0.3.0,>=0.2.30->langchain-community) (1.33)\n",
            "Requirement already satisfied: packaging<25,>=23.2 in /usr/local/lib/python3.10/dist-packages (from langchain-core<0.3.0,>=0.2.30->langchain-community) (24.1)\n",
            "Requirement already satisfied: typing-extensions>=4.7 in /usr/local/lib/python3.10/dist-packages (from langchain-core<0.3.0,>=0.2.30->langchain-community) (4.12.2)\n",
            "Requirement already satisfied: orjson<4.0.0,>=3.9.14 in /usr/local/lib/python3.10/dist-packages (from langsmith<0.2.0,>=0.1.0->langchain-community) (3.10.7)\n",
            "Requirement already satisfied: charset-normalizer<4,>=2 in /usr/local/lib/python3.10/dist-packages (from requests<3,>=2->langchain-community) (3.3.2)\n",
            "Requirement already satisfied: idna<4,>=2.5 in /usr/local/lib/python3.10/dist-packages (from requests<3,>=2->langchain-community) (3.7)\n",
            "Requirement already satisfied: urllib3<3,>=1.21.1 in /usr/local/lib/python3.10/dist-packages (from requests<3,>=2->langchain-community) (2.0.7)\n",
            "Requirement already satisfied: certifi>=2017.4.17 in /usr/local/lib/python3.10/dist-packages (from requests<3,>=2->langchain-community) (2024.7.4)\n",
            "Requirement already satisfied: greenlet!=0.4.17 in /usr/local/lib/python3.10/dist-packages (from SQLAlchemy<3,>=1.4->langchain-community) (3.0.3)\n",
            "Requirement already satisfied: jsonpointer>=1.9 in /usr/local/lib/python3.10/dist-packages (from jsonpatch<2.0,>=1.33->langchain-core<0.3.0,>=0.2.30->langchain-community) (3.0.0)\n",
            "Requirement already satisfied: annotated-types>=0.4.0 in /usr/local/lib/python3.10/dist-packages (from pydantic<3,>=1->langchain<0.3.0,>=0.2.13->langchain-community) (0.7.0)\n",
            "Requirement already satisfied: pydantic-core==2.20.1 in /usr/local/lib/python3.10/dist-packages (from pydantic<3,>=1->langchain<0.3.0,>=0.2.13->langchain-community) (2.20.1)\n",
            "Collecting mypy-extensions>=0.3.0 (from typing-inspect<1,>=0.4.0->dataclasses-json<0.7,>=0.5.7->langchain-community)\n",
            "  Downloading mypy_extensions-1.0.0-py3-none-any.whl.metadata (1.1 kB)\n",
            "Downloading langchain_community-0.2.12-py3-none-any.whl (2.3 MB)\n",
            "\u001b[2K   \u001b[90m━━━━━━━━━━━━━━━━━━━━━━━━━━━━━━━━━━━━━━━━\u001b[0m \u001b[32m2.3/2.3 MB\u001b[0m \u001b[31m44.4 MB/s\u001b[0m eta \u001b[36m0:00:00\u001b[0m\n",
            "\u001b[?25hDownloading dataclasses_json-0.6.7-py3-none-any.whl (28 kB)\n",
            "Downloading marshmallow-3.21.3-py3-none-any.whl (49 kB)\n",
            "\u001b[2K   \u001b[90m━━━━━━━━━━━━━━━━━━━━━━━━━━━━━━━━━━━━━━━━\u001b[0m \u001b[32m49.2/49.2 kB\u001b[0m \u001b[31m4.5 MB/s\u001b[0m eta \u001b[36m0:00:00\u001b[0m\n",
            "\u001b[?25hDownloading typing_inspect-0.9.0-py3-none-any.whl (8.8 kB)\n",
            "Downloading mypy_extensions-1.0.0-py3-none-any.whl (4.7 kB)\n",
            "Installing collected packages: mypy-extensions, marshmallow, typing-inspect, dataclasses-json, langchain-community\n",
            "Successfully installed dataclasses-json-0.6.7 langchain-community-0.2.12 marshmallow-3.21.3 mypy-extensions-1.0.0 typing-inspect-0.9.0\n"
          ]
        }
      ]
    },
    {
      "cell_type": "code",
      "source": [
        "from langchain_community.llms import Ollama\n",
        "llm = Ollama(model = \"llama3:70b\", num_ctx=8192, temperature=0)"
      ],
      "metadata": {
        "id": "f34eDjbdOudM"
      },
      "execution_count": 5,
      "outputs": []
    },
    {
      "cell_type": "code",
      "source": [
        "pip install tqdm"
      ],
      "metadata": {
        "colab": {
          "base_uri": "https://localhost:8080/"
        },
        "id": "LvvI3V8IOxUq",
        "outputId": "48e18303-701e-44ff-be39-3cb75e62ce29"
      },
      "execution_count": 6,
      "outputs": [
        {
          "output_type": "stream",
          "name": "stdout",
          "text": [
            "Requirement already satisfied: tqdm in /usr/local/lib/python3.10/dist-packages (4.66.5)\n"
          ]
        }
      ]
    },
    {
      "cell_type": "code",
      "source": [
        "import pandas as pd\n",
        "from tqdm import tqdm\n",
        "import numpy as np"
      ],
      "metadata": {
        "id": "fDQDioUCOzur"
      },
      "execution_count": 7,
      "outputs": []
    },
    {
      "cell_type": "code",
      "source": [
        "test_sample = pd.read_pickle('data/to_check_70B_confidence_begin_of_text_201.pkl')\n",
        "print('Number of issues: ', test_sample.shape)"
      ],
      "metadata": {
        "colab": {
          "base_uri": "https://localhost:8080/"
        },
        "id": "kuh1xzowO17o",
        "outputId": "21e4e139-1b86-418b-a448-ad36664602fc"
      },
      "execution_count": 8,
      "outputs": [
        {
          "output_type": "stream",
          "name": "stdout",
          "text": [
            "Number of issues:  (1, 22)\n"
          ]
        }
      ]
    },
    {
      "cell_type": "code",
      "source": [
        "test_sample.head()"
      ],
      "metadata": {
        "colab": {
          "base_uri": "https://localhost:8080/",
          "height": 180
        },
        "id": "JiOqrYD1PD9y",
        "outputId": "c55fd14e-f3f6-4aaa-f703-8ebe5ad1ffae"
      },
      "execution_count": 9,
      "outputs": [
        {
          "output_type": "execute_result",
          "data": {
            "text/plain": [
              "      index                               original_issue_title  \\\n",
              "1733   2595  Web UI service search function filtering faile...   \n",
              "\n",
              "                                     preprocessed_title  \\\n",
              "1733  web ui service search function filtering faile...   \n",
              "\n",
              "                                    original_issue_body  \\\n",
              "1733   ![image](https://user-images.githubuserconten...   \n",
              "\n",
              "                                      preprocessed_body        original_label  \\\n",
              "1733  image https user images.githubusercontent.com ...  ['bug', 'TBD', 'UI']   \n",
              "\n",
              "                                                   text issue_label  labels  \\\n",
              "1733  time 2020-12-02T06:00:19Z author NONE repo apa...         bug       0   \n",
              "\n",
              "     roberta_prediction  ... llama3_8b_classification  \\\n",
              "1733           question  ...                      bug   \n",
              "\n",
              "     llama3_8b_classification_corrected llama3_8b_confidence  \\\n",
              "1733                                bug                   80   \n",
              "\n",
              "     llama3_8b_confidence_corrected llama3_8b_understandability  \\\n",
              "1733                             80                          90   \n",
              "\n",
              "     llama3_8b_understandability_corrected round2_8b  \\\n",
              "1733                                    90     False   \n",
              "\n",
              "     llama3_70b_classification  llama3_70b_classification_corrected  \\\n",
              "1733                       bug                                  bug   \n",
              "\n",
              "       llama3_70b_confidence  \n",
              "1733  <|begin_of_text|>20100  \n",
              "\n",
              "[1 rows x 22 columns]"
            ],
            "text/html": [
              "\n",
              "  <div id=\"df-3d2d976c-2e66-44c1-af8b-66e7da63c467\" class=\"colab-df-container\">\n",
              "    <div>\n",
              "<style scoped>\n",
              "    .dataframe tbody tr th:only-of-type {\n",
              "        vertical-align: middle;\n",
              "    }\n",
              "\n",
              "    .dataframe tbody tr th {\n",
              "        vertical-align: top;\n",
              "    }\n",
              "\n",
              "    .dataframe thead th {\n",
              "        text-align: right;\n",
              "    }\n",
              "</style>\n",
              "<table border=\"1\" class=\"dataframe\">\n",
              "  <thead>\n",
              "    <tr style=\"text-align: right;\">\n",
              "      <th></th>\n",
              "      <th>index</th>\n",
              "      <th>original_issue_title</th>\n",
              "      <th>preprocessed_title</th>\n",
              "      <th>original_issue_body</th>\n",
              "      <th>preprocessed_body</th>\n",
              "      <th>original_label</th>\n",
              "      <th>text</th>\n",
              "      <th>issue_label</th>\n",
              "      <th>labels</th>\n",
              "      <th>roberta_prediction</th>\n",
              "      <th>...</th>\n",
              "      <th>llama3_8b_classification</th>\n",
              "      <th>llama3_8b_classification_corrected</th>\n",
              "      <th>llama3_8b_confidence</th>\n",
              "      <th>llama3_8b_confidence_corrected</th>\n",
              "      <th>llama3_8b_understandability</th>\n",
              "      <th>llama3_8b_understandability_corrected</th>\n",
              "      <th>round2_8b</th>\n",
              "      <th>llama3_70b_classification</th>\n",
              "      <th>llama3_70b_classification_corrected</th>\n",
              "      <th>llama3_70b_confidence</th>\n",
              "    </tr>\n",
              "  </thead>\n",
              "  <tbody>\n",
              "    <tr>\n",
              "      <th>1733</th>\n",
              "      <td>2595</td>\n",
              "      <td>Web UI service search function filtering faile...</td>\n",
              "      <td>web ui service search function filtering faile...</td>\n",
              "      <td>![image](https://user-images.githubuserconten...</td>\n",
              "      <td>image https user images.githubusercontent.com ...</td>\n",
              "      <td>['bug', 'TBD', 'UI']</td>\n",
              "      <td>time 2020-12-02T06:00:19Z author NONE repo apa...</td>\n",
              "      <td>bug</td>\n",
              "      <td>0</td>\n",
              "      <td>question</td>\n",
              "      <td>...</td>\n",
              "      <td>bug</td>\n",
              "      <td>bug</td>\n",
              "      <td>80</td>\n",
              "      <td>80</td>\n",
              "      <td>90</td>\n",
              "      <td>90</td>\n",
              "      <td>False</td>\n",
              "      <td>bug</td>\n",
              "      <td>bug</td>\n",
              "      <td>&lt;|begin_of_text|&gt;20100</td>\n",
              "    </tr>\n",
              "  </tbody>\n",
              "</table>\n",
              "<p>1 rows × 22 columns</p>\n",
              "</div>\n",
              "    <div class=\"colab-df-buttons\">\n",
              "\n",
              "  <div class=\"colab-df-container\">\n",
              "    <button class=\"colab-df-convert\" onclick=\"convertToInteractive('df-3d2d976c-2e66-44c1-af8b-66e7da63c467')\"\n",
              "            title=\"Convert this dataframe to an interactive table.\"\n",
              "            style=\"display:none;\">\n",
              "\n",
              "  <svg xmlns=\"http://www.w3.org/2000/svg\" height=\"24px\" viewBox=\"0 -960 960 960\">\n",
              "    <path d=\"M120-120v-720h720v720H120Zm60-500h600v-160H180v160Zm220 220h160v-160H400v160Zm0 220h160v-160H400v160ZM180-400h160v-160H180v160Zm440 0h160v-160H620v160ZM180-180h160v-160H180v160Zm440 0h160v-160H620v160Z\"/>\n",
              "  </svg>\n",
              "    </button>\n",
              "\n",
              "  <style>\n",
              "    .colab-df-container {\n",
              "      display:flex;\n",
              "      gap: 12px;\n",
              "    }\n",
              "\n",
              "    .colab-df-convert {\n",
              "      background-color: #E8F0FE;\n",
              "      border: none;\n",
              "      border-radius: 50%;\n",
              "      cursor: pointer;\n",
              "      display: none;\n",
              "      fill: #1967D2;\n",
              "      height: 32px;\n",
              "      padding: 0 0 0 0;\n",
              "      width: 32px;\n",
              "    }\n",
              "\n",
              "    .colab-df-convert:hover {\n",
              "      background-color: #E2EBFA;\n",
              "      box-shadow: 0px 1px 2px rgba(60, 64, 67, 0.3), 0px 1px 3px 1px rgba(60, 64, 67, 0.15);\n",
              "      fill: #174EA6;\n",
              "    }\n",
              "\n",
              "    .colab-df-buttons div {\n",
              "      margin-bottom: 4px;\n",
              "    }\n",
              "\n",
              "    [theme=dark] .colab-df-convert {\n",
              "      background-color: #3B4455;\n",
              "      fill: #D2E3FC;\n",
              "    }\n",
              "\n",
              "    [theme=dark] .colab-df-convert:hover {\n",
              "      background-color: #434B5C;\n",
              "      box-shadow: 0px 1px 3px 1px rgba(0, 0, 0, 0.15);\n",
              "      filter: drop-shadow(0px 1px 2px rgba(0, 0, 0, 0.3));\n",
              "      fill: #FFFFFF;\n",
              "    }\n",
              "  </style>\n",
              "\n",
              "    <script>\n",
              "      const buttonEl =\n",
              "        document.querySelector('#df-3d2d976c-2e66-44c1-af8b-66e7da63c467 button.colab-df-convert');\n",
              "      buttonEl.style.display =\n",
              "        google.colab.kernel.accessAllowed ? 'block' : 'none';\n",
              "\n",
              "      async function convertToInteractive(key) {\n",
              "        const element = document.querySelector('#df-3d2d976c-2e66-44c1-af8b-66e7da63c467');\n",
              "        const dataTable =\n",
              "          await google.colab.kernel.invokeFunction('convertToInteractive',\n",
              "                                                    [key], {});\n",
              "        if (!dataTable) return;\n",
              "\n",
              "        const docLinkHtml = 'Like what you see? Visit the ' +\n",
              "          '<a target=\"_blank\" href=https://colab.research.google.com/notebooks/data_table.ipynb>data table notebook</a>'\n",
              "          + ' to learn more about interactive tables.';\n",
              "        element.innerHTML = '';\n",
              "        dataTable['output_type'] = 'display_data';\n",
              "        await google.colab.output.renderOutput(dataTable, element);\n",
              "        const docLink = document.createElement('div');\n",
              "        docLink.innerHTML = docLinkHtml;\n",
              "        element.appendChild(docLink);\n",
              "      }\n",
              "    </script>\n",
              "  </div>\n",
              "\n",
              "\n",
              "    </div>\n",
              "  </div>\n"
            ],
            "application/vnd.google.colaboratory.intrinsic+json": {
              "type": "dataframe",
              "variable_name": "test_sample"
            }
          },
          "metadata": {},
          "execution_count": 9
        }
      ]
    },
    {
      "cell_type": "code",
      "source": [
        "i = 1733\n",
        "llm.invoke(f\"\"\"Classify the following issue as \"bug\", \"enhancement\", \"question\" or \"other\" and rate your classification confidence and issue understandability in range 0 - 100. Your answer should only include:\n",
        "Classification: your classification answer\n",
        "Prediction Confidence: your level of confidence\n",
        "Issue Understandability: level of understandability\n",
        "Do not provide any explanation.\n",
        "Issue Title: {test_sample.loc[i,'original_issue_title']}\n",
        "Issue Body: {test_sample.loc[i,'original_issue_body']}\n",
        "\"\"\")"
      ],
      "metadata": {
        "colab": {
          "base_uri": "https://localhost:8080/",
          "height": 52
        },
        "id": "HbPjQGG8PJa2",
        "outputId": "8bab2250-8d46-49ba-ee61-0b912856878a"
      },
      "execution_count": 10,
      "outputs": [
        {
          "output_type": "execute_result",
          "data": {
            "text/plain": [
              "'Classification: bug\\nPrediction Confidence: <|begin_of_text|>20100\\nIssue Understandability:  (the issue is well-written and easy to understand)'"
            ],
            "application/vnd.google.colaboratory.intrinsic+json": {
              "type": "string"
            }
          },
          "metadata": {},
          "execution_count": 10
        }
      ]
    },
    {
      "cell_type": "code",
      "source": [
        "test_sample.loc[i,'original_issue_title']"
      ],
      "metadata": {
        "colab": {
          "base_uri": "https://localhost:8080/",
          "height": 52
        },
        "id": "vopypnAvPnpk",
        "outputId": "f8656f18-29d5-44e4-d5f8-a189cb58c447"
      },
      "execution_count": 11,
      "outputs": [
        {
          "output_type": "execute_result",
          "data": {
            "text/plain": [
              "'Web UI service search function filtering failed.Reason: JS reported an error '"
            ],
            "application/vnd.google.colaboratory.intrinsic+json": {
              "type": "string"
            }
          },
          "metadata": {},
          "execution_count": 11
        }
      ]
    },
    {
      "cell_type": "code",
      "source": [
        "test_sample.loc[i,'original_issue_body']"
      ],
      "metadata": {
        "colab": {
          "base_uri": "https://localhost:8080/",
          "height": 1000
        },
        "id": "rxo2oHHWPqeP",
        "outputId": "0aff6d8b-1295-40f8-a71f-33a19b84eb69"
      },
      "execution_count": 12,
      "outputs": [
        {
          "output_type": "execute_result",
          "data": {
            "text/plain": [
              "' ![image](https://user-images.githubusercontent.com/23110635/100834216-7a89d180-34a6-11eb-9d99-ea25c2db41b6.png)\\r\\n![image](https://user-images.githubusercontent.com/23110635/100834264-91c8bf00-34a6-11eb-95ea-793e7d04df5b.png)\\r\\n\\r\\n\\r\\n---\\r\\n12.4 New Clues:\\r\\n\\r\\nBelow is a list json data of the production environment：\\r\\n\\r\\n{\\r\\n\\r\\n    \"data\": {\\r\\n        \"services\": [\\r\\n            {\\r\\n                \"key\": \"eWRqaWFfeWRqaWEtb3BlcmF0ZS5qYXI=.1\",\\r\\n                \"label\": \"ydjia_ydjia-operate.jar\"\\r\\n            },\\r\\n            {\\r\\n                \"key\": \"bWlkZGxlX2h5ZGVlLW1pZGRsZS1wYXltZW50Lmphcg==.1\",\\r\\n                \"label\": \"middle_hydee-middle-payment.jar\"\\r\\n            },\\r\\n            {\\r\\n                \"key\": \"eWRqaWFfeWRqaWEtbWVyY2hhbnQtY3VzdG9tZXIuamFy.1\",\\r\\n                \"label\": \"ydjia_ydjia-merchant-customer.jar\"\\r\\n            },\\r\\n            {\\r\\n                \"key\": \"bWlkZGxlX2h5ZGVlLW1pZGRsZS10aGlyZC5qYXI=.1\",\\r\\n                \"label\": \"middle_hydee-middle-third.jar\"\\r\\n            },\\r\\n            {\\r\\n                \"key\": \"eWRqaWFfeWRqaWEtbWVyY2hhbnQtcHJvbW90ZS5qYXI=.1\",\\r\\n                \"label\": \"ydjia_ydjia-merchant-promote.jar\"\\r\\n            },\\r\\n            {\\r\\n                \"key\": \"aHlkZWVfaHlkZWUtc3AtcGxhdGZvcm0uamFy.1\",\\r\\n                \"label\": \"hydee_hydee-sp-platform.jar\"\\r\\n            },\\r\\n            {\\r\\n                \"key\": \"bWlkZGxlX2h5ZGVlLWxpdmUtc2VydmljZS5qYXI=.1\",\\r\\n                \"label\": \"middle_hydee-live-service.jar\"\\r\\n            },\\r\\n            {\\r\\n                \"key\": \"eG1faHlkZWUtZXd4LWhvbmV5Lmphcg==.1\",\\r\\n                \"label\": \"xm_hydee-ewx-honey.jar\"\\r\\n            },\\r\\n            {\\r\\n                \"key\": \"eWRqaWFfeWRqaWEtbWVyY2hhbnQtbWFuYWdlci5qYXI=.1\",\\r\\n                \"label\": \"ydjia_ydjia-merchant-manager.jar\"\\r\\n            },\\r\\n            {\\r\\n                \"key\": \"bWlkZGxlX2h5ZGVlLW1pZGRsZS1taWdyYXRlLmphcg==.1\",\\r\\n                \"label\": \"middle_hydee-middle-migrate.jar\"\\r\\n            },\\r\\n            {\\r\\n                \"key\": \"bWlkZGxlX3lkamlhLXNybS1nb29kcy5qYXI=.1\",\\r\\n                \"label\": \"middle_ydjia-srm-goods.jar\"\\r\\n            },\\r\\n            {\\r\\n                \"key\": \"bWlkZGxlX21pZGRsZS1kYXRhc3luYy1tZXNzYWdlLmphcg==.1\",\\r\\n                \"label\": \"middle_middle-datasync-message.jar\"\\r\\n            },\\r\\n            {\\r\\n                \"key\": \"bWlkZGxlX2h5ZGVlLW1pZGRsZS1iYWxhbmNlLmphcg==.1\",\\r\\n                \"label\": \"middle_hydee-middle-balance.jar\"\\r\\n            },\\r\\n            {\\r\\n                \"key\": \"bWlkZGxlX2h5ZGVlLXh4bC1qb2IuamFy.1\",\\r\\n                \"label\": \"middle_hydee-xxl-job.jar\"\\r\\n            },\\r\\n            {\\r\\n                \"key\": \"bWlkZGxlX21pZGRsZS1pZC5qYXI=.1\",\\r\\n                \"label\": \"middle_middle-id.jar\"\\r\\n            },\\r\\n            {\\r\\n                \"key\": \"bWlkZGxlX29hdXRoLmphcg==.1\",\\r\\n                \"label\": \"middle_oauth.jar\"\\r\\n            },\\r\\n            {\\r\\n                \"key\": \"ZHNjbG91ZF9oeWRlZS1idXNpbmVzcy1vcmRlci5qYXI=.1\",\\r\\n                \"label\": \"dscloud_hydee-business-order.jar\"\\r\\n            },\\r\\n            {\\r\\n                \"key\": \"bWlkZGxlX2h5ZGVlLWVzLXN5bmMuamFy.1\",\\r\\n                \"label\": \"middle_hydee-es-sync.jar\"\\r\\n            },\\r\\n            {\\r\\n                \"key\": \"bWlkZGxlX2h5ZGVlLW1pZGRsZS1tZXJjaGFuZGlzZS5qYXI=.1\",\\r\\n                \"label\": \"middle_hydee-middle-merchandise.jar\"\\r\\n            },\\r\\n            {\\r\\n                \"key\": \"eG1faHlkZWUtZXd4LXNlcnZpY2UuamFy.1\",\\r\\n                \"label\": \"xm_hydee-ewx-service.jar\"\\r\\n            },\\r\\n            {\\r\\n                \"key\": \"bWlkZGxlX2h5ZGVlLW1pZGRsZS1tYXJrZXQuamFy.1\",\\r\\n                \"label\": \"middle_hydee-middle-market.jar\"\\r\\n            },\\r\\n            {\\r\\n                \"key\": \"bWlkZGxlX2h5ZGVlLW1pZGRsZS1tZW1iZXIuamFy.1\",\\r\\n                \"label\": \"middle_hydee-middle-member.jar\"\\r\\n            },\\r\\n            {\\r\\n                \"key\": \"bWlkZGxlX2h5ZGVlLW1pZGRsZS1zeW5jZXJwLmphcg==.1\",\\r\\n                \"label\": \"middle_hydee-middle-syncerp.jar\"\\r\\n            },\\r\\n            {\\r\\n                \"key\": \"bWlkZGxlX2J1c2luZXNzZXMtZ2F0ZXdheS5qYXI=.1\",\\r\\n                \"label\": \"middle_businesses-gateway.jar\"\\r\\n            },\\r\\n            {\\r\\n                \"key\": \"bWlkZGxlX2h5ZGVlLW1pZGRsZS1iYXNlaW5mby5qYXI=.1\",\\r\\n                \"label\": \"middle_hydee-middle-baseinfo.jar\"\\r\\n            },\\r\\n            {\\r\\n                \"key\": \"eWRqaWFfeWRqaWEtcmVwb3J0Lmphcg==.1\",\\r\\n                \"label\": \"ydjia_ydjia-report.jar\"\\r\\n            },\\r\\n            {\\r\\n                \"key\": \"bWlkZGxlX2h5ZGVlLW1pZGRsZS1zZHAuamFy.1\",\\r\\n                \"label\": \"middle_hydee-middle-sdp.jar\"\\r\\n            },\\r\\n            {\\r\\n                \"key\": \"eWRqaWFfeWRqaWEtbWVyY2hhbnQtcGxhdGZvcm0uamFy.1\",\\r\\n                \"label\": \"ydjia_ydjia-merchant-platform.jar\"\\r\\n            },\\r\\n            {\\r\\n                \"key\": \"bWlkZGxlX2h5ZGVlLW1pZGRsZS1vcmRlci5qYXI=.1\",\\r\\n                \"label\": \"middle_hydee-middle-order.jar\"\\r\\n            },\\r\\n            {\\r\\n                \"key\": \"eWRqaWFfeWRqaWEtbWVyY2hhbnQtcGxhdGZvcm0uamFy.1\",\\r\\n                \"label\": \"ydjia_ydjia-merchant-platform.jar\"\\r\\n            },\\r\\n            {\\r\\n                \"key\": \"eWRqaWFfeWRqaWEtbWVyY2hhbnQtcHJvbW90ZS5qYXI=.1\",\\r\\n                \"label\": \"ydjia_ydjia-merchant-promote.jar\"\\r\\n            },\\r\\n            {\\r\\n                \"key\": \"eWRqaWFfeWRqaWEtbWVyY2hhbnQtbWFuYWdlci5qYXI=.1\",\\r\\n                \"label\": \"ydjia_ydjia-merchant-manager.jar\"\\r\\n            },\\r\\n            {\\r\\n                \"key\": \"bWlkZGxlX2h5ZGVlLW1pZGRsZS1iYXNlaW5mby5qYXI=.1\",\\r\\n                \"label\": \"middle_hydee-middle-baseinfo.jar\"\\r\\n            },\\r\\n            {\\r\\n                \"key\": \"eWRqaWFfeWRqaWEtcmVwb3J0Lmphcg==.1\",\\r\\n                \"label\": \"ydjia_ydjia-report.jar\"\\r\\n            },\\r\\n            {\\r\\n                \"key\": \"bWlkZGxlX2h5ZGVlLW1pZGRsZS1tZW1iZXIuamFy.1\",\\r\\n                \"label\": \"middle_hydee-middle-member.jar\"\\r\\n            },\\r\\n            {\\r\\n                \"key\": \"eG1faHlkZWUtZXd4LXNlcnZpY2UuamFy.1\",\\r\\n                \"label\": \"xm_hydee-ewx-service.jar\"\\r\\n            },\\r\\n            {\\r\\n                \"key\": \"bWlkZGxlX2h5ZGVlLWxpdmUtc2VydmljZS5qYXI=.1\",\\r\\n                \"label\": \"middle_hydee-live-service.jar\"\\r\\n            },\\r\\n            {\\r\\n                \"key\": \"eG1faHlkZWUtZXd4LWhvbmV5Lmphcg==.1\",\\r\\n                \"label\": \"xm_hydee-ewx-honey.jar\"\\r\\n            },\\r\\n            {\\r\\n                \"key\": \"bWlkZGxlX2h5ZGVlLW1pZGRsZS1vcmRlci5qYXI=.1\",\\r\\n                \"label\": \"middle_hydee-middle-order.jar\"\\r\\n            },\\r\\n            {\\r\\n                \"key\": \"bWlkZGxlX3lkamlhLXNybS1nb29kcy5qYXI=.1\",\\r\\n                \"label\": \"middle_ydjia-srm-goods.jar\"\\r\\n            },\\r\\n            {\\r\\n                \"key\": \"bWlkZGxlX2h5ZGVlLW1pZGRsZS1taWdyYXRlLmphcg==.1\",\\r\\n                \"label\": \"middle_hydee-middle-migrate.jar\"\\r\\n            },\\r\\n            {\\r\\n                \"key\": \"aHlkZWVfaHlkZWUtc3AtcGxhdGZvcm0uamFy.1\",\\r\\n                \"label\": \"hydee_hydee-sp-platform.jar\"\\r\\n            },\\r\\n            {\\r\\n                \"key\": \"bWlkZGxlX21pZGRsZS1pZC5qYXI=.1\",\\r\\n                \"label\": \"middle_middle-id.jar\"\\r\\n            },\\r\\n            {\\r\\n                \"key\": \"bWlkZGxlX2h5ZGVlLW1pZGRsZS1zeW5jZXJwLmphcg==.1\",\\r\\n                \"label\": \"middle_hydee-middle-syncerp.jar\"\\r\\n            },\\r\\n            {\\r\\n                \"key\": \"bWlkZGxlX2h5ZGVlLW1pZGRsZS1zZHAuamFy.1\",\\r\\n                \"label\": \"middle_hydee-middle-sdp.jar\"\\r\\n            },\\r\\n            {\\r\\n                \"key\": \"bWlkZGxlX2h5ZGVlLWVzLXN5bmMuamFy.1\",\\r\\n                \"label\": \"middle_hydee-es-sync.jar\"\\r\\n            },\\r\\n            {\\r\\n                \"key\": \"bWlkZGxlX2J1c2luZXNzZXMtZ2F0ZXdheS5qYXI=.1\",\\r\\n                \"label\": \"middle_businesses-gateway.jar\"\\r\\n            },\\r\\n            {\\r\\n                \"key\": \"ZHNjbG91ZF9oeWRlZS1idXNpbmVzcy1vcmRlci5qYXI=.1\",\\r\\n                \"label\": \"dscloud_hydee-business-order.jar\"\\r\\n            },\\r\\n            {\\r\\n                \"key\": \"bWlkZGxlX29hdXRoLmphcg==.1\",\\r\\n                \"label\": \"middle_oauth.jar\"\\r\\n            },\\r\\n            {\\r\\n                \"key\": \"bWlkZGxlX2h5ZGVlLW1pZGRsZS1tYXJrZXQuamFy.1\",\\r\\n                \"label\": \"middle_hydee-middle-market.jar\"\\r\\n            },\\r\\n            {\\r\\n                \"key\": \"bWlkZGxlX2h5ZGVlLW1pZGRsZS1iYWxhbmNlLmphcg==.1\",\\r\\n                \"label\": \"middle_hydee-middle-balance.jar\"\\r\\n            },\\r\\n            {\\r\\n                \"key\": \"bWlkZGxlX2h5ZGVlLXh4bC1qb2IuamFy.1\",\\r\\n                \"label\": \"middle_hydee-xxl-job.jar\"\\r\\n            },\\r\\n            {\\r\\n                \"key\": \"bWlkZGxlX21pZGRsZS1kYXRhc3luYy1tZXNzYWdlLmphcg==.1\",\\r\\n                \"label\": \"middle_middle-datasync-message.jar\"\\r\\n            },\\r\\n            {\\r\\n                \"key\": \"bWlkZGxlX2h5ZGVlLW1pZGRsZS10aGlyZC5qYXI=.1\",\\r\\n                \"label\": \"middle_hydee-middle-third.jar\"\\r\\n            },\\r\\n            {\\r\\n                \"key\": \"bWlkZGxlX2h5ZGVlLW1pZGRsZS1tZXJjaGFuZGlzZS5qYXI=.1\",\\r\\n                \"label\": \"middle_hydee-middle-merchandise.jar\"\\r\\n            },\\r\\n            {\\r\\n                \"key\": \"eG1faHlkZWUtZXd4LWhvbmV5Lmphcg==.1\",\\r\\n                \"label\": \"xm_hydee-ewx-honey.jar\"\\r\\n            },\\r\\n            {\\r\\n                \"key\": \"bWlkZGxlX2h5ZGVlLW1pZGRsZS1taWdyYXRlLmphcg==.1\",\\r\\n                \"label\": \"middle_hydee-middle-migrate.jar\"\\r\\n            },\\r\\n            {\\r\\n                \"key\": \"bWlkZGxlX29hdXRoLmphcg==.1\",\\r\\n                \"label\": \"middle_oauth.jar\"\\r\\n            },\\r\\n            {\\r\\n                \"key\": \"bWlkZGxlX2h5ZGVlLW1pZGRsZS1zZHAuamFy.1\",\\r\\n                \"label\": \"middle_hydee-middle-sdp.jar\"\\r\\n            },\\r\\n            {\\r\\n                \"key\": \"ZHNjbG91ZF9oeWRlZS1idXNpbmVzcy1vcmRlci5qYXI=.1\",\\r\\n                \"label\": \"dscloud_hydee-business-order.jar\"\\r\\n            },\\r\\n            {\\r\\n                \"key\": \"bWlkZGxlX2h5ZGVlLW1pZGRsZS1zeW5jZXJwLmphcg==.1\",\\r\\n                \"label\": \"middle_hydee-middle-syncerp.jar\"\\r\\n            },\\r\\n            {\\r\\n                \"key\": \"bWlkZGxlX21pZGRsZS1kYXRhc3luYy1tZXNzYWdlLmphcg==.1\",\\r\\n                \"label\": \"middle_middle-datasync-message.jar\"\\r\\n            },\\r\\n            {\\r\\n                \"key\": \"aHlkZWVfaHlkZWUtc3AtcGxhdGZvcm0uamFy.1\",\\r\\n                \"label\": \"hydee_hydee-sp-platform.jar\"\\r\\n            },\\r\\n            {\\r\\n                \"key\": \"bWlkZGxlX2h5ZGVlLW1pZGRsZS1tYXJrZXQuamFy.1\",\\r\\n                \"label\": \"middle_hydee-middle-market.jar\"\\r\\n            },\\r\\n            {\\r\\n                \"key\": \"bWlkZGxlX21pZGRsZS1pZC5qYXI=.1\",\\r\\n                \"label\": \"middle_middle-id.jar\"\\r\\n            },\\r\\n            {\\r\\n                \"key\": \"bWlkZGxlX2h5ZGVlLW1pZGRsZS1vcmRlci5qYXI=.1\",\\r\\n                \"label\": \"middle_hydee-middle-order.jar\"\\r\\n            },\\r\\n            {\\r\\n                \"key\": \"bWlkZGxlX2h5ZGVlLW1pZGRsZS10aGlyZC5qYXI=.1\",\\r\\n                \"label\": \"middle_hydee-middle-third.jar\"\\r\\n            },\\r\\n            {\\r\\n                \"key\": \"bWlkZGxlX2h5ZGVlLWVzLXN5bmMuamFy.1\",\\r\\n                \"label\": \"middle_hydee-es-sync.jar\"\\r\\n            },\\r\\n            {\\r\\n                \"key\": \"bWlkZGxlX2h5ZGVlLW1pZGRsZS1tZXJjaGFuZGlzZS5qYXI=.1\",\\r\\n                \"label\": \"middle_hydee-middle-merchandise.jar\"\\r\\n            },\\r\\n            {\\r\\n                \"key\": \"bWlkZGxlX2J1c2luZXNzZXMtZ2F0ZXdheS5qYXI=.1\",\\r\\n                \"label\": \"middle_businesses-gateway.jar\"\\r\\n            },\\r\\n            {\\r\\n                \"key\": \"bWlkZGxlX2h5ZGVlLW1pZGRsZS1iYWxhbmNlLmphcg==.1\",\\r\\n                \"label\": \"middle_hydee-middle-balance.jar\"\\r\\n            },\\r\\n            {\\r\\n                \"key\": \"bWlkZGxlX2h5ZGVlLWxpdmUtc2VydmljZS5qYXI=.1\",\\r\\n                \"label\": \"middle_hydee-live-service.jar\"\\r\\n            },\\r\\n            {\\r\\n                \"key\": \"bWlkZGxlX2h5ZGVlLXh4bC1qb2IuamFy.1\",\\r\\n                \"label\": \"middle_hydee-xxl-job.jar\"\\r\\n            },\\r\\n            {\\r\\n                \"key\": \"bWlkZGxlX2h5ZGVlLW1pZGRsZS1iYXNlaW5mby5qYXI=.1\",\\r\\n                \"label\": \"middle_hydee-middle-baseinfo.jar\"\\r\\n            },\\r\\n            {\\r\\n                \"key\": \"eWRqaWFfeWRqaWEtbWVyY2hhbnQtbWFuYWdlci5qYXI=.1\",\\r\\n                \"label\": \"ydjia_ydjia-merchant-manager.jar\"\\r\\n            },\\r\\n            {\\r\\n                \"key\": \"eWRqaWFfeWRqaWEtcmVwb3J0Lmphcg==.1\",\\r\\n                \"label\": \"ydjia_ydjia-report.jar\"\\r\\n            },\\r\\n            {\\r\\n                \"key\": \"bWlkZGxlX2h5ZGVlLW1pZGRsZS1tZW1iZXIuamFy.1\",\\r\\n                \"label\": \"middle_hydee-middle-member.jar\"\\r\\n            },\\r\\n            {\\r\\n                \"key\": \"bWlkZGxlX3lkamlhLXNybS1nb29kcy5qYXI=.1\",\\r\\n                \"label\": \"middle_ydjia-srm-goods.jar\"\\r\\n            },\\r\\n            {\\r\\n                \"key\": \"eWRqaWFfeWRqaWEtbWVyY2hhbnQtcGxhdGZvcm0uamFy.1\",\\r\\n                \"label\": \"ydjia_ydjia-merchant-platform.jar\"\\r\\n            },\\r\\n            {\\r\\n                \"key\": \"aHlkZWVfaHlkZWUtcHJpbnQtcGxhdGZvcm0uamFy.1\",\\r\\n                \"label\": \"hydee_hydee-print-platform.jar\"\\r\\n            },\\r\\n            {\\r\\n                \"key\": \"eWRqaWFfeWRqaWEtbWVyY2hhbnQtcHJvbW90ZS5qYXI=.1\",\\r\\n                \"label\": \"ydjia_ydjia-merchant-promote.jar\"\\r\\n            },\\r\\n            {\\r\\n                \"key\": \"eG1faHlkZWUtZXd4LXNlcnZpY2UuamFy.1\",\\r\\n                \"label\": \"xm_hydee-ewx-service.jar\"\\r\\n            },\\r\\n            {\\r\\n                \"key\": \"aDNfaDMtdHJhZGUtY2VudGVyLmphcg==.1\",\\r\\n                \"label\": \"h3_h3-trade-center.jar\"\\r\\n            },\\r\\n            {\\r\\n                \"key\": \"bWlkZGxlX2h5ZGVlLWVzLXN5bmMuamFy.1\",\\r\\n                \"label\": \"middle_hydee-es-sync.jar\"\\r\\n            },\\r\\n            {\\r\\n                \"key\": \"bWlkZGxlX2h5ZGVlLWxpdmUtc2VydmljZS5qYXI=.1\",\\r\\n                \"label\": \"middle_hydee-live-service.jar\"\\r\\n            },\\r\\n            {\\r\\n                \"key\": \"bWlkZGxlX2J1c2luZXNzZXMtZ2F0ZXdheS5qYXI=.1\",\\r\\n                \"label\": \"middle_businesses-gateway.jar\"\\r\\n            },\\r\\n            {\\r\\n                \"key\": \"bWlkZGxlX21pZGRsZS1pZC5qYXI=.1\",\\r\\n                \"label\": \"middle_middle-id.jar\"\\r\\n            },\\r\\n            {\\r\\n                \"key\": \"bWlkZGxlX2h5ZGVlLW1pZGRsZS1vcmRlci5qYXI=.1\",\\r\\n                \"label\": \"middle_hydee-middle-order.jar\"\\r\\n            },\\r\\n            {\\r\\n                \"key\": \"bWlkZGxlX2h5ZGVlLW1pZGRsZS1tZXJjaGFuZGlzZS5qYXI=.1\",\\r\\n                \"label\": \"middle_hydee-middle-merchandise.jar\"\\r\\n            },\\r\\n            {\\r\\n                \"key\": \"bWlkZGxlX2h5ZGVlLXh4bC1qb2IuamFy.1\",\\r\\n                \"label\": \"middle_hydee-xxl-job.jar\"\\r\\n            },\\r\\n            {\\r\\n                \"key\": \"bWlkZGxlX2h5ZGVlLW1pZGRsZS1iYWxhbmNlLmphcg==.1\",\\r\\n                \"label\": \"middle_hydee-middle-balance.jar\"\\r\\n            },\\r\\n            {\\r\\n                \"key\": \"eG1faHlkZWUtZXd4LWhvbmV5Lmphcg==.1\",\\r\\n                \"label\": \"xm_hydee-ewx-honey.jar\"\\r\\n            },\\r\\n            {\\r\\n                \"key\": \"aDNfaDMtc3RvY2stY2VudGVyLmphcg==.1\",\\r\\n                \"label\": \"h3_h3-stock-center.jar\"\\r\\n            },\\r\\n            {\\r\\n                \"key\": \"eG1faHlkZWUtZXd4LXNlcnZpY2UuamFy.1\",\\r\\n                \"label\": \"xm_hydee-ewx-service.jar\"\\r\\n            },\\r\\n            {\\r\\n                \"key\": \"eWRqaWFfeWRqaWEtcmVwb3J0Lmphcg==.1\",\\r\\n                \"label\": \"ydjia_ydjia-report.jar\"\\r\\n            },\\r\\n            {\\r\\n                \"key\": \"aDNfaDMtd2FyZWhvdXNlLWNlbnRlci5qYXI=.1\",\\r\\n                \"label\": \"h3_h3-warehouse-center.jar\"\\r\\n            },\\r\\n            {\\r\\n                \"key\": \"eWRqaWFfeWRqaWEtbWVyY2hhbnQtcGxhdGZvcm0uamFy.1\",\\r\\n                \"label\": \"ydjia_ydjia-merchant-platform.jar\"\\r\\n            },\\r\\n            {\\r\\n                \"key\": \"aDNfaDMtYmFzaWMtc2V0dGluZy1jZW50ZXIuamFy.1\",\\r\\n                \"label\": \"h3_h3-basic-setting-center.jar\"\\r\\n            },\\r\\n            {\\r\\n                \"key\": \"bWlkZGxlX2h5ZGVlLW1pZGRsZS1zeW5jZXJwLmphcg==.1\",\\r\\n                \"label\": \"middle_hydee-middle-syncerp.jar\"\\r\\n            },\\r\\n            {\\r\\n                \"key\": \"bWlkZGxlX29hdXRoLmphcg==.1\",\\r\\n                \"label\": \"middle_oauth.jar\"\\r\\n            },\\r\\n            {\\r\\n                \"key\": \"eWRqaWFfeWRqaWEtbWVyY2hhbnQtcHJvbW90ZS5qYXI=.1\",\\r\\n                \"label\": \"ydjia_ydjia-merchant-promote.jar\"\\r\\n            },\\r\\n            {\\r\\n                \"key\": \"bWlkZGxlX2h5ZGVlLW1pZGRsZS1tYXJrZXQuamFy.1\",\\r\\n                \"label\": \"middle_hydee-middle-market.jar\"\\r\\n            },\\r\\n            {\\r\\n                \"key\": \"bWlkZGxlX21pZGRsZS1kYXRhc3luYy1tZXNzYWdlLmphcg==.1\",\\r\\n                \"label\": \"middle_middle-datasync-message.jar\"\\r\\n            },\\r\\n            {\\r\\n                \"key\": \"aHlkZWVfaHlkZWUtc3AtcGxhdGZvcm0uamFy.1\",\\r\\n                \"label\": \"hydee_hydee-sp-platform.jar\"\\r\\n            },\\r\\n            {\\r\\n                \"key\": \"bWlkZGxlX2h5ZGVlLW1pZGRsZS1zZHAuamFy.1\",\\r\\n                \"label\": \"middle_hydee-middle-sdp.jar\"\\r\\n            },\\r\\n            {\\r\\n                \"key\": \"bWlkZGxlX2h5ZGVlLW1pZGRsZS10aGlyZC5qYXI=.1\",\\r\\n                \"label\": \"middle_hydee-middle-third.jar\"\\r\\n            },\\r\\n            {\\r\\n                \"key\": \"ZHNjbG91ZF9oeWRlZS1idXNpbmVzcy1vcmRlci5qYXI=.1\",\\r\\n                \"label\": \"dscloud_hydee-business-order.jar\"\\r\\n            },\\r\\n            {\\r\\n                \"key\": \"bWlkZGxlX2h5ZGVlLW1pZGRsZS1taWdyYXRlLmphcg==.1\",\\r\\n                \"label\": \"middle_hydee-middle-migrate.jar\"\\r\\n            },\\r\\n            {\\r\\n                \"key\": \"aHlkZWVfaHlkZWUtcHJpbnQtcGxhdGZvcm0uamFy.1\",\\r\\n                \"label\": \"hydee_hydee-print-platform.jar\"\\r\\n            },\\r\\n            {\\r\\n                \"key\": \"aDNfaDMtc3VwcGxpZXItY2VudGVyLmphcg==.1\",\\r\\n                \"label\": \"h3_h3-supplier-center.jar\"\\r\\n            },\\r\\n            {\\r\\n                \"key\": \"aDNfaDMtYXV0aG9yaXphdGlvbi1jZW50ZXIuamFy.1\",\\r\\n                \"label\": \"h3_h3-authorization-center.jar\"\\r\\n            },\\r\\n            {\\r\\n                \"key\": \"bWlkZGxlX2h5ZGVlLW1pZGRsZS1iYXNlaW5mby5qYXI=.1\",\\r\\n                \"label\": \"middle_hydee-middle-baseinfo.jar\"\\r\\n            },\\r\\n            {\\r\\n                \"key\": \"bWlkZGxlX3lkamlhLXNybS1nb29kcy5qYXI=.1\",\\r\\n                \"label\": \"middle_ydjia-srm-goods.jar\"\\r\\n            },\\r\\n            {\\r\\n                \"key\": \"aDNfaDMtb3JnbWFuYWdlci1jZW50ZXIuamFy.1\",\\r\\n                \"label\": \"h3_h3-orgmanager-center.jar\"\\r\\n            },\\r\\n            {\\r\\n                \"key\": \"eWRqaWFfeWRqaWEtbWVyY2hhbnQtbWFuYWdlci5qYXI=.1\",\\r\\n                \"label\": \"ydjia_ydjia-merchant-manager.jar\"\\r\\n            },\\r\\n            {\\r\\n                \"key\": \"aDNfaDMtdHJhZGUtY2VudGVyLmphcg==.1\",\\r\\n                \"label\": \"h3_h3-trade-center.jar\"\\r\\n            },\\r\\n            {\\r\\n                \"key\": \"aDNfaDMtcHVyY2hhc2UtY2VudGVyLmphcg==.1\",\\r\\n                \"label\": \"h3_h3-purchase-center.jar\"\\r\\n            },\\r\\n            {\\r\\n                \"key\": \"aDNfaDMtY3VzdG9tZXItY2VudGVyLmphcg==.1\",\\r\\n                \"label\": \"h3_h3-customer-center.jar\"\\r\\n            },\\r\\n            {\\r\\n                \"key\": \"bWlkZGxlX2h5ZGVlLW1pZGRsZS1tZW1iZXIuamFy.1\",\\r\\n                \"label\": \"middle_hydee-middle-member.jar\"\\r\\n            },\\r\\n            {\\r\\n                \"key\": \"aDNfaDMtc3RvcmUtY2VudGVyLmphcg==.1\",\\r\\n                \"label\": \"h3_h3-store-center.jar\"\\r\\n            },\\r\\n            {\\r\\n                \"key\": \"aDNfaDMtd2FyZS1jZW50ZXIuamFy.1\",\\r\\n                \"label\": \"h3_h3-ware-center.jar\"\\r\\n            },\\r\\n            {\\r\\n                \"key\": \"bWFza19tYXNrLXNlcnZlci5qYXI=.1\",\\r\\n                \"label\": \"mask_mask-server.jar\"\\r\\n            },\\r\\n            {\\r\\n                \"key\": \"aDNfaDMtY3VzdG9tcGxhdGZvcm0tcHJvY2Vzcy1lbmdpbmUuamFy.1\",\\r\\n                \"label\": \"h3_h3-customplatform-process-engine.jar\"\\r\\n            },\\r\\n            {\\r\\n                \"key\": \"aDNfaDMtd2FyZWhvdXNlLWNlbnRlci5qYXI=.1\",\\r\\n                \"label\": \"h3_h3-warehouse-center.jar\"\\r\\n            },\\r\\n            {\\r\\n                \"key\": \"aHlkZWVfaHlkZWUtcHJpbnQtcGxhdGZvcm0uamFy.1\",\\r\\n                \"label\": \"hydee_hydee-print-platform.jar\"\\r\\n            },\\r\\n            {\\r\\n                \"key\": \"aDNfaDMtdHJhZGUtY2VudGVyLmphcg==.1\",\\r\\n                \"label\": \"h3_h3-trade-center.jar\"\\r\\n            },\\r\\n            {\\r\\n                \"key\": \"aDNfaDMtc3RvY2stY2VudGVyLmphcg==.1\",\\r\\n                \"label\": \"h3_h3-stock-center.jar\"\\r\\n            },\\r\\n            {\\r\\n                \"key\": \"aDNfaDMtY3VzdG9tZXItY2VudGVyLmphcg==.1\",\\r\\n                \"label\": \"h3_h3-customer-center.jar\"\\r\\n            },\\r\\n            {\\r\\n                \"key\": \"aDNfaDMtd2FyZS1jZW50ZXIuamFy.1\",\\r\\n                \"label\": \"h3_h3-ware-center.jar\"\\r\\n            },\\r\\n            {\\r\\n                \"key\": \"aDNfaDMtYmFzaWMtc2V0dGluZy1jZW50ZXIuamFy.1\",\\r\\n                \"label\": \"h3_h3-basic-setting-center.jar\"\\r\\n            },\\r\\n            {\\r\\n                \"key\": \"aDNfaDMtZHJlYW0tYXBwLmphcg==.1\",\\r\\n                \"label\": \"h3_h3-dream-app.jar\"\\r\\n            },\\r\\n            {\\r\\n                \"key\": \"aDNfaDMtYXV0aG9yaXphdGlvbi1jZW50ZXIuamFy.1\",\\r\\n                \"label\": \"h3_h3-authorization-center.jar\"\\r\\n            },\\r\\n            {\\r\\n                \"key\": \"aDNfaDMtcHVyY2hhc2UtY2VudGVyLmphcg==.1\",\\r\\n                \"label\": \"h3_h3-purchase-center.jar\"\\r\\n            },\\r\\n            {\\r\\n                \"key\": \"aDNfaDMtb3JnbWFuYWdlci1jZW50ZXIuamFy.1\",\\r\\n                \"label\": \"h3_h3-orgmanager-center.jar\"\\r\\n            },\\r\\n            {\\r\\n                \"key\": \"aDNfYmFzZWRhdGEtbWFuYWdlci1zZXJ2ZXIuamFy.1\",\\r\\n                \"label\": \"h3_basedata-manager-server.jar\"\\r\\n            },\\r\\n            {\\r\\n                \"key\": \"aDNfaDMtc3RvcmUtY2VudGVyLmphcg==.1\",\\r\\n                \"label\": \"h3_h3-store-center.jar\"\\r\\n            },\\r\\n            {\\r\\n                \"key\": \"aDNfaDMtc3VwcGxpZXItY2VudGVyLmphcg==.1\",\\r\\n                \"label\": \"h3_h3-supplier-center.jar\"\\r\\n            }\\r\\n        ]\\r\\n    }\\r\\n}\\r\\n\\r\\n\\r\\n---'"
            ],
            "application/vnd.google.colaboratory.intrinsic+json": {
              "type": "string"
            }
          },
          "metadata": {},
          "execution_count": 12
        }
      ]
    },
    {
      "cell_type": "code",
      "source": [
        "issue_body = \"\"\"![image](https://user-images.githubusercontent.com/23110635/100834216-7a89d180-34a6-11eb-9d99-ea25c2db41b6.png)\\r\\n![image](https://user-images.githubusercontent.com/23110635/100834264-91c8bf00-34a6-11eb-95ea-793e7d04df5b.png)\\r\\n\\r\\n\\r\\n\\r\\n12.4 New Clues:\\r\\n\\r\\nBelow is a list json data of the production environment：\\r\\n\\r\\n{\\r\\n\\r\\n    \"data\": {\\r\\n        \"services\": [\\r\\n            {\\r\\n                \"key\": \"eWRqaWFfeWRqaWEtb3BlcmF0ZS5qYXI=.1\",\\r\\n                \"label\": \"ydjia_ydjia-operate.jar\"\\r\\n            },\\r\\n            {\\r\\n                \"key\": \"bWlkZGxlX2h5ZGVlLW1pZGRsZS1wYXltZW50Lmphcg==.1\",\\r\\n                \"label\": \"middle_hydee-middle-payment.jar\"\\r\\n            },\\r\\n            {\\r\\n                \"key\": \"eWRqaWFfeWRqaWEtbWVyY2hhbnQtY3VzdG9tZXIuamFy.1\",\\r\\n                \"label\": \"ydjia_ydjia-merchant-customer.jar\"\\r\\n            },\\r\\n            {\\r\\n                \"key\": \"bWlkZGxlX2h5ZGVlLW1pZGRsZS10aGlyZC5qYXI=.1\",\\r\\n                \"label\": \"middle_hydee-middle-third.jar\"\\r\\n            },\\r\\n            {\\r\\n                \"key\": \"eWRqaWFfeWRqaWEtbWVyY2hhbnQtcHJvbW90ZS5qYXI=.1\",\\r\\n                \"label\": \"ydjia_ydjia-merchant-promote.jar\"\\r\\n            },\\r\\n            {\\r\\n                \"key\": \"aHlkZWVfaHlkZWUtc3AtcGxhdGZvcm0uamFy.1\",\\r\\n                \"label\": \"hydee_hydee-sp-platform.jar\"\\r\\n            },\\r\\n            {\\r\\n                \"key\": \"bWlkZGxlX2h5ZGVlLWxpdmUtc2VydmljZS5qYXI=.1\",\\r\\n                \"label\": \"middle_hydee-live-service.jar\"\\r\\n            },\\r\\n            {\\r\\n                \"key\": \"eG1faHlkZWUtZXd4LWhvbmV5Lmphcg==.1\",\\r\\n                \"label\": \"xm_hydee-ewx-honey.jar\"\\r\\n            },\\r\\n            {\\r\\n                \"key\": \"eWRqaWFfeWRqaWEtbWVyY2hhbnQtbWFuYWdlci5qYXI=.1\",\\r\\n                \"label\": \"ydjia_ydjia-merchant-manager.jar\"\\r\\n            },\\r\\n            {\\r\\n                \"key\": \"bWlkZGxlX2h5ZGVlLW1pZGRsZS1taWdyYXRlLmphcg==.1\",\\r\\n                \"label\": \"middle_hydee-middle-migrate.jar\"\\r\\n            },\\r\\n            {\\r\\n                \"key\": \"bWlkZGxlX3lkamlhLXNybS1nb29kcy5qYXI=.1\",\\r\\n                \"label\": \"middle_ydjia-srm-goods.jar\"\\r\\n            },\\r\\n            {\\r\\n                \"key\": \"bWlkZGxlX21pZGRsZS1kYXRhc3luYy1tZXNzYWdlLmphcg==.1\",\\r\\n                \"label\": \"middle_middle-datasync-message.jar\"\\r\\n            },\\r\\n            {\\r\\n                \"key\": \"bWlkZGxlX2h5ZGVlLW1pZGRsZS1iYWxhbmNlLmphcg==.1\",\\r\\n                \"label\": \"middle_hydee-middle-balance.jar\"\\r\\n            },\\r\\n            {\\r\\n                \"key\": \"bWlkZGxlX2h5ZGVlLXh4bC1qb2IuamFy.1\",\\r\\n                \"label\": \"middle_hydee-xxl-job.jar\"\\r\\n            },\\r\\n            {\\r\\n                \"key\": \"bWlkZGxlX21pZGRsZS1pZC5qYXI=.1\",\\r\\n                \"label\": \"middle_middle-id.jar\"\\r\\n            },\\r\\n            {\\r\\n                \"key\": \"bWlkZGxlX29hdXRoLmphcg==.1\",\\r\\n                \"label\": \"middle_oauth.jar\"\\r\\n            },\\r\\n            {\\r\\n                \"key\": \"ZHNjbG91ZF9oeWRlZS1idXNpbmVzcy1vcmRlci5qYXI=.1\",\\r\\n                \"label\": \"dscloud_hydee-business-order.jar\"\\r\\n            },\\r\\n            {\\r\\n                \"key\": \"bWlkZGxlX2h5ZGVlLWVzLXN5bmMuamFy.1\",\\r\\n                \"label\": \"middle_hydee-es-sync.jar\"\\r\\n            },\\r\\n            {\\r\\n                \"key\": \"bWlkZGxlX2h5ZGVlLW1pZGRsZS1tZXJjaGFuZGlzZS5qYXI=.1\",\\r\\n                \"label\": \"middle_hydee-middle-merchandise.jar\"\\r\\n            },\\r\\n            {\\r\\n                \"key\": \"eG1faHlkZWUtZXd4LXNlcnZpY2UuamFy.1\",\\r\\n                \"label\": \"xm_hydee-ewx-service.jar\"\\r\\n            },\\r\\n            {\\r\\n                \"key\": \"bWlkZGxlX2h5ZGVlLW1pZGRsZS1tYXJrZXQuamFy.1\",\\r\\n                \"label\": \"middle_hydee-middle-market.jar\"\\r\\n            },\\r\\n            {\\r\\n                \"key\": \"bWlkZGxlX2h5ZGVlLW1pZGRsZS1tZW1iZXIuamFy.1\",\\r\\n                \"label\": \"middle_hydee-middle-member.jar\"\\r\\n            },\\r\\n            {\\r\\n                \"key\": \"bWlkZGxlX2h5ZGVlLW1pZGRsZS1zeW5jZXJwLmphcg==.1\",\\r\\n                \"label\": \"middle_hydee-middle-syncerp.jar\"\\r\\n            },\\r\\n            {\\r\\n                \"key\": \"bWlkZGxlX2J1c2luZXNzZXMtZ2F0ZXdheS5qYXI=.1\",\\r\\n                \"label\": \"middle_businesses-gateway.jar\"\\r\\n            },\\r\\n            {\\r\\n                \"key\": \"bWlkZGxlX2h5ZGVlLW1pZGRsZS1iYXNlaW5mby5qYXI=.1\",\\r\\n                \"label\": \"middle_hydee-middle-baseinfo.jar\"\\r\\n            },\\r\\n            {\\r\\n                \"key\": \"eWRqaWFfeWRqaWEtcmVwb3J0Lmphcg==.1\",\\r\\n                \"label\": \"ydjia_ydjia-report.jar\"\\r\\n            },\\r\\n            {\\r\\n                \"key\": \"bWlkZGxlX2h5ZGVlLW1pZGRsZS1zZHAuamFy.1\",\\r\\n                \"label\": \"middle_hydee-middle-sdp.jar\"\\r\\n            },\\r\\n            {\\r\\n                \"key\": \"eWRqaWFfeWRqaWEtbWVyY2hhbnQtcGxhdGZvcm0uamFy.1\",\\r\\n                \"label\": \"ydjia_ydjia-merchant-platform.jar\"\\r\\n            },\\r\\n            {\\r\\n                \"key\": \"bWlkZGxlX2h5ZGVlLW1pZGRsZS1vcmRlci5qYXI=.1\",\\r\\n                \"label\": \"middle_hydee-middle-order.jar\"\\r\\n            },\\r\\n            {\\r\\n                \"key\": \"eWRqaWFfeWRqaWEtbWVyY2hhbnQtcGxhdGZvcm0uamFy.1\",\\r\\n                \"label\": \"ydjia_ydjia-merchant-platform.jar\"\\r\\n            },\\r\\n            {\\r\\n                \"key\": \"eWRqaWFfeWRqaWEtbWVyY2hhbnQtcHJvbW90ZS5qYXI=.1\",\\r\\n                \"label\": \"ydjia_ydjia-merchant-promote.jar\"\\r\\n            },\\r\\n            {\\r\\n                \"key\": \"eWRqaWFfeWRqaWEtbWVyY2hhbnQtbWFuYWdlci5qYXI=.1\",\\r\\n                \"label\": \"ydjia_ydjia-merchant-manager.jar\"\\r\\n            },\\r\\n            {\\r\\n                \"key\": \"bWlkZGxlX2h5ZGVlLW1pZGRsZS1iYXNlaW5mby5qYXI=.1\",\\r\\n                \"label\": \"middle_hydee-middle-baseinfo.jar\"\\r\\n            },\\r\\n            {\\r\\n                \"key\": \"eWRqaWFfeWRqaWEtcmVwb3J0Lmphcg==.1\",\\r\\n                \"label\": \"ydjia_ydjia-report.jar\"\\r\\n            },\\r\\n            {\\r\\n                \"key\": \"bWlkZGxlX2h5ZGVlLW1pZGRsZS1tZW1iZXIuamFy.1\",\\r\\n                \"label\": \"middle_hydee-middle-member.jar\"\\r\\n            },\\r\\n            {\\r\\n                \"key\": \"eG1faHlkZWUtZXd4LXNlcnZpY2UuamFy.1\",\\r\\n                \"label\": \"xm_hydee-ewx-service.jar\"\\r\\n            },\\r\\n            {\\r\\n                \"key\": \"bWlkZGxlX2h5ZGVlLWxpdmUtc2VydmljZS5qYXI=.1\",\\r\\n                \"label\": \"middle_hydee-live-service.jar\"\\r\\n            },\\r\\n            {\\r\\n                \"key\": \"eG1faHlkZWUtZXd4LWhvbmV5Lmphcg==.1\",\\r\\n                \"label\": \"xm_hydee-ewx-honey.jar\"\\r\\n            },\\r\\n            {\\r\\n                \"key\": \"bWlkZGxlX2h5ZGVlLW1pZGRsZS1vcmRlci5qYXI=.1\",\\r\\n                \"label\": \"middle_hydee-middle-order.jar\"\\r\\n            },\\r\\n            {\\r\\n                \"key\": \"bWlkZGxlX3lkamlhLXNybS1nb29kcy5qYXI=.1\",\\r\\n                \"label\": \"middle_ydjia-srm-goods.jar\"\\r\\n            },\\r\\n            {\\r\\n                \"key\": \"bWlkZGxlX2h5ZGVlLW1pZGRsZS1taWdyYXRlLmphcg==.1\",\\r\\n                \"label\": \"middle_hydee-middle-migrate.jar\"\\r\\n            },\\r\\n            {\\r\\n                \"key\": \"aHlkZWVfaHlkZWUtc3AtcGxhdGZvcm0uamFy.1\",\\r\\n                \"label\": \"hydee_hydee-sp-platform.jar\"\\r\\n            },\\r\\n            {\\r\\n                \"key\": \"bWlkZGxlX21pZGRsZS1pZC5qYXI=.1\",\\r\\n                \"label\": \"middle_middle-id.jar\"\\r\\n            },\\r\\n            {\\r\\n                \"key\": \"bWlkZGxlX2h5ZGVlLW1pZGRsZS1zeW5jZXJwLmphcg==.1\",\\r\\n                \"label\": \"middle_hydee-middle-syncerp.jar\"\\r\\n            },\\r\\n            {\\r\\n                \"key\": \"bWlkZGxlX2h5ZGVlLW1pZGRsZS1zZHAuamFy.1\",\\r\\n                \"label\": \"middle_hydee-middle-sdp.jar\"\\r\\n            },\\r\\n            {\\r\\n                \"key\": \"bWlkZGxlX2h5ZGVlLWVzLXN5bmMuamFy.1\",\\r\\n                \"label\": \"middle_hydee-es-sync.jar\"\\r\\n            },\\r\\n            {\\r\\n                \"key\": \"bWlkZGxlX2J1c2luZXNzZXMtZ2F0ZXdheS5qYXI=.1\",\\r\\n                \"label\": \"middle_businesses-gateway.jar\"\\r\\n            },\\r\\n            {\\r\\n                \"key\": \"ZHNjbG91ZF9oeWRlZS1idXNpbmVzcy1vcmRlci5qYXI=.1\",\\r\\n                \"label\": \"dscloud_hydee-business-order.jar\"\\r\\n            },\\r\\n            {\\r\\n                \"key\": \"bWlkZGxlX29hdXRoLmphcg==.1\",\\r\\n                \"label\": \"middle_oauth.jar\"\\r\\n            },\\r\\n            {\\r\\n                \"key\": \"bWlkZGxlX2h5ZGVlLW1pZGRsZS1tYXJrZXQuamFy.1\",\\r\\n                \"label\": \"middle_hydee-middle-market.jar\"\\r\\n            },\\r\\n            {\\r\\n                \"key\": \"bWlkZGxlX2h5ZGVlLW1pZGRsZS1iYWxhbmNlLmphcg==.1\",\\r\\n                \"label\": \"middle_hydee-middle-balance.jar\"\\r\\n            },\\r\\n            {\\r\\n                \"key\": \"bWlkZGxlX2h5ZGVlLXh4bC1qb2IuamFy.1\",\\r\\n                \"label\": \"middle_hydee-xxl-job.jar\"\\r\\n            },\\r\\n            {\\r\\n                \"key\": \"bWlkZGxlX21pZGRsZS1kYXRhc3luYy1tZXNzYWdlLmphcg==.1\",\\r\\n                \"label\": \"middle_middle-datasync-message.jar\"\\r\\n            },\\r\\n            {\\r\\n                \"key\": \"bWlkZGxlX2h5ZGVlLW1pZGRsZS10aGlyZC5qYXI=.1\",\\r\\n                \"label\": \"middle_hydee-middle-third.jar\"\\r\\n            },\\r\\n            {\\r\\n                \"key\": \"bWlkZGxlX2h5ZGVlLW1pZGRsZS1tZXJjaGFuZGlzZS5qYXI=.1\",\\r\\n                \"label\": \"middle_hydee-middle-merchandise.jar\"\\r\\n            },\\r\\n            {\\r\\n                \"key\": \"eG1faHlkZWUtZXd4LWhvbmV5Lmphcg==.1\",\\r\\n                \"label\": \"xm_hydee-ewx-honey.jar\"\\r\\n            },\\r\\n            {\\r\\n                \"key\": \"bWlkZGxlX2h5ZGVlLW1pZGRsZS1taWdyYXRlLmphcg==.1\",\\r\\n                \"label\": \"middle_hydee-middle-migrate.jar\"\\r\\n            },\\r\\n            {\\r\\n                \"key\": \"bWlkZGxlX29hdXRoLmphcg==.1\",\\r\\n                \"label\": \"middle_oauth.jar\"\\r\\n            },\\r\\n            {\\r\\n                \"key\": \"bWlkZGxlX2h5ZGVlLW1pZGRsZS1zZHAuamFy.1\",\\r\\n                \"label\": \"middle_hydee-middle-sdp.jar\"\\r\\n            },\\r\\n            {\\r\\n                \"key\": \"ZHNjbG91ZF9oeWRlZS1idXNpbmVzcy1vcmRlci5qYXI=.1\",\\r\\n                \"label\": \"dscloud_hydee-business-order.jar\"\\r\\n            },\\r\\n            {\\r\\n                \"key\": \"bWlkZGxlX2h5ZGVlLW1pZGRsZS1zeW5jZXJwLmphcg==.1\",\\r\\n                \"label\": \"middle_hydee-middle-syncerp.jar\"\\r\\n            },\\r\\n            {\\r\\n                \"key\": \"bWlkZGxlX21pZGRsZS1kYXRhc3luYy1tZXNzYWdlLmphcg==.1\",\\r\\n                \"label\": \"middle_middle-datasync-message.jar\"\\r\\n            },\\r\\n            {\\r\\n                \"key\": \"aHlkZWVfaHlkZWUtc3AtcGxhdGZvcm0uamFy.1\",\\r\\n                \"label\": \"hydee_hydee-sp-platform.jar\"\\r\\n            },\\r\\n            {\\r\\n                \"key\": \"bWlkZGxlX2h5ZGVlLW1pZGRsZS1tYXJrZXQuamFy.1\",\\r\\n                \"label\": \"middle_hydee-middle-market.jar\"\\r\\n            },\\r\\n            {\\r\\n                \"key\": \"bWlkZGxlX21pZGRsZS1pZC5qYXI=.1\",\\r\\n                \"label\": \"middle_middle-id.jar\"\\r\\n            },\\r\\n            {\\r\\n                \"key\": \"bWlkZGxlX2h5ZGVlLW1pZGRsZS1vcmRlci5qYXI=.1\",\\r\\n                \"label\": \"middle_hydee-middle-order.jar\"\\r\\n            },\\r\\n            {\\r\\n                \"key\": \"bWlkZGxlX2h5ZGVlLW1pZGRsZS10aGlyZC5qYXI=.1\",\\r\\n                \"label\": \"middle_hydee-middle-third.jar\"\\r\\n            },\\r\\n            {\\r\\n                \"key\": \"bWlkZGxlX2h5ZGVlLWVzLXN5bmMuamFy.1\",\\r\\n                \"label\": \"middle_hydee-es-sync.jar\"\\r\\n            },\\r\\n            {\\r\\n                \"key\": \"bWlkZGxlX2h5ZGVlLW1pZGRsZS1tZXJjaGFuZGlzZS5qYXI=.1\",\\r\\n                \"label\": \"middle_hydee-middle-merchandise.jar\"\\r\\n            },\\r\\n            {\\r\\n                \"key\": \"bWlkZGxlX2J1c2luZXNzZXMtZ2F0ZXdheS5qYXI=.1\",\\r\\n                \"label\": \"middle_businesses-gateway.jar\"\\r\\n            },\\r\\n            {\\r\\n                \"key\": \"bWlkZGxlX2h5ZGVlLW1pZGRsZS1iYWxhbmNlLmphcg==.1\",\\r\\n                \"label\": \"middle_hydee-middle-balance.jar\"\\r\\n            },\\r\\n            {\\r\\n                \"key\": \"bWlkZGxlX2h5ZGVlLWxpdmUtc2VydmljZS5qYXI=.1\",\\r\\n                \"label\": \"middle_hydee-live-service.jar\"\\r\\n            },\\r\\n            {\\r\\n                \"key\": \"bWlkZGxlX2h5ZGVlLXh4bC1qb2IuamFy.1\",\\r\\n                \"label\": \"middle_hydee-xxl-job.jar\"\\r\\n            },\\r\\n            {\\r\\n                \"key\": \"bWlkZGxlX2h5ZGVlLW1pZGRsZS1iYXNlaW5mby5qYXI=.1\",\\r\\n                \"label\": \"middle_hydee-middle-baseinfo.jar\"\\r\\n            },\\r\\n            {\\r\\n                \"key\": \"eWRqaWFfeWRqaWEtbWVyY2hhbnQtbWFuYWdlci5qYXI=.1\",\\r\\n                \"label\": \"ydjia_ydjia-merchant-manager.jar\"\\r\\n            },\\r\\n            {\\r\\n                \"key\": \"eWRqaWFfeWRqaWEtcmVwb3J0Lmphcg==.1\",\\r\\n                \"label\": \"ydjia_ydjia-report.jar\"\\r\\n            },\\r\\n            {\\r\\n                \"key\": \"bWlkZGxlX2h5ZGVlLW1pZGRsZS1tZW1iZXIuamFy.1\",\\r\\n                \"label\": \"middle_hydee-middle-member.jar\"\\r\\n            },\\r\\n            {\\r\\n                \"key\": \"bWlkZGxlX3lkamlhLXNybS1nb29kcy5qYXI=.1\",\\r\\n                \"label\": \"middle_ydjia-srm-goods.jar\"\\r\\n            },\\r\\n            {\\r\\n                \"key\": \"eWRqaWFfeWRqaWEtbWVyY2hhbnQtcGxhdGZvcm0uamFy.1\",\\r\\n                \"label\": \"ydjia_ydjia-merchant-platform.jar\"\\r\\n            },\\r\\n            {\\r\\n                \"key\": \"aHlkZWVfaHlkZWUtcHJpbnQtcGxhdGZvcm0uamFy.1\",\\r\\n                \"label\": \"hydee_hydee-print-platform.jar\"\\r\\n            },\\r\\n            {\\r\\n                \"key\": \"eWRqaWFfeWRqaWEtbWVyY2hhbnQtcHJvbW90ZS5qYXI=.1\",\\r\\n                \"label\": \"ydjia_ydjia-merchant-promote.jar\"\\r\\n            },\\r\\n            {\\r\\n                \"key\": \"eG1faHlkZWUtZXd4LXNlcnZpY2UuamFy.1\",\\r\\n                \"label\": \"xm_hydee-ewx-service.jar\"\\r\\n            },\\r\\n            {\\r\\n                \"key\": \"aDNfaDMtdHJhZGUtY2VudGVyLmphcg==.1\",\\r\\n                \"label\": \"h3_h3-trade-center.jar\"\\r\\n            },\\r\\n            {\\r\\n                \"key\": \"bWlkZGxlX2h5ZGVlLWVzLXN5bmMuamFy.1\",\\r\\n                \"label\": \"middle_hydee-es-sync.jar\"\\r\\n            },\\r\\n            {\\r\\n                \"key\": \"bWlkZGxlX2h5ZGVlLWxpdmUtc2VydmljZS5qYXI=.1\",\\r\\n                \"label\": \"middle_hydee-live-service.jar\"\\r\\n            },\\r\\n            {\\r\\n                \"key\": \"bWlkZGxlX2J1c2luZXNzZXMtZ2F0ZXdheS5qYXI=.1\",\\r\\n                \"label\": \"middle_businesses-gateway.jar\"\\r\\n            },\\r\\n            {\\r\\n                \"key\": \"bWlkZGxlX21pZGRsZS1pZC5qYXI=.1\",\\r\\n                \"label\": \"middle_middle-id.jar\"\\r\\n            },\\r\\n            {\\r\\n                \"key\": \"bWlkZGxlX2h5ZGVlLW1pZGRsZS1vcmRlci5qYXI=.1\",\\r\\n                \"label\": \"middle_hydee-middle-order.jar\"\\r\\n            },\\r\\n            {\\r\\n                \"key\": \"bWlkZGxlX2h5ZGVlLW1pZGRsZS1tZXJjaGFuZGlzZS5qYXI=.1\",\\r\\n                \"label\": \"middle_hydee-middle-merchandise.jar\"\\r\\n            },\\r\\n            {\\r\\n                \"key\": \"bWlkZGxlX2h5ZGVlLXh4bC1qb2IuamFy.1\",\\r\\n                \"label\": \"middle_hydee-xxl-job.jar\"\\r\\n            },\\r\\n            {\\r\\n                \"key\": \"bWlkZGxlX2h5ZGVlLW1pZGRsZS1iYWxhbmNlLmphcg==.1\",\\r\\n                \"label\": \"middle_hydee-middle-balance.jar\"\\r\\n            },\\r\\n            {\\r\\n                \"key\": \"eG1faHlkZWUtZXd4LWhvbmV5Lmphcg==.1\",\\r\\n                \"label\": \"xm_hydee-ewx-honey.jar\"\\r\\n            },\\r\\n            {\\r\\n                \"key\": \"aDNfaDMtc3RvY2stY2VudGVyLmphcg==.1\",\\r\\n                \"label\": \"h3_h3-stock-center.jar\"\\r\\n            },\\r\\n            {\\r\\n                \"key\": \"eG1faHlkZWUtZXd4LXNlcnZpY2UuamFy.1\",\\r\\n                \"label\": \"xm_hydee-ewx-service.jar\"\\r\\n            },\\r\\n            {\\r\\n                \"key\": \"eWRqaWFfeWRqaWEtcmVwb3J0Lmphcg==.1\",\\r\\n                \"label\": \"ydjia_ydjia-report.jar\"\\r\\n            },\\r\\n            {\\r\\n                \"key\": \"aDNfaDMtd2FyZWhvdXNlLWNlbnRlci5qYXI=.1\",\\r\\n                \"label\": \"h3_h3-warehouse-center.jar\"\\r\\n            },\\r\\n            {\\r\\n                \"key\": \"eWRqaWFfeWRqaWEtbWVyY2hhbnQtcGxhdGZvcm0uamFy.1\",\\r\\n                \"label\": \"ydjia_ydjia-merchant-platform.jar\"\\r\\n            },\\r\\n            {\\r\\n                \"key\": \"aDNfaDMtYmFzaWMtc2V0dGluZy1jZW50ZXIuamFy.1\",\\r\\n                \"label\": \"h3_h3-basic-setting-center.jar\"\\r\\n            },\\r\\n            {\\r\\n                \"key\": \"bWlkZGxlX2h5ZGVlLW1pZGRsZS1zeW5jZXJwLmphcg==.1\",\\r\\n                \"label\": \"middle_hydee-middle-syncerp.jar\"\\r\\n            },\\r\\n            {\\r\\n                \"key\": \"bWlkZGxlX29hdXRoLmphcg==.1\",\\r\\n                \"label\": \"middle_oauth.jar\"\\r\\n            },\\r\\n            {\\r\\n                \"key\": \"eWRqaWFfeWRqaWEtbWVyY2hhbnQtcHJvbW90ZS5qYXI=.1\",\\r\\n                \"label\": \"ydjia_ydjia-merchant-promote.jar\"\\r\\n            },\\r\\n            {\\r\\n                \"key\": \"bWlkZGxlX2h5ZGVlLW1pZGRsZS1tYXJrZXQuamFy.1\",\\r\\n                \"label\": \"middle_hydee-middle-market.jar\"\\r\\n            },\\r\\n            {\\r\\n                \"key\": \"bWlkZGxlX21pZGRsZS1kYXRhc3luYy1tZXNzYWdlLmphcg==.1\",\\r\\n                \"label\": \"middle_middle-datasync-message.jar\"\\r\\n            },\\r\\n            {\\r\\n                \"key\": \"aHlkZWVfaHlkZWUtc3AtcGxhdGZvcm0uamFy.1\",\\r\\n                \"label\": \"hydee_hydee-sp-platform.jar\"\\r\\n            },\\r\\n            {\\r\\n                \"key\": \"bWlkZGxlX2h5ZGVlLW1pZGRsZS1zZHAuamFy.1\",\\r\\n                \"label\": \"middle_hydee-middle-sdp.jar\"\\r\\n            },\\r\\n            {\\r\\n                \"key\": \"bWlkZGxlX2h5ZGVlLW1pZGRsZS10aGlyZC5qYXI=.1\",\\r\\n                \"label\": \"middle_hydee-middle-third.jar\"\\r\\n            },\\r\\n            {\\r\\n                \"key\": \"ZHNjbG91ZF9oeWRlZS1idXNpbmVzcy1vcmRlci5qYXI=.1\",\\r\\n                \"label\": \"dscloud_hydee-business-order.jar\"\\r\\n            },\\r\\n            {\\r\\n                \"key\": \"bWlkZGxlX2h5ZGVlLW1pZGRsZS1taWdyYXRlLmphcg==.1\",\\r\\n                \"label\": \"middle_hydee-middle-migrate.jar\"\\r\\n            },\\r\\n            {\\r\\n                \"key\": \"aHlkZWVfaHlkZWUtcHJpbnQtcGxhdGZvcm0uamFy.1\",\\r\\n                \"label\": \"hydee_hydee-print-platform.jar\"\\r\\n            },\\r\\n            {\\r\\n                \"key\": \"aDNfaDMtc3VwcGxpZXItY2VudGVyLmphcg==.1\",\\r\\n                \"label\": \"h3_h3-supplier-center.jar\"\\r\\n            },\\r\\n            {\\r\\n                \"key\": \"aDNfaDMtYXV0aG9yaXphdGlvbi1jZW50ZXIuamFy.1\",\\r\\n                \"label\": \"h3_h3-authorization-center.jar\"\\r\\n            },\\r\\n            {\\r\\n                \"key\": \"bWlkZGxlX2h5ZGVlLW1pZGRsZS1iYXNlaW5mby5qYXI=.1\",\\r\\n                \"label\": \"middle_hydee-middle-baseinfo.jar\"\\r\\n            },\\r\\n            {\\r\\n                \"key\": \"bWlkZGxlX3lkamlhLXNybS1nb29kcy5qYXI=.1\",\\r\\n                \"label\": \"middle_ydjia-srm-goods.jar\"\\r\\n            },\\r\\n            {\\r\\n                \"key\": \"aDNfaDMtb3JnbWFuYWdlci1jZW50ZXIuamFy.1\",\\r\\n                \"label\": \"h3_h3-orgmanager-center.jar\"\\r\\n            },\\r\\n            {\\r\\n                \"key\": \"eWRqaWFfeWRqaWEtbWVyY2hhbnQtbWFuYWdlci5qYXI=.1\",\\r\\n                \"label\": \"ydjia_ydjia-merchant-manager.jar\"\\r\\n            },\\r\\n            {\\r\\n                \"key\": \"aDNfaDMtdHJhZGUtY2VudGVyLmphcg==.1\",\\r\\n                \"label\": \"h3_h3-trade-center.jar\"\\r\\n            },\\r\\n            {\\r\\n                \"key\": \"aDNfaDMtcHVyY2hhc2UtY2VudGVyLmphcg==.1\",\\r\\n                \"label\": \"h3_h3-purchase-center.jar\"\\r\\n            },\\r\\n            {\\r\\n                \"key\": \"aDNfaDMtY3VzdG9tZXItY2VudGVyLmphcg==.1\",\\r\\n                \"label\": \"h3_h3-customer-center.jar\"\\r\\n            },\\r\\n            {\\r\\n                \"key\": \"bWlkZGxlX2h5ZGVlLW1pZGRsZS1tZW1iZXIuamFy.1\",\\r\\n                \"label\": \"middle_hydee-middle-member.jar\"\\r\\n            },\\r\\n            {\\r\\n                \"key\": \"aDNfaDMtc3RvcmUtY2VudGVyLmphcg==.1\",\\r\\n                \"label\": \"h3_h3-store-center.jar\"\\r\\n            },\\r\\n            {\\r\\n                \"key\": \"aDNfaDMtd2FyZS1jZW50ZXIuamFy.1\",\\r\\n                \"label\": \"h3_h3-ware-center.jar\"\\r\\n            },\\r\\n            {\\r\\n                \"key\": \"bWFza19tYXNrLXNlcnZlci5qYXI=.1\",\\r\\n                \"label\": \"mask_mask-server.jar\"\\r\\n            },\\r\\n            {\\r\\n                \"key\": \"aDNfaDMtY3VzdG9tcGxhdGZvcm0tcHJvY2Vzcy1lbmdpbmUuamFy.1\",\\r\\n                \"label\": \"h3_h3-customplatform-process-engine.jar\"\\r\\n            },\\r\\n            {\\r\\n                \"key\": \"aDNfaDMtd2FyZWhvdXNlLWNlbnRlci5qYXI=.1\",\\r\\n                \"label\": \"h3_h3-warehouse-center.jar\"\\r\\n            },\\r\\n            {\\r\\n                \"key\": \"aHlkZWVfaHlkZWUtcHJpbnQtcGxhdGZvcm0uamFy.1\",\\r\\n                \"label\": \"hydee_hydee-print-platform.jar\"\\r\\n            },\\r\\n            {\\r\\n                \"key\": \"aDNfaDMtdHJhZGUtY2VudGVyLmphcg==.1\",\\r\\n                \"label\": \"h3_h3-trade-center.jar\"\\r\\n            },\\r\\n            {\\r\\n                \"key\": \"aDNfaDMtc3RvY2stY2VudGVyLmphcg==.1\",\\r\\n                \"label\": \"h3_h3-stock-center.jar\"\\r\\n            },\\r\\n            {\\r\\n                \"key\": \"aDNfaDMtY3VzdG9tZXItY2VudGVyLmphcg==.1\",\\r\\n                \"label\": \"h3_h3-customer-center.jar\"\\r\\n            },\\r\\n            {\\r\\n                \"key\": \"aDNfaDMtd2FyZS1jZW50ZXIuamFy.1\",\\r\\n                \"label\": \"h3_h3-ware-center.jar\"\\r\\n            },\\r\\n            {\\r\\n                \"key\": \"aDNfaDMtYmFzaWMtc2V0dGluZy1jZW50ZXIuamFy.1\",\\r\\n                \"label\": \"h3_h3-basic-setting-center.jar\"\\r\\n            },\\r\\n            {\\r\\n                \"key\": \"aDNfaDMtZHJlYW0tYXBwLmphcg==.1\",\\r\\n                \"label\": \"h3_h3-dream-app.jar\"\\r\\n            },\\r\\n            {\\r\\n                \"key\": \"aDNfaDMtYXV0aG9yaXphdGlvbi1jZW50ZXIuamFy.1\",\\r\\n                \"label\": \"h3_h3-authorization-center.jar\"\\r\\n            },\\r\\n            {\\r\\n                \"key\": \"aDNfaDMtcHVyY2hhc2UtY2VudGVyLmphcg==.1\",\\r\\n                \"label\": \"h3_h3-purchase-center.jar\"\\r\\n            },\\r\\n            {\\r\\n                \"key\": \"aDNfaDMtb3JnbWFuYWdlci1jZW50ZXIuamFy.1\",\\r\\n                \"label\": \"h3_h3-orgmanager-center.jar\"\\r\\n            },\\r\\n            {\\r\\n                \"key\": \"aDNfYmFzZWRhdGEtbWFuYWdlci1zZXJ2ZXIuamFy.1\",\\r\\n                \"label\": \"h3_basedata-manager-server.jar\"\\r\\n            },\\r\\n            {\\r\\n                \"key\": \"aDNfaDMtc3RvcmUtY2VudGVyLmphcg==.1\",\\r\\n                \"label\": \"h3_h3-store-center.jar\"\\r\\n            },\\r\\n            {\\r\\n                \"key\": \"aDNfaDMtc3VwcGxpZXItY2VudGVyLmphcg==.1\",\\r\\n                \"label\": \"h3_h3-supplier-center.jar\"\\r\\n            }\\r\\n        ]\\r\\n    }\\r\\n}\\r\\n\\r\\n\\r\\n\"\"\""
      ],
      "metadata": {
        "id": "qzOqqGAnSY_q"
      },
      "execution_count": 14,
      "outputs": []
    },
    {
      "cell_type": "code",
      "source": [
        "i = 1733\n",
        "llm.invoke(f\"\"\"Classify the following issue as \"bug\", \"enhancement\", \"question\" or \"other\" and rate your classification confidence and issue understandability in range 0 - 100. Your answer should only include:\n",
        "Classification: your classification answer\n",
        "Prediction Confidence: your level of confidence\n",
        "Issue Understandability: level of understandability\n",
        "Do not provide any explanation.\n",
        "Issue Title: {test_sample.loc[i,'original_issue_title']}\n",
        "Issue Body: {issue_body}\n",
        "\"\"\")"
      ],
      "metadata": {
        "colab": {
          "base_uri": "https://localhost:8080/",
          "height": 52
        },
        "id": "sHOBTCdmTN5l",
        "outputId": "764b4481-125e-4c0f-c25a-865867445fa8"
      },
      "execution_count": 15,
      "outputs": [
        {
          "output_type": "execute_result",
          "data": {
            "text/plain": [
              "'Classification: bug\\nPrediction Confidence:  , 80\\nIssue Understandability: 90'"
            ],
            "application/vnd.google.colaboratory.intrinsic+json": {
              "type": "string"
            }
          },
          "metadata": {},
          "execution_count": 15
        }
      ]
    }
  ]
}