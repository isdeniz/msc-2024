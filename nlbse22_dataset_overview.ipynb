{
 "cells": [
  {
   "cell_type": "code",
   "execution_count": 1,
   "metadata": {},
   "outputs": [],
   "source": [
    "import pandas as pd\n",
    "pd.set_option('display.max_colwidth', None)"
   ]
  },
  {
   "cell_type": "markdown",
   "metadata": {},
   "source": [
    "## Retrieving datasets"
   ]
  },
  {
   "cell_type": "code",
   "execution_count": 2,
   "metadata": {},
   "outputs": [],
   "source": [
    "test = pd.read_csv('/Users/isdeniz/Documents/Documents_isdeniz/github/results-1707/nlbse22/original_datasets/github-labels-top3-803k-test.csv')\n",
    "train = pd.read_csv('/Users/isdeniz/Documents/Documents_isdeniz/github/results-1707/nlbse22/original_datasets/github-labels-top3-803k-train.csv')"
   ]
  },
  {
   "cell_type": "code",
   "execution_count": 3,
   "metadata": {},
   "outputs": [
    {
     "name": "stdout",
     "output_type": "stream",
     "text": [
      "test: (80518, 8) train: (722899, 8)\n"
     ]
    }
   ],
   "source": [
    "print('test:', test.shape, 'train:', train.shape)"
   ]
  },
  {
   "cell_type": "code",
   "execution_count": 4,
   "metadata": {},
   "outputs": [
    {
     "data": {
      "text/html": [
       "<div>\n",
       "<style scoped>\n",
       "    .dataframe tbody tr th:only-of-type {\n",
       "        vertical-align: middle;\n",
       "    }\n",
       "\n",
       "    .dataframe tbody tr th {\n",
       "        vertical-align: top;\n",
       "    }\n",
       "\n",
       "    .dataframe thead th {\n",
       "        text-align: right;\n",
       "    }\n",
       "</style>\n",
       "<table border=\"1\" class=\"dataframe\">\n",
       "  <thead>\n",
       "    <tr style=\"text-align: right;\">\n",
       "      <th></th>\n",
       "      <th>Unnamed: 0</th>\n",
       "      <th>issue_url</th>\n",
       "      <th>issue_label</th>\n",
       "      <th>issue_created_at</th>\n",
       "      <th>issue_author_association</th>\n",
       "      <th>repository_url</th>\n",
       "      <th>issue_title</th>\n",
       "      <th>issue_body</th>\n",
       "    </tr>\n",
       "  </thead>\n",
       "  <tbody>\n",
       "    <tr>\n",
       "      <th>0</th>\n",
       "      <td>0</td>\n",
       "      <td>https://api.github.com/repos/eamodio/vscode-gitlens/issues/1302</td>\n",
       "      <td>bug</td>\n",
       "      <td>2021-01-02T18:07:30Z</td>\n",
       "      <td>NONE</td>\n",
       "      <td>https://api.github.com/repos/eamodio/vscode-gitlens</td>\n",
       "      <td>Welcome screen on every editor window is very tedious</td>\n",
       "      <td>I just discovered Gitlens and find the functionality useful, thank you to all who contribute.\\r\\n\\r\\nI have about a dozen editor windows open, and the install process added a Gitlens welcome tab to each and every one of them.  Combined with the snowflake effect, all of the sudden VScode was consuming 300-400% cpu and my fan was raging, as soon as I hunted them all down everything was back to fine.  The welcome note content is great (although putting it on _all_ the windows is a bit much, don't know how much control you have on that).  But overall it was a bit of a sour first-use experience, just wanted to provide that feedback.</td>\n",
       "    </tr>\n",
       "    <tr>\n",
       "      <th>1</th>\n",
       "      <td>1</td>\n",
       "      <td>https://api.github.com/repos/binwiederhier/pcopy/issues/9</td>\n",
       "      <td>bug</td>\n",
       "      <td>2020-12-31T18:19:31Z</td>\n",
       "      <td>OWNER</td>\n",
       "      <td>https://api.github.com/repos/binwiederhier/pcopy</td>\n",
       "      <td>\"pcopy invite\" and \"pcopy paste abc:\" does not check if clipboard exists</td>\n",
       "      <td>NaN</td>\n",
       "    </tr>\n",
       "  </tbody>\n",
       "</table>\n",
       "</div>"
      ],
      "text/plain": [
       "   Unnamed: 0  \\\n",
       "0           0   \n",
       "1           1   \n",
       "\n",
       "                                                         issue_url  \\\n",
       "0  https://api.github.com/repos/eamodio/vscode-gitlens/issues/1302   \n",
       "1        https://api.github.com/repos/binwiederhier/pcopy/issues/9   \n",
       "\n",
       "  issue_label      issue_created_at issue_author_association  \\\n",
       "0         bug  2021-01-02T18:07:30Z                     NONE   \n",
       "1         bug  2020-12-31T18:19:31Z                    OWNER   \n",
       "\n",
       "                                        repository_url  \\\n",
       "0  https://api.github.com/repos/eamodio/vscode-gitlens   \n",
       "1     https://api.github.com/repos/binwiederhier/pcopy   \n",
       "\n",
       "                                                                issue_title  \\\n",
       "0                     Welcome screen on every editor window is very tedious   \n",
       "1  \"pcopy invite\" and \"pcopy paste abc:\" does not check if clipboard exists   \n",
       "\n",
       "                                                                                                                                                                                                                                                                                                                                                                                                                                                                                                                                                                                                                                                    issue_body  \n",
       "0  I just discovered Gitlens and find the functionality useful, thank you to all who contribute.\\r\\n\\r\\nI have about a dozen editor windows open, and the install process added a Gitlens welcome tab to each and every one of them.  Combined with the snowflake effect, all of the sudden VScode was consuming 300-400% cpu and my fan was raging, as soon as I hunted them all down everything was back to fine.  The welcome note content is great (although putting it on _all_ the windows is a bit much, don't know how much control you have on that).  But overall it was a bit of a sour first-use experience, just wanted to provide that feedback.  \n",
       "1                                                                                                                                                                                                                                                                                                                                                                                                                                                                                                                                                                                                                                                          NaN  "
      ]
     },
     "execution_count": 4,
     "metadata": {},
     "output_type": "execute_result"
    }
   ],
   "source": [
    "train.head(2)"
   ]
  },
  {
   "cell_type": "code",
   "execution_count": 5,
   "metadata": {},
   "outputs": [
    {
     "data": {
      "text/html": [
       "<div>\n",
       "<style scoped>\n",
       "    .dataframe tbody tr th:only-of-type {\n",
       "        vertical-align: middle;\n",
       "    }\n",
       "\n",
       "    .dataframe tbody tr th {\n",
       "        vertical-align: top;\n",
       "    }\n",
       "\n",
       "    .dataframe thead th {\n",
       "        text-align: right;\n",
       "    }\n",
       "</style>\n",
       "<table border=\"1\" class=\"dataframe\">\n",
       "  <thead>\n",
       "    <tr style=\"text-align: right;\">\n",
       "      <th></th>\n",
       "      <th>Unnamed: 0</th>\n",
       "      <th>issue_url</th>\n",
       "      <th>issue_label</th>\n",
       "      <th>issue_created_at</th>\n",
       "      <th>issue_author_association</th>\n",
       "      <th>repository_url</th>\n",
       "      <th>issue_title</th>\n",
       "      <th>issue_body</th>\n",
       "    </tr>\n",
       "  </thead>\n",
       "  <tbody>\n",
       "    <tr>\n",
       "      <th>0</th>\n",
       "      <td>6</td>\n",
       "      <td>https://api.github.com/repos/tlnagy/TIFF.jl/issues/7</td>\n",
       "      <td>enhancement</td>\n",
       "      <td>2020-04-07T09:08:50Z</td>\n",
       "      <td>NONE</td>\n",
       "      <td>https://api.github.com/repos/tlnagy/TIFF.jl</td>\n",
       "      <td>ERROR: KeyError: key (TIFF.SAMPLEFORMAT_INT, 0x0008) not found</td>\n",
       "      <td>One more error might need to be caught.\\r\\n`4D-series.ome.tif` is sample file from [OME-TIFF website]( https://docs.openmicroscopy.org/ome-model/6.0.0/ome-tiff/data.html).\\r\\n\\r\\n```julia\\r\\njulia&gt; TIFF.load(\"4D-series.ome.tif\")\\r\\nERROR: KeyError: key (TIFF.SAMPLEFORMAT_INT, 0x0008) not found\\r\\nStacktrace:\\r\\n [1] getindex(::Dict{Tuple{TIFF.SampleFormats,Int64},DataType}, ::Tuple{TIFF.SampleFormats,UInt16}) at ./dict.jl:477\\r\\n [2] output(::TIFF.IFD{UInt32}) at /home/hf/.julia/dev/TIFF/src/ifds.jl:113\\r\\n [3] load(::String) at /home/hf/.julia/dev/TIFF/src/load.jl:14\\r\\n [4] top-level scope at REPL[2]:1\\r\\n```\\r\\n</td>\n",
       "    </tr>\n",
       "    <tr>\n",
       "      <th>1</th>\n",
       "      <td>19</td>\n",
       "      <td>https://api.github.com/repos/tisboyo/Twitch_Bot/issues/57</td>\n",
       "      <td>enhancement</td>\n",
       "      <td>2020-11-27T07:17:21Z</td>\n",
       "      <td>OWNER</td>\n",
       "      <td>https://api.github.com/repos/tisboyo/Twitch_Bot</td>\n",
       "      <td>Add database backup to dropbox</td>\n",
       "      <td>NaN</td>\n",
       "    </tr>\n",
       "  </tbody>\n",
       "</table>\n",
       "</div>"
      ],
      "text/plain": [
       "   Unnamed: 0                                                  issue_url  \\\n",
       "0           6       https://api.github.com/repos/tlnagy/TIFF.jl/issues/7   \n",
       "1          19  https://api.github.com/repos/tisboyo/Twitch_Bot/issues/57   \n",
       "\n",
       "   issue_label      issue_created_at issue_author_association  \\\n",
       "0  enhancement  2020-04-07T09:08:50Z                     NONE   \n",
       "1  enhancement  2020-11-27T07:17:21Z                    OWNER   \n",
       "\n",
       "                                    repository_url  \\\n",
       "0      https://api.github.com/repos/tlnagy/TIFF.jl   \n",
       "1  https://api.github.com/repos/tisboyo/Twitch_Bot   \n",
       "\n",
       "                                                      issue_title  \\\n",
       "0  ERROR: KeyError: key (TIFF.SAMPLEFORMAT_INT, 0x0008) not found   \n",
       "1                                  Add database backup to dropbox   \n",
       "\n",
       "                                                                                                                                                                                                                                                                                                                                                                                                                                                                                                                                                                                                                                       issue_body  \n",
       "0  One more error might need to be caught.\\r\\n`4D-series.ome.tif` is sample file from [OME-TIFF website]( https://docs.openmicroscopy.org/ome-model/6.0.0/ome-tiff/data.html).\\r\\n\\r\\n```julia\\r\\njulia> TIFF.load(\"4D-series.ome.tif\")\\r\\nERROR: KeyError: key (TIFF.SAMPLEFORMAT_INT, 0x0008) not found\\r\\nStacktrace:\\r\\n [1] getindex(::Dict{Tuple{TIFF.SampleFormats,Int64},DataType}, ::Tuple{TIFF.SampleFormats,UInt16}) at ./dict.jl:477\\r\\n [2] output(::TIFF.IFD{UInt32}) at /home/hf/.julia/dev/TIFF/src/ifds.jl:113\\r\\n [3] load(::String) at /home/hf/.julia/dev/TIFF/src/load.jl:14\\r\\n [4] top-level scope at REPL[2]:1\\r\\n```\\r\\n  \n",
       "1                                                                                                                                                                                                                                                                                                                                                                                                                                                                                                                                                                                                                                             NaN  "
      ]
     },
     "execution_count": 5,
     "metadata": {},
     "output_type": "execute_result"
    }
   ],
   "source": [
    "test.head(2)"
   ]
  },
  {
   "cell_type": "markdown",
   "metadata": {},
   "source": [
    "## Distribution of labels"
   ]
  },
  {
   "cell_type": "markdown",
   "metadata": {},
   "source": [
    "### Train"
   ]
  },
  {
   "cell_type": "code",
   "execution_count": 6,
   "metadata": {},
   "outputs": [
    {
     "data": {
      "text/plain": [
       "issue_label\n",
       "bug            361103\n",
       "enhancement    299374\n",
       "question        62422\n",
       "Name: count, dtype: int64"
      ]
     },
     "execution_count": 6,
     "metadata": {},
     "output_type": "execute_result"
    }
   ],
   "source": [
    "train['issue_label'].value_counts()"
   ]
  },
  {
   "cell_type": "code",
   "execution_count": 7,
   "metadata": {},
   "outputs": [
    {
     "data": {
      "text/plain": [
       "issue_label\n",
       "bug            50.0\n",
       "enhancement    41.0\n",
       "question        9.0\n",
       "Name: proportion, dtype: float64"
      ]
     },
     "execution_count": 7,
     "metadata": {},
     "output_type": "execute_result"
    }
   ],
   "source": [
    "label_train = (train['issue_label'].value_counts(normalize=True) * 100).round(0)\n",
    "label_train"
   ]
  },
  {
   "cell_type": "markdown",
   "metadata": {},
   "source": [
    "### Test"
   ]
  },
  {
   "cell_type": "code",
   "execution_count": 8,
   "metadata": {},
   "outputs": [
    {
     "data": {
      "text/plain": [
       "issue_label\n",
       "bug            40288\n",
       "enhancement    33203\n",
       "question        7027\n",
       "Name: count, dtype: int64"
      ]
     },
     "execution_count": 8,
     "metadata": {},
     "output_type": "execute_result"
    }
   ],
   "source": [
    "test['issue_label'].value_counts()"
   ]
  },
  {
   "cell_type": "code",
   "execution_count": 9,
   "metadata": {},
   "outputs": [
    {
     "data": {
      "text/plain": [
       "issue_label\n",
       "bug            50.0\n",
       "enhancement    41.0\n",
       "question        9.0\n",
       "Name: proportion, dtype: float64"
      ]
     },
     "execution_count": 9,
     "metadata": {},
     "output_type": "execute_result"
    }
   ],
   "source": [
    "label_test = (test['issue_label'].value_counts(normalize=True) * 100).round(0)\n",
    "label_test"
   ]
  },
  {
   "cell_type": "markdown",
   "metadata": {},
   "source": [
    "### Overall"
   ]
  },
  {
   "cell_type": "code",
   "execution_count": 10,
   "metadata": {},
   "outputs": [
    {
     "name": "stdout",
     "output_type": "stream",
     "text": [
      "(803417, 8)\n"
     ]
    }
   ],
   "source": [
    "combined = pd.concat([train, test], ignore_index = True)\n",
    "combined.reset_index(drop = True, inplace = True)\n",
    "print(combined.shape)"
   ]
  },
  {
   "cell_type": "code",
   "execution_count": 11,
   "metadata": {},
   "outputs": [
    {
     "data": {
      "text/plain": [
       "issue_label\n",
       "bug            401391\n",
       "enhancement    332577\n",
       "question        69449\n",
       "Name: count, dtype: int64"
      ]
     },
     "execution_count": 11,
     "metadata": {},
     "output_type": "execute_result"
    }
   ],
   "source": [
    "combined['issue_label'].value_counts()"
   ]
  },
  {
   "cell_type": "code",
   "execution_count": 12,
   "metadata": {},
   "outputs": [
    {
     "data": {
      "text/plain": [
       "issue_label\n",
       "bug            50.0\n",
       "enhancement    41.0\n",
       "question        9.0\n",
       "Name: proportion, dtype: float64"
      ]
     },
     "execution_count": 12,
     "metadata": {},
     "output_type": "execute_result"
    }
   ],
   "source": [
    "label_combined = (combined['issue_label'].value_counts(normalize=True) * 100).round(0)\n",
    "label_combined"
   ]
  },
  {
   "cell_type": "markdown",
   "metadata": {},
   "source": [
    "## Number of repositories involved"
   ]
  },
  {
   "cell_type": "code",
   "execution_count": 13,
   "metadata": {},
   "outputs": [
    {
     "data": {
      "text/html": [
       "<div>\n",
       "<style scoped>\n",
       "    .dataframe tbody tr th:only-of-type {\n",
       "        vertical-align: middle;\n",
       "    }\n",
       "\n",
       "    .dataframe tbody tr th {\n",
       "        vertical-align: top;\n",
       "    }\n",
       "\n",
       "    .dataframe thead th {\n",
       "        text-align: right;\n",
       "    }\n",
       "</style>\n",
       "<table border=\"1\" class=\"dataframe\">\n",
       "  <thead>\n",
       "    <tr style=\"text-align: right;\">\n",
       "      <th></th>\n",
       "      <th>Unnamed: 0</th>\n",
       "      <th>issue_url</th>\n",
       "      <th>issue_label</th>\n",
       "      <th>issue_created_at</th>\n",
       "      <th>issue_author_association</th>\n",
       "      <th>repository_url</th>\n",
       "      <th>issue_title</th>\n",
       "      <th>issue_body</th>\n",
       "    </tr>\n",
       "  </thead>\n",
       "  <tbody>\n",
       "    <tr>\n",
       "      <th>0</th>\n",
       "      <td>0</td>\n",
       "      <td>https://api.github.com/repos/eamodio/vscode-gitlens/issues/1302</td>\n",
       "      <td>bug</td>\n",
       "      <td>2021-01-02T18:07:30Z</td>\n",
       "      <td>NONE</td>\n",
       "      <td>https://api.github.com/repos/eamodio/vscode-gitlens</td>\n",
       "      <td>Welcome screen on every editor window is very tedious</td>\n",
       "      <td>I just discovered Gitlens and find the functionality useful, thank you to all who contribute.\\r\\n\\r\\nI have about a dozen editor windows open, and the install process added a Gitlens welcome tab to each and every one of them.  Combined with the snowflake effect, all of the sudden VScode was consuming 300-400% cpu and my fan was raging, as soon as I hunted them all down everything was back to fine.  The welcome note content is great (although putting it on _all_ the windows is a bit much, don't know how much control you have on that).  But overall it was a bit of a sour first-use experience, just wanted to provide that feedback.</td>\n",
       "    </tr>\n",
       "    <tr>\n",
       "      <th>1</th>\n",
       "      <td>1</td>\n",
       "      <td>https://api.github.com/repos/binwiederhier/pcopy/issues/9</td>\n",
       "      <td>bug</td>\n",
       "      <td>2020-12-31T18:19:31Z</td>\n",
       "      <td>OWNER</td>\n",
       "      <td>https://api.github.com/repos/binwiederhier/pcopy</td>\n",
       "      <td>\"pcopy invite\" and \"pcopy paste abc:\" does not check if clipboard exists</td>\n",
       "      <td>NaN</td>\n",
       "    </tr>\n",
       "  </tbody>\n",
       "</table>\n",
       "</div>"
      ],
      "text/plain": [
       "   Unnamed: 0  \\\n",
       "0           0   \n",
       "1           1   \n",
       "\n",
       "                                                         issue_url  \\\n",
       "0  https://api.github.com/repos/eamodio/vscode-gitlens/issues/1302   \n",
       "1        https://api.github.com/repos/binwiederhier/pcopy/issues/9   \n",
       "\n",
       "  issue_label      issue_created_at issue_author_association  \\\n",
       "0         bug  2021-01-02T18:07:30Z                     NONE   \n",
       "1         bug  2020-12-31T18:19:31Z                    OWNER   \n",
       "\n",
       "                                        repository_url  \\\n",
       "0  https://api.github.com/repos/eamodio/vscode-gitlens   \n",
       "1     https://api.github.com/repos/binwiederhier/pcopy   \n",
       "\n",
       "                                                                issue_title  \\\n",
       "0                     Welcome screen on every editor window is very tedious   \n",
       "1  \"pcopy invite\" and \"pcopy paste abc:\" does not check if clipboard exists   \n",
       "\n",
       "                                                                                                                                                                                                                                                                                                                                                                                                                                                                                                                                                                                                                                                    issue_body  \n",
       "0  I just discovered Gitlens and find the functionality useful, thank you to all who contribute.\\r\\n\\r\\nI have about a dozen editor windows open, and the install process added a Gitlens welcome tab to each and every one of them.  Combined with the snowflake effect, all of the sudden VScode was consuming 300-400% cpu and my fan was raging, as soon as I hunted them all down everything was back to fine.  The welcome note content is great (although putting it on _all_ the windows is a bit much, don't know how much control you have on that).  But overall it was a bit of a sour first-use experience, just wanted to provide that feedback.  \n",
       "1                                                                                                                                                                                                                                                                                                                                                                                                                                                                                                                                                                                                                                                          NaN  "
      ]
     },
     "execution_count": 13,
     "metadata": {},
     "output_type": "execute_result"
    }
   ],
   "source": [
    "combined.head(2)"
   ]
  },
  {
   "cell_type": "code",
   "execution_count": 14,
   "metadata": {},
   "outputs": [
    {
     "data": {
      "text/plain": [
       "127595"
      ]
     },
     "execution_count": 14,
     "metadata": {},
     "output_type": "execute_result"
    }
   ],
   "source": [
    "combined['repository_url'].nunique()"
   ]
  },
  {
   "cell_type": "code",
   "execution_count": 15,
   "metadata": {},
   "outputs": [],
   "source": [
    "combined['repository_name'] = combined['repository_url'].str.extract(r'https://api\\.github\\.com/repos/(.+)')"
   ]
  },
  {
   "cell_type": "code",
   "execution_count": 16,
   "metadata": {},
   "outputs": [
    {
     "data": {
      "text/html": [
       "<div>\n",
       "<style scoped>\n",
       "    .dataframe tbody tr th:only-of-type {\n",
       "        vertical-align: middle;\n",
       "    }\n",
       "\n",
       "    .dataframe tbody tr th {\n",
       "        vertical-align: top;\n",
       "    }\n",
       "\n",
       "    .dataframe thead th {\n",
       "        text-align: right;\n",
       "    }\n",
       "</style>\n",
       "<table border=\"1\" class=\"dataframe\">\n",
       "  <thead>\n",
       "    <tr style=\"text-align: right;\">\n",
       "      <th></th>\n",
       "      <th>Unnamed: 0</th>\n",
       "      <th>issue_url</th>\n",
       "      <th>issue_label</th>\n",
       "      <th>issue_created_at</th>\n",
       "      <th>issue_author_association</th>\n",
       "      <th>repository_url</th>\n",
       "      <th>issue_title</th>\n",
       "      <th>issue_body</th>\n",
       "      <th>repository_name</th>\n",
       "    </tr>\n",
       "  </thead>\n",
       "  <tbody>\n",
       "    <tr>\n",
       "      <th>0</th>\n",
       "      <td>0</td>\n",
       "      <td>https://api.github.com/repos/eamodio/vscode-gitlens/issues/1302</td>\n",
       "      <td>bug</td>\n",
       "      <td>2021-01-02T18:07:30Z</td>\n",
       "      <td>NONE</td>\n",
       "      <td>https://api.github.com/repos/eamodio/vscode-gitlens</td>\n",
       "      <td>Welcome screen on every editor window is very tedious</td>\n",
       "      <td>I just discovered Gitlens and find the functionality useful, thank you to all who contribute.\\r\\n\\r\\nI have about a dozen editor windows open, and the install process added a Gitlens welcome tab to each and every one of them.  Combined with the snowflake effect, all of the sudden VScode was consuming 300-400% cpu and my fan was raging, as soon as I hunted them all down everything was back to fine.  The welcome note content is great (although putting it on _all_ the windows is a bit much, don't know how much control you have on that).  But overall it was a bit of a sour first-use experience, just wanted to provide that feedback.</td>\n",
       "      <td>eamodio/vscode-gitlens</td>\n",
       "    </tr>\n",
       "    <tr>\n",
       "      <th>1</th>\n",
       "      <td>1</td>\n",
       "      <td>https://api.github.com/repos/binwiederhier/pcopy/issues/9</td>\n",
       "      <td>bug</td>\n",
       "      <td>2020-12-31T18:19:31Z</td>\n",
       "      <td>OWNER</td>\n",
       "      <td>https://api.github.com/repos/binwiederhier/pcopy</td>\n",
       "      <td>\"pcopy invite\" and \"pcopy paste abc:\" does not check if clipboard exists</td>\n",
       "      <td>NaN</td>\n",
       "      <td>binwiederhier/pcopy</td>\n",
       "    </tr>\n",
       "  </tbody>\n",
       "</table>\n",
       "</div>"
      ],
      "text/plain": [
       "   Unnamed: 0  \\\n",
       "0           0   \n",
       "1           1   \n",
       "\n",
       "                                                         issue_url  \\\n",
       "0  https://api.github.com/repos/eamodio/vscode-gitlens/issues/1302   \n",
       "1        https://api.github.com/repos/binwiederhier/pcopy/issues/9   \n",
       "\n",
       "  issue_label      issue_created_at issue_author_association  \\\n",
       "0         bug  2021-01-02T18:07:30Z                     NONE   \n",
       "1         bug  2020-12-31T18:19:31Z                    OWNER   \n",
       "\n",
       "                                        repository_url  \\\n",
       "0  https://api.github.com/repos/eamodio/vscode-gitlens   \n",
       "1     https://api.github.com/repos/binwiederhier/pcopy   \n",
       "\n",
       "                                                                issue_title  \\\n",
       "0                     Welcome screen on every editor window is very tedious   \n",
       "1  \"pcopy invite\" and \"pcopy paste abc:\" does not check if clipboard exists   \n",
       "\n",
       "                                                                                                                                                                                                                                                                                                                                                                                                                                                                                                                                                                                                                                                    issue_body  \\\n",
       "0  I just discovered Gitlens and find the functionality useful, thank you to all who contribute.\\r\\n\\r\\nI have about a dozen editor windows open, and the install process added a Gitlens welcome tab to each and every one of them.  Combined with the snowflake effect, all of the sudden VScode was consuming 300-400% cpu and my fan was raging, as soon as I hunted them all down everything was back to fine.  The welcome note content is great (although putting it on _all_ the windows is a bit much, don't know how much control you have on that).  But overall it was a bit of a sour first-use experience, just wanted to provide that feedback.   \n",
       "1                                                                                                                                                                                                                                                                                                                                                                                                                                                                                                                                                                                                                                                          NaN   \n",
       "\n",
       "          repository_name  \n",
       "0  eamodio/vscode-gitlens  \n",
       "1     binwiederhier/pcopy  "
      ]
     },
     "execution_count": 16,
     "metadata": {},
     "output_type": "execute_result"
    }
   ],
   "source": [
    "combined.head(2)"
   ]
  },
  {
   "cell_type": "code",
   "execution_count": 17,
   "metadata": {},
   "outputs": [
    {
     "data": {
      "text/plain": [
       "127593"
      ]
     },
     "execution_count": 17,
     "metadata": {},
     "output_type": "execute_result"
    }
   ],
   "source": [
    "combined['repository_name'].nunique()"
   ]
  },
  {
   "cell_type": "code",
   "execution_count": 18,
   "metadata": {},
   "outputs": [],
   "source": [
    "combined['repository_owner'] = combined['repository_name'].str.split('/', n = 1, expand = False).str[0]"
   ]
  },
  {
   "cell_type": "code",
   "execution_count": 19,
   "metadata": {},
   "outputs": [
    {
     "data": {
      "text/html": [
       "<div>\n",
       "<style scoped>\n",
       "    .dataframe tbody tr th:only-of-type {\n",
       "        vertical-align: middle;\n",
       "    }\n",
       "\n",
       "    .dataframe tbody tr th {\n",
       "        vertical-align: top;\n",
       "    }\n",
       "\n",
       "    .dataframe thead th {\n",
       "        text-align: right;\n",
       "    }\n",
       "</style>\n",
       "<table border=\"1\" class=\"dataframe\">\n",
       "  <thead>\n",
       "    <tr style=\"text-align: right;\">\n",
       "      <th></th>\n",
       "      <th>Unnamed: 0</th>\n",
       "      <th>issue_url</th>\n",
       "      <th>issue_label</th>\n",
       "      <th>issue_created_at</th>\n",
       "      <th>issue_author_association</th>\n",
       "      <th>repository_url</th>\n",
       "      <th>issue_title</th>\n",
       "      <th>issue_body</th>\n",
       "      <th>repository_name</th>\n",
       "      <th>repository_owner</th>\n",
       "    </tr>\n",
       "  </thead>\n",
       "  <tbody>\n",
       "    <tr>\n",
       "      <th>0</th>\n",
       "      <td>0</td>\n",
       "      <td>https://api.github.com/repos/eamodio/vscode-gitlens/issues/1302</td>\n",
       "      <td>bug</td>\n",
       "      <td>2021-01-02T18:07:30Z</td>\n",
       "      <td>NONE</td>\n",
       "      <td>https://api.github.com/repos/eamodio/vscode-gitlens</td>\n",
       "      <td>Welcome screen on every editor window is very tedious</td>\n",
       "      <td>I just discovered Gitlens and find the functionality useful, thank you to all who contribute.\\r\\n\\r\\nI have about a dozen editor windows open, and the install process added a Gitlens welcome tab to each and every one of them.  Combined with the snowflake effect, all of the sudden VScode was consuming 300-400% cpu and my fan was raging, as soon as I hunted them all down everything was back to fine.  The welcome note content is great (although putting it on _all_ the windows is a bit much, don't know how much control you have on that).  But overall it was a bit of a sour first-use experience, just wanted to provide that feedback.</td>\n",
       "      <td>eamodio/vscode-gitlens</td>\n",
       "      <td>eamodio</td>\n",
       "    </tr>\n",
       "    <tr>\n",
       "      <th>1</th>\n",
       "      <td>1</td>\n",
       "      <td>https://api.github.com/repos/binwiederhier/pcopy/issues/9</td>\n",
       "      <td>bug</td>\n",
       "      <td>2020-12-31T18:19:31Z</td>\n",
       "      <td>OWNER</td>\n",
       "      <td>https://api.github.com/repos/binwiederhier/pcopy</td>\n",
       "      <td>\"pcopy invite\" and \"pcopy paste abc:\" does not check if clipboard exists</td>\n",
       "      <td>NaN</td>\n",
       "      <td>binwiederhier/pcopy</td>\n",
       "      <td>binwiederhier</td>\n",
       "    </tr>\n",
       "  </tbody>\n",
       "</table>\n",
       "</div>"
      ],
      "text/plain": [
       "   Unnamed: 0  \\\n",
       "0           0   \n",
       "1           1   \n",
       "\n",
       "                                                         issue_url  \\\n",
       "0  https://api.github.com/repos/eamodio/vscode-gitlens/issues/1302   \n",
       "1        https://api.github.com/repos/binwiederhier/pcopy/issues/9   \n",
       "\n",
       "  issue_label      issue_created_at issue_author_association  \\\n",
       "0         bug  2021-01-02T18:07:30Z                     NONE   \n",
       "1         bug  2020-12-31T18:19:31Z                    OWNER   \n",
       "\n",
       "                                        repository_url  \\\n",
       "0  https://api.github.com/repos/eamodio/vscode-gitlens   \n",
       "1     https://api.github.com/repos/binwiederhier/pcopy   \n",
       "\n",
       "                                                                issue_title  \\\n",
       "0                     Welcome screen on every editor window is very tedious   \n",
       "1  \"pcopy invite\" and \"pcopy paste abc:\" does not check if clipboard exists   \n",
       "\n",
       "                                                                                                                                                                                                                                                                                                                                                                                                                                                                                                                                                                                                                                                    issue_body  \\\n",
       "0  I just discovered Gitlens and find the functionality useful, thank you to all who contribute.\\r\\n\\r\\nI have about a dozen editor windows open, and the install process added a Gitlens welcome tab to each and every one of them.  Combined with the snowflake effect, all of the sudden VScode was consuming 300-400% cpu and my fan was raging, as soon as I hunted them all down everything was back to fine.  The welcome note content is great (although putting it on _all_ the windows is a bit much, don't know how much control you have on that).  But overall it was a bit of a sour first-use experience, just wanted to provide that feedback.   \n",
       "1                                                                                                                                                                                                                                                                                                                                                                                                                                                                                                                                                                                                                                                          NaN   \n",
       "\n",
       "          repository_name repository_owner  \n",
       "0  eamodio/vscode-gitlens          eamodio  \n",
       "1     binwiederhier/pcopy    binwiederhier  "
      ]
     },
     "execution_count": 19,
     "metadata": {},
     "output_type": "execute_result"
    }
   ],
   "source": [
    "combined.head(2)"
   ]
  },
  {
   "cell_type": "code",
   "execution_count": 20,
   "metadata": {},
   "outputs": [
    {
     "data": {
      "text/plain": [
       "85504"
      ]
     },
     "execution_count": 20,
     "metadata": {},
     "output_type": "execute_result"
    }
   ],
   "source": [
    "combined['repository_owner'].nunique()"
   ]
  },
  {
   "cell_type": "code",
   "execution_count": 21,
   "metadata": {},
   "outputs": [
    {
     "data": {
      "text/plain": [
       "2"
      ]
     },
     "execution_count": 21,
     "metadata": {},
     "output_type": "execute_result"
    }
   ],
   "source": [
    "combined['repository_name'].isna().sum()"
   ]
  },
  {
   "cell_type": "code",
   "execution_count": 22,
   "metadata": {},
   "outputs": [
    {
     "data": {
      "text/html": [
       "<div>\n",
       "<style scoped>\n",
       "    .dataframe tbody tr th:only-of-type {\n",
       "        vertical-align: middle;\n",
       "    }\n",
       "\n",
       "    .dataframe tbody tr th {\n",
       "        vertical-align: top;\n",
       "    }\n",
       "\n",
       "    .dataframe thead th {\n",
       "        text-align: right;\n",
       "    }\n",
       "</style>\n",
       "<table border=\"1\" class=\"dataframe\">\n",
       "  <thead>\n",
       "    <tr style=\"text-align: right;\">\n",
       "      <th></th>\n",
       "      <th>Unnamed: 0</th>\n",
       "      <th>issue_url</th>\n",
       "      <th>issue_label</th>\n",
       "      <th>issue_created_at</th>\n",
       "      <th>issue_author_association</th>\n",
       "      <th>repository_url</th>\n",
       "      <th>issue_title</th>\n",
       "      <th>issue_body</th>\n",
       "      <th>repository_name</th>\n",
       "      <th>repository_owner</th>\n",
       "    </tr>\n",
       "  </thead>\n",
       "  <tbody>\n",
       "    <tr>\n",
       "      <th>237106</th>\n",
       "      <td>263728</td>\n",
       "      <td>https://arielvalentin.review-lab.github.com/api/v3/repos/lightstep/ls-trace-rb/issues/3</td>\n",
       "      <td>enhancement</td>\n",
       "      <td>2020-01-29T17:10:14Z</td>\n",
       "      <td>NONE</td>\n",
       "      <td>https://arielvalentin.review-lab.github.com/api/v3/repos/lightstep/ls-trace-rb</td>\n",
       "      <td>Add Backward Compatible Support with OpenTracing Request Propagation</td>\n",
       "      <td>Our existing services use LightStep for distributed tracing (http propagation with `ot-*` headers) and I would like to migrate to using `ls-trace` without having to upgrade all of our services to the latest version and also convert them to use `B3` propagation.\\r\\n\\r\\nIt would be helpful if the existing `HTTPPropagator` would also have support for LightStep's custom headers in addition to `B3` and `Datadog`:\\r\\n\\r\\nhttps://github.com/lightstep/ls-trace-rb/blob/86b1dd4896cf64d633957cfd87ad6bdf34fcbcb9/lib/ddtrace/propagation/http_propagator.rb#L14\\r\\n\\r\\nE.g. The `TEXT_MAP` propagator uses `DistributedHeaders` instead of the more restrictive `Headers` used by the `RACK_MAP` \\r\\nhttps://github.com/lightstep/ls-trace-rb/blob/86b1dd4896cf64d633957cfd87ad6bdf34fcbcb9/lib/ddtrace/opentracer/text_map_propagator.rb#L41\\r\\n\\r\\nhttps://github.com/lightstep/ls-trace-rb/blob/86b1dd4896cf64d633957cfd87ad6bdf34fcbcb9/lib/ddtrace/distributed_tracing/headers/datadog.rb#L22\\r\\n\\r\\nhttps://github.com/lightstep/ls-trace-rb/blob/86b1dd4896cf64d633957cfd87ad6bdf34fcbcb9/lib/ddtrace/opentracer/tracer.rb#L187\\r\\n\\r\\nThanks!</td>\n",
       "      <td>NaN</td>\n",
       "      <td>NaN</td>\n",
       "    </tr>\n",
       "    <tr>\n",
       "      <th>609423</th>\n",
       "      <td>677256</td>\n",
       "      <td>https://oneill38.review-lab.github.com/api/v3/repos/Oneill38/sit-test/issues/13</td>\n",
       "      <td>bug</td>\n",
       "      <td>2021-04-28T19:33:26Z</td>\n",
       "      <td>OWNER</td>\n",
       "      <td>https://oneill38.review-lab.github.com/api/v3/repos/Oneill38/sit-test</td>\n",
       "      <td>dagdasgasdg</td>\n",
       "      <td>### brew config\\n\\n![broken_top_color](https://user-images.githubusercontent.com/6576820/116462031-dc642280-a81d-11eb-98cb-42b05f9305c1.jpg)\\r\\n\\r\\n\\n\\n### brew doctor 3\\n\\nasdfad\\n\\n### brew doctor\\n\\n_No response_\\n\\n### What kinds of cats do you like?\\n\\n- [X] Orange cat (required. Everyone likes orange cats.)\\n- [ ] Black cat</td>\n",
       "      <td>NaN</td>\n",
       "      <td>NaN</td>\n",
       "    </tr>\n",
       "  </tbody>\n",
       "</table>\n",
       "</div>"
      ],
      "text/plain": [
       "        Unnamed: 0  \\\n",
       "237106      263728   \n",
       "609423      677256   \n",
       "\n",
       "                                                                                      issue_url  \\\n",
       "237106  https://arielvalentin.review-lab.github.com/api/v3/repos/lightstep/ls-trace-rb/issues/3   \n",
       "609423          https://oneill38.review-lab.github.com/api/v3/repos/Oneill38/sit-test/issues/13   \n",
       "\n",
       "        issue_label      issue_created_at issue_author_association  \\\n",
       "237106  enhancement  2020-01-29T17:10:14Z                     NONE   \n",
       "609423          bug  2021-04-28T19:33:26Z                    OWNER   \n",
       "\n",
       "                                                                        repository_url  \\\n",
       "237106  https://arielvalentin.review-lab.github.com/api/v3/repos/lightstep/ls-trace-rb   \n",
       "609423           https://oneill38.review-lab.github.com/api/v3/repos/Oneill38/sit-test   \n",
       "\n",
       "                                                                  issue_title  \\\n",
       "237106  Add Backward Compatible Support with OpenTracing Request Propagation    \n",
       "609423                                                            dagdasgasdg   \n",
       "\n",
       "                                                                                                                                                                                                                                                                                                                                                                                                                                                                                                                                                                                                                                                                                                                                                                                                                                                                                                                                                                                                                                                                                                                                                            issue_body  \\\n",
       "237106  Our existing services use LightStep for distributed tracing (http propagation with `ot-*` headers) and I would like to migrate to using `ls-trace` without having to upgrade all of our services to the latest version and also convert them to use `B3` propagation.\\r\\n\\r\\nIt would be helpful if the existing `HTTPPropagator` would also have support for LightStep's custom headers in addition to `B3` and `Datadog`:\\r\\n\\r\\nhttps://github.com/lightstep/ls-trace-rb/blob/86b1dd4896cf64d633957cfd87ad6bdf34fcbcb9/lib/ddtrace/propagation/http_propagator.rb#L14\\r\\n\\r\\nE.g. The `TEXT_MAP` propagator uses `DistributedHeaders` instead of the more restrictive `Headers` used by the `RACK_MAP` \\r\\nhttps://github.com/lightstep/ls-trace-rb/blob/86b1dd4896cf64d633957cfd87ad6bdf34fcbcb9/lib/ddtrace/opentracer/text_map_propagator.rb#L41\\r\\n\\r\\nhttps://github.com/lightstep/ls-trace-rb/blob/86b1dd4896cf64d633957cfd87ad6bdf34fcbcb9/lib/ddtrace/distributed_tracing/headers/datadog.rb#L22\\r\\n\\r\\nhttps://github.com/lightstep/ls-trace-rb/blob/86b1dd4896cf64d633957cfd87ad6bdf34fcbcb9/lib/ddtrace/opentracer/tracer.rb#L187\\r\\n\\r\\nThanks!   \n",
       "609423                                                                                                                                                                                                                                                                                                                                                                                                                                                                                                                                                                                                                                                                                                                                                                                                                     ### brew config\\n\\n![broken_top_color](https://user-images.githubusercontent.com/6576820/116462031-dc642280-a81d-11eb-98cb-42b05f9305c1.jpg)\\r\\n\\r\\n\\n\\n### brew doctor 3\\n\\nasdfad\\n\\n### brew doctor\\n\\n_No response_\\n\\n### What kinds of cats do you like?\\n\\n- [X] Orange cat (required. Everyone likes orange cats.)\\n- [ ] Black cat   \n",
       "\n",
       "       repository_name repository_owner  \n",
       "237106             NaN              NaN  \n",
       "609423             NaN              NaN  "
      ]
     },
     "execution_count": 22,
     "metadata": {},
     "output_type": "execute_result"
    }
   ],
   "source": [
    "combined[combined['repository_name'].isna()]"
   ]
  },
  {
   "cell_type": "markdown",
   "metadata": {},
   "source": [
    "## Checking the nulls and types of information for each column "
   ]
  },
  {
   "cell_type": "markdown",
   "metadata": {},
   "source": [
    "###  issue_title"
   ]
  },
  {
   "cell_type": "code",
   "execution_count": 23,
   "metadata": {},
   "outputs": [
    {
     "name": "stdout",
     "output_type": "stream",
     "text": [
      "train: 0 test: 0\n"
     ]
    }
   ],
   "source": [
    "print('train:', train['issue_title'].isna().sum(), 'test:', test['issue_title'].isna().sum())"
   ]
  },
  {
   "cell_type": "markdown",
   "metadata": {},
   "source": [
    "###  issue_body"
   ]
  },
  {
   "cell_type": "code",
   "execution_count": 24,
   "metadata": {},
   "outputs": [
    {
     "name": "stdout",
     "output_type": "stream",
     "text": [
      "train: 71872 test: 7916\n"
     ]
    }
   ],
   "source": [
    "print('train:', train['issue_body'].isna().sum(), 'test:', test['issue_body'].isna().sum())"
   ]
  },
  {
   "cell_type": "markdown",
   "metadata": {},
   "source": [
    "### issue_label"
   ]
  },
  {
   "cell_type": "code",
   "execution_count": 25,
   "metadata": {},
   "outputs": [
    {
     "name": "stdout",
     "output_type": "stream",
     "text": [
      "train: 0 test: 0\n"
     ]
    }
   ],
   "source": [
    "print('train:', train['issue_label'].isna().sum(), 'test:', test['issue_label'].isna().sum())"
   ]
  },
  {
   "cell_type": "markdown",
   "metadata": {},
   "source": [
    "### issue_created_at"
   ]
  },
  {
   "cell_type": "code",
   "execution_count": 26,
   "metadata": {},
   "outputs": [
    {
     "name": "stdout",
     "output_type": "stream",
     "text": [
      "train: 0 test: 0\n"
     ]
    }
   ],
   "source": [
    "print('train:', train['issue_created_at'].isna().sum(), 'test:', test['issue_created_at'].isna().sum())"
   ]
  },
  {
   "cell_type": "markdown",
   "metadata": {},
   "source": [
    "### issue_url"
   ]
  },
  {
   "cell_type": "code",
   "execution_count": 27,
   "metadata": {},
   "outputs": [
    {
     "name": "stdout",
     "output_type": "stream",
     "text": [
      "train: 0 test: 0\n"
     ]
    }
   ],
   "source": [
    "print('train:', train['issue_url'].isna().sum(), 'test:', test['issue_url'].isna().sum())"
   ]
  },
  {
   "cell_type": "markdown",
   "metadata": {},
   "source": [
    "### repository_url"
   ]
  },
  {
   "cell_type": "code",
   "execution_count": 28,
   "metadata": {},
   "outputs": [
    {
     "name": "stdout",
     "output_type": "stream",
     "text": [
      "train: 0 test: 0\n"
     ]
    }
   ],
   "source": [
    "print('train:', train['repository_url'].isna().sum(), 'test:', test['repository_url'].isna().sum())"
   ]
  },
  {
   "cell_type": "markdown",
   "metadata": {},
   "source": [
    "### issue_author_association"
   ]
  },
  {
   "cell_type": "code",
   "execution_count": 29,
   "metadata": {},
   "outputs": [
    {
     "name": "stdout",
     "output_type": "stream",
     "text": [
      "train: 0 test: 0\n"
     ]
    }
   ],
   "source": [
    "print('train:', train['issue_author_association'].isna().sum(), 'test:', test['issue_author_association'].isna().sum())"
   ]
  },
  {
   "cell_type": "markdown",
   "metadata": {},
   "source": [
    "## Unique values under issue_author_association column "
   ]
  },
  {
   "cell_type": "code",
   "execution_count": 30,
   "metadata": {},
   "outputs": [
    {
     "data": {
      "text/plain": [
       "array(['NONE', 'OWNER', 'COLLABORATOR', 'CONTRIBUTOR', 'MEMBER',\n",
       "       'MANNEQUIN'], dtype=object)"
      ]
     },
     "execution_count": 30,
     "metadata": {},
     "output_type": "execute_result"
    }
   ],
   "source": [
    "combined['issue_author_association'].unique()"
   ]
  },
  {
   "cell_type": "code",
   "execution_count": 31,
   "metadata": {},
   "outputs": [
    {
     "data": {
      "text/plain": [
       "array(['NONE', 'OWNER', 'COLLABORATOR', 'CONTRIBUTOR', 'MEMBER',\n",
       "       'MANNEQUIN'], dtype=object)"
      ]
     },
     "execution_count": 31,
     "metadata": {},
     "output_type": "execute_result"
    }
   ],
   "source": [
    "train['issue_author_association'].unique()"
   ]
  },
  {
   "cell_type": "code",
   "execution_count": 32,
   "metadata": {},
   "outputs": [
    {
     "data": {
      "text/plain": [
       "array(['NONE', 'OWNER', 'COLLABORATOR', 'MEMBER', 'CONTRIBUTOR'],\n",
       "      dtype=object)"
      ]
     },
     "execution_count": 32,
     "metadata": {},
     "output_type": "execute_result"
    }
   ],
   "source": [
    "test['issue_author_association'].unique()"
   ]
  },
  {
   "cell_type": "markdown",
   "metadata": {},
   "source": [
    "## Number of duplicate issues in the training and test sets"
   ]
  },
  {
   "cell_type": "code",
   "execution_count": 33,
   "metadata": {},
   "outputs": [
    {
     "data": {
      "text/plain": [
       "26220"
      ]
     },
     "execution_count": 33,
     "metadata": {},
     "output_type": "execute_result"
    }
   ],
   "source": [
    "train['issue_url'].duplicated().sum()"
   ]
  },
  {
   "cell_type": "code",
   "execution_count": 34,
   "metadata": {},
   "outputs": [
    {
     "data": {
      "text/plain": [
       "380"
      ]
     },
     "execution_count": 34,
     "metadata": {},
     "output_type": "execute_result"
    }
   ],
   "source": [
    "test['issue_url'].duplicated().sum()"
   ]
  },
  {
   "cell_type": "code",
   "execution_count": 35,
   "metadata": {},
   "outputs": [
    {
     "data": {
      "text/plain": [
       "32026"
      ]
     },
     "execution_count": 35,
     "metadata": {},
     "output_type": "execute_result"
    }
   ],
   "source": [
    "combined['issue_url'].duplicated().sum()"
   ]
  },
  {
   "cell_type": "code",
   "execution_count": 36,
   "metadata": {},
   "outputs": [],
   "source": [
    "duplicate_issue_urls = combined[combined['issue_url'].duplicated()]['issue_url']\n",
    "train_duplicates = train[train['issue_url'].isin(duplicate_issue_urls)]\n",
    "test_duplicates = test[test['issue_url'].isin(duplicate_issue_urls)]\n",
    "cross_duplicates = pd.merge(train_duplicates, test_duplicates, on='issue_url', how='inner', suffixes=('_train', '_test'))"
   ]
  },
  {
   "cell_type": "code",
   "execution_count": 37,
   "metadata": {},
   "outputs": [
    {
     "name": "stdout",
     "output_type": "stream",
     "text": [
      "Number of duplicate issue URLs across both datasets: 10425\n",
      "Duplicate issue URLs across both datasets:\n",
      "['https://api.github.com/repos/matteobruni/tsparticles/issues/208'\n",
      " 'https://api.github.com/repos/ankidroid/Anki-Android/issues/7526'\n",
      " 'https://api.github.com/repos/anthonyamaro15/nv-credit-union/issues/28'\n",
      " ... 'https://api.github.com/repos/mpi2/PhenotypeData/issues/554'\n",
      " 'https://api.github.com/repos/RENCI/ctmd/issues/421'\n",
      " 'https://api.github.com/repos/ajency/hk_blog/issues/49']\n"
     ]
    }
   ],
   "source": [
    "print(f'Number of duplicate issue URLs across both datasets: {len(cross_duplicates)}')\n",
    "print('Duplicate issue URLs across both datasets:')\n",
    "print(cross_duplicates['issue_url'].unique())"
   ]
  },
  {
   "cell_type": "code",
   "execution_count": 38,
   "metadata": {},
   "outputs": [
    {
     "data": {
      "text/html": [
       "<div>\n",
       "<style scoped>\n",
       "    .dataframe tbody tr th:only-of-type {\n",
       "        vertical-align: middle;\n",
       "    }\n",
       "\n",
       "    .dataframe tbody tr th {\n",
       "        vertical-align: top;\n",
       "    }\n",
       "\n",
       "    .dataframe thead th {\n",
       "        text-align: right;\n",
       "    }\n",
       "</style>\n",
       "<table border=\"1\" class=\"dataframe\">\n",
       "  <thead>\n",
       "    <tr style=\"text-align: right;\">\n",
       "      <th></th>\n",
       "      <th>Unnamed: 0</th>\n",
       "      <th>issue_url</th>\n",
       "      <th>issue_label</th>\n",
       "      <th>issue_created_at</th>\n",
       "      <th>issue_author_association</th>\n",
       "      <th>repository_url</th>\n",
       "      <th>issue_title</th>\n",
       "      <th>issue_body</th>\n",
       "    </tr>\n",
       "  </thead>\n",
       "  <tbody>\n",
       "    <tr>\n",
       "      <th>146</th>\n",
       "      <td>155</td>\n",
       "      <td>https://api.github.com/repos/matteobruni/tsparticles/issues/208</td>\n",
       "      <td>enhancement</td>\n",
       "      <td>2020-04-03T15:29:16Z</td>\n",
       "      <td>OWNER</td>\n",
       "      <td>https://api.github.com/repos/matteobruni/tsparticles</td>\n",
       "      <td>Fluid output</td>\n",
       "      <td>I've seen this codepen https://codepen.io/matteobruni/pen/mdJYMQM and I think it's something portable here</td>\n",
       "    </tr>\n",
       "    <tr>\n",
       "      <th>58654</th>\n",
       "      <td>65217</td>\n",
       "      <td>https://api.github.com/repos/matteobruni/tsparticles/issues/208</td>\n",
       "      <td>enhancement</td>\n",
       "      <td>2020-04-03T15:29:16Z</td>\n",
       "      <td>OWNER</td>\n",
       "      <td>https://api.github.com/repos/matteobruni/tsparticles</td>\n",
       "      <td>Fluid output</td>\n",
       "      <td>I've seen this codepen https://codepen.io/matteobruni/pen/mdJYMQM and I think it's something portable here</td>\n",
       "    </tr>\n",
       "    <tr>\n",
       "      <th>59081</th>\n",
       "      <td>65700</td>\n",
       "      <td>https://api.github.com/repos/matteobruni/tsparticles/issues/208</td>\n",
       "      <td>enhancement</td>\n",
       "      <td>2020-04-03T15:29:16Z</td>\n",
       "      <td>OWNER</td>\n",
       "      <td>https://api.github.com/repos/matteobruni/tsparticles</td>\n",
       "      <td>Fluid output</td>\n",
       "      <td>I've seen this codepen https://codepen.io/matteobruni/pen/mdJYMQM and I think it's something portable here</td>\n",
       "    </tr>\n",
       "    <tr>\n",
       "      <th>89913</th>\n",
       "      <td>99942</td>\n",
       "      <td>https://api.github.com/repos/matteobruni/tsparticles/issues/208</td>\n",
       "      <td>enhancement</td>\n",
       "      <td>2020-04-03T15:29:16Z</td>\n",
       "      <td>OWNER</td>\n",
       "      <td>https://api.github.com/repos/matteobruni/tsparticles</td>\n",
       "      <td>Fluid output</td>\n",
       "      <td>I've seen this codepen https://codepen.io/matteobruni/pen/mdJYMQM and I think it's something portable here</td>\n",
       "    </tr>\n",
       "    <tr>\n",
       "      <th>91199</th>\n",
       "      <td>101356</td>\n",
       "      <td>https://api.github.com/repos/matteobruni/tsparticles/issues/208</td>\n",
       "      <td>enhancement</td>\n",
       "      <td>2020-04-03T15:29:16Z</td>\n",
       "      <td>OWNER</td>\n",
       "      <td>https://api.github.com/repos/matteobruni/tsparticles</td>\n",
       "      <td>Fluid output</td>\n",
       "      <td>I've seen this codepen https://codepen.io/matteobruni/pen/mdJYMQM and I think it's something portable here</td>\n",
       "    </tr>\n",
       "    <tr>\n",
       "      <th>135046</th>\n",
       "      <td>150120</td>\n",
       "      <td>https://api.github.com/repos/matteobruni/tsparticles/issues/208</td>\n",
       "      <td>enhancement</td>\n",
       "      <td>2020-04-03T15:29:16Z</td>\n",
       "      <td>OWNER</td>\n",
       "      <td>https://api.github.com/repos/matteobruni/tsparticles</td>\n",
       "      <td>Fluid output</td>\n",
       "      <td>I've seen this codepen https://codepen.io/matteobruni/pen/mdJYMQM and I think it's something portable here</td>\n",
       "    </tr>\n",
       "    <tr>\n",
       "      <th>357240</th>\n",
       "      <td>397136</td>\n",
       "      <td>https://api.github.com/repos/matteobruni/tsparticles/issues/208</td>\n",
       "      <td>enhancement</td>\n",
       "      <td>2020-04-03T15:29:16Z</td>\n",
       "      <td>OWNER</td>\n",
       "      <td>https://api.github.com/repos/matteobruni/tsparticles</td>\n",
       "      <td>Fluid output</td>\n",
       "      <td>I've seen this codepen https://codepen.io/matteobruni/pen/mdJYMQM and I think it's something portable here</td>\n",
       "    </tr>\n",
       "    <tr>\n",
       "      <th>579887</th>\n",
       "      <td>644390</td>\n",
       "      <td>https://api.github.com/repos/matteobruni/tsparticles/issues/208</td>\n",
       "      <td>enhancement</td>\n",
       "      <td>2020-04-03T15:29:16Z</td>\n",
       "      <td>OWNER</td>\n",
       "      <td>https://api.github.com/repos/matteobruni/tsparticles</td>\n",
       "      <td>Fluid output</td>\n",
       "      <td>I've seen this codepen https://codepen.io/matteobruni/pen/mdJYMQM and I think it's something portable here</td>\n",
       "    </tr>\n",
       "    <tr>\n",
       "      <th>611443</th>\n",
       "      <td>679498</td>\n",
       "      <td>https://api.github.com/repos/matteobruni/tsparticles/issues/208</td>\n",
       "      <td>enhancement</td>\n",
       "      <td>2020-04-03T15:29:16Z</td>\n",
       "      <td>OWNER</td>\n",
       "      <td>https://api.github.com/repos/matteobruni/tsparticles</td>\n",
       "      <td>Fluid output</td>\n",
       "      <td>I've seen this codepen https://codepen.io/matteobruni/pen/mdJYMQM and I think it's something portable here</td>\n",
       "    </tr>\n",
       "  </tbody>\n",
       "</table>\n",
       "</div>"
      ],
      "text/plain": [
       "        Unnamed: 0  \\\n",
       "146            155   \n",
       "58654        65217   \n",
       "59081        65700   \n",
       "89913        99942   \n",
       "91199       101356   \n",
       "135046      150120   \n",
       "357240      397136   \n",
       "579887      644390   \n",
       "611443      679498   \n",
       "\n",
       "                                                              issue_url  \\\n",
       "146     https://api.github.com/repos/matteobruni/tsparticles/issues/208   \n",
       "58654   https://api.github.com/repos/matteobruni/tsparticles/issues/208   \n",
       "59081   https://api.github.com/repos/matteobruni/tsparticles/issues/208   \n",
       "89913   https://api.github.com/repos/matteobruni/tsparticles/issues/208   \n",
       "91199   https://api.github.com/repos/matteobruni/tsparticles/issues/208   \n",
       "135046  https://api.github.com/repos/matteobruni/tsparticles/issues/208   \n",
       "357240  https://api.github.com/repos/matteobruni/tsparticles/issues/208   \n",
       "579887  https://api.github.com/repos/matteobruni/tsparticles/issues/208   \n",
       "611443  https://api.github.com/repos/matteobruni/tsparticles/issues/208   \n",
       "\n",
       "        issue_label      issue_created_at issue_author_association  \\\n",
       "146     enhancement  2020-04-03T15:29:16Z                    OWNER   \n",
       "58654   enhancement  2020-04-03T15:29:16Z                    OWNER   \n",
       "59081   enhancement  2020-04-03T15:29:16Z                    OWNER   \n",
       "89913   enhancement  2020-04-03T15:29:16Z                    OWNER   \n",
       "91199   enhancement  2020-04-03T15:29:16Z                    OWNER   \n",
       "135046  enhancement  2020-04-03T15:29:16Z                    OWNER   \n",
       "357240  enhancement  2020-04-03T15:29:16Z                    OWNER   \n",
       "579887  enhancement  2020-04-03T15:29:16Z                    OWNER   \n",
       "611443  enhancement  2020-04-03T15:29:16Z                    OWNER   \n",
       "\n",
       "                                              repository_url   issue_title  \\\n",
       "146     https://api.github.com/repos/matteobruni/tsparticles  Fluid output   \n",
       "58654   https://api.github.com/repos/matteobruni/tsparticles  Fluid output   \n",
       "59081   https://api.github.com/repos/matteobruni/tsparticles  Fluid output   \n",
       "89913   https://api.github.com/repos/matteobruni/tsparticles  Fluid output   \n",
       "91199   https://api.github.com/repos/matteobruni/tsparticles  Fluid output   \n",
       "135046  https://api.github.com/repos/matteobruni/tsparticles  Fluid output   \n",
       "357240  https://api.github.com/repos/matteobruni/tsparticles  Fluid output   \n",
       "579887  https://api.github.com/repos/matteobruni/tsparticles  Fluid output   \n",
       "611443  https://api.github.com/repos/matteobruni/tsparticles  Fluid output   \n",
       "\n",
       "                                                                                                        issue_body  \n",
       "146     I've seen this codepen https://codepen.io/matteobruni/pen/mdJYMQM and I think it's something portable here  \n",
       "58654   I've seen this codepen https://codepen.io/matteobruni/pen/mdJYMQM and I think it's something portable here  \n",
       "59081   I've seen this codepen https://codepen.io/matteobruni/pen/mdJYMQM and I think it's something portable here  \n",
       "89913   I've seen this codepen https://codepen.io/matteobruni/pen/mdJYMQM and I think it's something portable here  \n",
       "91199   I've seen this codepen https://codepen.io/matteobruni/pen/mdJYMQM and I think it's something portable here  \n",
       "135046  I've seen this codepen https://codepen.io/matteobruni/pen/mdJYMQM and I think it's something portable here  \n",
       "357240  I've seen this codepen https://codepen.io/matteobruni/pen/mdJYMQM and I think it's something portable here  \n",
       "579887  I've seen this codepen https://codepen.io/matteobruni/pen/mdJYMQM and I think it's something portable here  \n",
       "611443  I've seen this codepen https://codepen.io/matteobruni/pen/mdJYMQM and I think it's something portable here  "
      ]
     },
     "execution_count": 38,
     "metadata": {},
     "output_type": "execute_result"
    }
   ],
   "source": [
    "train[train['issue_url'] == 'https://api.github.com/repos/matteobruni/tsparticles/issues/208']"
   ]
  },
  {
   "cell_type": "code",
   "execution_count": 39,
   "metadata": {},
   "outputs": [
    {
     "data": {
      "text/html": [
       "<div>\n",
       "<style scoped>\n",
       "    .dataframe tbody tr th:only-of-type {\n",
       "        vertical-align: middle;\n",
       "    }\n",
       "\n",
       "    .dataframe tbody tr th {\n",
       "        vertical-align: top;\n",
       "    }\n",
       "\n",
       "    .dataframe thead th {\n",
       "        text-align: right;\n",
       "    }\n",
       "</style>\n",
       "<table border=\"1\" class=\"dataframe\">\n",
       "  <thead>\n",
       "    <tr style=\"text-align: right;\">\n",
       "      <th></th>\n",
       "      <th>Unnamed: 0</th>\n",
       "      <th>issue_url</th>\n",
       "      <th>issue_label</th>\n",
       "      <th>issue_created_at</th>\n",
       "      <th>issue_author_association</th>\n",
       "      <th>repository_url</th>\n",
       "      <th>issue_title</th>\n",
       "      <th>issue_body</th>\n",
       "    </tr>\n",
       "  </thead>\n",
       "  <tbody>\n",
       "    <tr>\n",
       "      <th>25025</th>\n",
       "      <td>248227</td>\n",
       "      <td>https://api.github.com/repos/matteobruni/tsparticles/issues/208</td>\n",
       "      <td>enhancement</td>\n",
       "      <td>2020-04-03T15:29:16Z</td>\n",
       "      <td>OWNER</td>\n",
       "      <td>https://api.github.com/repos/matteobruni/tsparticles</td>\n",
       "      <td>Fluid output</td>\n",
       "      <td>I've seen this codepen https://codepen.io/matteobruni/pen/mdJYMQM and I think it's something portable here</td>\n",
       "    </tr>\n",
       "  </tbody>\n",
       "</table>\n",
       "</div>"
      ],
      "text/plain": [
       "       Unnamed: 0  \\\n",
       "25025      248227   \n",
       "\n",
       "                                                             issue_url  \\\n",
       "25025  https://api.github.com/repos/matteobruni/tsparticles/issues/208   \n",
       "\n",
       "       issue_label      issue_created_at issue_author_association  \\\n",
       "25025  enhancement  2020-04-03T15:29:16Z                    OWNER   \n",
       "\n",
       "                                             repository_url   issue_title  \\\n",
       "25025  https://api.github.com/repos/matteobruni/tsparticles  Fluid output   \n",
       "\n",
       "                                                                                                       issue_body  \n",
       "25025  I've seen this codepen https://codepen.io/matteobruni/pen/mdJYMQM and I think it's something portable here  "
      ]
     },
     "execution_count": 39,
     "metadata": {},
     "output_type": "execute_result"
    }
   ],
   "source": [
    "test[test['issue_url'] == 'https://api.github.com/repos/matteobruni/tsparticles/issues/208']"
   ]
  },
  {
   "cell_type": "code",
   "execution_count": 40,
   "metadata": {},
   "outputs": [
    {
     "data": {
      "text/plain": [
       "5426"
      ]
     },
     "execution_count": 40,
     "metadata": {},
     "output_type": "execute_result"
    }
   ],
   "source": [
    "cross_duplicates['issue_url'].nunique()"
   ]
  }
 ],
 "metadata": {
  "kernelspec": {
   "display_name": "Python 3",
   "language": "python",
   "name": "python3"
  },
  "language_info": {
   "codemirror_mode": {
    "name": "ipython",
    "version": 3
   },
   "file_extension": ".py",
   "mimetype": "text/x-python",
   "name": "python",
   "nbconvert_exporter": "python",
   "pygments_lexer": "ipython3",
   "version": "3.12.0"
  }
 },
 "nbformat": 4,
 "nbformat_minor": 2
}
