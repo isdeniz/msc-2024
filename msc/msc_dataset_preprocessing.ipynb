{
 "cells": [
  {
   "cell_type": "code",
   "execution_count": 1,
   "metadata": {},
   "outputs": [],
   "source": [
    "import pandas as pd\n",
    "import numpy as np\n",
    "import matplotlib.pyplot as plt\n",
    "from sklearn.model_selection import train_test_split\n",
    "from collections import Counter\n",
    "import re\n",
    "import unicodedata as ud\n",
    "from nltk.corpus import wordnet as wn\n",
    "from nltk.corpus import words as w\n",
    "from nltk.corpus import stopwords \n",
    "from nltk.stem import PorterStemmer\n",
    "from nltk.tokenize import sent_tokenize, word_tokenize\n",
    "from nltk.stem import WordNetLemmatizer\n",
    "import os\n",
    "pd.options.mode.chained_assignment = None\n",
    "pd.options.display.max_columns = None\n",
    "pd.options.display.max_colwidth = None"
   ]
  },
  {
   "cell_type": "code",
   "execution_count": 2,
   "metadata": {},
   "outputs": [
    {
     "name": "stdout",
     "output_type": "stream",
     "text": [
      "(190436, 42)\n"
     ]
    }
   ],
   "source": [
    "df = pd.read_pickle('/Users/isdeniz/Documents/msc-notebooks/msc/label_mapping/msc_dataset_mapped_labels.pkl')\n",
    "print(df.shape)"
   ]
  },
  {
   "cell_type": "code",
   "execution_count": 3,
   "metadata": {},
   "outputs": [
    {
     "data": {
      "text/html": [
       "<div>\n",
       "<style scoped>\n",
       "    .dataframe tbody tr th:only-of-type {\n",
       "        vertical-align: middle;\n",
       "    }\n",
       "\n",
       "    .dataframe tbody tr th {\n",
       "        vertical-align: top;\n",
       "    }\n",
       "\n",
       "    .dataframe thead th {\n",
       "        text-align: right;\n",
       "    }\n",
       "</style>\n",
       "<table border=\"1\" class=\"dataframe\">\n",
       "  <thead>\n",
       "    <tr style=\"text-align: right;\">\n",
       "      <th></th>\n",
       "      <th>url</th>\n",
       "      <th>repository_url</th>\n",
       "      <th>labels_url</th>\n",
       "      <th>comments_url</th>\n",
       "      <th>events_url</th>\n",
       "      <th>html_url</th>\n",
       "      <th>id</th>\n",
       "      <th>node_id</th>\n",
       "      <th>number</th>\n",
       "      <th>title</th>\n",
       "      <th>user</th>\n",
       "      <th>labels</th>\n",
       "      <th>state</th>\n",
       "      <th>locked</th>\n",
       "      <th>assignee</th>\n",
       "      <th>assignees</th>\n",
       "      <th>milestone</th>\n",
       "      <th>comments</th>\n",
       "      <th>created_at</th>\n",
       "      <th>updated_at</th>\n",
       "      <th>closed_at</th>\n",
       "      <th>author_association</th>\n",
       "      <th>active_lock_reason</th>\n",
       "      <th>body</th>\n",
       "      <th>reactions</th>\n",
       "      <th>timeline_url</th>\n",
       "      <th>performed_via_github_app</th>\n",
       "      <th>state_reason</th>\n",
       "      <th>score</th>\n",
       "      <th>repository_name</th>\n",
       "      <th>issue/pr</th>\n",
       "      <th>created_at_timestamp</th>\n",
       "      <th>closed_at_timestamp</th>\n",
       "      <th>issue_resolution_time</th>\n",
       "      <th>open_since</th>\n",
       "      <th>labels_id</th>\n",
       "      <th>labels_node_id</th>\n",
       "      <th>labels_name</th>\n",
       "      <th>labels_color</th>\n",
       "      <th>labels_default</th>\n",
       "      <th>labels_description</th>\n",
       "      <th>mapLabel</th>\n",
       "    </tr>\n",
       "  </thead>\n",
       "  <tbody>\n",
       "    <tr>\n",
       "      <th>0</th>\n",
       "      <td>https://api.github.com/repos/facebook/react-native/issues/2</td>\n",
       "      <td>https://api.github.com/repos/facebook/react-native</td>\n",
       "      <td>['https://api.github.com/repos/facebook/react-native/labels/Resolution:%20Locked']</td>\n",
       "      <td>https://api.github.com/repos/facebook/react-native/issues/2/comments</td>\n",
       "      <td>https://api.github.com/repos/facebook/react-native/issues/2/events</td>\n",
       "      <td>https://github.com/facebook/react-native/issues/2</td>\n",
       "      <td>55988530</td>\n",
       "      <td>MDU6SXNzdWU1NTk4ODUzMA==</td>\n",
       "      <td>2</td>\n",
       "      <td>`pthread.h` not found</td>\n",
       "      <td>{'login': 'jlongster', 'id': 17031, 'node_id': 'MDQ6VXNlcjE3MDMx', 'avatar_url': 'https://avatars.githubusercontent.com/u/17031?v=4', 'gravatar_id': '', 'url': 'https://api.github.com/users/jlongster', 'html_url': 'https://github.com/jlongster', 'followers_url': 'https://api.github.com/users/jlongster/followers', 'following_url': 'https://api.github.com/users/jlongster/following{/other_user}', 'gists_url': 'https://api.github.com/users/jlongster/gists{/gist_id}', 'starred_url': 'https://api.github.com/users/jlongster/starred{/owner}{/repo}', 'subscriptions_url': 'https://api.github.com/users/jlongster/subscriptions', 'organizations_url': 'https://api.github.com/users/jlongster/orgs', 'repos_url': 'https://api.github.com/users/jlongster/repos', 'events_url': 'https://api.github.com/users/jlongster/events{/privacy}', 'received_events_url': 'https://api.github.com/users/jlongster/received_events', 'type': 'User', 'site_admin': False}</td>\n",
       "      <td>[{'id': 998095527, 'node_id': 'MDU6TGFiZWw5OTgwOTU1Mjc=', 'url': 'https://api.github.com/repos/facebook/react-native/labels/Resolution:%20Locked', 'name': 'Resolution: Locked', 'color': 'ffffff', 'default': False, 'description': 'This issue was locked by the bot.'}]</td>\n",
       "      <td>closed</td>\n",
       "      <td>True</td>\n",
       "      <td>None</td>\n",
       "      <td>[]</td>\n",
       "      <td>None</td>\n",
       "      <td>2</td>\n",
       "      <td>2015-01-30T02:54:11Z</td>\n",
       "      <td>2018-07-23T05:02:58Z</td>\n",
       "      <td>2015-01-31T00:04:06Z</td>\n",
       "      <td>NONE</td>\n",
       "      <td>resolved</td>\n",
       "      <td>To build on my machine (OS X 10.9.3) targeting iOS SDK 7.1 (only one available on my machine), I had to change line 7 in `/ReactKit/Modules/RCTUIManager.m` from `#import &lt;pthread/pthread.h&gt;` to `#import &lt;pthread.h&gt;` to get it to compile.\\n</td>\n",
       "      <td>{'url': 'https://api.github.com/repos/facebook/react-native/issues/2/reactions', 'total_count': 0, '+1': 0, '-1': 0, 'laugh': 0, 'hooray': 0, 'confused': 0, 'heart': 0, 'rocket': 0, 'eyes': 0}</td>\n",
       "      <td>https://api.github.com/repos/facebook/react-native/issues/2/timeline</td>\n",
       "      <td>None</td>\n",
       "      <td>completed</td>\n",
       "      <td>1.0</td>\n",
       "      <td>facebook/react-native</td>\n",
       "      <td>issue</td>\n",
       "      <td>2015-01-30 02:54:11</td>\n",
       "      <td>2015-01-31 00:04:06</td>\n",
       "      <td>0.881887</td>\n",
       "      <td>NaN</td>\n",
       "      <td>[998095527]</td>\n",
       "      <td>['MDU6TGFiZWw5OTgwOTU1Mjc=']</td>\n",
       "      <td>['Resolution: Locked']</td>\n",
       "      <td>['ffffff']</td>\n",
       "      <td>[False]</td>\n",
       "      <td>['This issue was locked by the bot.']</td>\n",
       "      <td>other</td>\n",
       "    </tr>\n",
       "    <tr>\n",
       "      <th>1</th>\n",
       "      <td>https://api.github.com/repos/facebook/react-native/issues/4</td>\n",
       "      <td>https://api.github.com/repos/facebook/react-native</td>\n",
       "      <td>['https://api.github.com/repos/facebook/react-native/labels/Resolution:%20Locked']</td>\n",
       "      <td>https://api.github.com/repos/facebook/react-native/issues/4/comments</td>\n",
       "      <td>https://api.github.com/repos/facebook/react-native/issues/4/events</td>\n",
       "      <td>https://github.com/facebook/react-native/issues/4</td>\n",
       "      <td>56060794</td>\n",
       "      <td>MDU6SXNzdWU1NjA2MDc5NA==</td>\n",
       "      <td>4</td>\n",
       "      <td>Set UIStatusBarStyleLightContent</td>\n",
       "      <td>{'login': 'nick', 'id': 939, 'node_id': 'MDQ6VXNlcjkzOQ==', 'avatar_url': 'https://avatars.githubusercontent.com/u/939?v=4', 'gravatar_id': '', 'url': 'https://api.github.com/users/nick', 'html_url': 'https://github.com/nick', 'followers_url': 'https://api.github.com/users/nick/followers', 'following_url': 'https://api.github.com/users/nick/following{/other_user}', 'gists_url': 'https://api.github.com/users/nick/gists{/gist_id}', 'starred_url': 'https://api.github.com/users/nick/starred{/owner}{/repo}', 'subscriptions_url': 'https://api.github.com/users/nick/subscriptions', 'organizations_url': 'https://api.github.com/users/nick/orgs', 'repos_url': 'https://api.github.com/users/nick/repos', 'events_url': 'https://api.github.com/users/nick/events{/privacy}', 'received_events_url': 'https://api.github.com/users/nick/received_events', 'type': 'User', 'site_admin': False}</td>\n",
       "      <td>[{'id': 998095527, 'node_id': 'MDU6TGFiZWw5OTgwOTU1Mjc=', 'url': 'https://api.github.com/repos/facebook/react-native/labels/Resolution:%20Locked', 'name': 'Resolution: Locked', 'color': 'ffffff', 'default': False, 'description': 'This issue was locked by the bot.'}]</td>\n",
       "      <td>closed</td>\n",
       "      <td>True</td>\n",
       "      <td>None</td>\n",
       "      <td>[]</td>\n",
       "      <td>None</td>\n",
       "      <td>26</td>\n",
       "      <td>2015-01-30T17:25:33Z</td>\n",
       "      <td>2018-07-23T05:02:58Z</td>\n",
       "      <td>2015-02-07T20:36:47Z</td>\n",
       "      <td>NONE</td>\n",
       "      <td>resolved</td>\n",
       "      <td>Is it possible to set the status bar to light? I'm working on a dark background.\\n\\nAlso, is this the right place to ask questions like this?\\n</td>\n",
       "      <td>{'url': 'https://api.github.com/repos/facebook/react-native/issues/4/reactions', 'total_count': 0, '+1': 0, '-1': 0, 'laugh': 0, 'hooray': 0, 'confused': 0, 'heart': 0, 'rocket': 0, 'eyes': 0}</td>\n",
       "      <td>https://api.github.com/repos/facebook/react-native/issues/4/timeline</td>\n",
       "      <td>None</td>\n",
       "      <td>completed</td>\n",
       "      <td>1.0</td>\n",
       "      <td>facebook/react-native</td>\n",
       "      <td>issue</td>\n",
       "      <td>2015-01-30 17:25:33</td>\n",
       "      <td>2015-02-07 20:36:47</td>\n",
       "      <td>8.132801</td>\n",
       "      <td>NaN</td>\n",
       "      <td>[998095527]</td>\n",
       "      <td>['MDU6TGFiZWw5OTgwOTU1Mjc=']</td>\n",
       "      <td>['Resolution: Locked']</td>\n",
       "      <td>['ffffff']</td>\n",
       "      <td>[False]</td>\n",
       "      <td>['This issue was locked by the bot.']</td>\n",
       "      <td>other</td>\n",
       "    </tr>\n",
       "    <tr>\n",
       "      <th>2</th>\n",
       "      <td>https://api.github.com/repos/facebook/react-native/issues/5</td>\n",
       "      <td>https://api.github.com/repos/facebook/react-native</td>\n",
       "      <td>['https://api.github.com/repos/facebook/react-native/labels/Resolution:%20Locked']</td>\n",
       "      <td>https://api.github.com/repos/facebook/react-native/issues/5/comments</td>\n",
       "      <td>https://api.github.com/repos/facebook/react-native/issues/5/events</td>\n",
       "      <td>https://github.com/facebook/react-native/issues/5</td>\n",
       "      <td>56064994</td>\n",
       "      <td>MDU6SXNzdWU1NjA2NDk5NA==</td>\n",
       "      <td>5</td>\n",
       "      <td>Auto-refresh simulator</td>\n",
       "      <td>{'login': 'nick', 'id': 939, 'node_id': 'MDQ6VXNlcjkzOQ==', 'avatar_url': 'https://avatars.githubusercontent.com/u/939?v=4', 'gravatar_id': '', 'url': 'https://api.github.com/users/nick', 'html_url': 'https://github.com/nick', 'followers_url': 'https://api.github.com/users/nick/followers', 'following_url': 'https://api.github.com/users/nick/following{/other_user}', 'gists_url': 'https://api.github.com/users/nick/gists{/gist_id}', 'starred_url': 'https://api.github.com/users/nick/starred{/owner}{/repo}', 'subscriptions_url': 'https://api.github.com/users/nick/subscriptions', 'organizations_url': 'https://api.github.com/users/nick/orgs', 'repos_url': 'https://api.github.com/users/nick/repos', 'events_url': 'https://api.github.com/users/nick/events{/privacy}', 'received_events_url': 'https://api.github.com/users/nick/received_events', 'type': 'User', 'site_admin': False}</td>\n",
       "      <td>[{'id': 998095527, 'node_id': 'MDU6TGFiZWw5OTgwOTU1Mjc=', 'url': 'https://api.github.com/repos/facebook/react-native/labels/Resolution:%20Locked', 'name': 'Resolution: Locked', 'color': 'ffffff', 'default': False, 'description': 'This issue was locked by the bot.'}]</td>\n",
       "      <td>closed</td>\n",
       "      <td>True</td>\n",
       "      <td>None</td>\n",
       "      <td>[]</td>\n",
       "      <td>None</td>\n",
       "      <td>28</td>\n",
       "      <td>2015-01-30T18:05:27Z</td>\n",
       "      <td>2018-07-23T05:02:58Z</td>\n",
       "      <td>2015-04-01T02:26:12Z</td>\n",
       "      <td>NONE</td>\n",
       "      <td>resolved</td>\n",
       "      <td>Is it possible to have the simulator automatically refresh when a file is changed instead of Cmd-R?\\n</td>\n",
       "      <td>{'url': 'https://api.github.com/repos/facebook/react-native/issues/5/reactions', 'total_count': 0, '+1': 0, '-1': 0, 'laugh': 0, 'hooray': 0, 'confused': 0, 'heart': 0, 'rocket': 0, 'eyes': 0}</td>\n",
       "      <td>https://api.github.com/repos/facebook/react-native/issues/5/timeline</td>\n",
       "      <td>None</td>\n",
       "      <td>completed</td>\n",
       "      <td>1.0</td>\n",
       "      <td>facebook/react-native</td>\n",
       "      <td>issue</td>\n",
       "      <td>2015-01-30 18:05:27</td>\n",
       "      <td>2015-04-01 02:26:12</td>\n",
       "      <td>60.347743</td>\n",
       "      <td>NaN</td>\n",
       "      <td>[998095527]</td>\n",
       "      <td>['MDU6TGFiZWw5OTgwOTU1Mjc=']</td>\n",
       "      <td>['Resolution: Locked']</td>\n",
       "      <td>['ffffff']</td>\n",
       "      <td>[False]</td>\n",
       "      <td>['This issue was locked by the bot.']</td>\n",
       "      <td>other</td>\n",
       "    </tr>\n",
       "    <tr>\n",
       "      <th>3</th>\n",
       "      <td>https://api.github.com/repos/facebook/react-native/issues/7</td>\n",
       "      <td>https://api.github.com/repos/facebook/react-native</td>\n",
       "      <td>['https://api.github.com/repos/facebook/react-native/labels/Resolution:%20Locked']</td>\n",
       "      <td>https://api.github.com/repos/facebook/react-native/issues/7/comments</td>\n",
       "      <td>https://api.github.com/repos/facebook/react-native/issues/7/events</td>\n",
       "      <td>https://github.com/facebook/react-native/issues/7</td>\n",
       "      <td>56083155</td>\n",
       "      <td>MDU6SXNzdWU1NjA4MzE1NQ==</td>\n",
       "      <td>7</td>\n",
       "      <td>What are the guidelines for exposing native APIs?</td>\n",
       "      <td>{'login': 'gaearon', 'id': 810438, 'node_id': 'MDQ6VXNlcjgxMDQzOA==', 'avatar_url': 'https://avatars.githubusercontent.com/u/810438?v=4', 'gravatar_id': '', 'url': 'https://api.github.com/users/gaearon', 'html_url': 'https://github.com/gaearon', 'followers_url': 'https://api.github.com/users/gaearon/followers', 'following_url': 'https://api.github.com/users/gaearon/following{/other_user}', 'gists_url': 'https://api.github.com/users/gaearon/gists{/gist_id}', 'starred_url': 'https://api.github.com/users/gaearon/starred{/owner}{/repo}', 'subscriptions_url': 'https://api.github.com/users/gaearon/subscriptions', 'organizations_url': 'https://api.github.com/users/gaearon/orgs', 'repos_url': 'https://api.github.com/users/gaearon/repos', 'events_url': 'https://api.github.com/users/gaearon/events{/privacy}', 'received_events_url': 'https://api.github.com/users/gaearon/received_events', 'type': 'User', 'site_admin': False}</td>\n",
       "      <td>[{'id': 998095527, 'node_id': 'MDU6TGFiZWw5OTgwOTU1Mjc=', 'url': 'https://api.github.com/repos/facebook/react-native/labels/Resolution:%20Locked', 'name': 'Resolution: Locked', 'color': 'ffffff', 'default': False, 'description': 'This issue was locked by the bot.'}]</td>\n",
       "      <td>closed</td>\n",
       "      <td>True</td>\n",
       "      <td>None</td>\n",
       "      <td>[]</td>\n",
       "      <td>None</td>\n",
       "      <td>4</td>\n",
       "      <td>2015-01-30T20:51:21Z</td>\n",
       "      <td>2018-07-23T05:02:57Z</td>\n",
       "      <td>2015-02-07T20:37:20Z</td>\n",
       "      <td>CONTRIBUTOR</td>\n",
       "      <td>resolved</td>\n",
       "      <td>This is not an issue per se, but something that #4 got me thinking about.\\n\\nThere are often many ways to expose the same native API. How opinionated does React Native want to be? For example, Xamarin mirrors all available iOS SDK but has [a very specific and consistent API guidelines document](http://developer.xamarin.com/guides/ios/under_the_hood/api_design/) that explains how native Cocoa APIs are mapped to be C#-friendly. This means that, if you know how certain API is called in Objective C, you can more or less infer what it will be in Xamarin's world without consulting the docs.\\n\\nWith React Native, this gets even more interesting because we may need both imperative platform-bridging API (like [proposed `StatusBarIOS.setStyle`](https://github.com/facebook/react-native/issues/4#issuecomment-72254022)) as well as declarative React components sitting on top of such APIs, for example [`NavigatorIOS`](https://github.com/facebook/react-native/blob/master/Libraries/Components/Navigation/NavigatorIOS.ios.js).\\n\\nAre there any guidelines we want to establish for such components? Are we just trying to make the best declarative wrappers possible for every platform's native APIs? How fast are we willing to make breaking changes to them? (Unlike React, we have a lot of public API here.)\\n\\nI'm sorry if this is premature talk but I'd love to get some sense of the direction of this project.\\n</td>\n",
       "      <td>{'url': 'https://api.github.com/repos/facebook/react-native/issues/7/reactions', 'total_count': 0, '+1': 0, '-1': 0, 'laugh': 0, 'hooray': 0, 'confused': 0, 'heart': 0, 'rocket': 0, 'eyes': 0}</td>\n",
       "      <td>https://api.github.com/repos/facebook/react-native/issues/7/timeline</td>\n",
       "      <td>None</td>\n",
       "      <td>completed</td>\n",
       "      <td>1.0</td>\n",
       "      <td>facebook/react-native</td>\n",
       "      <td>issue</td>\n",
       "      <td>2015-01-30 20:51:21</td>\n",
       "      <td>2015-02-07 20:37:20</td>\n",
       "      <td>7.990266</td>\n",
       "      <td>NaN</td>\n",
       "      <td>[998095527]</td>\n",
       "      <td>['MDU6TGFiZWw5OTgwOTU1Mjc=']</td>\n",
       "      <td>['Resolution: Locked']</td>\n",
       "      <td>['ffffff']</td>\n",
       "      <td>[False]</td>\n",
       "      <td>['This issue was locked by the bot.']</td>\n",
       "      <td>other</td>\n",
       "    </tr>\n",
       "    <tr>\n",
       "      <th>4</th>\n",
       "      <td>https://api.github.com/repos/facebook/react-native/issues/8</td>\n",
       "      <td>https://api.github.com/repos/facebook/react-native</td>\n",
       "      <td>['https://api.github.com/repos/facebook/react-native/labels/Resolution:%20Locked']</td>\n",
       "      <td>https://api.github.com/repos/facebook/react-native/issues/8/comments</td>\n",
       "      <td>https://api.github.com/repos/facebook/react-native/issues/8/events</td>\n",
       "      <td>https://github.com/facebook/react-native/issues/8</td>\n",
       "      <td>56087028</td>\n",
       "      <td>MDU6SXNzdWU1NjA4NzAyOA==</td>\n",
       "      <td>8</td>\n",
       "      <td>Support webpack-dev-server</td>\n",
       "      <td>{'login': 'gaearon', 'id': 810438, 'node_id': 'MDQ6VXNlcjgxMDQzOA==', 'avatar_url': 'https://avatars.githubusercontent.com/u/810438?v=4', 'gravatar_id': '', 'url': 'https://api.github.com/users/gaearon', 'html_url': 'https://github.com/gaearon', 'followers_url': 'https://api.github.com/users/gaearon/followers', 'following_url': 'https://api.github.com/users/gaearon/following{/other_user}', 'gists_url': 'https://api.github.com/users/gaearon/gists{/gist_id}', 'starred_url': 'https://api.github.com/users/gaearon/starred{/owner}{/repo}', 'subscriptions_url': 'https://api.github.com/users/gaearon/subscriptions', 'organizations_url': 'https://api.github.com/users/gaearon/orgs', 'repos_url': 'https://api.github.com/users/gaearon/repos', 'events_url': 'https://api.github.com/users/gaearon/events{/privacy}', 'received_events_url': 'https://api.github.com/users/gaearon/received_events', 'type': 'User', 'site_admin': False}</td>\n",
       "      <td>[{'id': 998095527, 'node_id': 'MDU6TGFiZWw5OTgwOTU1Mjc=', 'url': 'https://api.github.com/repos/facebook/react-native/labels/Resolution:%20Locked', 'name': 'Resolution: Locked', 'color': 'ffffff', 'default': False, 'description': 'This issue was locked by the bot.'}]</td>\n",
       "      <td>closed</td>\n",
       "      <td>True</td>\n",
       "      <td>None</td>\n",
       "      <td>[]</td>\n",
       "      <td>None</td>\n",
       "      <td>5</td>\n",
       "      <td>2015-01-30T21:28:44Z</td>\n",
       "      <td>2018-07-23T05:02:57Z</td>\n",
       "      <td>2015-01-31T00:03:40Z</td>\n",
       "      <td>CONTRIBUTOR</td>\n",
       "      <td>resolved</td>\n",
       "      <td>I want to implement support for Webpack dev server.\\n\\nThis is essential to my workflow as I rely on transforms such as 6to5. I also want to integrate Hot Module Replacement to React Native so that updates without losing component state or unmounting are possible.\\n\\nWhere should I start looking?\\n</td>\n",
       "      <td>{'url': 'https://api.github.com/repos/facebook/react-native/issues/8/reactions', 'total_count': 0, '+1': 0, '-1': 0, 'laugh': 0, 'hooray': 0, 'confused': 0, 'heart': 0, 'rocket': 0, 'eyes': 0}</td>\n",
       "      <td>https://api.github.com/repos/facebook/react-native/issues/8/timeline</td>\n",
       "      <td>None</td>\n",
       "      <td>completed</td>\n",
       "      <td>1.0</td>\n",
       "      <td>facebook/react-native</td>\n",
       "      <td>issue</td>\n",
       "      <td>2015-01-30 21:28:44</td>\n",
       "      <td>2015-01-31 00:03:40</td>\n",
       "      <td>0.107593</td>\n",
       "      <td>NaN</td>\n",
       "      <td>[998095527]</td>\n",
       "      <td>['MDU6TGFiZWw5OTgwOTU1Mjc=']</td>\n",
       "      <td>['Resolution: Locked']</td>\n",
       "      <td>['ffffff']</td>\n",
       "      <td>[False]</td>\n",
       "      <td>['This issue was locked by the bot.']</td>\n",
       "      <td>other</td>\n",
       "    </tr>\n",
       "  </tbody>\n",
       "</table>\n",
       "</div>"
      ],
      "text/plain": [
       "                                                           url  \\\n",
       "0  https://api.github.com/repos/facebook/react-native/issues/2   \n",
       "1  https://api.github.com/repos/facebook/react-native/issues/4   \n",
       "2  https://api.github.com/repos/facebook/react-native/issues/5   \n",
       "3  https://api.github.com/repos/facebook/react-native/issues/7   \n",
       "4  https://api.github.com/repos/facebook/react-native/issues/8   \n",
       "\n",
       "                                       repository_url  \\\n",
       "0  https://api.github.com/repos/facebook/react-native   \n",
       "1  https://api.github.com/repos/facebook/react-native   \n",
       "2  https://api.github.com/repos/facebook/react-native   \n",
       "3  https://api.github.com/repos/facebook/react-native   \n",
       "4  https://api.github.com/repos/facebook/react-native   \n",
       "\n",
       "                                                                           labels_url  \\\n",
       "0  ['https://api.github.com/repos/facebook/react-native/labels/Resolution:%20Locked']   \n",
       "1  ['https://api.github.com/repos/facebook/react-native/labels/Resolution:%20Locked']   \n",
       "2  ['https://api.github.com/repos/facebook/react-native/labels/Resolution:%20Locked']   \n",
       "3  ['https://api.github.com/repos/facebook/react-native/labels/Resolution:%20Locked']   \n",
       "4  ['https://api.github.com/repos/facebook/react-native/labels/Resolution:%20Locked']   \n",
       "\n",
       "                                                           comments_url  \\\n",
       "0  https://api.github.com/repos/facebook/react-native/issues/2/comments   \n",
       "1  https://api.github.com/repos/facebook/react-native/issues/4/comments   \n",
       "2  https://api.github.com/repos/facebook/react-native/issues/5/comments   \n",
       "3  https://api.github.com/repos/facebook/react-native/issues/7/comments   \n",
       "4  https://api.github.com/repos/facebook/react-native/issues/8/comments   \n",
       "\n",
       "                                                           events_url  \\\n",
       "0  https://api.github.com/repos/facebook/react-native/issues/2/events   \n",
       "1  https://api.github.com/repos/facebook/react-native/issues/4/events   \n",
       "2  https://api.github.com/repos/facebook/react-native/issues/5/events   \n",
       "3  https://api.github.com/repos/facebook/react-native/issues/7/events   \n",
       "4  https://api.github.com/repos/facebook/react-native/issues/8/events   \n",
       "\n",
       "                                            html_url        id  \\\n",
       "0  https://github.com/facebook/react-native/issues/2  55988530   \n",
       "1  https://github.com/facebook/react-native/issues/4  56060794   \n",
       "2  https://github.com/facebook/react-native/issues/5  56064994   \n",
       "3  https://github.com/facebook/react-native/issues/7  56083155   \n",
       "4  https://github.com/facebook/react-native/issues/8  56087028   \n",
       "\n",
       "                    node_id  number  \\\n",
       "0  MDU6SXNzdWU1NTk4ODUzMA==       2   \n",
       "1  MDU6SXNzdWU1NjA2MDc5NA==       4   \n",
       "2  MDU6SXNzdWU1NjA2NDk5NA==       5   \n",
       "3  MDU6SXNzdWU1NjA4MzE1NQ==       7   \n",
       "4  MDU6SXNzdWU1NjA4NzAyOA==       8   \n",
       "\n",
       "                                               title  \\\n",
       "0                              `pthread.h` not found   \n",
       "1                   Set UIStatusBarStyleLightContent   \n",
       "2                             Auto-refresh simulator   \n",
       "3  What are the guidelines for exposing native APIs?   \n",
       "4                         Support webpack-dev-server   \n",
       "\n",
       "                                                                                                                                                                                                                                                                                                                                                                                                                                                                                                                                                                                                                                                                                                                                                                                                                                                                                                                                                                               user  \\\n",
       "0  {'login': 'jlongster', 'id': 17031, 'node_id': 'MDQ6VXNlcjE3MDMx', 'avatar_url': 'https://avatars.githubusercontent.com/u/17031?v=4', 'gravatar_id': '', 'url': 'https://api.github.com/users/jlongster', 'html_url': 'https://github.com/jlongster', 'followers_url': 'https://api.github.com/users/jlongster/followers', 'following_url': 'https://api.github.com/users/jlongster/following{/other_user}', 'gists_url': 'https://api.github.com/users/jlongster/gists{/gist_id}', 'starred_url': 'https://api.github.com/users/jlongster/starred{/owner}{/repo}', 'subscriptions_url': 'https://api.github.com/users/jlongster/subscriptions', 'organizations_url': 'https://api.github.com/users/jlongster/orgs', 'repos_url': 'https://api.github.com/users/jlongster/repos', 'events_url': 'https://api.github.com/users/jlongster/events{/privacy}', 'received_events_url': 'https://api.github.com/users/jlongster/received_events', 'type': 'User', 'site_admin': False}   \n",
       "1                                                                  {'login': 'nick', 'id': 939, 'node_id': 'MDQ6VXNlcjkzOQ==', 'avatar_url': 'https://avatars.githubusercontent.com/u/939?v=4', 'gravatar_id': '', 'url': 'https://api.github.com/users/nick', 'html_url': 'https://github.com/nick', 'followers_url': 'https://api.github.com/users/nick/followers', 'following_url': 'https://api.github.com/users/nick/following{/other_user}', 'gists_url': 'https://api.github.com/users/nick/gists{/gist_id}', 'starred_url': 'https://api.github.com/users/nick/starred{/owner}{/repo}', 'subscriptions_url': 'https://api.github.com/users/nick/subscriptions', 'organizations_url': 'https://api.github.com/users/nick/orgs', 'repos_url': 'https://api.github.com/users/nick/repos', 'events_url': 'https://api.github.com/users/nick/events{/privacy}', 'received_events_url': 'https://api.github.com/users/nick/received_events', 'type': 'User', 'site_admin': False}   \n",
       "2                                                                  {'login': 'nick', 'id': 939, 'node_id': 'MDQ6VXNlcjkzOQ==', 'avatar_url': 'https://avatars.githubusercontent.com/u/939?v=4', 'gravatar_id': '', 'url': 'https://api.github.com/users/nick', 'html_url': 'https://github.com/nick', 'followers_url': 'https://api.github.com/users/nick/followers', 'following_url': 'https://api.github.com/users/nick/following{/other_user}', 'gists_url': 'https://api.github.com/users/nick/gists{/gist_id}', 'starred_url': 'https://api.github.com/users/nick/starred{/owner}{/repo}', 'subscriptions_url': 'https://api.github.com/users/nick/subscriptions', 'organizations_url': 'https://api.github.com/users/nick/orgs', 'repos_url': 'https://api.github.com/users/nick/repos', 'events_url': 'https://api.github.com/users/nick/events{/privacy}', 'received_events_url': 'https://api.github.com/users/nick/received_events', 'type': 'User', 'site_admin': False}   \n",
       "3                    {'login': 'gaearon', 'id': 810438, 'node_id': 'MDQ6VXNlcjgxMDQzOA==', 'avatar_url': 'https://avatars.githubusercontent.com/u/810438?v=4', 'gravatar_id': '', 'url': 'https://api.github.com/users/gaearon', 'html_url': 'https://github.com/gaearon', 'followers_url': 'https://api.github.com/users/gaearon/followers', 'following_url': 'https://api.github.com/users/gaearon/following{/other_user}', 'gists_url': 'https://api.github.com/users/gaearon/gists{/gist_id}', 'starred_url': 'https://api.github.com/users/gaearon/starred{/owner}{/repo}', 'subscriptions_url': 'https://api.github.com/users/gaearon/subscriptions', 'organizations_url': 'https://api.github.com/users/gaearon/orgs', 'repos_url': 'https://api.github.com/users/gaearon/repos', 'events_url': 'https://api.github.com/users/gaearon/events{/privacy}', 'received_events_url': 'https://api.github.com/users/gaearon/received_events', 'type': 'User', 'site_admin': False}   \n",
       "4                    {'login': 'gaearon', 'id': 810438, 'node_id': 'MDQ6VXNlcjgxMDQzOA==', 'avatar_url': 'https://avatars.githubusercontent.com/u/810438?v=4', 'gravatar_id': '', 'url': 'https://api.github.com/users/gaearon', 'html_url': 'https://github.com/gaearon', 'followers_url': 'https://api.github.com/users/gaearon/followers', 'following_url': 'https://api.github.com/users/gaearon/following{/other_user}', 'gists_url': 'https://api.github.com/users/gaearon/gists{/gist_id}', 'starred_url': 'https://api.github.com/users/gaearon/starred{/owner}{/repo}', 'subscriptions_url': 'https://api.github.com/users/gaearon/subscriptions', 'organizations_url': 'https://api.github.com/users/gaearon/orgs', 'repos_url': 'https://api.github.com/users/gaearon/repos', 'events_url': 'https://api.github.com/users/gaearon/events{/privacy}', 'received_events_url': 'https://api.github.com/users/gaearon/received_events', 'type': 'User', 'site_admin': False}   \n",
       "\n",
       "                                                                                                                                                                                                                                                                       labels  \\\n",
       "0  [{'id': 998095527, 'node_id': 'MDU6TGFiZWw5OTgwOTU1Mjc=', 'url': 'https://api.github.com/repos/facebook/react-native/labels/Resolution:%20Locked', 'name': 'Resolution: Locked', 'color': 'ffffff', 'default': False, 'description': 'This issue was locked by the bot.'}]   \n",
       "1  [{'id': 998095527, 'node_id': 'MDU6TGFiZWw5OTgwOTU1Mjc=', 'url': 'https://api.github.com/repos/facebook/react-native/labels/Resolution:%20Locked', 'name': 'Resolution: Locked', 'color': 'ffffff', 'default': False, 'description': 'This issue was locked by the bot.'}]   \n",
       "2  [{'id': 998095527, 'node_id': 'MDU6TGFiZWw5OTgwOTU1Mjc=', 'url': 'https://api.github.com/repos/facebook/react-native/labels/Resolution:%20Locked', 'name': 'Resolution: Locked', 'color': 'ffffff', 'default': False, 'description': 'This issue was locked by the bot.'}]   \n",
       "3  [{'id': 998095527, 'node_id': 'MDU6TGFiZWw5OTgwOTU1Mjc=', 'url': 'https://api.github.com/repos/facebook/react-native/labels/Resolution:%20Locked', 'name': 'Resolution: Locked', 'color': 'ffffff', 'default': False, 'description': 'This issue was locked by the bot.'}]   \n",
       "4  [{'id': 998095527, 'node_id': 'MDU6TGFiZWw5OTgwOTU1Mjc=', 'url': 'https://api.github.com/repos/facebook/react-native/labels/Resolution:%20Locked', 'name': 'Resolution: Locked', 'color': 'ffffff', 'default': False, 'description': 'This issue was locked by the bot.'}]   \n",
       "\n",
       "    state  locked assignee assignees milestone  comments  \\\n",
       "0  closed    True     None        []      None         2   \n",
       "1  closed    True     None        []      None        26   \n",
       "2  closed    True     None        []      None        28   \n",
       "3  closed    True     None        []      None         4   \n",
       "4  closed    True     None        []      None         5   \n",
       "\n",
       "             created_at            updated_at             closed_at  \\\n",
       "0  2015-01-30T02:54:11Z  2018-07-23T05:02:58Z  2015-01-31T00:04:06Z   \n",
       "1  2015-01-30T17:25:33Z  2018-07-23T05:02:58Z  2015-02-07T20:36:47Z   \n",
       "2  2015-01-30T18:05:27Z  2018-07-23T05:02:58Z  2015-04-01T02:26:12Z   \n",
       "3  2015-01-30T20:51:21Z  2018-07-23T05:02:57Z  2015-02-07T20:37:20Z   \n",
       "4  2015-01-30T21:28:44Z  2018-07-23T05:02:57Z  2015-01-31T00:03:40Z   \n",
       "\n",
       "  author_association active_lock_reason  \\\n",
       "0               NONE           resolved   \n",
       "1               NONE           resolved   \n",
       "2               NONE           resolved   \n",
       "3        CONTRIBUTOR           resolved   \n",
       "4        CONTRIBUTOR           resolved   \n",
       "\n",
       "                                                                                                                                                                                                                                                                                                                                                                                                                                                                                                                                                                                                                                                                                                                                                                                                                                                                                                                                                                                                                                                                                                                                                                                                                                                                                                                                                                                                                                                              body  \\\n",
       "0                                                                                                                                                                                                                                                                                                                                                                                                                                                                                                                                                                                                                                                                                                                                                                                                                                                                                                                                                                                                                                                                                                                                                                                                                  To build on my machine (OS X 10.9.3) targeting iOS SDK 7.1 (only one available on my machine), I had to change line 7 in `/ReactKit/Modules/RCTUIManager.m` from `#import <pthread/pthread.h>` to `#import <pthread.h>` to get it to compile.\\n   \n",
       "1                                                                                                                                                                                                                                                                                                                                                                                                                                                                                                                                                                                                                                                                                                                                                                                                                                                                                                                                                                                                                                                                                                                                                                                                                                                                                                                  Is it possible to set the status bar to light? I'm working on a dark background.\\n\\nAlso, is this the right place to ask questions like this?\\n   \n",
       "2                                                                                                                                                                                                                                                                                                                                                                                                                                                                                                                                                                                                                                                                                                                                                                                                                                                                                                                                                                                                                                                                                                                                                                                                                                                                                                                                                            Is it possible to have the simulator automatically refresh when a file is changed instead of Cmd-R?\\n   \n",
       "3  This is not an issue per se, but something that #4 got me thinking about.\\n\\nThere are often many ways to expose the same native API. How opinionated does React Native want to be? For example, Xamarin mirrors all available iOS SDK but has [a very specific and consistent API guidelines document](http://developer.xamarin.com/guides/ios/under_the_hood/api_design/) that explains how native Cocoa APIs are mapped to be C#-friendly. This means that, if you know how certain API is called in Objective C, you can more or less infer what it will be in Xamarin's world without consulting the docs.\\n\\nWith React Native, this gets even more interesting because we may need both imperative platform-bridging API (like [proposed `StatusBarIOS.setStyle`](https://github.com/facebook/react-native/issues/4#issuecomment-72254022)) as well as declarative React components sitting on top of such APIs, for example [`NavigatorIOS`](https://github.com/facebook/react-native/blob/master/Libraries/Components/Navigation/NavigatorIOS.ios.js).\\n\\nAre there any guidelines we want to establish for such components? Are we just trying to make the best declarative wrappers possible for every platform's native APIs? How fast are we willing to make breaking changes to them? (Unlike React, we have a lot of public API here.)\\n\\nI'm sorry if this is premature talk but I'd love to get some sense of the direction of this project.\\n   \n",
       "4                                                                                                                                                                                                                                                                                                                                                                                                                                                                                                                                                                                                                                                                                                                                                                                                                                                                                                                                                                                                                                                                                                                                                      I want to implement support for Webpack dev server.\\n\\nThis is essential to my workflow as I rely on transforms such as 6to5. I also want to integrate Hot Module Replacement to React Native so that updates without losing component state or unmounting are possible.\\n\\nWhere should I start looking?\\n   \n",
       "\n",
       "                                                                                                                                                                                          reactions  \\\n",
       "0  {'url': 'https://api.github.com/repos/facebook/react-native/issues/2/reactions', 'total_count': 0, '+1': 0, '-1': 0, 'laugh': 0, 'hooray': 0, 'confused': 0, 'heart': 0, 'rocket': 0, 'eyes': 0}   \n",
       "1  {'url': 'https://api.github.com/repos/facebook/react-native/issues/4/reactions', 'total_count': 0, '+1': 0, '-1': 0, 'laugh': 0, 'hooray': 0, 'confused': 0, 'heart': 0, 'rocket': 0, 'eyes': 0}   \n",
       "2  {'url': 'https://api.github.com/repos/facebook/react-native/issues/5/reactions', 'total_count': 0, '+1': 0, '-1': 0, 'laugh': 0, 'hooray': 0, 'confused': 0, 'heart': 0, 'rocket': 0, 'eyes': 0}   \n",
       "3  {'url': 'https://api.github.com/repos/facebook/react-native/issues/7/reactions', 'total_count': 0, '+1': 0, '-1': 0, 'laugh': 0, 'hooray': 0, 'confused': 0, 'heart': 0, 'rocket': 0, 'eyes': 0}   \n",
       "4  {'url': 'https://api.github.com/repos/facebook/react-native/issues/8/reactions', 'total_count': 0, '+1': 0, '-1': 0, 'laugh': 0, 'hooray': 0, 'confused': 0, 'heart': 0, 'rocket': 0, 'eyes': 0}   \n",
       "\n",
       "                                                           timeline_url  \\\n",
       "0  https://api.github.com/repos/facebook/react-native/issues/2/timeline   \n",
       "1  https://api.github.com/repos/facebook/react-native/issues/4/timeline   \n",
       "2  https://api.github.com/repos/facebook/react-native/issues/5/timeline   \n",
       "3  https://api.github.com/repos/facebook/react-native/issues/7/timeline   \n",
       "4  https://api.github.com/repos/facebook/react-native/issues/8/timeline   \n",
       "\n",
       "  performed_via_github_app state_reason  score        repository_name  \\\n",
       "0                     None    completed    1.0  facebook/react-native   \n",
       "1                     None    completed    1.0  facebook/react-native   \n",
       "2                     None    completed    1.0  facebook/react-native   \n",
       "3                     None    completed    1.0  facebook/react-native   \n",
       "4                     None    completed    1.0  facebook/react-native   \n",
       "\n",
       "  issue/pr created_at_timestamp closed_at_timestamp  issue_resolution_time  \\\n",
       "0    issue  2015-01-30 02:54:11 2015-01-31 00:04:06               0.881887   \n",
       "1    issue  2015-01-30 17:25:33 2015-02-07 20:36:47               8.132801   \n",
       "2    issue  2015-01-30 18:05:27 2015-04-01 02:26:12              60.347743   \n",
       "3    issue  2015-01-30 20:51:21 2015-02-07 20:37:20               7.990266   \n",
       "4    issue  2015-01-30 21:28:44 2015-01-31 00:03:40               0.107593   \n",
       "\n",
       "   open_since    labels_id                labels_node_id  \\\n",
       "0         NaN  [998095527]  ['MDU6TGFiZWw5OTgwOTU1Mjc=']   \n",
       "1         NaN  [998095527]  ['MDU6TGFiZWw5OTgwOTU1Mjc=']   \n",
       "2         NaN  [998095527]  ['MDU6TGFiZWw5OTgwOTU1Mjc=']   \n",
       "3         NaN  [998095527]  ['MDU6TGFiZWw5OTgwOTU1Mjc=']   \n",
       "4         NaN  [998095527]  ['MDU6TGFiZWw5OTgwOTU1Mjc=']   \n",
       "\n",
       "              labels_name labels_color labels_default  \\\n",
       "0  ['Resolution: Locked']   ['ffffff']        [False]   \n",
       "1  ['Resolution: Locked']   ['ffffff']        [False]   \n",
       "2  ['Resolution: Locked']   ['ffffff']        [False]   \n",
       "3  ['Resolution: Locked']   ['ffffff']        [False]   \n",
       "4  ['Resolution: Locked']   ['ffffff']        [False]   \n",
       "\n",
       "                      labels_description mapLabel  \n",
       "0  ['This issue was locked by the bot.']    other  \n",
       "1  ['This issue was locked by the bot.']    other  \n",
       "2  ['This issue was locked by the bot.']    other  \n",
       "3  ['This issue was locked by the bot.']    other  \n",
       "4  ['This issue was locked by the bot.']    other  "
      ]
     },
     "execution_count": 3,
     "metadata": {},
     "output_type": "execute_result"
    }
   ],
   "source": [
    "df.head()"
   ]
  },
  {
   "cell_type": "markdown",
   "metadata": {},
   "source": [
    "Included Labels: bug - enhancement - question "
   ]
  },
  {
   "cell_type": "code",
   "execution_count": 4,
   "metadata": {},
   "outputs": [
    {
     "data": {
      "text/plain": [
       "mapLabel\n",
       "bug            55945\n",
       "enhancement    36369\n",
       "question       12337\n",
       "Name: count, dtype: int64"
      ]
     },
     "execution_count": 4,
     "metadata": {},
     "output_type": "execute_result"
    }
   ],
   "source": [
    "enhancement_labels = {'enhancement', 'feature', 'proposal', 'improvement', 'suggestion'}\n",
    "df['mapLabel'] = df['mapLabel'].replace(enhancement_labels, 'enhancement')\n",
    "\n",
    "question_labels = {'question', 'discussion'}\n",
    "df['mapLabel'] = df['mapLabel'].replace(question_labels, 'question')\n",
    "\n",
    "included_labels = {'bug', 'enhancement', 'question'}\n",
    "df_filtered = df[df['mapLabel'].isin(included_labels)]\n",
    "df_filtered.reset_index(drop=True, inplace=True)\n",
    "\n",
    "df_filtered['mapLabel'].value_counts()"
   ]
  },
  {
   "cell_type": "code",
   "execution_count": 5,
   "metadata": {},
   "outputs": [
    {
     "data": {
      "text/plain": [
       "mapLabel\n",
       "bug            53.458639\n",
       "enhancement    34.752654\n",
       "question       11.788707\n",
       "Name: proportion, dtype: float64"
      ]
     },
     "execution_count": 5,
     "metadata": {},
     "output_type": "execute_result"
    }
   ],
   "source": [
    "value_counts_with_percentage = df_filtered['mapLabel'].value_counts(normalize = True) * 100\n",
    "value_counts_with_percentage"
   ]
  },
  {
   "cell_type": "markdown",
   "metadata": {},
   "source": [
    "Train Test Split"
   ]
  },
  {
   "cell_type": "code",
   "execution_count": 6,
   "metadata": {},
   "outputs": [
    {
     "name": "stdout",
     "output_type": "stream",
     "text": [
      "Train set: (94185, 42)\n",
      "Test set: (10466, 42)\n"
     ]
    }
   ],
   "source": [
    "random_seed = 42\n",
    "train, test = train_test_split(df_filtered, test_size = 0.1, train_size = 0.9, stratify = df_filtered['mapLabel'], random_state = random_seed)\n",
    "train = train.reset_index(drop = True)\n",
    "test = test.reset_index(drop = True)\n",
    "print(\"Train set:\", train.shape)\n",
    "print(\"Test set:\", test.shape)"
   ]
  },
  {
   "cell_type": "code",
   "execution_count": 7,
   "metadata": {},
   "outputs": [
    {
     "data": {
      "text/plain": [
       "mapLabel\n",
       "bug            50350\n",
       "enhancement    32732\n",
       "question       11103\n",
       "Name: count, dtype: int64"
      ]
     },
     "execution_count": 7,
     "metadata": {},
     "output_type": "execute_result"
    }
   ],
   "source": [
    "train['mapLabel'].value_counts()"
   ]
  },
  {
   "cell_type": "code",
   "execution_count": 8,
   "metadata": {},
   "outputs": [
    {
     "data": {
      "text/plain": [
       "mapLabel\n",
       "bug            5595\n",
       "enhancement    3637\n",
       "question       1234\n",
       "Name: count, dtype: int64"
      ]
     },
     "execution_count": 8,
     "metadata": {},
     "output_type": "execute_result"
    }
   ],
   "source": [
    "test['mapLabel'].value_counts()"
   ]
  },
  {
   "cell_type": "code",
   "execution_count": 9,
   "metadata": {},
   "outputs": [],
   "source": [
    "train['original_issue_title'] = train['title']\n",
    "train['original_issue_body'] = train['body']\n",
    "\n",
    "train.rename(columns={'title': 'preprocessed_title'}, inplace=True)\n",
    "train.rename(columns={'body': 'preprocessed_body'}, inplace=True)\n",
    "\n",
    "test['original_issue_title'] = test['title']\n",
    "test['original_issue_body'] = test['body']\n",
    "\n",
    "test.rename(columns={'title': 'preprocessed_title'}, inplace=True)\n",
    "test.rename(columns={'body': 'preprocessed_body'}, inplace=True)"
   ]
  },
  {
   "cell_type": "code",
   "execution_count": 10,
   "metadata": {},
   "outputs": [],
   "source": [
    "# label= 'issue_label'\n",
    "label = 'mapLabel'\n",
    "\n",
    "# time = 'issue_created_at'\n",
    "time = 'created_at'\n",
    "\n",
    "# repo = 'repository_url'\n",
    "repo = 'repository_name'\n",
    "\n",
    "title = 'preprocessed_title'\n",
    "body = 'preprocessed_body'\n",
    "\n",
    "# author = 'issue_author_association'\n",
    "author = 'author_association'\n",
    "\n",
    "# url = 'issue_url'\n",
    "url = 'url'\n",
    "\n",
    "#label_col = 'labels'\n",
    "label_col = 'labels_cat'\n",
    "text_col = 'text'\n",
    "\n",
    "max_title = 30\n",
    "max_body = 170\n",
    "# punctuations = '!\"$%&\\()*,/:;<=>[\\\\]^`{|}~+#@-`' below line is added since this line (original) gives SyntaxWarning: invalid escape sequence '\\('\n",
    "punctuations = r'!\"$%&\\()*,/:;<=>[\\\\]^`{|}~+#@-`'\n",
    "ascii_regex = re.compile(r'[^\\x00-\\x7f]')\n",
    "issue_regex = re.compile(r'#[0-9]+')\n",
    "function_regex = re.compile(r'[a-zA-Z][a-zA-Z0-9_.]*\\([a-zA-Z0-9_, ]*\\)')"
   ]
  },
  {
   "cell_type": "markdown",
   "metadata": {},
   "source": [
    "first deduplicate the TRAINING dataset based on issue URls"
   ]
  },
  {
   "cell_type": "code",
   "execution_count": 11,
   "metadata": {},
   "outputs": [
    {
     "name": "stdout",
     "output_type": "stream",
     "text": [
      "Number of dropped issue duplications:  0\n"
     ]
    }
   ],
   "source": [
    "dedup_train = train.sort_values(url).drop_duplicates(subset=[url]).copy()\n",
    "print('Number of dropped issue duplications: ' , train.shape[0] - dedup_train.shape[0])\n",
    "\n",
    "dedup_train[title] = dedup_train[title].astype(str)\n",
    "dedup_train[body] = dedup_train[body].astype(str)\n",
    "dedup_train[author] = dedup_train[author].astype(str)\n",
    "dedup_train[time] = dedup_train[time].astype(str)\n",
    "dedup_train[repo] = dedup_train[repo].astype(str)\n",
    "\n",
    "test[title] = test[title].astype(str)\n",
    "test[body] = test[body].astype(str)\n",
    "test[author] = test[author].astype(str)\n",
    "test[time] = test[time].astype(str)\n",
    "test[repo] = test[repo].astype(str)"
   ]
  },
  {
   "cell_type": "markdown",
   "metadata": {},
   "source": [
    "text normalization on text columns of issues"
   ]
  },
  {
   "cell_type": "code",
   "execution_count": 12,
   "metadata": {},
   "outputs": [
    {
     "name": "stdout",
     "output_type": "stream",
     "text": [
      "Replacing functions...\n",
      "Replacing issue numbers...\n",
      "Converting to lower case...\n"
     ]
    }
   ],
   "source": [
    "print('Replacing functions...')\n",
    "dedup_train[body] = dedup_train[body].apply(lambda x:function_regex.sub(\" function \",x))\n",
    "test[body] = test[body].apply(lambda x:function_regex.sub(\" function \",x))\n",
    "\n",
    "print('Replacing issue numbers...')\n",
    "dedup_train[title] = dedup_train[title].apply(lambda x:issue_regex.sub(\" issue \",x))\n",
    "dedup_train[body] = dedup_train[body].apply(lambda x:issue_regex.sub(\" issue \",x))\n",
    "test[title] = test[title].apply(lambda x:issue_regex.sub(\" issue \",x))\n",
    "test[body] = test[body].apply(lambda x:issue_regex.sub(\" issue \",x))\n",
    "\n",
    "print('Converting to lower case...')\n",
    "dedup_train[title] = dedup_train[title].str.lower()\n",
    "dedup_train[body] = dedup_train[body].str.lower()\n",
    "test[title] = test[title].str.lower()\n",
    "test[body] = test[body].str.lower()"
   ]
  },
  {
   "cell_type": "markdown",
   "metadata": {},
   "source": [
    "remove extra information from text"
   ]
  },
  {
   "cell_type": "code",
   "execution_count": 13,
   "metadata": {},
   "outputs": [
    {
     "name": "stdout",
     "output_type": "stream",
     "text": [
      "Removing punctuations...\n",
      "Removing non-ascii charachters...\n",
      "Replacing white spaces...\n"
     ]
    }
   ],
   "source": [
    "print('Removing punctuations...')\n",
    "replace_string = ' '*len(punctuations)\n",
    "dedup_train[title] = dedup_train[title].str.translate(str.maketrans(punctuations, replace_string))\n",
    "dedup_train[body] = dedup_train[body].str.translate(str.maketrans(punctuations, replace_string))\n",
    "test[title] = test[title].str.translate(str.maketrans(punctuations, replace_string))\n",
    "test[body] = test[body].str.translate(str.maketrans(punctuations, replace_string))\n",
    "\n",
    "print('Removing non-ascii charachters...')\n",
    "dedup_train[title] = dedup_train[title].apply(lambda x:re.sub(ascii_regex, '', x))\n",
    "dedup_train[title] = dedup_train[title].apply(lambda x:ud.normalize('NFD', x))\n",
    "dedup_train[body] = dedup_train[body].apply(lambda x:re.sub(ascii_regex, '', x))\n",
    "dedup_train[body] = dedup_train[body].apply(lambda x:ud.normalize('NFD', x))\n",
    "\n",
    "test[title] = test[title].apply(lambda x:re.sub(ascii_regex, '', x))\n",
    "test[title] = test[title].apply(lambda x:ud.normalize('NFD', x))\n",
    "test[body] = test[body].apply(lambda x:re.sub(ascii_regex, '', x))\n",
    "test[body] = test[body].apply(lambda x:ud.normalize('NFD', x))\n",
    "\n",
    "#print('Replacing fixed part of repo URl column...')\n",
    "#dedup_train[repo] = dedup_train[repo].apply(lambda x: x.replace('https://api.github.com/repos/', ''))\n",
    "#test[repo] = test[repo].apply(lambda x: x.replace('https://api.github.com/repos/', ''))\n",
    "\n",
    "print('Replacing white spaces...')\n",
    "dedup_train[title] = dedup_train[title].apply(lambda x:\" \".join(x.split()))\n",
    "dedup_train[body] = dedup_train[body].apply(lambda x:\" \".join(x.split()))\n",
    "test[title] = test[title].apply(lambda x:\" \".join(x.split()))\n",
    "test[body] = test[body].apply(lambda x:\" \".join(x.split()))"
   ]
  },
  {
   "cell_type": "markdown",
   "metadata": {},
   "source": [
    "check the number of tokens in the issue title and issue body"
   ]
  },
  {
   "cell_type": "markdown",
   "metadata": {},
   "source": [
    "train"
   ]
  },
  {
   "cell_type": "code",
   "execution_count": 14,
   "metadata": {},
   "outputs": [
    {
     "name": "stdout",
     "output_type": "stream",
     "text": [
      "Average number of tokens in issue title: 8.50552635770027, Median of tokens in issue title: 8.0\n"
     ]
    }
   ],
   "source": [
    "dedup_train['title_token_count'] = dedup_train[title].apply(lambda x: len(x.split()))\n",
    "print(f'Average number of tokens in issue title: {dedup_train['title_token_count'].mean()}, Median of tokens in issue title: {dedup_train['title_token_count'].median()}')"
   ]
  },
  {
   "cell_type": "code",
   "execution_count": 15,
   "metadata": {},
   "outputs": [
    {
     "name": "stdout",
     "output_type": "stream",
     "text": [
      "Average number of tokens in issue body: 201.95992992514732, Median of tokens in issue body: 121.0\n"
     ]
    }
   ],
   "source": [
    "dedup_train['body_token_count'] = dedup_train[body].apply(lambda x: len(x.split()))\n",
    "print(f'Average number of tokens in issue body: {dedup_train['body_token_count'].mean()}, Median of tokens in issue body: {dedup_train['body_token_count'].median()}')"
   ]
  },
  {
   "cell_type": "markdown",
   "metadata": {},
   "source": [
    "test"
   ]
  },
  {
   "cell_type": "code",
   "execution_count": 16,
   "metadata": {},
   "outputs": [
    {
     "name": "stdout",
     "output_type": "stream",
     "text": [
      "Average number of tokens in issue title: 8.46225874259507, Median of tokens in issue title: 8.0\n"
     ]
    }
   ],
   "source": [
    "test['title_token_count'] = test[title].apply(lambda x: len(x.split()))\n",
    "print(f'Average number of tokens in issue title: {test['title_token_count'].mean()}, Median of tokens in issue title: {test['title_token_count'].median()}')"
   ]
  },
  {
   "cell_type": "code",
   "execution_count": 17,
   "metadata": {},
   "outputs": [
    {
     "name": "stdout",
     "output_type": "stream",
     "text": [
      "Average number of tokens in issue body: 200.2710682209058, Median of tokens in issue body: 119.0\n"
     ]
    }
   ],
   "source": [
    "test['body_token_count'] = test[body].apply(lambda x: len(x.split()))\n",
    "print(f'Average number of tokens in issue body: {test['body_token_count'].mean()}, Median of tokens in issue body: {test['body_token_count'].median()}')"
   ]
  },
  {
   "cell_type": "markdown",
   "metadata": {},
   "source": [
    "truncate columns"
   ]
  },
  {
   "cell_type": "code",
   "execution_count": 18,
   "metadata": {},
   "outputs": [],
   "source": [
    "dedup_train[title] = dedup_train[title].apply(lambda x: ' '.join(x.split(maxsplit=max_title)[:max_title]))\n",
    "dedup_train[body] = dedup_train[body].apply(lambda x: ' '.join(x.split(maxsplit=max_body)[:max_body]))\n",
    "test[title] = test[title].apply(lambda x: ' '.join(x.split(maxsplit=max_title)[:max_title]))\n",
    "test[body] = test[body].apply(lambda x: ' '.join(x.split(maxsplit=max_body)[:max_body]))"
   ]
  },
  {
   "cell_type": "markdown",
   "metadata": {},
   "source": [
    "prepare labels column"
   ]
  },
  {
   "cell_type": "code",
   "execution_count": 19,
   "metadata": {},
   "outputs": [],
   "source": [
    "dedup_train[label] = pd.Categorical(dedup_train[label])\n",
    "test[label] = pd.Categorical(test[label])\n",
    "dedup_train[label_col] = dedup_train[label].cat.codes\n",
    "test[label_col] = test[label].cat.codes"
   ]
  },
  {
   "cell_type": "markdown",
   "metadata": {},
   "source": [
    "concat issue columns in one \"text\" column to feed the BERT model"
   ]
  },
  {
   "cell_type": "code",
   "execution_count": 20,
   "metadata": {},
   "outputs": [],
   "source": [
    "dedup_train[text_col] = 'time ' + dedup_train[time] + ' author ' + dedup_train[author] +' repo ' + dedup_train[repo] + ' title ' + dedup_train[title] + ' body ' + dedup_train[body]\n",
    "test[text_col] = 'time ' + test[time] + ' author ' + test[author] +' repo ' + test[repo] + ' title ' + test[title] + ' body ' + test[body]"
   ]
  },
  {
   "cell_type": "code",
   "execution_count": 21,
   "metadata": {},
   "outputs": [
    {
     "data": {
      "text/html": [
       "<div>\n",
       "<style scoped>\n",
       "    .dataframe tbody tr th:only-of-type {\n",
       "        vertical-align: middle;\n",
       "    }\n",
       "\n",
       "    .dataframe tbody tr th {\n",
       "        vertical-align: top;\n",
       "    }\n",
       "\n",
       "    .dataframe thead th {\n",
       "        text-align: right;\n",
       "    }\n",
       "</style>\n",
       "<table border=\"1\" class=\"dataframe\">\n",
       "  <thead>\n",
       "    <tr style=\"text-align: right;\">\n",
       "      <th></th>\n",
       "      <th>url</th>\n",
       "      <th>repository_url</th>\n",
       "      <th>labels_url</th>\n",
       "      <th>comments_url</th>\n",
       "      <th>events_url</th>\n",
       "      <th>html_url</th>\n",
       "      <th>id</th>\n",
       "      <th>node_id</th>\n",
       "      <th>number</th>\n",
       "      <th>preprocessed_title</th>\n",
       "      <th>user</th>\n",
       "      <th>labels</th>\n",
       "      <th>state</th>\n",
       "      <th>locked</th>\n",
       "      <th>assignee</th>\n",
       "      <th>assignees</th>\n",
       "      <th>milestone</th>\n",
       "      <th>comments</th>\n",
       "      <th>created_at</th>\n",
       "      <th>updated_at</th>\n",
       "      <th>closed_at</th>\n",
       "      <th>author_association</th>\n",
       "      <th>active_lock_reason</th>\n",
       "      <th>preprocessed_body</th>\n",
       "      <th>reactions</th>\n",
       "      <th>timeline_url</th>\n",
       "      <th>performed_via_github_app</th>\n",
       "      <th>state_reason</th>\n",
       "      <th>score</th>\n",
       "      <th>repository_name</th>\n",
       "      <th>issue/pr</th>\n",
       "      <th>created_at_timestamp</th>\n",
       "      <th>closed_at_timestamp</th>\n",
       "      <th>issue_resolution_time</th>\n",
       "      <th>open_since</th>\n",
       "      <th>labels_id</th>\n",
       "      <th>labels_node_id</th>\n",
       "      <th>labels_name</th>\n",
       "      <th>labels_color</th>\n",
       "      <th>labels_default</th>\n",
       "      <th>labels_description</th>\n",
       "      <th>mapLabel</th>\n",
       "      <th>original_issue_title</th>\n",
       "      <th>original_issue_body</th>\n",
       "      <th>title_token_count</th>\n",
       "      <th>body_token_count</th>\n",
       "      <th>labels_cat</th>\n",
       "      <th>text</th>\n",
       "    </tr>\n",
       "  </thead>\n",
       "  <tbody>\n",
       "    <tr>\n",
       "      <th>71638</th>\n",
       "      <td>https://api.github.com/repos/Anuken/Mindustry/issues/2131</td>\n",
       "      <td>https://api.github.com/repos/Anuken/Mindustry</td>\n",
       "      <td>['https://api.github.com/repos/Anuken/Mindustry/labels/bug']</td>\n",
       "      <td>https://api.github.com/repos/Anuken/Mindustry/issues/2131/comments</td>\n",
       "      <td>https://api.github.com/repos/Anuken/Mindustry/issues/2131/events</td>\n",
       "      <td>https://github.com/Anuken/Mindustry/issues/2131</td>\n",
       "      <td>628551684</td>\n",
       "      <td>MDU6SXNzdWU2Mjg1NTE2ODQ=</td>\n",
       "      <td>2131</td>\n",
       "      <td>issue with drillspeed for laserdrills</td>\n",
       "      <td>{'login': 'Absolute359', 'id': 66265700, 'node_id': 'MDQ6VXNlcjY2MjY1NzAw', 'avatar_url': 'https://avatars.githubusercontent.com/u/66265700?v=4', 'gravatar_id': '', 'url': 'https://api.github.com/users/Absolute359', 'html_url': 'https://github.com/Absolute359', 'followers_url': 'https://api.github.com/users/Absolute359/followers', 'following_url': 'https://api.github.com/users/Absolute359/following{/other_user}', 'gists_url': 'https://api.github.com/users/Absolute359/gists{/gist_id}', 'starred_url': 'https://api.github.com/users/Absolute359/starred{/owner}{/repo}', 'subscriptions_url': 'https://api.github.com/users/Absolute359/subscriptions', 'organizations_url': 'https://api.github.com/users/Absolute359/orgs', 'repos_url': 'https://api.github.com/users/Absolute359/repos', 'events_url': 'https://api.github.com/users/Absolute359/events{/privacy}', 'received_events_url': 'https://api.github.com/users/Absolute359/received_events', 'type': 'User', 'site_admin': False}</td>\n",
       "      <td>[{'id': 594803818, 'node_id': 'MDU6TGFiZWw1OTQ4MDM4MTg=', 'url': 'https://api.github.com/repos/Anuken/Mindustry/labels/bug', 'name': 'bug', 'color': 'd30051', 'default': True, 'description': ''}]</td>\n",
       "      <td>closed</td>\n",
       "      <td>False</td>\n",
       "      <td>None</td>\n",
       "      <td>[]</td>\n",
       "      <td>None</td>\n",
       "      <td>2</td>\n",
       "      <td>2020-06-01T16:01:49Z</td>\n",
       "      <td>2020-06-01T16:54:52Z</td>\n",
       "      <td>2020-06-01T16:54:52Z</td>\n",
       "      <td>NONE</td>\n",
       "      <td>None</td>\n",
       "      <td>platform windows 7 build steam build 104.10 issue a water boosted laserdrill on sand displays 4.94 s but it can't supply 8 oil extractors wich only need 4.8 sand s in total. there is no overflowing sand and the oil lake on the last extractor is smaller compared to the others. for smooth designs it would be nice to get the actuall 4.94 s out of that drill image https user images.githubusercontent.com 66265700 83427216 ac0add00 a430 11ea 9ea5 026092d03b3e.png place an x no spaces between the brackets to confirm that you have read the line below. x i have searched the closed and open issues to make sure that this problem has not already been reported.</td>\n",
       "      <td>{'url': 'https://api.github.com/repos/Anuken/Mindustry/issues/2131/reactions', 'total_count': 0, '+1': 0, '-1': 0, 'laugh': 0, 'hooray': 0, 'confused': 0, 'heart': 0, 'rocket': 0, 'eyes': 0}</td>\n",
       "      <td>https://api.github.com/repos/Anuken/Mindustry/issues/2131/timeline</td>\n",
       "      <td>None</td>\n",
       "      <td>completed</td>\n",
       "      <td>1.0</td>\n",
       "      <td>Anuken/Mindustry</td>\n",
       "      <td>issue</td>\n",
       "      <td>2020-06-01 16:01:49</td>\n",
       "      <td>2020-06-01 16:54:52</td>\n",
       "      <td>0.03684</td>\n",
       "      <td>NaN</td>\n",
       "      <td>[594803818]</td>\n",
       "      <td>['MDU6TGFiZWw1OTQ4MDM4MTg=']</td>\n",
       "      <td>['bug']</td>\n",
       "      <td>['d30051']</td>\n",
       "      <td>[True]</td>\n",
       "      <td>['']</td>\n",
       "      <td>bug</td>\n",
       "      <td>Issue with drillspeed for Laserdrills</td>\n",
       "      <td>**Platform**: *Windows 7*\\r\\n\\r\\n**Build**: *steam build 104.10*\\r\\n\\r\\n**Issue**: *A water boosted laserdrill on sand displays 4.94/s but it can't supply 8 oil extractors wich only need 4.8 sand/s in total. There is no overflowing sand and the oil lake on the last extractor is smaller compared to the others. For smooth designs it would be nice to get the actuall 4.94/s out of that drill*\\r\\n![image](https://user-images.githubusercontent.com/66265700/83427216-ac0add00-a430-11ea-9ea5-026092d03b3e.png)\\r\\n\\r\\n---\\r\\n\\r\\n*Place an X (no spaces) between the brackets to confirm that you have read the line below.*  \\r\\n- [X ] **I have searched the closed and open issues to make sure that this problem has not already been reported.**\\r\\n</td>\n",
       "      <td>5</td>\n",
       "      <td>116</td>\n",
       "      <td>0</td>\n",
       "      <td>time 2020-06-01T16:01:49Z author NONE repo Anuken/Mindustry title issue with drillspeed for laserdrills body platform windows 7 build steam build 104.10 issue a water boosted laserdrill on sand displays 4.94 s but it can't supply 8 oil extractors wich only need 4.8 sand s in total. there is no overflowing sand and the oil lake on the last extractor is smaller compared to the others. for smooth designs it would be nice to get the actuall 4.94 s out of that drill image https user images.githubusercontent.com 66265700 83427216 ac0add00 a430 11ea 9ea5 026092d03b3e.png place an x no spaces between the brackets to confirm that you have read the line below. x i have searched the closed and open issues to make sure that this problem has not already been reported.</td>\n",
       "    </tr>\n",
       "  </tbody>\n",
       "</table>\n",
       "</div>"
      ],
      "text/plain": [
       "                                                             url  \\\n",
       "71638  https://api.github.com/repos/Anuken/Mindustry/issues/2131   \n",
       "\n",
       "                                      repository_url  \\\n",
       "71638  https://api.github.com/repos/Anuken/Mindustry   \n",
       "\n",
       "                                                         labels_url  \\\n",
       "71638  ['https://api.github.com/repos/Anuken/Mindustry/labels/bug']   \n",
       "\n",
       "                                                             comments_url  \\\n",
       "71638  https://api.github.com/repos/Anuken/Mindustry/issues/2131/comments   \n",
       "\n",
       "                                                             events_url  \\\n",
       "71638  https://api.github.com/repos/Anuken/Mindustry/issues/2131/events   \n",
       "\n",
       "                                              html_url         id  \\\n",
       "71638  https://github.com/Anuken/Mindustry/issues/2131  628551684   \n",
       "\n",
       "                        node_id  number  \\\n",
       "71638  MDU6SXNzdWU2Mjg1NTE2ODQ=    2131   \n",
       "\n",
       "                          preprocessed_title  \\\n",
       "71638  issue with drillspeed for laserdrills   \n",
       "\n",
       "                                                                                                                                                                                                                                                                                                                                                                                                                                                                                                                                                                                                                                                                                                                                                                                                                                                                                                                                                                                                                     user  \\\n",
       "71638  {'login': 'Absolute359', 'id': 66265700, 'node_id': 'MDQ6VXNlcjY2MjY1NzAw', 'avatar_url': 'https://avatars.githubusercontent.com/u/66265700?v=4', 'gravatar_id': '', 'url': 'https://api.github.com/users/Absolute359', 'html_url': 'https://github.com/Absolute359', 'followers_url': 'https://api.github.com/users/Absolute359/followers', 'following_url': 'https://api.github.com/users/Absolute359/following{/other_user}', 'gists_url': 'https://api.github.com/users/Absolute359/gists{/gist_id}', 'starred_url': 'https://api.github.com/users/Absolute359/starred{/owner}{/repo}', 'subscriptions_url': 'https://api.github.com/users/Absolute359/subscriptions', 'organizations_url': 'https://api.github.com/users/Absolute359/orgs', 'repos_url': 'https://api.github.com/users/Absolute359/repos', 'events_url': 'https://api.github.com/users/Absolute359/events{/privacy}', 'received_events_url': 'https://api.github.com/users/Absolute359/received_events', 'type': 'User', 'site_admin': False}   \n",
       "\n",
       "                                                                                                                                                                                                    labels  \\\n",
       "71638  [{'id': 594803818, 'node_id': 'MDU6TGFiZWw1OTQ4MDM4MTg=', 'url': 'https://api.github.com/repos/Anuken/Mindustry/labels/bug', 'name': 'bug', 'color': 'd30051', 'default': True, 'description': ''}]   \n",
       "\n",
       "        state  locked assignee assignees milestone  comments  \\\n",
       "71638  closed   False     None        []      None         2   \n",
       "\n",
       "                 created_at            updated_at             closed_at  \\\n",
       "71638  2020-06-01T16:01:49Z  2020-06-01T16:54:52Z  2020-06-01T16:54:52Z   \n",
       "\n",
       "      author_association active_lock_reason  \\\n",
       "71638               NONE               None   \n",
       "\n",
       "                                                                                                                                                                                                                                                                                                                                                                                                                                                                                                                                                                                                                                                                      preprocessed_body  \\\n",
       "71638  platform windows 7 build steam build 104.10 issue a water boosted laserdrill on sand displays 4.94 s but it can't supply 8 oil extractors wich only need 4.8 sand s in total. there is no overflowing sand and the oil lake on the last extractor is smaller compared to the others. for smooth designs it would be nice to get the actuall 4.94 s out of that drill image https user images.githubusercontent.com 66265700 83427216 ac0add00 a430 11ea 9ea5 026092d03b3e.png place an x no spaces between the brackets to confirm that you have read the line below. x i have searched the closed and open issues to make sure that this problem has not already been reported.   \n",
       "\n",
       "                                                                                                                                                                                            reactions  \\\n",
       "71638  {'url': 'https://api.github.com/repos/Anuken/Mindustry/issues/2131/reactions', 'total_count': 0, '+1': 0, '-1': 0, 'laugh': 0, 'hooray': 0, 'confused': 0, 'heart': 0, 'rocket': 0, 'eyes': 0}   \n",
       "\n",
       "                                                             timeline_url  \\\n",
       "71638  https://api.github.com/repos/Anuken/Mindustry/issues/2131/timeline   \n",
       "\n",
       "      performed_via_github_app state_reason  score   repository_name issue/pr  \\\n",
       "71638                     None    completed    1.0  Anuken/Mindustry    issue   \n",
       "\n",
       "      created_at_timestamp closed_at_timestamp  issue_resolution_time  \\\n",
       "71638  2020-06-01 16:01:49 2020-06-01 16:54:52                0.03684   \n",
       "\n",
       "       open_since    labels_id                labels_node_id labels_name  \\\n",
       "71638         NaN  [594803818]  ['MDU6TGFiZWw1OTQ4MDM4MTg=']     ['bug']   \n",
       "\n",
       "      labels_color labels_default labels_description mapLabel  \\\n",
       "71638   ['d30051']         [True]               ['']      bug   \n",
       "\n",
       "                        original_issue_title  \\\n",
       "71638  Issue with drillspeed for Laserdrills   \n",
       "\n",
       "                                                                                                                                                                                                                                                                                                                                                                                                                                                                                                                                                                                                                                                                                                                                                        original_issue_body  \\\n",
       "71638  **Platform**: *Windows 7*\\r\\n\\r\\n**Build**: *steam build 104.10*\\r\\n\\r\\n**Issue**: *A water boosted laserdrill on sand displays 4.94/s but it can't supply 8 oil extractors wich only need 4.8 sand/s in total. There is no overflowing sand and the oil lake on the last extractor is smaller compared to the others. For smooth designs it would be nice to get the actuall 4.94/s out of that drill*\\r\\n![image](https://user-images.githubusercontent.com/66265700/83427216-ac0add00-a430-11ea-9ea5-026092d03b3e.png)\\r\\n\\r\\n---\\r\\n\\r\\n*Place an X (no spaces) between the brackets to confirm that you have read the line below.*  \\r\\n- [X ] **I have searched the closed and open issues to make sure that this problem has not already been reported.**\\r\\n   \n",
       "\n",
       "       title_token_count  body_token_count  labels_cat  \\\n",
       "71638                  5               116           0   \n",
       "\n",
       "                                                                                                                                                                                                                                                                                                                                                                                                                                                                                                                                                                                                                                                                                                                                                                                                text  \n",
       "71638  time 2020-06-01T16:01:49Z author NONE repo Anuken/Mindustry title issue with drillspeed for laserdrills body platform windows 7 build steam build 104.10 issue a water boosted laserdrill on sand displays 4.94 s but it can't supply 8 oil extractors wich only need 4.8 sand s in total. there is no overflowing sand and the oil lake on the last extractor is smaller compared to the others. for smooth designs it would be nice to get the actuall 4.94 s out of that drill image https user images.githubusercontent.com 66265700 83427216 ac0add00 a430 11ea 9ea5 026092d03b3e.png place an x no spaces between the brackets to confirm that you have read the line below. x i have searched the closed and open issues to make sure that this problem has not already been reported.  "
      ]
     },
     "execution_count": 21,
     "metadata": {},
     "output_type": "execute_result"
    }
   ],
   "source": [
    "dedup_train.head(1)"
   ]
  },
  {
   "cell_type": "markdown",
   "metadata": {},
   "source": [
    "split and save datasets"
   ]
  },
  {
   "cell_type": "code",
   "execution_count": 23,
   "metadata": {},
   "outputs": [],
   "source": [
    "dedup_train.reset_index(drop=True, inplace=True)\n",
    "test.reset_index(drop=True, inplace=True)\n",
    "\n",
    "dedup_train[['original_issue_title','preprocessed_title','original_issue_body','preprocessed_body','text','mapLabel','labels_cat']].to_csv(f'msc_dataset_preprocessing/train_clean_concat_{max_title+max_body}_detailed_data.csv', index = False)\n",
    "test[['original_issue_title','preprocessed_title','original_issue_body','preprocessed_body','text','mapLabel','labels_cat']].to_csv(f'msc_dataset_preprocessing/test_clean_concat_{max_title+max_body}_detailed_data.csv', index = False)"
   ]
  },
  {
   "cell_type": "code",
   "execution_count": 24,
   "metadata": {},
   "outputs": [],
   "source": [
    "dedup_train[['text','labels']].to_csv(f'msc_dataset_preprocessing/train_clean_concat_{max_title+max_body}.csv', index = False)\n",
    "test[['text','labels']].to_csv(f'msc_dataset_preprocessing/test_clean_concat_{max_title+max_body}.csv', index = False)"
   ]
  }
 ],
 "metadata": {
  "kernelspec": {
   "display_name": "Python 3",
   "language": "python",
   "name": "python3"
  },
  "language_info": {
   "codemirror_mode": {
    "name": "ipython",
    "version": 3
   },
   "file_extension": ".py",
   "mimetype": "text/x-python",
   "name": "python",
   "nbconvert_exporter": "python",
   "pygments_lexer": "ipython3",
   "version": "3.12.0"
  }
 },
 "nbformat": 4,
 "nbformat_minor": 2
}
