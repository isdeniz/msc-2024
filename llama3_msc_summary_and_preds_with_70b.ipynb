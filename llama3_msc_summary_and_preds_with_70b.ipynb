{
  "nbformat": 4,
  "nbformat_minor": 0,
  "metadata": {
    "colab": {
      "provenance": [],
      "machine_shape": "hm",
      "gpuType": "A100",
      "authorship_tag": "ABX9TyOdtEKD/eybHOycWOlYkFlD",
      "include_colab_link": true
    },
    "kernelspec": {
      "name": "python3",
      "display_name": "Python 3"
    },
    "language_info": {
      "name": "python"
    },
    "accelerator": "GPU"
  },
  "cells": [
    {
      "cell_type": "markdown",
      "metadata": {
        "id": "view-in-github",
        "colab_type": "text"
      },
      "source": [
        "<a href=\"https://colab.research.google.com/github/isdeniz/msc-2024/blob/main/llama3_msc_summary_and_preds_with_70b.ipynb\" target=\"_parent\"><img src=\"https://colab.research.google.com/assets/colab-badge.svg\" alt=\"Open In Colab\"/></a>"
      ]
    },
    {
      "cell_type": "code",
      "execution_count": 1,
      "metadata": {
        "colab": {
          "base_uri": "https://localhost:8080/"
        },
        "id": "kYqJUcyJp2hg",
        "outputId": "2605784e-fe1b-4442-dbee-39539aad3b74"
      },
      "outputs": [
        {
          "output_type": "stream",
          "name": "stdout",
          "text": [
            ">>> Downloading ollama...\n",
            "############################################################################################# 100.0%\n",
            ">>> Installing ollama to /usr/local/bin...\n",
            ">>> Creating ollama user...\n",
            ">>> Adding ollama user to video group...\n",
            ">>> Adding current user to ollama group...\n",
            ">>> Creating ollama systemd service...\n",
            "WARNING: Unable to detect NVIDIA/AMD GPU. Install lspci or lshw to automatically detect and install GPU dependencies.\n",
            ">>> The Ollama API is now available at 127.0.0.1:11434.\n",
            ">>> Install complete. Run \"ollama\" from the command line.\n"
          ]
        }
      ],
      "source": [
        "!curl -fsSL https://ollama.com/install.sh | sh"
      ]
    },
    {
      "cell_type": "code",
      "source": [
        "!python3.10 -m pip install langchain"
      ],
      "metadata": {
        "colab": {
          "base_uri": "https://localhost:8080/"
        },
        "id": "TNeyehsZsBl0",
        "outputId": "0673d50e-4462-4290-b1e8-caf1627752df"
      },
      "execution_count": 2,
      "outputs": [
        {
          "output_type": "stream",
          "name": "stdout",
          "text": [
            "Collecting langchain\n",
            "  Downloading langchain-0.2.14-py3-none-any.whl.metadata (7.1 kB)\n",
            "Requirement already satisfied: PyYAML>=5.3 in /usr/local/lib/python3.10/dist-packages (from langchain) (6.0.2)\n",
            "Requirement already satisfied: SQLAlchemy<3,>=1.4 in /usr/local/lib/python3.10/dist-packages (from langchain) (2.0.32)\n",
            "Requirement already satisfied: aiohttp<4.0.0,>=3.8.3 in /usr/local/lib/python3.10/dist-packages (from langchain) (3.10.2)\n",
            "Requirement already satisfied: async-timeout<5.0.0,>=4.0.0 in /usr/local/lib/python3.10/dist-packages (from langchain) (4.0.3)\n",
            "Collecting langchain-core<0.3.0,>=0.2.32 (from langchain)\n",
            "  Downloading langchain_core-0.2.33-py3-none-any.whl.metadata (6.2 kB)\n",
            "Collecting langchain-text-splitters<0.3.0,>=0.2.0 (from langchain)\n",
            "  Downloading langchain_text_splitters-0.2.2-py3-none-any.whl.metadata (2.1 kB)\n",
            "Collecting langsmith<0.2.0,>=0.1.17 (from langchain)\n",
            "  Downloading langsmith-0.1.99-py3-none-any.whl.metadata (13 kB)\n",
            "Requirement already satisfied: numpy<2,>=1 in /usr/local/lib/python3.10/dist-packages (from langchain) (1.26.4)\n",
            "Requirement already satisfied: pydantic<3,>=1 in /usr/local/lib/python3.10/dist-packages (from langchain) (2.8.2)\n",
            "Requirement already satisfied: requests<3,>=2 in /usr/local/lib/python3.10/dist-packages (from langchain) (2.32.3)\n",
            "Collecting tenacity!=8.4.0,<9.0.0,>=8.1.0 (from langchain)\n",
            "  Downloading tenacity-8.5.0-py3-none-any.whl.metadata (1.2 kB)\n",
            "Requirement already satisfied: aiohappyeyeballs>=2.3.0 in /usr/local/lib/python3.10/dist-packages (from aiohttp<4.0.0,>=3.8.3->langchain) (2.3.5)\n",
            "Requirement already satisfied: aiosignal>=1.1.2 in /usr/local/lib/python3.10/dist-packages (from aiohttp<4.0.0,>=3.8.3->langchain) (1.3.1)\n",
            "Requirement already satisfied: attrs>=17.3.0 in /usr/local/lib/python3.10/dist-packages (from aiohttp<4.0.0,>=3.8.3->langchain) (24.2.0)\n",
            "Requirement already satisfied: frozenlist>=1.1.1 in /usr/local/lib/python3.10/dist-packages (from aiohttp<4.0.0,>=3.8.3->langchain) (1.4.1)\n",
            "Requirement already satisfied: multidict<7.0,>=4.5 in /usr/local/lib/python3.10/dist-packages (from aiohttp<4.0.0,>=3.8.3->langchain) (6.0.5)\n",
            "Requirement already satisfied: yarl<2.0,>=1.0 in /usr/local/lib/python3.10/dist-packages (from aiohttp<4.0.0,>=3.8.3->langchain) (1.9.4)\n",
            "Collecting jsonpatch<2.0,>=1.33 (from langchain-core<0.3.0,>=0.2.32->langchain)\n",
            "  Downloading jsonpatch-1.33-py2.py3-none-any.whl.metadata (3.0 kB)\n",
            "Requirement already satisfied: packaging<25,>=23.2 in /usr/local/lib/python3.10/dist-packages (from langchain-core<0.3.0,>=0.2.32->langchain) (24.1)\n",
            "Requirement already satisfied: typing-extensions>=4.7 in /usr/local/lib/python3.10/dist-packages (from langchain-core<0.3.0,>=0.2.32->langchain) (4.12.2)\n",
            "Collecting orjson<4.0.0,>=3.9.14 (from langsmith<0.2.0,>=0.1.17->langchain)\n",
            "  Downloading orjson-3.10.7-cp310-cp310-manylinux_2_17_x86_64.manylinux2014_x86_64.whl.metadata (50 kB)\n",
            "\u001b[2K     \u001b[90m━━━━━━━━━━━━━━━━━━━━━━━━━━━━━━━━━━━━━━━━\u001b[0m \u001b[32m50.4/50.4 kB\u001b[0m \u001b[31m4.3 MB/s\u001b[0m eta \u001b[36m0:00:00\u001b[0m\n",
            "\u001b[?25hRequirement already satisfied: annotated-types>=0.4.0 in /usr/local/lib/python3.10/dist-packages (from pydantic<3,>=1->langchain) (0.7.0)\n",
            "Requirement already satisfied: pydantic-core==2.20.1 in /usr/local/lib/python3.10/dist-packages (from pydantic<3,>=1->langchain) (2.20.1)\n",
            "Requirement already satisfied: charset-normalizer<4,>=2 in /usr/local/lib/python3.10/dist-packages (from requests<3,>=2->langchain) (3.3.2)\n",
            "Requirement already satisfied: idna<4,>=2.5 in /usr/local/lib/python3.10/dist-packages (from requests<3,>=2->langchain) (3.7)\n",
            "Requirement already satisfied: urllib3<3,>=1.21.1 in /usr/local/lib/python3.10/dist-packages (from requests<3,>=2->langchain) (2.0.7)\n",
            "Requirement already satisfied: certifi>=2017.4.17 in /usr/local/lib/python3.10/dist-packages (from requests<3,>=2->langchain) (2024.7.4)\n",
            "Requirement already satisfied: greenlet!=0.4.17 in /usr/local/lib/python3.10/dist-packages (from SQLAlchemy<3,>=1.4->langchain) (3.0.3)\n",
            "Collecting jsonpointer>=1.9 (from jsonpatch<2.0,>=1.33->langchain-core<0.3.0,>=0.2.32->langchain)\n",
            "  Downloading jsonpointer-3.0.0-py2.py3-none-any.whl.metadata (2.3 kB)\n",
            "Downloading langchain-0.2.14-py3-none-any.whl (997 kB)\n",
            "\u001b[2K   \u001b[90m━━━━━━━━━━━━━━━━━━━━━━━━━━━━━━━━━━━━━━━━\u001b[0m \u001b[32m997.8/997.8 kB\u001b[0m \u001b[31m54.0 MB/s\u001b[0m eta \u001b[36m0:00:00\u001b[0m\n",
            "\u001b[?25hDownloading langchain_core-0.2.33-py3-none-any.whl (391 kB)\n",
            "\u001b[2K   \u001b[90m━━━━━━━━━━━━━━━━━━━━━━━━━━━━━━━━━━━━━━━━\u001b[0m \u001b[32m391.5/391.5 kB\u001b[0m \u001b[31m32.5 MB/s\u001b[0m eta \u001b[36m0:00:00\u001b[0m\n",
            "\u001b[?25hDownloading langchain_text_splitters-0.2.2-py3-none-any.whl (25 kB)\n",
            "Downloading langsmith-0.1.99-py3-none-any.whl (140 kB)\n",
            "\u001b[2K   \u001b[90m━━━━━━━━━━━━━━━━━━━━━━━━━━━━━━━━━━━━━━━━\u001b[0m \u001b[32m140.4/140.4 kB\u001b[0m \u001b[31m14.2 MB/s\u001b[0m eta \u001b[36m0:00:00\u001b[0m\n",
            "\u001b[?25hDownloading tenacity-8.5.0-py3-none-any.whl (28 kB)\n",
            "Downloading jsonpatch-1.33-py2.py3-none-any.whl (12 kB)\n",
            "Downloading orjson-3.10.7-cp310-cp310-manylinux_2_17_x86_64.manylinux2014_x86_64.whl (141 kB)\n",
            "\u001b[2K   \u001b[90m━━━━━━━━━━━━━━━━━━━━━━━━━━━━━━━━━━━━━━━━\u001b[0m \u001b[32m141.9/141.9 kB\u001b[0m \u001b[31m13.7 MB/s\u001b[0m eta \u001b[36m0:00:00\u001b[0m\n",
            "\u001b[?25hDownloading jsonpointer-3.0.0-py2.py3-none-any.whl (7.6 kB)\n",
            "Installing collected packages: tenacity, orjson, jsonpointer, jsonpatch, langsmith, langchain-core, langchain-text-splitters, langchain\n",
            "  Attempting uninstall: tenacity\n",
            "    Found existing installation: tenacity 9.0.0\n",
            "    Uninstalling tenacity-9.0.0:\n",
            "      Successfully uninstalled tenacity-9.0.0\n",
            "Successfully installed jsonpatch-1.33 jsonpointer-3.0.0 langchain-0.2.14 langchain-core-0.2.33 langchain-text-splitters-0.2.2 langsmith-0.1.99 orjson-3.10.7 tenacity-8.5.0\n"
          ]
        }
      ]
    },
    {
      "cell_type": "code",
      "source": [
        "!python3.10 -m pip install langchain-core"
      ],
      "metadata": {
        "colab": {
          "base_uri": "https://localhost:8080/"
        },
        "id": "a33WluRbsETt",
        "outputId": "97519e26-a835-42ba-c110-0241a0552349"
      },
      "execution_count": 3,
      "outputs": [
        {
          "output_type": "stream",
          "name": "stdout",
          "text": [
            "Requirement already satisfied: langchain-core in /usr/local/lib/python3.10/dist-packages (0.2.33)\n",
            "Requirement already satisfied: PyYAML>=5.3 in /usr/local/lib/python3.10/dist-packages (from langchain-core) (6.0.2)\n",
            "Requirement already satisfied: jsonpatch<2.0,>=1.33 in /usr/local/lib/python3.10/dist-packages (from langchain-core) (1.33)\n",
            "Requirement already satisfied: langsmith<0.2.0,>=0.1.75 in /usr/local/lib/python3.10/dist-packages (from langchain-core) (0.1.99)\n",
            "Requirement already satisfied: packaging<25,>=23.2 in /usr/local/lib/python3.10/dist-packages (from langchain-core) (24.1)\n",
            "Requirement already satisfied: pydantic<3,>=1 in /usr/local/lib/python3.10/dist-packages (from langchain-core) (2.8.2)\n",
            "Requirement already satisfied: tenacity!=8.4.0,<9.0.0,>=8.1.0 in /usr/local/lib/python3.10/dist-packages (from langchain-core) (8.5.0)\n",
            "Requirement already satisfied: typing-extensions>=4.7 in /usr/local/lib/python3.10/dist-packages (from langchain-core) (4.12.2)\n",
            "Requirement already satisfied: jsonpointer>=1.9 in /usr/local/lib/python3.10/dist-packages (from jsonpatch<2.0,>=1.33->langchain-core) (3.0.0)\n",
            "Requirement already satisfied: orjson<4.0.0,>=3.9.14 in /usr/local/lib/python3.10/dist-packages (from langsmith<0.2.0,>=0.1.75->langchain-core) (3.10.7)\n",
            "Requirement already satisfied: requests<3,>=2 in /usr/local/lib/python3.10/dist-packages (from langsmith<0.2.0,>=0.1.75->langchain-core) (2.32.3)\n",
            "Requirement already satisfied: annotated-types>=0.4.0 in /usr/local/lib/python3.10/dist-packages (from pydantic<3,>=1->langchain-core) (0.7.0)\n",
            "Requirement already satisfied: pydantic-core==2.20.1 in /usr/local/lib/python3.10/dist-packages (from pydantic<3,>=1->langchain-core) (2.20.1)\n",
            "Requirement already satisfied: charset-normalizer<4,>=2 in /usr/local/lib/python3.10/dist-packages (from requests<3,>=2->langsmith<0.2.0,>=0.1.75->langchain-core) (3.3.2)\n",
            "Requirement already satisfied: idna<4,>=2.5 in /usr/local/lib/python3.10/dist-packages (from requests<3,>=2->langsmith<0.2.0,>=0.1.75->langchain-core) (3.7)\n",
            "Requirement already satisfied: urllib3<3,>=1.21.1 in /usr/local/lib/python3.10/dist-packages (from requests<3,>=2->langsmith<0.2.0,>=0.1.75->langchain-core) (2.0.7)\n",
            "Requirement already satisfied: certifi>=2017.4.17 in /usr/local/lib/python3.10/dist-packages (from requests<3,>=2->langsmith<0.2.0,>=0.1.75->langchain-core) (2024.7.4)\n"
          ]
        }
      ]
    },
    {
      "cell_type": "code",
      "source": [
        "!python3.10 -m pip install langchain-community"
      ],
      "metadata": {
        "colab": {
          "base_uri": "https://localhost:8080/"
        },
        "id": "pGQGYnf0sGZx",
        "outputId": "09d628ed-b807-48ca-83ea-aaae1c6553fb"
      },
      "execution_count": 4,
      "outputs": [
        {
          "output_type": "stream",
          "name": "stdout",
          "text": [
            "Collecting langchain-community\n",
            "  Downloading langchain_community-0.2.12-py3-none-any.whl.metadata (2.7 kB)\n",
            "Requirement already satisfied: PyYAML>=5.3 in /usr/local/lib/python3.10/dist-packages (from langchain-community) (6.0.2)\n",
            "Requirement already satisfied: SQLAlchemy<3,>=1.4 in /usr/local/lib/python3.10/dist-packages (from langchain-community) (2.0.32)\n",
            "Requirement already satisfied: aiohttp<4.0.0,>=3.8.3 in /usr/local/lib/python3.10/dist-packages (from langchain-community) (3.10.2)\n",
            "Collecting dataclasses-json<0.7,>=0.5.7 (from langchain-community)\n",
            "  Downloading dataclasses_json-0.6.7-py3-none-any.whl.metadata (25 kB)\n",
            "Requirement already satisfied: langchain<0.3.0,>=0.2.13 in /usr/local/lib/python3.10/dist-packages (from langchain-community) (0.2.14)\n",
            "Requirement already satisfied: langchain-core<0.3.0,>=0.2.30 in /usr/local/lib/python3.10/dist-packages (from langchain-community) (0.2.33)\n",
            "Requirement already satisfied: langsmith<0.2.0,>=0.1.0 in /usr/local/lib/python3.10/dist-packages (from langchain-community) (0.1.99)\n",
            "Requirement already satisfied: numpy<2,>=1 in /usr/local/lib/python3.10/dist-packages (from langchain-community) (1.26.4)\n",
            "Requirement already satisfied: requests<3,>=2 in /usr/local/lib/python3.10/dist-packages (from langchain-community) (2.32.3)\n",
            "Requirement already satisfied: tenacity!=8.4.0,<9.0.0,>=8.1.0 in /usr/local/lib/python3.10/dist-packages (from langchain-community) (8.5.0)\n",
            "Requirement already satisfied: aiohappyeyeballs>=2.3.0 in /usr/local/lib/python3.10/dist-packages (from aiohttp<4.0.0,>=3.8.3->langchain-community) (2.3.5)\n",
            "Requirement already satisfied: aiosignal>=1.1.2 in /usr/local/lib/python3.10/dist-packages (from aiohttp<4.0.0,>=3.8.3->langchain-community) (1.3.1)\n",
            "Requirement already satisfied: attrs>=17.3.0 in /usr/local/lib/python3.10/dist-packages (from aiohttp<4.0.0,>=3.8.3->langchain-community) (24.2.0)\n",
            "Requirement already satisfied: frozenlist>=1.1.1 in /usr/local/lib/python3.10/dist-packages (from aiohttp<4.0.0,>=3.8.3->langchain-community) (1.4.1)\n",
            "Requirement already satisfied: multidict<7.0,>=4.5 in /usr/local/lib/python3.10/dist-packages (from aiohttp<4.0.0,>=3.8.3->langchain-community) (6.0.5)\n",
            "Requirement already satisfied: yarl<2.0,>=1.0 in /usr/local/lib/python3.10/dist-packages (from aiohttp<4.0.0,>=3.8.3->langchain-community) (1.9.4)\n",
            "Requirement already satisfied: async-timeout<5.0,>=4.0 in /usr/local/lib/python3.10/dist-packages (from aiohttp<4.0.0,>=3.8.3->langchain-community) (4.0.3)\n",
            "Collecting marshmallow<4.0.0,>=3.18.0 (from dataclasses-json<0.7,>=0.5.7->langchain-community)\n",
            "  Downloading marshmallow-3.21.3-py3-none-any.whl.metadata (7.1 kB)\n",
            "Collecting typing-inspect<1,>=0.4.0 (from dataclasses-json<0.7,>=0.5.7->langchain-community)\n",
            "  Downloading typing_inspect-0.9.0-py3-none-any.whl.metadata (1.5 kB)\n",
            "Requirement already satisfied: langchain-text-splitters<0.3.0,>=0.2.0 in /usr/local/lib/python3.10/dist-packages (from langchain<0.3.0,>=0.2.13->langchain-community) (0.2.2)\n",
            "Requirement already satisfied: pydantic<3,>=1 in /usr/local/lib/python3.10/dist-packages (from langchain<0.3.0,>=0.2.13->langchain-community) (2.8.2)\n",
            "Requirement already satisfied: jsonpatch<2.0,>=1.33 in /usr/local/lib/python3.10/dist-packages (from langchain-core<0.3.0,>=0.2.30->langchain-community) (1.33)\n",
            "Requirement already satisfied: packaging<25,>=23.2 in /usr/local/lib/python3.10/dist-packages (from langchain-core<0.3.0,>=0.2.30->langchain-community) (24.1)\n",
            "Requirement already satisfied: typing-extensions>=4.7 in /usr/local/lib/python3.10/dist-packages (from langchain-core<0.3.0,>=0.2.30->langchain-community) (4.12.2)\n",
            "Requirement already satisfied: orjson<4.0.0,>=3.9.14 in /usr/local/lib/python3.10/dist-packages (from langsmith<0.2.0,>=0.1.0->langchain-community) (3.10.7)\n",
            "Requirement already satisfied: charset-normalizer<4,>=2 in /usr/local/lib/python3.10/dist-packages (from requests<3,>=2->langchain-community) (3.3.2)\n",
            "Requirement already satisfied: idna<4,>=2.5 in /usr/local/lib/python3.10/dist-packages (from requests<3,>=2->langchain-community) (3.7)\n",
            "Requirement already satisfied: urllib3<3,>=1.21.1 in /usr/local/lib/python3.10/dist-packages (from requests<3,>=2->langchain-community) (2.0.7)\n",
            "Requirement already satisfied: certifi>=2017.4.17 in /usr/local/lib/python3.10/dist-packages (from requests<3,>=2->langchain-community) (2024.7.4)\n",
            "Requirement already satisfied: greenlet!=0.4.17 in /usr/local/lib/python3.10/dist-packages (from SQLAlchemy<3,>=1.4->langchain-community) (3.0.3)\n",
            "Requirement already satisfied: jsonpointer>=1.9 in /usr/local/lib/python3.10/dist-packages (from jsonpatch<2.0,>=1.33->langchain-core<0.3.0,>=0.2.30->langchain-community) (3.0.0)\n",
            "Requirement already satisfied: annotated-types>=0.4.0 in /usr/local/lib/python3.10/dist-packages (from pydantic<3,>=1->langchain<0.3.0,>=0.2.13->langchain-community) (0.7.0)\n",
            "Requirement already satisfied: pydantic-core==2.20.1 in /usr/local/lib/python3.10/dist-packages (from pydantic<3,>=1->langchain<0.3.0,>=0.2.13->langchain-community) (2.20.1)\n",
            "Collecting mypy-extensions>=0.3.0 (from typing-inspect<1,>=0.4.0->dataclasses-json<0.7,>=0.5.7->langchain-community)\n",
            "  Downloading mypy_extensions-1.0.0-py3-none-any.whl.metadata (1.1 kB)\n",
            "Downloading langchain_community-0.2.12-py3-none-any.whl (2.3 MB)\n",
            "\u001b[2K   \u001b[90m━━━━━━━━━━━━━━━━━━━━━━━━━━━━━━━━━━━━━━━━\u001b[0m \u001b[32m2.3/2.3 MB\u001b[0m \u001b[31m13.8 MB/s\u001b[0m eta \u001b[36m0:00:00\u001b[0m\n",
            "\u001b[?25hDownloading dataclasses_json-0.6.7-py3-none-any.whl (28 kB)\n",
            "Downloading marshmallow-3.21.3-py3-none-any.whl (49 kB)\n",
            "\u001b[2K   \u001b[90m━━━━━━━━━━━━━━━━━━━━━━━━━━━━━━━━━━━━━━━━\u001b[0m \u001b[32m49.2/49.2 kB\u001b[0m \u001b[31m4.4 MB/s\u001b[0m eta \u001b[36m0:00:00\u001b[0m\n",
            "\u001b[?25hDownloading typing_inspect-0.9.0-py3-none-any.whl (8.8 kB)\n",
            "Downloading mypy_extensions-1.0.0-py3-none-any.whl (4.7 kB)\n",
            "Installing collected packages: mypy-extensions, marshmallow, typing-inspect, dataclasses-json, langchain-community\n",
            "Successfully installed dataclasses-json-0.6.7 langchain-community-0.2.12 marshmallow-3.21.3 mypy-extensions-1.0.0 typing-inspect-0.9.0\n"
          ]
        }
      ]
    },
    {
      "cell_type": "code",
      "source": [
        "from langchain_community.llms import Ollama\n",
        "llm = Ollama(model = \"llama3:70b\", num_ctx=8192, temperature=0)"
      ],
      "metadata": {
        "id": "jEldQ3M-sPlJ"
      },
      "execution_count": 5,
      "outputs": []
    },
    {
      "cell_type": "code",
      "source": [
        "pip install tqdm"
      ],
      "metadata": {
        "colab": {
          "base_uri": "https://localhost:8080/"
        },
        "id": "ahxnqy0IsSTb",
        "outputId": "4a14144f-adc2-4512-cf98-2bc47c5f12db"
      },
      "execution_count": 6,
      "outputs": [
        {
          "output_type": "stream",
          "name": "stdout",
          "text": [
            "Requirement already satisfied: tqdm in /usr/local/lib/python3.10/dist-packages (4.66.5)\n"
          ]
        }
      ]
    },
    {
      "cell_type": "code",
      "source": [
        "import pandas as pd\n",
        "from tqdm import tqdm\n",
        "import numpy as np"
      ],
      "metadata": {
        "id": "MEfcZmHysUNB"
      },
      "execution_count": 7,
      "outputs": []
    },
    {
      "cell_type": "code",
      "source": [
        "test_sample = pd.read_pickle('data/test_sample_llama_5000_to_be_summarized_github.pkl')\n",
        "print('Number of issues: ', test_sample.shape)"
      ],
      "metadata": {
        "colab": {
          "base_uri": "https://localhost:8080/"
        },
        "id": "GTJZrQuzsWUU",
        "outputId": "74aa604e-fedb-4b8a-ff87-528a5d6ee805"
      },
      "execution_count": 8,
      "outputs": [
        {
          "output_type": "stream",
          "name": "stdout",
          "text": [
            "Number of issues:  (28, 26)\n"
          ]
        }
      ]
    },
    {
      "cell_type": "code",
      "source": [
        "test_sample.head()"
      ],
      "metadata": {
        "colab": {
          "base_uri": "https://localhost:8080/",
          "height": 542
        },
        "id": "O6-oHM3isiIH",
        "outputId": "d1fcb5ea-1c1c-4484-f261-03a1963d6f8f"
      },
      "execution_count": 9,
      "outputs": [
        {
          "output_type": "execute_result",
          "data": {
            "text/plain": [
              "     index                               original_issue_title  \\\n",
              "68    3007      Jpa namedQuery for different data types error   \n",
              "85    9537  Druid query returns 500 error with javax.servl...   \n",
              "132   3755            WLS 12c  spring-boot  war  deploy  fail   \n",
              "241   3767                                    My Game Crashes   \n",
              "893  10196  [Bug] shadow topic replicator may fail due to ...   \n",
              "\n",
              "                                    preprocessed_title  \\\n",
              "68       jpa namedquery for different data types error   \n",
              "85   druid query returns 500 error with javax.servl...   \n",
              "132                wls 12c spring boot war deploy fail   \n",
              "241                                    my game crashes   \n",
              "893  bug shadow topic replicator may fail due to re...   \n",
              "\n",
              "                                   original_issue_body  \\\n",
              "68   ``` java\\n@Entity\\n@Data\\n@Cacheable\\n@Table(n...   \n",
              "85   ### Affected Version\\r\\n0.22.1\\r\\n\\r\\n### Desc...   \n",
              "132  >>The ResourceConfig instance does not contain...   \n",
              "241  **Platform**: *Windows*\\r\\n\\r\\n**Build**: *The...   \n",
              "893  ### Search before asking\\r\\n\\r\\n- [X] I search...   \n",
              "\n",
              "                                     preprocessed_body  \\\n",
              "68   java entity data cacheable table name user pub...   \n",
              "85   affected version 0.22.1 description after upgr...   \n",
              "132  the resourceconfig instance does not contain a...   \n",
              "241  platform windows build the build number 104.10...   \n",
              "893  search before asking x i searched in the issue...   \n",
              "\n",
              "             original_label  \\\n",
              "68   ['for: stackoverflow']   \n",
              "85    ['Bug', 'Area - SQL']   \n",
              "132  ['for: stackoverflow']   \n",
              "241                 ['bug']   \n",
              "893            ['type/bug']   \n",
              "\n",
              "                                                  text issue_label  labels  \\\n",
              "68   time 2016-01-15T09:05:31Z author NONE repo spr...    question       2   \n",
              "85   time 2022-09-15T07:08:19Z author CONTRIBUTOR r...         bug       0   \n",
              "132  time 2017-02-23T09:28:08Z author NONE repo spr...    question       2   \n",
              "241  time 2020-06-24T11:29:22Z author NONE repo Anu...         bug       0   \n",
              "893  time 2022-12-04T10:18:10Z author CONTRIBUTOR r...         bug       0   \n",
              "\n",
              "    roberta_prediction  ... llama3_8b_understandability  \\\n",
              "68            question  ...                               \n",
              "85                 bug  ...                               \n",
              "132           question  ...                               \n",
              "241                bug  ...                               \n",
              "893                bug  ...                               \n",
              "\n",
              "    llama3_8b_understandability_corrected round2_8b llama3_70b_classification  \\\n",
              "68                                             True                             \n",
              "85                                             True                             \n",
              "132                                    90     False                             \n",
              "241                                            True                             \n",
              "893                                            True                             \n",
              "\n",
              "    llama3_70b_classification_corrected llama3_70b_confidence  \\\n",
              "68                                                              \n",
              "85                                                              \n",
              "132                                                             \n",
              "241                                                             \n",
              "893                                                             \n",
              "\n",
              "    llama3_70b_confidence_corrected llama3_70b_understandability  \\\n",
              "68                                                                 \n",
              "85                                                                 \n",
              "132                                                                \n",
              "241                                                                \n",
              "893                                                                \n",
              "\n",
              "     llama3_70b_understandability_corrected round2_70b  \n",
              "68                                                True  \n",
              "85                                                True  \n",
              "132                                               True  \n",
              "241                                               True  \n",
              "893                                               True  \n",
              "\n",
              "[5 rows x 26 columns]"
            ],
            "text/html": [
              "\n",
              "  <div id=\"df-a344c057-7669-4051-8371-fb0e9c2fc3a3\" class=\"colab-df-container\">\n",
              "    <div>\n",
              "<style scoped>\n",
              "    .dataframe tbody tr th:only-of-type {\n",
              "        vertical-align: middle;\n",
              "    }\n",
              "\n",
              "    .dataframe tbody tr th {\n",
              "        vertical-align: top;\n",
              "    }\n",
              "\n",
              "    .dataframe thead th {\n",
              "        text-align: right;\n",
              "    }\n",
              "</style>\n",
              "<table border=\"1\" class=\"dataframe\">\n",
              "  <thead>\n",
              "    <tr style=\"text-align: right;\">\n",
              "      <th></th>\n",
              "      <th>index</th>\n",
              "      <th>original_issue_title</th>\n",
              "      <th>preprocessed_title</th>\n",
              "      <th>original_issue_body</th>\n",
              "      <th>preprocessed_body</th>\n",
              "      <th>original_label</th>\n",
              "      <th>text</th>\n",
              "      <th>issue_label</th>\n",
              "      <th>labels</th>\n",
              "      <th>roberta_prediction</th>\n",
              "      <th>...</th>\n",
              "      <th>llama3_8b_understandability</th>\n",
              "      <th>llama3_8b_understandability_corrected</th>\n",
              "      <th>round2_8b</th>\n",
              "      <th>llama3_70b_classification</th>\n",
              "      <th>llama3_70b_classification_corrected</th>\n",
              "      <th>llama3_70b_confidence</th>\n",
              "      <th>llama3_70b_confidence_corrected</th>\n",
              "      <th>llama3_70b_understandability</th>\n",
              "      <th>llama3_70b_understandability_corrected</th>\n",
              "      <th>round2_70b</th>\n",
              "    </tr>\n",
              "  </thead>\n",
              "  <tbody>\n",
              "    <tr>\n",
              "      <th>68</th>\n",
              "      <td>3007</td>\n",
              "      <td>Jpa namedQuery for different data types error</td>\n",
              "      <td>jpa namedquery for different data types error</td>\n",
              "      <td>``` java\\n@Entity\\n@Data\\n@Cacheable\\n@Table(n...</td>\n",
              "      <td>java entity data cacheable table name user pub...</td>\n",
              "      <td>['for: stackoverflow']</td>\n",
              "      <td>time 2016-01-15T09:05:31Z author NONE repo spr...</td>\n",
              "      <td>question</td>\n",
              "      <td>2</td>\n",
              "      <td>question</td>\n",
              "      <td>...</td>\n",
              "      <td></td>\n",
              "      <td></td>\n",
              "      <td>True</td>\n",
              "      <td></td>\n",
              "      <td></td>\n",
              "      <td></td>\n",
              "      <td></td>\n",
              "      <td></td>\n",
              "      <td></td>\n",
              "      <td>True</td>\n",
              "    </tr>\n",
              "    <tr>\n",
              "      <th>85</th>\n",
              "      <td>9537</td>\n",
              "      <td>Druid query returns 500 error with javax.servl...</td>\n",
              "      <td>druid query returns 500 error with javax.servl...</td>\n",
              "      <td>### Affected Version\\r\\n0.22.1\\r\\n\\r\\n### Desc...</td>\n",
              "      <td>affected version 0.22.1 description after upgr...</td>\n",
              "      <td>['Bug', 'Area - SQL']</td>\n",
              "      <td>time 2022-09-15T07:08:19Z author CONTRIBUTOR r...</td>\n",
              "      <td>bug</td>\n",
              "      <td>0</td>\n",
              "      <td>bug</td>\n",
              "      <td>...</td>\n",
              "      <td></td>\n",
              "      <td></td>\n",
              "      <td>True</td>\n",
              "      <td></td>\n",
              "      <td></td>\n",
              "      <td></td>\n",
              "      <td></td>\n",
              "      <td></td>\n",
              "      <td></td>\n",
              "      <td>True</td>\n",
              "    </tr>\n",
              "    <tr>\n",
              "      <th>132</th>\n",
              "      <td>3755</td>\n",
              "      <td>WLS 12c  spring-boot  war  deploy  fail</td>\n",
              "      <td>wls 12c spring boot war deploy fail</td>\n",
              "      <td>&gt;&gt;The ResourceConfig instance does not contain...</td>\n",
              "      <td>the resourceconfig instance does not contain a...</td>\n",
              "      <td>['for: stackoverflow']</td>\n",
              "      <td>time 2017-02-23T09:28:08Z author NONE repo spr...</td>\n",
              "      <td>question</td>\n",
              "      <td>2</td>\n",
              "      <td>question</td>\n",
              "      <td>...</td>\n",
              "      <td></td>\n",
              "      <td>90</td>\n",
              "      <td>False</td>\n",
              "      <td></td>\n",
              "      <td></td>\n",
              "      <td></td>\n",
              "      <td></td>\n",
              "      <td></td>\n",
              "      <td></td>\n",
              "      <td>True</td>\n",
              "    </tr>\n",
              "    <tr>\n",
              "      <th>241</th>\n",
              "      <td>3767</td>\n",
              "      <td>My Game Crashes</td>\n",
              "      <td>my game crashes</td>\n",
              "      <td>**Platform**: *Windows*\\r\\n\\r\\n**Build**: *The...</td>\n",
              "      <td>platform windows build the build number 104.10...</td>\n",
              "      <td>['bug']</td>\n",
              "      <td>time 2020-06-24T11:29:22Z author NONE repo Anu...</td>\n",
              "      <td>bug</td>\n",
              "      <td>0</td>\n",
              "      <td>bug</td>\n",
              "      <td>...</td>\n",
              "      <td></td>\n",
              "      <td></td>\n",
              "      <td>True</td>\n",
              "      <td></td>\n",
              "      <td></td>\n",
              "      <td></td>\n",
              "      <td></td>\n",
              "      <td></td>\n",
              "      <td></td>\n",
              "      <td>True</td>\n",
              "    </tr>\n",
              "    <tr>\n",
              "      <th>893</th>\n",
              "      <td>10196</td>\n",
              "      <td>[Bug] shadow topic replicator may fail due to ...</td>\n",
              "      <td>bug shadow topic replicator may fail due to re...</td>\n",
              "      <td>### Search before asking\\r\\n\\r\\n- [X] I search...</td>\n",
              "      <td>search before asking x i searched in the issue...</td>\n",
              "      <td>['type/bug']</td>\n",
              "      <td>time 2022-12-04T10:18:10Z author CONTRIBUTOR r...</td>\n",
              "      <td>bug</td>\n",
              "      <td>0</td>\n",
              "      <td>bug</td>\n",
              "      <td>...</td>\n",
              "      <td></td>\n",
              "      <td></td>\n",
              "      <td>True</td>\n",
              "      <td></td>\n",
              "      <td></td>\n",
              "      <td></td>\n",
              "      <td></td>\n",
              "      <td></td>\n",
              "      <td></td>\n",
              "      <td>True</td>\n",
              "    </tr>\n",
              "  </tbody>\n",
              "</table>\n",
              "<p>5 rows × 26 columns</p>\n",
              "</div>\n",
              "    <div class=\"colab-df-buttons\">\n",
              "\n",
              "  <div class=\"colab-df-container\">\n",
              "    <button class=\"colab-df-convert\" onclick=\"convertToInteractive('df-a344c057-7669-4051-8371-fb0e9c2fc3a3')\"\n",
              "            title=\"Convert this dataframe to an interactive table.\"\n",
              "            style=\"display:none;\">\n",
              "\n",
              "  <svg xmlns=\"http://www.w3.org/2000/svg\" height=\"24px\" viewBox=\"0 -960 960 960\">\n",
              "    <path d=\"M120-120v-720h720v720H120Zm60-500h600v-160H180v160Zm220 220h160v-160H400v160Zm0 220h160v-160H400v160ZM180-400h160v-160H180v160Zm440 0h160v-160H620v160ZM180-180h160v-160H180v160Zm440 0h160v-160H620v160Z\"/>\n",
              "  </svg>\n",
              "    </button>\n",
              "\n",
              "  <style>\n",
              "    .colab-df-container {\n",
              "      display:flex;\n",
              "      gap: 12px;\n",
              "    }\n",
              "\n",
              "    .colab-df-convert {\n",
              "      background-color: #E8F0FE;\n",
              "      border: none;\n",
              "      border-radius: 50%;\n",
              "      cursor: pointer;\n",
              "      display: none;\n",
              "      fill: #1967D2;\n",
              "      height: 32px;\n",
              "      padding: 0 0 0 0;\n",
              "      width: 32px;\n",
              "    }\n",
              "\n",
              "    .colab-df-convert:hover {\n",
              "      background-color: #E2EBFA;\n",
              "      box-shadow: 0px 1px 2px rgba(60, 64, 67, 0.3), 0px 1px 3px 1px rgba(60, 64, 67, 0.15);\n",
              "      fill: #174EA6;\n",
              "    }\n",
              "\n",
              "    .colab-df-buttons div {\n",
              "      margin-bottom: 4px;\n",
              "    }\n",
              "\n",
              "    [theme=dark] .colab-df-convert {\n",
              "      background-color: #3B4455;\n",
              "      fill: #D2E3FC;\n",
              "    }\n",
              "\n",
              "    [theme=dark] .colab-df-convert:hover {\n",
              "      background-color: #434B5C;\n",
              "      box-shadow: 0px 1px 3px 1px rgba(0, 0, 0, 0.15);\n",
              "      filter: drop-shadow(0px 1px 2px rgba(0, 0, 0, 0.3));\n",
              "      fill: #FFFFFF;\n",
              "    }\n",
              "  </style>\n",
              "\n",
              "    <script>\n",
              "      const buttonEl =\n",
              "        document.querySelector('#df-a344c057-7669-4051-8371-fb0e9c2fc3a3 button.colab-df-convert');\n",
              "      buttonEl.style.display =\n",
              "        google.colab.kernel.accessAllowed ? 'block' : 'none';\n",
              "\n",
              "      async function convertToInteractive(key) {\n",
              "        const element = document.querySelector('#df-a344c057-7669-4051-8371-fb0e9c2fc3a3');\n",
              "        const dataTable =\n",
              "          await google.colab.kernel.invokeFunction('convertToInteractive',\n",
              "                                                    [key], {});\n",
              "        if (!dataTable) return;\n",
              "\n",
              "        const docLinkHtml = 'Like what you see? Visit the ' +\n",
              "          '<a target=\"_blank\" href=https://colab.research.google.com/notebooks/data_table.ipynb>data table notebook</a>'\n",
              "          + ' to learn more about interactive tables.';\n",
              "        element.innerHTML = '';\n",
              "        dataTable['output_type'] = 'display_data';\n",
              "        await google.colab.output.renderOutput(dataTable, element);\n",
              "        const docLink = document.createElement('div');\n",
              "        docLink.innerHTML = docLinkHtml;\n",
              "        element.appendChild(docLink);\n",
              "      }\n",
              "    </script>\n",
              "  </div>\n",
              "\n",
              "\n",
              "<div id=\"df-ac48995f-e409-4c69-abdb-d958d0877768\">\n",
              "  <button class=\"colab-df-quickchart\" onclick=\"quickchart('df-ac48995f-e409-4c69-abdb-d958d0877768')\"\n",
              "            title=\"Suggest charts\"\n",
              "            style=\"display:none;\">\n",
              "\n",
              "<svg xmlns=\"http://www.w3.org/2000/svg\" height=\"24px\"viewBox=\"0 0 24 24\"\n",
              "     width=\"24px\">\n",
              "    <g>\n",
              "        <path d=\"M19 3H5c-1.1 0-2 .9-2 2v14c0 1.1.9 2 2 2h14c1.1 0 2-.9 2-2V5c0-1.1-.9-2-2-2zM9 17H7v-7h2v7zm4 0h-2V7h2v10zm4 0h-2v-4h2v4z\"/>\n",
              "    </g>\n",
              "</svg>\n",
              "  </button>\n",
              "\n",
              "<style>\n",
              "  .colab-df-quickchart {\n",
              "      --bg-color: #E8F0FE;\n",
              "      --fill-color: #1967D2;\n",
              "      --hover-bg-color: #E2EBFA;\n",
              "      --hover-fill-color: #174EA6;\n",
              "      --disabled-fill-color: #AAA;\n",
              "      --disabled-bg-color: #DDD;\n",
              "  }\n",
              "\n",
              "  [theme=dark] .colab-df-quickchart {\n",
              "      --bg-color: #3B4455;\n",
              "      --fill-color: #D2E3FC;\n",
              "      --hover-bg-color: #434B5C;\n",
              "      --hover-fill-color: #FFFFFF;\n",
              "      --disabled-bg-color: #3B4455;\n",
              "      --disabled-fill-color: #666;\n",
              "  }\n",
              "\n",
              "  .colab-df-quickchart {\n",
              "    background-color: var(--bg-color);\n",
              "    border: none;\n",
              "    border-radius: 50%;\n",
              "    cursor: pointer;\n",
              "    display: none;\n",
              "    fill: var(--fill-color);\n",
              "    height: 32px;\n",
              "    padding: 0;\n",
              "    width: 32px;\n",
              "  }\n",
              "\n",
              "  .colab-df-quickchart:hover {\n",
              "    background-color: var(--hover-bg-color);\n",
              "    box-shadow: 0 1px 2px rgba(60, 64, 67, 0.3), 0 1px 3px 1px rgba(60, 64, 67, 0.15);\n",
              "    fill: var(--button-hover-fill-color);\n",
              "  }\n",
              "\n",
              "  .colab-df-quickchart-complete:disabled,\n",
              "  .colab-df-quickchart-complete:disabled:hover {\n",
              "    background-color: var(--disabled-bg-color);\n",
              "    fill: var(--disabled-fill-color);\n",
              "    box-shadow: none;\n",
              "  }\n",
              "\n",
              "  .colab-df-spinner {\n",
              "    border: 2px solid var(--fill-color);\n",
              "    border-color: transparent;\n",
              "    border-bottom-color: var(--fill-color);\n",
              "    animation:\n",
              "      spin 1s steps(1) infinite;\n",
              "  }\n",
              "\n",
              "  @keyframes spin {\n",
              "    0% {\n",
              "      border-color: transparent;\n",
              "      border-bottom-color: var(--fill-color);\n",
              "      border-left-color: var(--fill-color);\n",
              "    }\n",
              "    20% {\n",
              "      border-color: transparent;\n",
              "      border-left-color: var(--fill-color);\n",
              "      border-top-color: var(--fill-color);\n",
              "    }\n",
              "    30% {\n",
              "      border-color: transparent;\n",
              "      border-left-color: var(--fill-color);\n",
              "      border-top-color: var(--fill-color);\n",
              "      border-right-color: var(--fill-color);\n",
              "    }\n",
              "    40% {\n",
              "      border-color: transparent;\n",
              "      border-right-color: var(--fill-color);\n",
              "      border-top-color: var(--fill-color);\n",
              "    }\n",
              "    60% {\n",
              "      border-color: transparent;\n",
              "      border-right-color: var(--fill-color);\n",
              "    }\n",
              "    80% {\n",
              "      border-color: transparent;\n",
              "      border-right-color: var(--fill-color);\n",
              "      border-bottom-color: var(--fill-color);\n",
              "    }\n",
              "    90% {\n",
              "      border-color: transparent;\n",
              "      border-bottom-color: var(--fill-color);\n",
              "    }\n",
              "  }\n",
              "</style>\n",
              "\n",
              "  <script>\n",
              "    async function quickchart(key) {\n",
              "      const quickchartButtonEl =\n",
              "        document.querySelector('#' + key + ' button');\n",
              "      quickchartButtonEl.disabled = true;  // To prevent multiple clicks.\n",
              "      quickchartButtonEl.classList.add('colab-df-spinner');\n",
              "      try {\n",
              "        const charts = await google.colab.kernel.invokeFunction(\n",
              "            'suggestCharts', [key], {});\n",
              "      } catch (error) {\n",
              "        console.error('Error during call to suggestCharts:', error);\n",
              "      }\n",
              "      quickchartButtonEl.classList.remove('colab-df-spinner');\n",
              "      quickchartButtonEl.classList.add('colab-df-quickchart-complete');\n",
              "    }\n",
              "    (() => {\n",
              "      let quickchartButtonEl =\n",
              "        document.querySelector('#df-ac48995f-e409-4c69-abdb-d958d0877768 button');\n",
              "      quickchartButtonEl.style.display =\n",
              "        google.colab.kernel.accessAllowed ? 'block' : 'none';\n",
              "    })();\n",
              "  </script>\n",
              "</div>\n",
              "\n",
              "    </div>\n",
              "  </div>\n"
            ],
            "application/vnd.google.colaboratory.intrinsic+json": {
              "type": "dataframe",
              "variable_name": "test_sample"
            }
          },
          "metadata": {},
          "execution_count": 9
        }
      ]
    },
    {
      "cell_type": "markdown",
      "source": [
        "Run for all issues :)"
      ],
      "metadata": {
        "id": "BgSTxYvssqdc"
      }
    },
    {
      "cell_type": "code",
      "source": [
        "with tqdm(total=test_sample.shape[0], ncols=100) as pbar:\n",
        "    for idx in test_sample.index:\n",
        "        try:\n",
        "            test_sample.loc[idx, 'llama3_70b_body_summary'] = llm.invoke(f\"\"\"Summarize the following but do not add your own recommendations or interpretations: {test_sample.loc[idx, 'original_issue_body']}\"\"\")\n",
        "            pbar.update(1)\n",
        "        except Exception as e:\n",
        "            print(f'Exception at index {idx}: {e}')\n",
        "            continue\n",
        "\n",
        "print(f'Summarization of {test_sample.shape[0]} issues is complete')"
      ],
      "metadata": {
        "colab": {
          "base_uri": "https://localhost:8080/"
        },
        "id": "5lrE7XIxsql7",
        "outputId": "a8845c3d-0c2a-4ae4-ae57-d01d3ed3103a"
      },
      "execution_count": 10,
      "outputs": [
        {
          "output_type": "stream",
          "name": "stderr",
          "text": [
            "100%|███████████████████████████████████████████████████████████████| 28/28 [30:22<00:00, 65.09s/it]"
          ]
        },
        {
          "output_type": "stream",
          "name": "stdout",
          "text": [
            "Summarization of 28 issues is complete\n"
          ]
        },
        {
          "output_type": "stream",
          "name": "stderr",
          "text": [
            "\n"
          ]
        }
      ]
    },
    {
      "cell_type": "markdown",
      "source": [
        "Check summaries"
      ],
      "metadata": {
        "id": "N3bh62zW0R26"
      }
    },
    {
      "cell_type": "code",
      "source": [
        "test_sample"
      ],
      "metadata": {
        "colab": {
          "base_uri": "https://localhost:8080/",
          "height": 1000
        },
        "id": "_jDBIvT_0SY1",
        "outputId": "8e94fb06-582a-4ae0-cc3d-61532069fecd"
      },
      "execution_count": 11,
      "outputs": [
        {
          "output_type": "execute_result",
          "data": {
            "text/plain": [
              "      index                               original_issue_title  \\\n",
              "68     3007      Jpa namedQuery for different data types error   \n",
              "85     9537  Druid query returns 500 error with javax.servl...   \n",
              "132    3755            WLS 12c  spring-boot  war  deploy  fail   \n",
              "241    3767                                    My Game Crashes   \n",
              "893   10196  [Bug] shadow topic replicator may fail due to ...   \n",
              "1313   7907              default datasource page limit problem   \n",
              "1323   3577               play2.x plugin can't find end point    \n",
              "1424   8731  Simulate index fails when index name already e...   \n",
              "1557   9111  [🐛 Bug]: remote selenium fails to respond to s...   \n",
              "1805   4398           [Bug] Failed to start OAP。-version 9.2.0   \n",
              "2022    827  服务停止时一直报错，服务要很久才停止[SpringContextShutdownHook] ...   \n",
              "2172   8396  logstash crashes with org/jruby/RubyEncoding$U...   \n",
              "2469   7896  Doing negative ack after ack timeout breaks re...   \n",
              "2615   1437  FreeBSD Type org.eclipse.tycho.core.p2.P2Artif...   \n",
              "2624   3284  [Bug] Limit of devices connected to Thingsboar...   \n",
              "2759   3126  [Bug] Thingsboard shutting down after few seconds   \n",
              "3021   1494              The app crashes when opening a video.   \n",
              "3027   8426  Why can't I create a table, I haven't modified...   \n",
              "3045  10140                               Comments not loading   \n",
              "3103   9704        dbeaver 6.2.0 source release does not build   \n",
              "3448   7528  Bootstrap checks fail when starting a single-n...   \n",
              "3891    231  [RCTHTTPRequestHandler sendRequest:withDelegat...   \n",
              "4221   2045  Libraries not working on 0.61.2 version after ...   \n",
              "4468   8987            Vertica - Cannot cancel a running query   \n",
              "4654   8231        Developer tools: problems reloading context   \n",
              "4892   1697  Cannot run the apachepulsar/pulsar:latest with...   \n",
              "4897   5048  the env now  i used is AdoptOpenJDK11U+eclipse...   \n",
              "4932     67             Can not create new database connection   \n",
              "\n",
              "                                     preprocessed_title  \\\n",
              "68        jpa namedquery for different data types error   \n",
              "85    druid query returns 500 error with javax.servl...   \n",
              "132                 wls 12c spring boot war deploy fail   \n",
              "241                                     my game crashes   \n",
              "893   bug shadow topic replicator may fail due to re...   \n",
              "1313              default datasource page limit problem   \n",
              "1323                play2.x plugin can't find end point   \n",
              "1424  simulate index fails when index name already e...   \n",
              "1557  bug remote selenium fails to respond to start ...   \n",
              "1805              bug failed to start oap version 9.2.0   \n",
              "2022  springcontextshutdownhook error com.alibaba.na...   \n",
              "2172  logstash crashes with org jruby rubyencoding u...   \n",
              "2469  doing negative ack after ack timeout breaks re...   \n",
              "2615  freebsd type org.eclipse.tycho.core.p2.p2artif...   \n",
              "2624  bug limit of devices connected to thingsboard....   \n",
              "2759    bug thingsboard shutting down after few seconds   \n",
              "3021              the app crashes when opening a video.   \n",
              "3027  why can't i create a table i haven't modified ...   \n",
              "3045                               comments not loading   \n",
              "3103        dbeaver 6.2.0 source release does not build   \n",
              "3448  bootstrap checks fail when starting a single n...   \n",
              "3891  rcthttprequesthandler sendrequest withdelegate...   \n",
              "4221  libraries not working on 0.61.2 version after ...   \n",
              "4468              vertica cannot cancel a running query   \n",
              "4654         developer tools problems reloading context   \n",
              "4892  cannot run the apachepulsar pulsar latest with...   \n",
              "4897  the env now i used is adoptopenjdk11u eclipse ...   \n",
              "4932             can not create new database connection   \n",
              "\n",
              "                                    original_issue_body  \\\n",
              "68    ``` java\\n@Entity\\n@Data\\n@Cacheable\\n@Table(n...   \n",
              "85    ### Affected Version\\r\\n0.22.1\\r\\n\\r\\n### Desc...   \n",
              "132   >>The ResourceConfig instance does not contain...   \n",
              "241   **Platform**: *Windows*\\r\\n\\r\\n**Build**: *The...   \n",
              "893   ### Search before asking\\r\\n\\r\\n- [X] I search...   \n",
              "1313  version：4.0.0.M1-SNAPSHOT\\r\\nbranch：dev \\r\\nor...   \n",
              "1323  Please answer these questions before submittin...   \n",
              "1424  ### Elasticsearch Version\\n\\n8.2.0\\n\\n### Inst...   \n",
              "1557  ### What happened?\\r\\n\\r\\nDiscovered in the[ J...   \n",
              "1805  ### Search before asking\\n\\n- [X] I had search...   \n",
              "2022  服务停止时一直报错，服务要很久才停止，帮忙看看什么原因？\\r\\nnacos-client:2...   \n",
              "2172  Hi Team,\\n\\nWe are using logstash-2.0.0 to col...   \n",
              "2469  **Describe the bug**\\r\\n\\r\\nWhen consuming a m...   \n",
              "2615  <!--\\r\\nThank you for reporting an issue.\\r\\n\\...   \n",
              "2624  **Describe the bug**\\r\\n\\r\\nHi! I need help ab...   \n",
              "2759  I installed thingsboard app with kafka and pos...   \n",
              "3021  Hello.\\r\\n\\r\\n### Checklist\\r\\n<!-- This check...   \n",
              "3027  2019-07-15 15:03:12,834 - org.apache.skywalkin...   \n",
              "3045  <!--\\r\\nOh no, a bug! It happens. Thanks for r...   \n",
              "3103  Building 6.2.0 package on linux (https://githu...   \n",
              "3448  ### Elasticsearch Version\\r\\n\\r\\n8.5.1\\r\\n\\r\\n...   \n",
              "3891  ## Crash\\r\\n![image](https://user-images.githu...   \n",
              "4221  I'm working on a project with 0.61.2 version o...   \n",
              "4468  DBeaver wait indefinitely when I cancel a runn...   \n",
              "4654  Could be Spring Cloud or maybe Spring Integrat...   \n",
              "4892  **Describe the bug**\\r\\n\\r\\nI tried to run pul...   \n",
              "4897  !SESSION 2021-06-03 11:18:54.813 -------------...   \n",
              "4932  #### System information: \\r\\n- Windows 10\\r\\n-...   \n",
              "\n",
              "                                      preprocessed_body  \\\n",
              "68    java entity data cacheable table name user pub...   \n",
              "85    affected version 0.22.1 description after upgr...   \n",
              "132   the resourceconfig instance does not contain a...   \n",
              "241   platform windows build the build number 104.10...   \n",
              "893   search before asking x i searched in the issue...   \n",
              "1313  version4.0.0.m1 snapshot branchdev orm spring ...   \n",
              "1323  please answer these questions before submittin...   \n",
              "1424  elasticsearch version 8.2.0 installed plugins ...   \n",
              "1557  what happened? discovered in the jenkins ath s...   \n",
              "1805  search before asking x i had searched in the i...   \n",
              "2022  nacos client 2.2.4 springcloud alibaba 2.2.9 s...   \n",
              "2172  hi team we are using logstash 2.0.0 to collect...   \n",
              "2469  describe the bug when consuming a message and ...   \n",
              "2615  thank you for reporting an issue. important be...   \n",
              "2624  describe the bug hi i need help about how can ...   \n",
              "2759  i installed thingsboard app with kafka and pos...   \n",
              "3021  hello. checklist this checklist is compulsory....   \n",
              "3027  2019 07 15 15 03 12 834 org.apache.skywalking....   \n",
              "3045  oh no a bug it happens. thanks for reporting a...   \n",
              "3103  building 6.2.0 package on linux https github.c...   \n",
              "3448  elasticsearch version 8.5.1 installed plugins ...   \n",
              "3891  crash image https user images.githubuserconten...   \n",
              "4221  i'm working on a project with 0.61.2 version o...   \n",
              "4468  dbeaver wait indefinitely when i cancel a runn...   \n",
              "4654  could be spring cloud or maybe spring integrat...   \n",
              "4892  describe the bug i tried to run pulsar standal...   \n",
              "4897  session 2021 06 03 11 18 54.813 eclipse.buildi...   \n",
              "4932  system information windows 10 eclipse 4.7.3a d...   \n",
              "\n",
              "                                         original_label  \\\n",
              "68                               ['for: stackoverflow']   \n",
              "85                                ['Bug', 'Area - SQL']   \n",
              "132                              ['for: stackoverflow']   \n",
              "241                                             ['bug']   \n",
              "893                                        ['type/bug']   \n",
              "1313                                      ['type: bug']   \n",
              "1323                                       ['question']   \n",
              "1424          ['>bug', ':Data Management/Indices APIs']   \n",
              "1557                  ['R-awaiting answer', 'I-defect']   \n",
              "1805                                            ['bug']   \n",
              "2022                                       ['type/bug']   \n",
              "2172                             ['bug', 'unconfirmed']   \n",
              "2469                    ['type/bug', 'lifecycle/stale']   \n",
              "2615                        ['development', 'question']   \n",
              "2624                                            ['Bug']   \n",
              "2759                                            ['Bug']   \n",
              "3021                                            ['bug']   \n",
              "3027                                       ['question']   \n",
              "3045                                            ['bug']   \n",
              "3103                                            ['bug']   \n",
              "3448    ['>bug', ':Core/Infra/Core', 'Team:Core/Infra']   \n",
              "3891  ['Platform: iOS', '🌐Networking', 'Resolution: ...   \n",
              "4221                      ['Resolution: Locked', 'Bug']   \n",
              "4468  ['bug', \"won't do\", \"can't reproduce\", 'x:vert...   \n",
              "4654                                      ['type: bug']   \n",
              "4892                                       ['type/bug']   \n",
              "4897                        ['development', 'question']   \n",
              "4932                      ['bug', 'xo:eclipse', 'sp:2']   \n",
              "\n",
              "                                                   text issue_label  labels  \\\n",
              "68    time 2016-01-15T09:05:31Z author NONE repo spr...    question       2   \n",
              "85    time 2022-09-15T07:08:19Z author CONTRIBUTOR r...         bug       0   \n",
              "132   time 2017-02-23T09:28:08Z author NONE repo spr...    question       2   \n",
              "241   time 2020-06-24T11:29:22Z author NONE repo Anu...         bug       0   \n",
              "893   time 2022-12-04T10:18:10Z author CONTRIBUTOR r...         bug       0   \n",
              "1313  time 2019-01-07T09:56:25Z author NONE repo apa...         bug       0   \n",
              "1323  time 2019-10-23T08:59:18Z author NONE repo apa...    question       2   \n",
              "1424  time 2022-02-23T00:01:01Z author CONTRIBUTOR r...         bug       0   \n",
              "1557  time 2023-07-26T11:55:47Z author NONE repo Sel...         bug       0   \n",
              "1805  time 2023-06-19T08:59:28Z author NONE repo apa...         bug       0   \n",
              "2022  time 2023-09-01T05:48:36Z author NONE repo apa...         bug       0   \n",
              "2172  time 2015-12-14T11:07:19Z author NONE repo ela...         bug       0   \n",
              "2469  time 2020-03-02T08:06:55Z author NONE repo apa...         bug       0   \n",
              "2615  time 2021-09-11T17:50:02Z author NONE repo dbe...    question       2   \n",
              "2624  time 2021-05-26T10:33:33Z author NONE repo thi...         bug       0   \n",
              "2759  time 2022-10-12T09:59:37Z author NONE repo thi...         bug       0   \n",
              "3021  time 2021-06-08T09:23:06Z author NONE repo Tea...         bug       0   \n",
              "3027  time 2019-07-15T07:06:21Z author NONE repo apa...    question       2   \n",
              "3045  time 2021-02-25T23:03:21Z author NONE repo Tea...         bug       0   \n",
              "3103  time 2019-09-12T20:02:06Z author NONE repo dbe...         bug       0   \n",
              "3448  time 2022-11-21T16:06:25Z author NONE repo ela...         bug       0   \n",
              "3891  time 2019-06-05T08:04:21Z author NONE repo fac...         bug       0   \n",
              "4221  time 2019-11-25T15:10:53Z author NONE repo fac...         bug       0   \n",
              "4468  time 2015-10-29T16:41:39Z author NONE repo dbe...         bug       0   \n",
              "4654  time 2015-06-03T08:12:53Z author MEMBER repo s...         bug       0   \n",
              "4892  time 2021-08-06T08:30:07Z author MEMBER repo a...         bug       0   \n",
              "4897  time 2021-06-03T06:05:15Z author NONE repo dbe...    question       2   \n",
              "4932  time 2021-06-10T16:45:37Z author NONE repo dbe...         bug       0   \n",
              "\n",
              "     roberta_prediction  ... llama3_8b_understandability_corrected round2_8b  \\\n",
              "68             question  ...                                            True   \n",
              "85                  bug  ...                                            True   \n",
              "132            question  ...                                    90     False   \n",
              "241                 bug  ...                                            True   \n",
              "893                 bug  ...                                            True   \n",
              "1313                bug  ...                                            True   \n",
              "1323           question  ...                                            True   \n",
              "1424                bug  ...                                            True   \n",
              "1557                bug  ...                                            True   \n",
              "1805                bug  ...                                            True   \n",
              "2022           question  ...                                            True   \n",
              "2172                bug  ...                                            True   \n",
              "2469                bug  ...                                            True   \n",
              "2615                bug  ...                                            True   \n",
              "2624                bug  ...                                            True   \n",
              "2759                bug  ...                                            True   \n",
              "3021                bug  ...                                            True   \n",
              "3027           question  ...                                            True   \n",
              "3045                bug  ...                                            True   \n",
              "3103                bug  ...                                            True   \n",
              "3448                bug  ...                                            True   \n",
              "3891                bug  ...                                            True   \n",
              "4221                bug  ...                                            True   \n",
              "4468                bug  ...                                            True   \n",
              "4654                bug  ...                                            True   \n",
              "4892                bug  ...                                            True   \n",
              "4897                bug  ...                                            True   \n",
              "4932                bug  ...                                            True   \n",
              "\n",
              "     llama3_70b_classification llama3_70b_classification_corrected  \\\n",
              "68                                                                   \n",
              "85                                                                   \n",
              "132                                                                  \n",
              "241                                                                  \n",
              "893                                                                  \n",
              "1313                                                                 \n",
              "1323                                                                 \n",
              "1424                                                                 \n",
              "1557                                                                 \n",
              "1805                                                                 \n",
              "2022                                                                 \n",
              "2172                                                                 \n",
              "2469                                                                 \n",
              "2615                                                                 \n",
              "2624                                                                 \n",
              "2759                                                                 \n",
              "3021                                                                 \n",
              "3027                                                                 \n",
              "3045                                                                 \n",
              "3103                                                                 \n",
              "3448                                                                 \n",
              "3891                                                                 \n",
              "4221                                                                 \n",
              "4468                                                                 \n",
              "4654                                                                 \n",
              "4892                                                                 \n",
              "4897                                                                 \n",
              "4932                                                                 \n",
              "\n",
              "     llama3_70b_confidence llama3_70b_confidence_corrected  \\\n",
              "68                                                           \n",
              "85                                                           \n",
              "132                                                          \n",
              "241                                                          \n",
              "893                                                          \n",
              "1313                                                         \n",
              "1323                                                         \n",
              "1424                                                         \n",
              "1557                                                         \n",
              "1805                                                         \n",
              "2022                                                         \n",
              "2172                                                         \n",
              "2469                                                         \n",
              "2615                                                         \n",
              "2624                                                         \n",
              "2759                                                         \n",
              "3021                                                         \n",
              "3027                                                         \n",
              "3045                                                         \n",
              "3103                                                         \n",
              "3448                                                         \n",
              "3891                                                         \n",
              "4221                                                         \n",
              "4468                                                         \n",
              "4654                                                         \n",
              "4892                                                         \n",
              "4897                                                         \n",
              "4932                                                         \n",
              "\n",
              "     llama3_70b_understandability llama3_70b_understandability_corrected  \\\n",
              "68                                                                         \n",
              "85                                                                         \n",
              "132                                                                        \n",
              "241                                                                        \n",
              "893                                                                        \n",
              "1313                                                                       \n",
              "1323                                                                       \n",
              "1424                                                                       \n",
              "1557                                                                       \n",
              "1805                                                                       \n",
              "2022                                                                       \n",
              "2172                                                                       \n",
              "2469                                                                       \n",
              "2615                                                                       \n",
              "2624                                                                       \n",
              "2759                                                                       \n",
              "3021                                                                       \n",
              "3027                                                                       \n",
              "3045                                                                       \n",
              "3103                                                                       \n",
              "3448                                                                       \n",
              "3891                                                                       \n",
              "4221                                                                       \n",
              "4468                                                                       \n",
              "4654                                                                       \n",
              "4892                                                                       \n",
              "4897                                                                       \n",
              "4932                                                                       \n",
              "\n",
              "      round2_70b                            llama3_70b_body_summary  \n",
              "68          True  This is a list of Java libraries and their cor...  \n",
              "85          True  Here is a summary of the error:\\n\\n* The error...  \n",
              "132         True  This is a Java application log output, specifi...  \n",
              "241         True  This appears to be a Java crash log, which pro...  \n",
              "893         True  This is a log output from a test case in Apach...  \n",
              "1313        True  It looks like you're experiencing an issue wit...  \n",
              "1323        True  It seems like you're experiencing issues with ...  \n",
              "1424        True  This is a Java stack trace from an Elasticsear...  \n",
              "1557        True  This appears to be a thread dump from a Java a...  \n",
              "1805        True  This is an error log from Apache SkyWalking, a...  \n",
              "2022        True  Here is a summary of the log messages:\\n\\n* Th...  \n",
              "2172        True  This is a Java crash log that provides detaile...  \n",
              "2469        True  This is a log output from an Apache Pulsar cli...  \n",
              "2615        True  Here is a summary of the error message:\\n\\nThe...  \n",
              "2624        True  This is a configuration file for ThingsBoard, ...  \n",
              "2759        True  Here is a summary of the log file:\\n\\n**Things...  \n",
              "3021        True  This is a logcat output showing two instances ...  \n",
              "3027        True  Here is a summary of the log output:\\n\\n* Ther...  \n",
              "3045        True  Here is a summary of the crash logs:\\n\\nAll 19...  \n",
              "3103        True  The output shows a list of errors encountered ...  \n",
              "3448        True  This is a log output from an Elasticsearch nod...  \n",
              "3891        True  This appears to be a crash log from an iOS app...  \n",
              "4221        True  The infamous Swift version mismatch error!\\n\\n...  \n",
              "4468        True  This is a configuration file for the DBeaver d...  \n",
              "4654        True  This is a log output from a Spring Boot applic...  \n",
              "4892        True  This appears to be a configuration file for an...  \n",
              "4897        True  This is an Eclipse error log, which indicates ...  \n",
              "4932        True  This is a Java stack trace from an Eclipse-bas...  \n",
              "\n",
              "[28 rows x 27 columns]"
            ],
            "text/html": [
              "\n",
              "  <div id=\"df-c9978834-0ca5-40a1-9e08-f6f5dc735030\" class=\"colab-df-container\">\n",
              "    <div>\n",
              "<style scoped>\n",
              "    .dataframe tbody tr th:only-of-type {\n",
              "        vertical-align: middle;\n",
              "    }\n",
              "\n",
              "    .dataframe tbody tr th {\n",
              "        vertical-align: top;\n",
              "    }\n",
              "\n",
              "    .dataframe thead th {\n",
              "        text-align: right;\n",
              "    }\n",
              "</style>\n",
              "<table border=\"1\" class=\"dataframe\">\n",
              "  <thead>\n",
              "    <tr style=\"text-align: right;\">\n",
              "      <th></th>\n",
              "      <th>index</th>\n",
              "      <th>original_issue_title</th>\n",
              "      <th>preprocessed_title</th>\n",
              "      <th>original_issue_body</th>\n",
              "      <th>preprocessed_body</th>\n",
              "      <th>original_label</th>\n",
              "      <th>text</th>\n",
              "      <th>issue_label</th>\n",
              "      <th>labels</th>\n",
              "      <th>roberta_prediction</th>\n",
              "      <th>...</th>\n",
              "      <th>llama3_8b_understandability_corrected</th>\n",
              "      <th>round2_8b</th>\n",
              "      <th>llama3_70b_classification</th>\n",
              "      <th>llama3_70b_classification_corrected</th>\n",
              "      <th>llama3_70b_confidence</th>\n",
              "      <th>llama3_70b_confidence_corrected</th>\n",
              "      <th>llama3_70b_understandability</th>\n",
              "      <th>llama3_70b_understandability_corrected</th>\n",
              "      <th>round2_70b</th>\n",
              "      <th>llama3_70b_body_summary</th>\n",
              "    </tr>\n",
              "  </thead>\n",
              "  <tbody>\n",
              "    <tr>\n",
              "      <th>68</th>\n",
              "      <td>3007</td>\n",
              "      <td>Jpa namedQuery for different data types error</td>\n",
              "      <td>jpa namedquery for different data types error</td>\n",
              "      <td>``` java\\n@Entity\\n@Data\\n@Cacheable\\n@Table(n...</td>\n",
              "      <td>java entity data cacheable table name user pub...</td>\n",
              "      <td>['for: stackoverflow']</td>\n",
              "      <td>time 2016-01-15T09:05:31Z author NONE repo spr...</td>\n",
              "      <td>question</td>\n",
              "      <td>2</td>\n",
              "      <td>question</td>\n",
              "      <td>...</td>\n",
              "      <td></td>\n",
              "      <td>True</td>\n",
              "      <td></td>\n",
              "      <td></td>\n",
              "      <td></td>\n",
              "      <td></td>\n",
              "      <td></td>\n",
              "      <td></td>\n",
              "      <td>True</td>\n",
              "      <td>This is a list of Java libraries and their cor...</td>\n",
              "    </tr>\n",
              "    <tr>\n",
              "      <th>85</th>\n",
              "      <td>9537</td>\n",
              "      <td>Druid query returns 500 error with javax.servl...</td>\n",
              "      <td>druid query returns 500 error with javax.servl...</td>\n",
              "      <td>### Affected Version\\r\\n0.22.1\\r\\n\\r\\n### Desc...</td>\n",
              "      <td>affected version 0.22.1 description after upgr...</td>\n",
              "      <td>['Bug', 'Area - SQL']</td>\n",
              "      <td>time 2022-09-15T07:08:19Z author CONTRIBUTOR r...</td>\n",
              "      <td>bug</td>\n",
              "      <td>0</td>\n",
              "      <td>bug</td>\n",
              "      <td>...</td>\n",
              "      <td></td>\n",
              "      <td>True</td>\n",
              "      <td></td>\n",
              "      <td></td>\n",
              "      <td></td>\n",
              "      <td></td>\n",
              "      <td></td>\n",
              "      <td></td>\n",
              "      <td>True</td>\n",
              "      <td>Here is a summary of the error:\\n\\n* The error...</td>\n",
              "    </tr>\n",
              "    <tr>\n",
              "      <th>132</th>\n",
              "      <td>3755</td>\n",
              "      <td>WLS 12c  spring-boot  war  deploy  fail</td>\n",
              "      <td>wls 12c spring boot war deploy fail</td>\n",
              "      <td>&gt;&gt;The ResourceConfig instance does not contain...</td>\n",
              "      <td>the resourceconfig instance does not contain a...</td>\n",
              "      <td>['for: stackoverflow']</td>\n",
              "      <td>time 2017-02-23T09:28:08Z author NONE repo spr...</td>\n",
              "      <td>question</td>\n",
              "      <td>2</td>\n",
              "      <td>question</td>\n",
              "      <td>...</td>\n",
              "      <td>90</td>\n",
              "      <td>False</td>\n",
              "      <td></td>\n",
              "      <td></td>\n",
              "      <td></td>\n",
              "      <td></td>\n",
              "      <td></td>\n",
              "      <td></td>\n",
              "      <td>True</td>\n",
              "      <td>This is a Java application log output, specifi...</td>\n",
              "    </tr>\n",
              "    <tr>\n",
              "      <th>241</th>\n",
              "      <td>3767</td>\n",
              "      <td>My Game Crashes</td>\n",
              "      <td>my game crashes</td>\n",
              "      <td>**Platform**: *Windows*\\r\\n\\r\\n**Build**: *The...</td>\n",
              "      <td>platform windows build the build number 104.10...</td>\n",
              "      <td>['bug']</td>\n",
              "      <td>time 2020-06-24T11:29:22Z author NONE repo Anu...</td>\n",
              "      <td>bug</td>\n",
              "      <td>0</td>\n",
              "      <td>bug</td>\n",
              "      <td>...</td>\n",
              "      <td></td>\n",
              "      <td>True</td>\n",
              "      <td></td>\n",
              "      <td></td>\n",
              "      <td></td>\n",
              "      <td></td>\n",
              "      <td></td>\n",
              "      <td></td>\n",
              "      <td>True</td>\n",
              "      <td>This appears to be a Java crash log, which pro...</td>\n",
              "    </tr>\n",
              "    <tr>\n",
              "      <th>893</th>\n",
              "      <td>10196</td>\n",
              "      <td>[Bug] shadow topic replicator may fail due to ...</td>\n",
              "      <td>bug shadow topic replicator may fail due to re...</td>\n",
              "      <td>### Search before asking\\r\\n\\r\\n- [X] I search...</td>\n",
              "      <td>search before asking x i searched in the issue...</td>\n",
              "      <td>['type/bug']</td>\n",
              "      <td>time 2022-12-04T10:18:10Z author CONTRIBUTOR r...</td>\n",
              "      <td>bug</td>\n",
              "      <td>0</td>\n",
              "      <td>bug</td>\n",
              "      <td>...</td>\n",
              "      <td></td>\n",
              "      <td>True</td>\n",
              "      <td></td>\n",
              "      <td></td>\n",
              "      <td></td>\n",
              "      <td></td>\n",
              "      <td></td>\n",
              "      <td></td>\n",
              "      <td>True</td>\n",
              "      <td>This is a log output from a test case in Apach...</td>\n",
              "    </tr>\n",
              "    <tr>\n",
              "      <th>1313</th>\n",
              "      <td>7907</td>\n",
              "      <td>default datasource page limit problem</td>\n",
              "      <td>default datasource page limit problem</td>\n",
              "      <td>version：4.0.0.M1-SNAPSHOT\\r\\nbranch：dev \\r\\nor...</td>\n",
              "      <td>version4.0.0.m1 snapshot branchdev orm spring ...</td>\n",
              "      <td>['type: bug']</td>\n",
              "      <td>time 2019-01-07T09:56:25Z author NONE repo apa...</td>\n",
              "      <td>bug</td>\n",
              "      <td>0</td>\n",
              "      <td>bug</td>\n",
              "      <td>...</td>\n",
              "      <td></td>\n",
              "      <td>True</td>\n",
              "      <td></td>\n",
              "      <td></td>\n",
              "      <td></td>\n",
              "      <td></td>\n",
              "      <td></td>\n",
              "      <td></td>\n",
              "      <td>True</td>\n",
              "      <td>It looks like you're experiencing an issue wit...</td>\n",
              "    </tr>\n",
              "    <tr>\n",
              "      <th>1323</th>\n",
              "      <td>3577</td>\n",
              "      <td>play2.x plugin can't find end point</td>\n",
              "      <td>play2.x plugin can't find end point</td>\n",
              "      <td>Please answer these questions before submittin...</td>\n",
              "      <td>please answer these questions before submittin...</td>\n",
              "      <td>['question']</td>\n",
              "      <td>time 2019-10-23T08:59:18Z author NONE repo apa...</td>\n",
              "      <td>question</td>\n",
              "      <td>2</td>\n",
              "      <td>question</td>\n",
              "      <td>...</td>\n",
              "      <td></td>\n",
              "      <td>True</td>\n",
              "      <td></td>\n",
              "      <td></td>\n",
              "      <td></td>\n",
              "      <td></td>\n",
              "      <td></td>\n",
              "      <td></td>\n",
              "      <td>True</td>\n",
              "      <td>It seems like you're experiencing issues with ...</td>\n",
              "    </tr>\n",
              "    <tr>\n",
              "      <th>1424</th>\n",
              "      <td>8731</td>\n",
              "      <td>Simulate index fails when index name already e...</td>\n",
              "      <td>simulate index fails when index name already e...</td>\n",
              "      <td>### Elasticsearch Version\\n\\n8.2.0\\n\\n### Inst...</td>\n",
              "      <td>elasticsearch version 8.2.0 installed plugins ...</td>\n",
              "      <td>['&gt;bug', ':Data Management/Indices APIs']</td>\n",
              "      <td>time 2022-02-23T00:01:01Z author CONTRIBUTOR r...</td>\n",
              "      <td>bug</td>\n",
              "      <td>0</td>\n",
              "      <td>bug</td>\n",
              "      <td>...</td>\n",
              "      <td></td>\n",
              "      <td>True</td>\n",
              "      <td></td>\n",
              "      <td></td>\n",
              "      <td></td>\n",
              "      <td></td>\n",
              "      <td></td>\n",
              "      <td></td>\n",
              "      <td>True</td>\n",
              "      <td>This is a Java stack trace from an Elasticsear...</td>\n",
              "    </tr>\n",
              "    <tr>\n",
              "      <th>1557</th>\n",
              "      <td>9111</td>\n",
              "      <td>[🐛 Bug]: remote selenium fails to respond to s...</td>\n",
              "      <td>bug remote selenium fails to respond to start ...</td>\n",
              "      <td>### What happened?\\r\\n\\r\\nDiscovered in the[ J...</td>\n",
              "      <td>what happened? discovered in the jenkins ath s...</td>\n",
              "      <td>['R-awaiting answer', 'I-defect']</td>\n",
              "      <td>time 2023-07-26T11:55:47Z author NONE repo Sel...</td>\n",
              "      <td>bug</td>\n",
              "      <td>0</td>\n",
              "      <td>bug</td>\n",
              "      <td>...</td>\n",
              "      <td></td>\n",
              "      <td>True</td>\n",
              "      <td></td>\n",
              "      <td></td>\n",
              "      <td></td>\n",
              "      <td></td>\n",
              "      <td></td>\n",
              "      <td></td>\n",
              "      <td>True</td>\n",
              "      <td>This appears to be a thread dump from a Java a...</td>\n",
              "    </tr>\n",
              "    <tr>\n",
              "      <th>1805</th>\n",
              "      <td>4398</td>\n",
              "      <td>[Bug] Failed to start OAP。-version 9.2.0</td>\n",
              "      <td>bug failed to start oap version 9.2.0</td>\n",
              "      <td>### Search before asking\\n\\n- [X] I had search...</td>\n",
              "      <td>search before asking x i had searched in the i...</td>\n",
              "      <td>['bug']</td>\n",
              "      <td>time 2023-06-19T08:59:28Z author NONE repo apa...</td>\n",
              "      <td>bug</td>\n",
              "      <td>0</td>\n",
              "      <td>bug</td>\n",
              "      <td>...</td>\n",
              "      <td></td>\n",
              "      <td>True</td>\n",
              "      <td></td>\n",
              "      <td></td>\n",
              "      <td></td>\n",
              "      <td></td>\n",
              "      <td></td>\n",
              "      <td></td>\n",
              "      <td>True</td>\n",
              "      <td>This is an error log from Apache SkyWalking, a...</td>\n",
              "    </tr>\n",
              "    <tr>\n",
              "      <th>2022</th>\n",
              "      <td>827</td>\n",
              "      <td>服务停止时一直报错，服务要很久才停止[SpringContextShutdownHook] ...</td>\n",
              "      <td>springcontextshutdownhook error com.alibaba.na...</td>\n",
              "      <td>服务停止时一直报错，服务要很久才停止，帮忙看看什么原因？\\r\\nnacos-client:2...</td>\n",
              "      <td>nacos client 2.2.4 springcloud alibaba 2.2.9 s...</td>\n",
              "      <td>['type/bug']</td>\n",
              "      <td>time 2023-09-01T05:48:36Z author NONE repo apa...</td>\n",
              "      <td>bug</td>\n",
              "      <td>0</td>\n",
              "      <td>question</td>\n",
              "      <td>...</td>\n",
              "      <td></td>\n",
              "      <td>True</td>\n",
              "      <td></td>\n",
              "      <td></td>\n",
              "      <td></td>\n",
              "      <td></td>\n",
              "      <td></td>\n",
              "      <td></td>\n",
              "      <td>True</td>\n",
              "      <td>Here is a summary of the log messages:\\n\\n* Th...</td>\n",
              "    </tr>\n",
              "    <tr>\n",
              "      <th>2172</th>\n",
              "      <td>8396</td>\n",
              "      <td>logstash crashes with org/jruby/RubyEncoding$U...</td>\n",
              "      <td>logstash crashes with org jruby rubyencoding u...</td>\n",
              "      <td>Hi Team,\\n\\nWe are using logstash-2.0.0 to col...</td>\n",
              "      <td>hi team we are using logstash 2.0.0 to collect...</td>\n",
              "      <td>['bug', 'unconfirmed']</td>\n",
              "      <td>time 2015-12-14T11:07:19Z author NONE repo ela...</td>\n",
              "      <td>bug</td>\n",
              "      <td>0</td>\n",
              "      <td>bug</td>\n",
              "      <td>...</td>\n",
              "      <td></td>\n",
              "      <td>True</td>\n",
              "      <td></td>\n",
              "      <td></td>\n",
              "      <td></td>\n",
              "      <td></td>\n",
              "      <td></td>\n",
              "      <td></td>\n",
              "      <td>True</td>\n",
              "      <td>This is a Java crash log that provides detaile...</td>\n",
              "    </tr>\n",
              "    <tr>\n",
              "      <th>2469</th>\n",
              "      <td>7896</td>\n",
              "      <td>Doing negative ack after ack timeout breaks re...</td>\n",
              "      <td>doing negative ack after ack timeout breaks re...</td>\n",
              "      <td>**Describe the bug**\\r\\n\\r\\nWhen consuming a m...</td>\n",
              "      <td>describe the bug when consuming a message and ...</td>\n",
              "      <td>['type/bug', 'lifecycle/stale']</td>\n",
              "      <td>time 2020-03-02T08:06:55Z author NONE repo apa...</td>\n",
              "      <td>bug</td>\n",
              "      <td>0</td>\n",
              "      <td>bug</td>\n",
              "      <td>...</td>\n",
              "      <td></td>\n",
              "      <td>True</td>\n",
              "      <td></td>\n",
              "      <td></td>\n",
              "      <td></td>\n",
              "      <td></td>\n",
              "      <td></td>\n",
              "      <td></td>\n",
              "      <td>True</td>\n",
              "      <td>This is a log output from an Apache Pulsar cli...</td>\n",
              "    </tr>\n",
              "    <tr>\n",
              "      <th>2615</th>\n",
              "      <td>1437</td>\n",
              "      <td>FreeBSD Type org.eclipse.tycho.core.p2.P2Artif...</td>\n",
              "      <td>freebsd type org.eclipse.tycho.core.p2.p2artif...</td>\n",
              "      <td>&lt;!--\\r\\nThank you for reporting an issue.\\r\\n\\...</td>\n",
              "      <td>thank you for reporting an issue. important be...</td>\n",
              "      <td>['development', 'question']</td>\n",
              "      <td>time 2021-09-11T17:50:02Z author NONE repo dbe...</td>\n",
              "      <td>question</td>\n",
              "      <td>2</td>\n",
              "      <td>bug</td>\n",
              "      <td>...</td>\n",
              "      <td></td>\n",
              "      <td>True</td>\n",
              "      <td></td>\n",
              "      <td></td>\n",
              "      <td></td>\n",
              "      <td></td>\n",
              "      <td></td>\n",
              "      <td></td>\n",
              "      <td>True</td>\n",
              "      <td>Here is a summary of the error message:\\n\\nThe...</td>\n",
              "    </tr>\n",
              "    <tr>\n",
              "      <th>2624</th>\n",
              "      <td>3284</td>\n",
              "      <td>[Bug] Limit of devices connected to Thingsboar...</td>\n",
              "      <td>bug limit of devices connected to thingsboard....</td>\n",
              "      <td>**Describe the bug**\\r\\n\\r\\nHi! I need help ab...</td>\n",
              "      <td>describe the bug hi i need help about how can ...</td>\n",
              "      <td>['Bug']</td>\n",
              "      <td>time 2021-05-26T10:33:33Z author NONE repo thi...</td>\n",
              "      <td>bug</td>\n",
              "      <td>0</td>\n",
              "      <td>bug</td>\n",
              "      <td>...</td>\n",
              "      <td></td>\n",
              "      <td>True</td>\n",
              "      <td></td>\n",
              "      <td></td>\n",
              "      <td></td>\n",
              "      <td></td>\n",
              "      <td></td>\n",
              "      <td></td>\n",
              "      <td>True</td>\n",
              "      <td>This is a configuration file for ThingsBoard, ...</td>\n",
              "    </tr>\n",
              "    <tr>\n",
              "      <th>2759</th>\n",
              "      <td>3126</td>\n",
              "      <td>[Bug] Thingsboard shutting down after few seconds</td>\n",
              "      <td>bug thingsboard shutting down after few seconds</td>\n",
              "      <td>I installed thingsboard app with kafka and pos...</td>\n",
              "      <td>i installed thingsboard app with kafka and pos...</td>\n",
              "      <td>['Bug']</td>\n",
              "      <td>time 2022-10-12T09:59:37Z author NONE repo thi...</td>\n",
              "      <td>bug</td>\n",
              "      <td>0</td>\n",
              "      <td>bug</td>\n",
              "      <td>...</td>\n",
              "      <td></td>\n",
              "      <td>True</td>\n",
              "      <td></td>\n",
              "      <td></td>\n",
              "      <td></td>\n",
              "      <td></td>\n",
              "      <td></td>\n",
              "      <td></td>\n",
              "      <td>True</td>\n",
              "      <td>Here is a summary of the log file:\\n\\n**Things...</td>\n",
              "    </tr>\n",
              "    <tr>\n",
              "      <th>3021</th>\n",
              "      <td>1494</td>\n",
              "      <td>The app crashes when opening a video.</td>\n",
              "      <td>the app crashes when opening a video.</td>\n",
              "      <td>Hello.\\r\\n\\r\\n### Checklist\\r\\n&lt;!-- This check...</td>\n",
              "      <td>hello. checklist this checklist is compulsory....</td>\n",
              "      <td>['bug']</td>\n",
              "      <td>time 2021-06-08T09:23:06Z author NONE repo Tea...</td>\n",
              "      <td>bug</td>\n",
              "      <td>0</td>\n",
              "      <td>bug</td>\n",
              "      <td>...</td>\n",
              "      <td></td>\n",
              "      <td>True</td>\n",
              "      <td></td>\n",
              "      <td></td>\n",
              "      <td></td>\n",
              "      <td></td>\n",
              "      <td></td>\n",
              "      <td></td>\n",
              "      <td>True</td>\n",
              "      <td>This is a logcat output showing two instances ...</td>\n",
              "    </tr>\n",
              "    <tr>\n",
              "      <th>3027</th>\n",
              "      <td>8426</td>\n",
              "      <td>Why can't I create a table, I haven't modified...</td>\n",
              "      <td>why can't i create a table i haven't modified ...</td>\n",
              "      <td>2019-07-15 15:03:12,834 - org.apache.skywalkin...</td>\n",
              "      <td>2019 07 15 15 03 12 834 org.apache.skywalking....</td>\n",
              "      <td>['question']</td>\n",
              "      <td>time 2019-07-15T07:06:21Z author NONE repo apa...</td>\n",
              "      <td>question</td>\n",
              "      <td>2</td>\n",
              "      <td>question</td>\n",
              "      <td>...</td>\n",
              "      <td></td>\n",
              "      <td>True</td>\n",
              "      <td></td>\n",
              "      <td></td>\n",
              "      <td></td>\n",
              "      <td></td>\n",
              "      <td></td>\n",
              "      <td></td>\n",
              "      <td>True</td>\n",
              "      <td>Here is a summary of the log output:\\n\\n* Ther...</td>\n",
              "    </tr>\n",
              "    <tr>\n",
              "      <th>3045</th>\n",
              "      <td>10140</td>\n",
              "      <td>Comments not loading</td>\n",
              "      <td>comments not loading</td>\n",
              "      <td>&lt;!--\\r\\nOh no, a bug! It happens. Thanks for r...</td>\n",
              "      <td>oh no a bug it happens. thanks for reporting a...</td>\n",
              "      <td>['bug']</td>\n",
              "      <td>time 2021-02-25T23:03:21Z author NONE repo Tea...</td>\n",
              "      <td>bug</td>\n",
              "      <td>0</td>\n",
              "      <td>bug</td>\n",
              "      <td>...</td>\n",
              "      <td></td>\n",
              "      <td>True</td>\n",
              "      <td></td>\n",
              "      <td></td>\n",
              "      <td></td>\n",
              "      <td></td>\n",
              "      <td></td>\n",
              "      <td></td>\n",
              "      <td>True</td>\n",
              "      <td>Here is a summary of the crash logs:\\n\\nAll 19...</td>\n",
              "    </tr>\n",
              "    <tr>\n",
              "      <th>3103</th>\n",
              "      <td>9704</td>\n",
              "      <td>dbeaver 6.2.0 source release does not build</td>\n",
              "      <td>dbeaver 6.2.0 source release does not build</td>\n",
              "      <td>Building 6.2.0 package on linux (https://githu...</td>\n",
              "      <td>building 6.2.0 package on linux https github.c...</td>\n",
              "      <td>['bug']</td>\n",
              "      <td>time 2019-09-12T20:02:06Z author NONE repo dbe...</td>\n",
              "      <td>bug</td>\n",
              "      <td>0</td>\n",
              "      <td>bug</td>\n",
              "      <td>...</td>\n",
              "      <td></td>\n",
              "      <td>True</td>\n",
              "      <td></td>\n",
              "      <td></td>\n",
              "      <td></td>\n",
              "      <td></td>\n",
              "      <td></td>\n",
              "      <td></td>\n",
              "      <td>True</td>\n",
              "      <td>The output shows a list of errors encountered ...</td>\n",
              "    </tr>\n",
              "    <tr>\n",
              "      <th>3448</th>\n",
              "      <td>7528</td>\n",
              "      <td>Bootstrap checks fail when starting a single-n...</td>\n",
              "      <td>bootstrap checks fail when starting a single n...</td>\n",
              "      <td>### Elasticsearch Version\\r\\n\\r\\n8.5.1\\r\\n\\r\\n...</td>\n",
              "      <td>elasticsearch version 8.5.1 installed plugins ...</td>\n",
              "      <td>['&gt;bug', ':Core/Infra/Core', 'Team:Core/Infra']</td>\n",
              "      <td>time 2022-11-21T16:06:25Z author NONE repo ela...</td>\n",
              "      <td>bug</td>\n",
              "      <td>0</td>\n",
              "      <td>bug</td>\n",
              "      <td>...</td>\n",
              "      <td></td>\n",
              "      <td>True</td>\n",
              "      <td></td>\n",
              "      <td></td>\n",
              "      <td></td>\n",
              "      <td></td>\n",
              "      <td></td>\n",
              "      <td></td>\n",
              "      <td>True</td>\n",
              "      <td>This is a log output from an Elasticsearch nod...</td>\n",
              "    </tr>\n",
              "    <tr>\n",
              "      <th>3891</th>\n",
              "      <td>231</td>\n",
              "      <td>[RCTHTTPRequestHandler sendRequest:withDelegat...</td>\n",
              "      <td>rcthttprequesthandler sendrequest withdelegate...</td>\n",
              "      <td>## Crash\\r\\n![image](https://user-images.githu...</td>\n",
              "      <td>crash image https user images.githubuserconten...</td>\n",
              "      <td>['Platform: iOS', '🌐Networking', 'Resolution: ...</td>\n",
              "      <td>time 2019-06-05T08:04:21Z author NONE repo fac...</td>\n",
              "      <td>bug</td>\n",
              "      <td>0</td>\n",
              "      <td>bug</td>\n",
              "      <td>...</td>\n",
              "      <td></td>\n",
              "      <td>True</td>\n",
              "      <td></td>\n",
              "      <td></td>\n",
              "      <td></td>\n",
              "      <td></td>\n",
              "      <td></td>\n",
              "      <td></td>\n",
              "      <td>True</td>\n",
              "      <td>This appears to be a crash log from an iOS app...</td>\n",
              "    </tr>\n",
              "    <tr>\n",
              "      <th>4221</th>\n",
              "      <td>2045</td>\n",
              "      <td>Libraries not working on 0.61.2 version after ...</td>\n",
              "      <td>libraries not working on 0.61.2 version after ...</td>\n",
              "      <td>I'm working on a project with 0.61.2 version o...</td>\n",
              "      <td>i'm working on a project with 0.61.2 version o...</td>\n",
              "      <td>['Resolution: Locked', 'Bug']</td>\n",
              "      <td>time 2019-11-25T15:10:53Z author NONE repo fac...</td>\n",
              "      <td>bug</td>\n",
              "      <td>0</td>\n",
              "      <td>bug</td>\n",
              "      <td>...</td>\n",
              "      <td></td>\n",
              "      <td>True</td>\n",
              "      <td></td>\n",
              "      <td></td>\n",
              "      <td></td>\n",
              "      <td></td>\n",
              "      <td></td>\n",
              "      <td></td>\n",
              "      <td>True</td>\n",
              "      <td>The infamous Swift version mismatch error!\\n\\n...</td>\n",
              "    </tr>\n",
              "    <tr>\n",
              "      <th>4468</th>\n",
              "      <td>8987</td>\n",
              "      <td>Vertica - Cannot cancel a running query</td>\n",
              "      <td>vertica cannot cancel a running query</td>\n",
              "      <td>DBeaver wait indefinitely when I cancel a runn...</td>\n",
              "      <td>dbeaver wait indefinitely when i cancel a runn...</td>\n",
              "      <td>['bug', \"won't do\", \"can't reproduce\", 'x:vert...</td>\n",
              "      <td>time 2015-10-29T16:41:39Z author NONE repo dbe...</td>\n",
              "      <td>bug</td>\n",
              "      <td>0</td>\n",
              "      <td>bug</td>\n",
              "      <td>...</td>\n",
              "      <td></td>\n",
              "      <td>True</td>\n",
              "      <td></td>\n",
              "      <td></td>\n",
              "      <td></td>\n",
              "      <td></td>\n",
              "      <td></td>\n",
              "      <td></td>\n",
              "      <td>True</td>\n",
              "      <td>This is a configuration file for the DBeaver d...</td>\n",
              "    </tr>\n",
              "    <tr>\n",
              "      <th>4654</th>\n",
              "      <td>8231</td>\n",
              "      <td>Developer tools: problems reloading context</td>\n",
              "      <td>developer tools problems reloading context</td>\n",
              "      <td>Could be Spring Cloud or maybe Spring Integrat...</td>\n",
              "      <td>could be spring cloud or maybe spring integrat...</td>\n",
              "      <td>['type: bug']</td>\n",
              "      <td>time 2015-06-03T08:12:53Z author MEMBER repo s...</td>\n",
              "      <td>bug</td>\n",
              "      <td>0</td>\n",
              "      <td>bug</td>\n",
              "      <td>...</td>\n",
              "      <td></td>\n",
              "      <td>True</td>\n",
              "      <td></td>\n",
              "      <td></td>\n",
              "      <td></td>\n",
              "      <td></td>\n",
              "      <td></td>\n",
              "      <td></td>\n",
              "      <td>True</td>\n",
              "      <td>This is a log output from a Spring Boot applic...</td>\n",
              "    </tr>\n",
              "    <tr>\n",
              "      <th>4892</th>\n",
              "      <td>1697</td>\n",
              "      <td>Cannot run the apachepulsar/pulsar:latest with...</td>\n",
              "      <td>cannot run the apachepulsar pulsar latest with...</td>\n",
              "      <td>**Describe the bug**\\r\\n\\r\\nI tried to run pul...</td>\n",
              "      <td>describe the bug i tried to run pulsar standal...</td>\n",
              "      <td>['type/bug']</td>\n",
              "      <td>time 2021-08-06T08:30:07Z author MEMBER repo a...</td>\n",
              "      <td>bug</td>\n",
              "      <td>0</td>\n",
              "      <td>bug</td>\n",
              "      <td>...</td>\n",
              "      <td></td>\n",
              "      <td>True</td>\n",
              "      <td></td>\n",
              "      <td></td>\n",
              "      <td></td>\n",
              "      <td></td>\n",
              "      <td></td>\n",
              "      <td></td>\n",
              "      <td>True</td>\n",
              "      <td>This appears to be a configuration file for an...</td>\n",
              "    </tr>\n",
              "    <tr>\n",
              "      <th>4897</th>\n",
              "      <td>5048</td>\n",
              "      <td>the env now  i used is AdoptOpenJDK11U+eclipse...</td>\n",
              "      <td>the env now i used is adoptopenjdk11u eclipse ...</td>\n",
              "      <td>!SESSION 2021-06-03 11:18:54.813 -------------...</td>\n",
              "      <td>session 2021 06 03 11 18 54.813 eclipse.buildi...</td>\n",
              "      <td>['development', 'question']</td>\n",
              "      <td>time 2021-06-03T06:05:15Z author NONE repo dbe...</td>\n",
              "      <td>question</td>\n",
              "      <td>2</td>\n",
              "      <td>bug</td>\n",
              "      <td>...</td>\n",
              "      <td></td>\n",
              "      <td>True</td>\n",
              "      <td></td>\n",
              "      <td></td>\n",
              "      <td></td>\n",
              "      <td></td>\n",
              "      <td></td>\n",
              "      <td></td>\n",
              "      <td>True</td>\n",
              "      <td>This is an Eclipse error log, which indicates ...</td>\n",
              "    </tr>\n",
              "    <tr>\n",
              "      <th>4932</th>\n",
              "      <td>67</td>\n",
              "      <td>Can not create new database connection</td>\n",
              "      <td>can not create new database connection</td>\n",
              "      <td>#### System information: \\r\\n- Windows 10\\r\\n-...</td>\n",
              "      <td>system information windows 10 eclipse 4.7.3a d...</td>\n",
              "      <td>['bug', 'xo:eclipse', 'sp:2']</td>\n",
              "      <td>time 2021-06-10T16:45:37Z author NONE repo dbe...</td>\n",
              "      <td>bug</td>\n",
              "      <td>0</td>\n",
              "      <td>bug</td>\n",
              "      <td>...</td>\n",
              "      <td></td>\n",
              "      <td>True</td>\n",
              "      <td></td>\n",
              "      <td></td>\n",
              "      <td></td>\n",
              "      <td></td>\n",
              "      <td></td>\n",
              "      <td></td>\n",
              "      <td>True</td>\n",
              "      <td>This is a Java stack trace from an Eclipse-bas...</td>\n",
              "    </tr>\n",
              "  </tbody>\n",
              "</table>\n",
              "<p>28 rows × 27 columns</p>\n",
              "</div>\n",
              "    <div class=\"colab-df-buttons\">\n",
              "\n",
              "  <div class=\"colab-df-container\">\n",
              "    <button class=\"colab-df-convert\" onclick=\"convertToInteractive('df-c9978834-0ca5-40a1-9e08-f6f5dc735030')\"\n",
              "            title=\"Convert this dataframe to an interactive table.\"\n",
              "            style=\"display:none;\">\n",
              "\n",
              "  <svg xmlns=\"http://www.w3.org/2000/svg\" height=\"24px\" viewBox=\"0 -960 960 960\">\n",
              "    <path d=\"M120-120v-720h720v720H120Zm60-500h600v-160H180v160Zm220 220h160v-160H400v160Zm0 220h160v-160H400v160ZM180-400h160v-160H180v160Zm440 0h160v-160H620v160ZM180-180h160v-160H180v160Zm440 0h160v-160H620v160Z\"/>\n",
              "  </svg>\n",
              "    </button>\n",
              "\n",
              "  <style>\n",
              "    .colab-df-container {\n",
              "      display:flex;\n",
              "      gap: 12px;\n",
              "    }\n",
              "\n",
              "    .colab-df-convert {\n",
              "      background-color: #E8F0FE;\n",
              "      border: none;\n",
              "      border-radius: 50%;\n",
              "      cursor: pointer;\n",
              "      display: none;\n",
              "      fill: #1967D2;\n",
              "      height: 32px;\n",
              "      padding: 0 0 0 0;\n",
              "      width: 32px;\n",
              "    }\n",
              "\n",
              "    .colab-df-convert:hover {\n",
              "      background-color: #E2EBFA;\n",
              "      box-shadow: 0px 1px 2px rgba(60, 64, 67, 0.3), 0px 1px 3px 1px rgba(60, 64, 67, 0.15);\n",
              "      fill: #174EA6;\n",
              "    }\n",
              "\n",
              "    .colab-df-buttons div {\n",
              "      margin-bottom: 4px;\n",
              "    }\n",
              "\n",
              "    [theme=dark] .colab-df-convert {\n",
              "      background-color: #3B4455;\n",
              "      fill: #D2E3FC;\n",
              "    }\n",
              "\n",
              "    [theme=dark] .colab-df-convert:hover {\n",
              "      background-color: #434B5C;\n",
              "      box-shadow: 0px 1px 3px 1px rgba(0, 0, 0, 0.15);\n",
              "      filter: drop-shadow(0px 1px 2px rgba(0, 0, 0, 0.3));\n",
              "      fill: #FFFFFF;\n",
              "    }\n",
              "  </style>\n",
              "\n",
              "    <script>\n",
              "      const buttonEl =\n",
              "        document.querySelector('#df-c9978834-0ca5-40a1-9e08-f6f5dc735030 button.colab-df-convert');\n",
              "      buttonEl.style.display =\n",
              "        google.colab.kernel.accessAllowed ? 'block' : 'none';\n",
              "\n",
              "      async function convertToInteractive(key) {\n",
              "        const element = document.querySelector('#df-c9978834-0ca5-40a1-9e08-f6f5dc735030');\n",
              "        const dataTable =\n",
              "          await google.colab.kernel.invokeFunction('convertToInteractive',\n",
              "                                                    [key], {});\n",
              "        if (!dataTable) return;\n",
              "\n",
              "        const docLinkHtml = 'Like what you see? Visit the ' +\n",
              "          '<a target=\"_blank\" href=https://colab.research.google.com/notebooks/data_table.ipynb>data table notebook</a>'\n",
              "          + ' to learn more about interactive tables.';\n",
              "        element.innerHTML = '';\n",
              "        dataTable['output_type'] = 'display_data';\n",
              "        await google.colab.output.renderOutput(dataTable, element);\n",
              "        const docLink = document.createElement('div');\n",
              "        docLink.innerHTML = docLinkHtml;\n",
              "        element.appendChild(docLink);\n",
              "      }\n",
              "    </script>\n",
              "  </div>\n",
              "\n",
              "\n",
              "<div id=\"df-05495adf-0392-412f-a2f4-1a2f5bfca8e6\">\n",
              "  <button class=\"colab-df-quickchart\" onclick=\"quickchart('df-05495adf-0392-412f-a2f4-1a2f5bfca8e6')\"\n",
              "            title=\"Suggest charts\"\n",
              "            style=\"display:none;\">\n",
              "\n",
              "<svg xmlns=\"http://www.w3.org/2000/svg\" height=\"24px\"viewBox=\"0 0 24 24\"\n",
              "     width=\"24px\">\n",
              "    <g>\n",
              "        <path d=\"M19 3H5c-1.1 0-2 .9-2 2v14c0 1.1.9 2 2 2h14c1.1 0 2-.9 2-2V5c0-1.1-.9-2-2-2zM9 17H7v-7h2v7zm4 0h-2V7h2v10zm4 0h-2v-4h2v4z\"/>\n",
              "    </g>\n",
              "</svg>\n",
              "  </button>\n",
              "\n",
              "<style>\n",
              "  .colab-df-quickchart {\n",
              "      --bg-color: #E8F0FE;\n",
              "      --fill-color: #1967D2;\n",
              "      --hover-bg-color: #E2EBFA;\n",
              "      --hover-fill-color: #174EA6;\n",
              "      --disabled-fill-color: #AAA;\n",
              "      --disabled-bg-color: #DDD;\n",
              "  }\n",
              "\n",
              "  [theme=dark] .colab-df-quickchart {\n",
              "      --bg-color: #3B4455;\n",
              "      --fill-color: #D2E3FC;\n",
              "      --hover-bg-color: #434B5C;\n",
              "      --hover-fill-color: #FFFFFF;\n",
              "      --disabled-bg-color: #3B4455;\n",
              "      --disabled-fill-color: #666;\n",
              "  }\n",
              "\n",
              "  .colab-df-quickchart {\n",
              "    background-color: var(--bg-color);\n",
              "    border: none;\n",
              "    border-radius: 50%;\n",
              "    cursor: pointer;\n",
              "    display: none;\n",
              "    fill: var(--fill-color);\n",
              "    height: 32px;\n",
              "    padding: 0;\n",
              "    width: 32px;\n",
              "  }\n",
              "\n",
              "  .colab-df-quickchart:hover {\n",
              "    background-color: var(--hover-bg-color);\n",
              "    box-shadow: 0 1px 2px rgba(60, 64, 67, 0.3), 0 1px 3px 1px rgba(60, 64, 67, 0.15);\n",
              "    fill: var(--button-hover-fill-color);\n",
              "  }\n",
              "\n",
              "  .colab-df-quickchart-complete:disabled,\n",
              "  .colab-df-quickchart-complete:disabled:hover {\n",
              "    background-color: var(--disabled-bg-color);\n",
              "    fill: var(--disabled-fill-color);\n",
              "    box-shadow: none;\n",
              "  }\n",
              "\n",
              "  .colab-df-spinner {\n",
              "    border: 2px solid var(--fill-color);\n",
              "    border-color: transparent;\n",
              "    border-bottom-color: var(--fill-color);\n",
              "    animation:\n",
              "      spin 1s steps(1) infinite;\n",
              "  }\n",
              "\n",
              "  @keyframes spin {\n",
              "    0% {\n",
              "      border-color: transparent;\n",
              "      border-bottom-color: var(--fill-color);\n",
              "      border-left-color: var(--fill-color);\n",
              "    }\n",
              "    20% {\n",
              "      border-color: transparent;\n",
              "      border-left-color: var(--fill-color);\n",
              "      border-top-color: var(--fill-color);\n",
              "    }\n",
              "    30% {\n",
              "      border-color: transparent;\n",
              "      border-left-color: var(--fill-color);\n",
              "      border-top-color: var(--fill-color);\n",
              "      border-right-color: var(--fill-color);\n",
              "    }\n",
              "    40% {\n",
              "      border-color: transparent;\n",
              "      border-right-color: var(--fill-color);\n",
              "      border-top-color: var(--fill-color);\n",
              "    }\n",
              "    60% {\n",
              "      border-color: transparent;\n",
              "      border-right-color: var(--fill-color);\n",
              "    }\n",
              "    80% {\n",
              "      border-color: transparent;\n",
              "      border-right-color: var(--fill-color);\n",
              "      border-bottom-color: var(--fill-color);\n",
              "    }\n",
              "    90% {\n",
              "      border-color: transparent;\n",
              "      border-bottom-color: var(--fill-color);\n",
              "    }\n",
              "  }\n",
              "</style>\n",
              "\n",
              "  <script>\n",
              "    async function quickchart(key) {\n",
              "      const quickchartButtonEl =\n",
              "        document.querySelector('#' + key + ' button');\n",
              "      quickchartButtonEl.disabled = true;  // To prevent multiple clicks.\n",
              "      quickchartButtonEl.classList.add('colab-df-spinner');\n",
              "      try {\n",
              "        const charts = await google.colab.kernel.invokeFunction(\n",
              "            'suggestCharts', [key], {});\n",
              "      } catch (error) {\n",
              "        console.error('Error during call to suggestCharts:', error);\n",
              "      }\n",
              "      quickchartButtonEl.classList.remove('colab-df-spinner');\n",
              "      quickchartButtonEl.classList.add('colab-df-quickchart-complete');\n",
              "    }\n",
              "    (() => {\n",
              "      let quickchartButtonEl =\n",
              "        document.querySelector('#df-05495adf-0392-412f-a2f4-1a2f5bfca8e6 button');\n",
              "      quickchartButtonEl.style.display =\n",
              "        google.colab.kernel.accessAllowed ? 'block' : 'none';\n",
              "    })();\n",
              "  </script>\n",
              "</div>\n",
              "\n",
              "  <div id=\"id_2c210585-b136-4b8b-ba67-3afa71a7b1bb\">\n",
              "    <style>\n",
              "      .colab-df-generate {\n",
              "        background-color: #E8F0FE;\n",
              "        border: none;\n",
              "        border-radius: 50%;\n",
              "        cursor: pointer;\n",
              "        display: none;\n",
              "        fill: #1967D2;\n",
              "        height: 32px;\n",
              "        padding: 0 0 0 0;\n",
              "        width: 32px;\n",
              "      }\n",
              "\n",
              "      .colab-df-generate:hover {\n",
              "        background-color: #E2EBFA;\n",
              "        box-shadow: 0px 1px 2px rgba(60, 64, 67, 0.3), 0px 1px 3px 1px rgba(60, 64, 67, 0.15);\n",
              "        fill: #174EA6;\n",
              "      }\n",
              "\n",
              "      [theme=dark] .colab-df-generate {\n",
              "        background-color: #3B4455;\n",
              "        fill: #D2E3FC;\n",
              "      }\n",
              "\n",
              "      [theme=dark] .colab-df-generate:hover {\n",
              "        background-color: #434B5C;\n",
              "        box-shadow: 0px 1px 3px 1px rgba(0, 0, 0, 0.15);\n",
              "        filter: drop-shadow(0px 1px 2px rgba(0, 0, 0, 0.3));\n",
              "        fill: #FFFFFF;\n",
              "      }\n",
              "    </style>\n",
              "    <button class=\"colab-df-generate\" onclick=\"generateWithVariable('test_sample')\"\n",
              "            title=\"Generate code using this dataframe.\"\n",
              "            style=\"display:none;\">\n",
              "\n",
              "  <svg xmlns=\"http://www.w3.org/2000/svg\" height=\"24px\"viewBox=\"0 0 24 24\"\n",
              "       width=\"24px\">\n",
              "    <path d=\"M7,19H8.4L18.45,9,17,7.55,7,17.6ZM5,21V16.75L18.45,3.32a2,2,0,0,1,2.83,0l1.4,1.43a1.91,1.91,0,0,1,.58,1.4,1.91,1.91,0,0,1-.58,1.4L9.25,21ZM18.45,9,17,7.55Zm-12,3A5.31,5.31,0,0,0,4.9,8.1,5.31,5.31,0,0,0,1,6.5,5.31,5.31,0,0,0,4.9,4.9,5.31,5.31,0,0,0,6.5,1,5.31,5.31,0,0,0,8.1,4.9,5.31,5.31,0,0,0,12,6.5,5.46,5.46,0,0,0,6.5,12Z\"/>\n",
              "  </svg>\n",
              "    </button>\n",
              "    <script>\n",
              "      (() => {\n",
              "      const buttonEl =\n",
              "        document.querySelector('#id_2c210585-b136-4b8b-ba67-3afa71a7b1bb button.colab-df-generate');\n",
              "      buttonEl.style.display =\n",
              "        google.colab.kernel.accessAllowed ? 'block' : 'none';\n",
              "\n",
              "      buttonEl.onclick = () => {\n",
              "        google.colab.notebook.generateWithVariable('test_sample');\n",
              "      }\n",
              "      })();\n",
              "    </script>\n",
              "  </div>\n",
              "\n",
              "    </div>\n",
              "  </div>\n"
            ],
            "application/vnd.google.colaboratory.intrinsic+json": {
              "type": "dataframe",
              "variable_name": "test_sample"
            }
          },
          "metadata": {},
          "execution_count": 11
        }
      ]
    },
    {
      "cell_type": "code",
      "source": [
        "test_sample.loc[68,'llama3_70b_body_summary']"
      ],
      "metadata": {
        "colab": {
          "base_uri": "https://localhost:8080/",
          "height": 256
        },
        "id": "B_jXgbG_0XU1",
        "outputId": "d4370794-4a20-4b47-8c5f-afe94b0ac99c"
      },
      "execution_count": 12,
      "outputs": [
        {
          "output_type": "execute_result",
          "data": {
            "text/plain": [
              "\"This is a list of Java libraries and their corresponding versions, along with their file paths on the local machine. The list appears to be generated by a build tool such as Gradle or Maven.\\n\\nHere's a breakdown of the information:\\n\\n* Each line represents a single library or dependency.\\n* The format is `groupId:artifactId:version`, where:\\n\\t+ `groupId` is the unique identifier for the organization or group that maintains the library (e.g., `org.springframework.cloud`).\\n\\t+ `artifactId` is the unique identifier for the specific library (e.g., `spring-cloud-stream-binder-rabbit`).\\n\\t+ `version` is the version number of the library (e.g., `1.0.0.BUILD-SNAPSHOT`).\\n* The file path following each dependency specifies the location of the corresponding JAR file on the local machine.\\n\\nThe list includes a wide range of libraries, including:\\n\\n* Spring Cloud and Spring Boot dependencies\\n* Netflix OSS libraries (e.g., Ribbon, Eureka)\\n* Apache Tomcat and HTTPComponents libraries\\n* Java EE APIs (e.g., JSR311, JAXB)\\n* Logging libraries (e.g., Logback, Commons Logging)\\n* Utility libraries (e.g., Guava, Apache Commons Lang)\\n\\nThis list likely represents the dependencies required by a specific Java application or project.\""
            ],
            "application/vnd.google.colaboratory.intrinsic+json": {
              "type": "string"
            }
          },
          "metadata": {},
          "execution_count": 12
        }
      ]
    },
    {
      "cell_type": "code",
      "source": [
        "test_sample.loc[68,'llama3_70b_body_summary_check'] = 'OK'"
      ],
      "metadata": {
        "id": "Cc3F-XjD0j3I"
      },
      "execution_count": 13,
      "outputs": []
    },
    {
      "cell_type": "code",
      "source": [
        "test_sample.loc[85,'llama3_70b_body_summary']"
      ],
      "metadata": {
        "colab": {
          "base_uri": "https://localhost:8080/",
          "height": 171
        },
        "id": "JnsN-cYr0s4c",
        "outputId": "56305d75-0dba-4249-86c5-a8b58c3363dd"
      },
      "execution_count": 14,
      "outputs": [
        {
          "output_type": "execute_result",
          "data": {
            "text/plain": [
              "\"Here is a summary of the error:\\n\\n* The error occurs when there are attributes in IN and/or NOT IN clauses, and the output result is empty.\\n* The LATEST(expr, maxBytesPerString) clause with 2 arguments is causing the issue, specifically the _maxBytesPerString_ argument.\\n* Without a GROUP BY clause, the query does not work on both Druid 0.19 and 0.22.\\n* With a GROUP BY clause, the query works on Druid 0.19 but not on Druid 0.22.\\n* The error is related to Calcite's ability to parse empty result sets, specifically in the `RexLiteral.findValue(RexNode node)` method.\\n\\nThe stack trace shows that the error originates from the `RexLiteral` class in Calcite, and propagates through various layers of Druid's SQL processing pipeline.\""
            ],
            "application/vnd.google.colaboratory.intrinsic+json": {
              "type": "string"
            }
          },
          "metadata": {},
          "execution_count": 14
        }
      ]
    },
    {
      "cell_type": "code",
      "source": [
        "test_sample.loc[85,'llama3_70b_body_summary_check'] = 'OK'"
      ],
      "metadata": {
        "id": "qEte2IZ9043H"
      },
      "execution_count": 15,
      "outputs": []
    },
    {
      "cell_type": "code",
      "source": [
        "test_sample.loc[132,'llama3_70b_body_summary']"
      ],
      "metadata": {
        "colab": {
          "base_uri": "https://localhost:8080/",
          "height": 307
        },
        "id": "c9xfQiWt06iI",
        "outputId": "e0b64255-3309-45e4-fb95-59a656bcb4e1"
      },
      "execution_count": 16,
      "outputs": [
        {
          "output_type": "execute_result",
          "data": {
            "text/plain": [
              "\"This is a Java application log output, specifically from a Spring Boot application running on a WebLogic server. Here's a breakdown of the log:\\n\\n**Initial Startup**\\n\\n* The application starts up and initializes various components, including the Spring Boot framework, Jersey (a JAX-RS implementation), and WebLogic.\\n* The application context is created, and beans are registered.\\n\\n**Jersey Configuration**\\n\\n* Jersey is configured to scan for root resource classes in the package `com.alibaba.fastjson.support.jaxrs`.\\n* No root resource classes are found, which causes an error later on.\\n\\n**Error: No Root Resource Classes**\\n\\n* An error occurs when trying to initiate the Jersey application: `The ResourceConfig instance does not contain any root resource classes.`\\n* This error is caused by the lack of root resource classes in the Jersey configuration.\\n* The error is propagated up the stack, causing the deployment of the application to fail.\\n\\n**Shutdown and Error Messages**\\n\\n* The Spring Boot application context is closed, and JMX-exposed beans are unregistered.\\n* Error messages are printed to the log, including the original error message about the lack of root resource classes.\\n\\nTo resolve this issue, you need to ensure that there are root resource classes in the Jersey configuration. This typically involves creating Java classes annotated with `@Path` or other JAX-RS annotations, which define the RESTful API endpoints for your application.\""
            ],
            "application/vnd.google.colaboratory.intrinsic+json": {
              "type": "string"
            }
          },
          "metadata": {},
          "execution_count": 16
        }
      ]
    },
    {
      "cell_type": "code",
      "source": [
        "test_sample.loc[132,'llama3_70b_body_summary_check'] = 'OK'"
      ],
      "metadata": {
        "id": "-AKU7aSh1E18"
      },
      "execution_count": 17,
      "outputs": []
    },
    {
      "cell_type": "code",
      "source": [
        "test_sample.loc[241,'llama3_70b_body_summary']"
      ],
      "metadata": {
        "colab": {
          "base_uri": "https://localhost:8080/",
          "height": 222
        },
        "id": "S4aBsvCh1E4Q",
        "outputId": "cc6ccb75-0ae3-41a6-989a-65537a946f6b"
      },
      "execution_count": 18,
      "outputs": [
        {
          "output_type": "execute_result",
          "data": {
            "text/plain": [
              "\"This appears to be a Java crash log, which provides detailed information about the system, environment, and events leading up to the crash.\\n\\nHere's a summary of the contents:\\n\\n**Platform**: The platform is Windows 10 (64-bit) with an OpenJDK 64-Bit Server VM (version 1.8.0_72-b15).\\n\\n**Events**: There are 10 events recorded, including DEOPT (deoptimization) and Uncommon trap events.\\n\\n**Dynamic libraries**: A list of loaded dynamic libraries is provided, including Java runtime libraries, Windows system libraries, and third-party libraries.\\n\\n**VM Arguments**: The log shows that the Java command and class path were not set.\\n\\n**Environment Variables**: Environment variables such as PATH, USERNAME, OS, and PROCESSOR_IDENTIFIER are listed.\\n\\n**System Information**: System details, including CPU architecture, memory usage, and operating system version, are provided.\\n\\nThe log also includes a confirmation request at the end, asking the user to confirm that they have searched for similar issues before reporting this problem.\""
            ],
            "application/vnd.google.colaboratory.intrinsic+json": {
              "type": "string"
            }
          },
          "metadata": {},
          "execution_count": 18
        }
      ]
    },
    {
      "cell_type": "code",
      "source": [
        "test_sample.loc[241,'llama3_70b_body_summary_check'] = 'OK'"
      ],
      "metadata": {
        "id": "1Hsl2xnx1E6Y"
      },
      "execution_count": 19,
      "outputs": []
    },
    {
      "cell_type": "code",
      "source": [
        "test_sample.loc[893,'llama3_70b_body_summary']"
      ],
      "metadata": {
        "colab": {
          "base_uri": "https://localhost:8080/",
          "height": 222
        },
        "id": "SCK_v3np1U2p",
        "outputId": "a4813b2a-86fc-460e-bc2c-761246c4ace3"
      },
      "execution_count": 20,
      "outputs": [
        {
          "output_type": "execute_result",
          "data": {
            "text/plain": [
              "'This is a log output from a test case in Apache Pulsar, a distributed messaging system. The test case is named `ShadowTopicTest` and it\\'s testing the consumption of messages from a shadow topic.\\n\\nThe log shows that the consumer is trying to read messages from the topic, but it encounters an error when reading entries at ledger 7: \"No such ledger exists on Bookies - Retrying to read in 15.0 seconds\". This suggests that there was an issue with the ledger storage.\\n\\nDespite this error, the test continues and the producer sends more messages to the topic. The consumer eventually receives some messages, but it also receives a null message, which causes a `NullPointerException` when trying to access the message ID.\\n\\nThe expected behavior is for the consumer to receive all 10 messages sent by the producer, but instead, it encounters an error due to the null message.\\n\\nIt\\'s not clear from this log output what the root cause of the issue is or how to fix it. Further investigation and debugging would be needed to determine the cause of the problem.'"
            ],
            "application/vnd.google.colaboratory.intrinsic+json": {
              "type": "string"
            }
          },
          "metadata": {},
          "execution_count": 20
        }
      ]
    },
    {
      "cell_type": "code",
      "source": [
        "print(test_sample.loc[893,'original_issue_body'])"
      ],
      "metadata": {
        "colab": {
          "base_uri": "https://localhost:8080/"
        },
        "id": "nAJ8A7wz1hEf",
        "outputId": "5df9e03e-799b-428c-cf17-ead59798ebde"
      },
      "execution_count": 22,
      "outputs": [
        {
          "output_type": "stream",
          "name": "stdout",
          "text": [
            "### Search before asking\r\n",
            "\r\n",
            "- [X] I searched in the [issues](https://github.com/apache/pulsar/issues) and found nothing similar.\r\n",
            "\r\n",
            "\r\n",
            "### Version\r\n",
            "\r\n",
            "Master branch\r\n",
            "\r\n",
            "### Minimal reproduce step\r\n",
            "\r\n",
            "Based on the flaky test https://github.com/apache/pulsar/issues/18705, I modified the code snippet to reproduce the bug with a high probability:\r\n",
            "\r\n",
            "```java\r\n",
            "@Test\r\n",
            "    public void testShadowTopicConsuming() throws Exception {\r\n",
            "        String sourceTopic = newShadowSourceTopicName();\r\n",
            "        String shadowTopic = sourceTopic + \"-shadow\";\r\n",
            "        admin.topics().createNonPartitionedTopic(sourceTopic);\r\n",
            "        admin.topics().createShadowTopic(shadowTopic, sourceTopic);\r\n",
            "        admin.topics().setShadowTopics(sourceTopic, Lists.newArrayList(shadowTopic));\r\n",
            "        // wait init finish\r\n",
            "        Thread.sleep(1000 * 3);\r\n",
            "\r\n",
            "        PersistentTopic brokerSourceTopic =\r\n",
            "                (PersistentTopic) pulsar.getBrokerService().getTopicIfExists(sourceTopic).get().get();\r\n",
            "        ManagedLedgerConfig managedLedgerConfig = brokerSourceTopic.getManagedLedger().getConfig();\r\n",
            "        // rollover ledger frequently\r\n",
            "        managedLedgerConfig.setMaxEntriesPerLedger(2);\r\n",
            "        managedLedgerConfig.setMinimumRolloverTime(1, TimeUnit.MILLISECONDS);\r\n",
            "        managedLedgerConfig.setMaximumRolloverTime(1, TimeUnit.SECONDS);\r\n",
            "\r\n",
            "\r\n",
            "        @Cleanup Producer<byte[]> producer = pulsarClient.newProducer()\r\n",
            "                .sendTimeout(1, TimeUnit.DAYS)\r\n",
            "                .topic(sourceTopic).create();\r\n",
            "        @Cleanup Consumer<byte[]> consumer =\r\n",
            "                pulsarClient.newConsumer().topic(shadowTopic).subscriptionName(\"sub\").subscribe();\r\n",
            "        ArrayList<MessageId> idList = new ArrayList<>();\r\n",
            "        for (int i = 0; i < 10; i++) {\r\n",
            "            byte[] content = (\"Hello Shadow Topic\" + i).getBytes(StandardCharsets.UTF_8);\r\n",
            "            MessageId id = producer.send(content);\r\n",
            "            log.info(\"msg send to source topic, id={}\", id);\r\n",
            "            idList.add(id);\r\n",
            "        }\r\n",
            "        for (int i = 0; i < 10; i++) {\r\n",
            "            byte[] content = (\"Hello Shadow Topic\" + i).getBytes(StandardCharsets.UTF_8);\r\n",
            "            MessageId id = idList.get(i);\r\n",
            "            // this msg would be null with a high probability\r\n",
            "            Message<byte[]> msg = consumer.receive(5, TimeUnit.SECONDS);\r\n",
            "            \r\n",
            "            System.out.println(\"receive: \" + msg.getMessageId());\r\n",
            "            Assert.assertEquals(msg.getMessageId(), id);\r\n",
            "            Assert.assertEquals(msg.getValue(), content);\r\n",
            "        }\r\n",
            "    }\r\n",
            "```\r\n",
            "\r\n",
            "I think the bug occurred when ledgers were deleted. The consumers on the shadow topic may not receive new messages due to `internalTrimLedgers` deleting the metadata of old ledgers.\r\n",
            "\r\n",
            "Log output:\r\n",
            "\r\n",
            "```shell\r\n",
            "\r\n",
            "2022-12-04T17:51:40,886 - INFO  - [metadata-store-12-1:Slf4jRequestLogWriter@62] - 127.0.0.1 - - [04/12月/2022:17:51:40 +0800] \"GET /admin/v2/schemas/prop/ns-abc/topic-c97789885d35e455-shadow/schema HTTP/1.1\" 404 29 \"-\" \"Pulsar-Java-v2.11.0-SNAPSHOT\" 9\r\n",
            "2022-12-04T17:51:40,887 - WARN  - [pulsar-io-6-12:HttpClient@235] - [http://localhost:63449/admin/v2/schemas/prop/ns-abc/topic-c97789885d35e455-shadow/schema] HTTP get request failed: Schema not found\r\n",
            "2022-12-04T17:51:40,890 - INFO  - [pulsar-4-2:Slf4jRequestLogWriter@62] - 127.0.0.1 - - [04/12月/2022:17:51:40 +0800] \"GET /admin/v2/persistent/prop/ns-abc/topic-c97789885d35e455-shadow/partitions?checkAllowAutoCreation=true HTTP/1.1\" 200 32 \"-\" \"Pulsar-Java-v2.11.0-SNAPSHOT\" 3\r\n",
            "2022-12-04T17:51:40,897 - INFO  - [pulsar-web-32-8:Slf4jRequestLogWriter@62] - 127.0.0.1 - - [04/12月/2022:17:51:40 +0800] \"GET /lookup/v2/topic/persistent/prop/ns-abc/topic-c97789885d35e455-shadow HTTP/1.1\" 200 217 \"-\" \"Pulsar-Java-v2.11.0-SNAPSHOT\" 5\r\n",
            "2022-12-04T17:51:40,898 - INFO  - [pulsar-io-6-13:ConnectionPool@248] - [[id: 0x8ba4f938, L:/127.0.0.1:63483 - R:localhost/127.0.0.1:63424]] Connected to server\r\n",
            "2022-12-04T17:51:40,899 - INFO  - [pulsar-io-6-14:ServerCnx@304] - New connection from /127.0.0.1:63483\r\n",
            "2022-12-04T17:51:40,900 - INFO  - [pulsar-io-6-13:ProducerImpl@1650] - [persistent://prop/ns-abc/topic-c97789885d35e455-shadow] [pulsar.repl-persistent://prop/ns-abc/topic-c97789885d35e455-->persistent://prop/ns-abc/topic-c97789885d35e455-shadow] Creating producer on cnx [id: 0x8ba4f938, L:/127.0.0.1:63483 - R:localhost/127.0.0.1:63424]\r\n",
            "2022-12-04T17:51:40,907 - INFO  - [metadata-store-12-1:ServerCnx@1484] - [/127.0.0.1:63483] Created new producer: Producer{topic=PersistentTopic{topic=persistent://prop/ns-abc/topic-c97789885d35e455-shadow}, client=/127.0.0.1:63483, producerName=pulsar.repl-persistent://prop/ns-abc/topic-c97789885d35e455-->persistent://prop/ns-abc/topic-c97789885d35e455-shadow, producerId=0}\r\n",
            "2022-12-04T17:51:40,907 - INFO  - [pulsar-io-6-13:ProducerImpl@1705] - [persistent://prop/ns-abc/topic-c97789885d35e455-shadow] [pulsar.repl-persistent://prop/ns-abc/topic-c97789885d35e455-->persistent://prop/ns-abc/topic-c97789885d35e455-shadow] Created producer on cnx [id: 0x8ba4f938, L:/127.0.0.1:63483 - R:localhost/127.0.0.1:63424]\r\n",
            "2022-12-04T17:51:40,908 - INFO  - [pulsar-io-6-13:ManagedCursorImpl@2426] - [prop/ns-abc/persistent/topic-c97789885d35e455-pulsar.repl-persistent%3A%2F%2Fprop%2Fns-abc%2Ftopic-c97789885d35e455-shadow] Rewind from 3:0 to 3:0\r\n",
            "2022-12-04T17:51:40,908 - INFO  - [pulsar-io-6-13:PersistentReplicator@145] - [persistent://prop/ns-abc/topic-c97789885d35e455-->persistent://prop/ns-abc/topic-c97789885d35e455-shadow | test] Created replicator producer\r\n",
            "2022-12-04T17:51:40,919 - INFO  - [pulsar-4-4:Slf4jRequestLogWriter@62] - 127.0.0.1 - - [04/12月/2022:17:51:40 +0800] \"GET /admin/v2/persistent/prop/ns-abc/topic-c97789885d35e455/partitions?checkAllowAutoCreation=true HTTP/1.1\" 200 32 \"-\" \"Pulsar-Java-v2.11.0-SNAPSHOT\" 2\r\n",
            "2022-12-04T17:51:40,923 - INFO  - [pulsar-web-32-15:Slf4jRequestLogWriter@62] - 127.0.0.1 - - [04/12月/2022:17:51:40 +0800] \"GET /lookup/v2/topic/persistent/prop/ns-abc/topic-c97789885d35e455 HTTP/1.1\" 200 217 \"-\" \"Pulsar-Java-v2.11.0-SNAPSHOT\" 2\r\n",
            "2022-12-04T17:51:40,924 - INFO  - [pulsar-client-io-37-1:ConnectionPool@248] - [[id: 0x9d49d00b, L:/127.0.0.1:63485 - R:localhost/127.0.0.1:63424]] Connected to server\r\n",
            "2022-12-04T17:51:40,925 - INFO  - [pulsar-io-6-16:ServerCnx@304] - New connection from /127.0.0.1:63485\r\n",
            "2022-12-04T17:51:40,927 - INFO  - [pulsar-client-io-37-1:ProducerImpl@1650] - [persistent://prop/ns-abc/topic-c97789885d35e455] [null] Creating producer on cnx [id: 0x9d49d00b, L:/127.0.0.1:63485 - R:localhost/127.0.0.1:63424]\r\n",
            "2022-12-04T17:51:40,928 - INFO  - [pulsar-io-6-16:ServerCnx@1484] - [/127.0.0.1:63485] Created new producer: Producer{topic=PersistentTopic{topic=persistent://prop/ns-abc/topic-c97789885d35e455}, client=/127.0.0.1:63485, producerName=test-0-1, producerId=0}\r\n",
            "2022-12-04T17:51:40,928 - INFO  - [pulsar-client-io-37-1:ProducerImpl@1705] - [persistent://prop/ns-abc/topic-c97789885d35e455] [test-0-1] Created producer on cnx [id: 0x9d49d00b, L:/127.0.0.1:63485 - R:localhost/127.0.0.1:63424]\r\n",
            "2022-12-04T17:51:40,934 - INFO  - [pulsar-4-5:Slf4jRequestLogWriter@62] - 127.0.0.1 - - [04/12月/2022:17:51:40 +0800] \"GET /admin/v2/persistent/prop/ns-abc/topic-c97789885d35e455-shadow/partitions?checkAllowAutoCreation=true HTTP/1.1\" 200 32 \"-\" \"Pulsar-Java-v2.11.0-SNAPSHOT\" 2\r\n",
            "2022-12-04T17:51:40,936 - INFO  - [pulsar-web-32-16:Slf4jRequestLogWriter@62] - 127.0.0.1 - - [04/12月/2022:17:51:40 +0800] \"GET /lookup/v2/topic/persistent/prop/ns-abc/topic-c97789885d35e455-shadow HTTP/1.1\" 200 217 \"-\" \"Pulsar-Java-v2.11.0-SNAPSHOT\" 2\r\n",
            "2022-12-04T17:51:40,936 - INFO  - [pulsar-client-io-37-1:ConsumerImpl@785] - [persistent://prop/ns-abc/topic-c97789885d35e455-shadow][sub] Subscribing to topic on cnx [id: 0x9d49d00b, L:/127.0.0.1:63485 - R:localhost/127.0.0.1:63424], consumerId 0\r\n",
            "2022-12-04T17:51:40,937 - INFO  - [pulsar-io-6-16:ServerCnx@1052] - [/127.0.0.1:63485] Subscribing on topic persistent://prop/ns-abc/topic-c97789885d35e455-shadow / sub\r\n",
            "2022-12-04T17:51:40,938 - INFO  - [pulsar-io-6-16:ManagedCursorImpl@661] - [prop/ns-abc/persistent/topic-c97789885d35e455-shadow] Cursor sub recovered to position 3:-1\r\n",
            "2022-12-04T17:51:40,941 - INFO  - [bookkeeper-ml-scheduler-OrderedScheduler-4-0:ManagedLedgerImpl$7@994] - [prop/ns-abc/persistent/topic-c97789885d35e455-shadow] Opened new cursor: ManagedCursorImpl{ledger=prop/ns-abc/persistent/topic-c97789885d35e455-shadow, name=sub, ackPos=3:-1, readPos=3:0}\r\n",
            "2022-12-04T17:51:40,942 - INFO  - [bookkeeper-ml-scheduler-OrderedScheduler-4-0:ManagedCursorImpl@2426] - [prop/ns-abc/persistent/topic-c97789885d35e455-shadow-sub] Rewind from 3:0 to 3:0\r\n",
            "2022-12-04T17:51:40,942 - INFO  - [bookkeeper-ml-scheduler-OrderedScheduler-4-0:ServerCnx@1144] - [/127.0.0.1:63485] Created subscription on topic persistent://prop/ns-abc/topic-c97789885d35e455-shadow / sub\r\n",
            "2022-12-04T17:51:40,942 - INFO  - [pulsar-client-io-37-1:ConsumerImpl@919] - [persistent://prop/ns-abc/topic-c97789885d35e455-shadow][sub] Subscribed to topic on localhost/127.0.0.1:63424 -- consumer: 0\r\n",
            "2022-12-04T17:51:40,946 - INFO  - [main:ShadowTopicTest@165] - msg send to source topic, id=3:0:-1\r\n",
            "2022-12-04T17:51:40,948 - INFO  - [mock-pulsar-bk-OrderedExecutor-0-0:OpAddEntry@241] - [prop/ns-abc/persistent/topic-c97789885d35e455] Closing ledger 3 for being full\r\n",
            "2022-12-04T17:51:40,949 - INFO  - [main:ShadowTopicTest@165] - msg send to source topic, id=3:1:-1\r\n",
            "2022-12-04T17:51:40,950 - INFO  - [mock-pulsar-bk-OrderedExecutor-0-0:ManagedLedgerImpl@835] - [prop/ns-abc/persistent/topic-c97789885d35e455] Creating a new ledger\r\n",
            "2022-12-04T17:51:40,950 - INFO  - [mock-pulsar-bk-OrderedExecutor-0-0:PulsarMockBookKeeper@122] - Creating ledger 6\r\n",
            "2022-12-04T17:51:40,951 - INFO  - [mock-pulsar-bk-OrderedExecutor-0-0:ManagedLedgerImpl@1551] - [prop/ns-abc/persistent/topic-c97789885d35e455] Created new ledger 6\r\n",
            "2022-12-04T17:51:40,958 - INFO  - [main:ShadowTopicTest@165] - msg send to source topic, id=6:0:-1\r\n",
            "2022-12-04T17:51:40,960 - INFO  - [mock-pulsar-bk-OrderedExecutor-0-0:OpAddEntry@241] - [prop/ns-abc/persistent/topic-c97789885d35e455] Closing ledger 6 for being full\r\n",
            "2022-12-04T17:51:40,960 - INFO  - [main:ShadowTopicTest@165] - msg send to source topic, id=6:1:-1\r\n",
            "2022-12-04T17:51:40,966 - INFO  - [bookkeeper-ml-scheduler-OrderedScheduler-2-0:ManagedLedgerImpl$18@2697] - [prop/ns-abc/persistent/topic-c97789885d35e455] End TrimConsumedLedgers. ledgers=1 totalSize=100\r\n",
            "2022-12-04T17:51:40,966 - INFO  - [bookkeeper-ml-scheduler-OrderedScheduler-2-0:ManagedLedgerImpl$18@2704] - [prop/ns-abc/persistent/topic-c97789885d35e455] Removing ledger 3 - size: 100\r\n",
            "2022-12-04T17:51:40,962 - INFO  - [mock-pulsar-bk-OrderedExecutor-0-0:ShadowManagedLedgerImpl@272] - [prop/ns-abc/persistent/topic-c97789885d35e455-shadow][prop/ns-abc/persistent/topic-c97789885d35e455] new SourceManagedLedgerInfo:ledgerInfo {\r\n",
            "  ledgerId: 3\r\n",
            "  entries: 2\r\n",
            "  size: 100\r\n",
            "  timestamp: 1670147500948\r\n",
            "}\r\n",
            "ledgerInfo {\r\n",
            "  ledgerId: 6\r\n",
            "  timestamp: 1670147500961\r\n",
            "}\r\n",
            ", prevStat=Stat(path=/managed-ledgers/prop/ns-abc/persistent/topic-c97789885d35e455, version=1, creationTimestamp=0, modificationTimestamp=0, ephemeral=true, createdBySelf=false),stat=Stat(path=/managed-ledgers/prop/ns-abc/persistent/topic-c97789885d35e455, version=2, creationTimestamp=0, modificationTimestamp=0, ephemeral=true, createdBySelf=false)\r\n",
            "2022-12-04T17:51:40,993 - INFO  - [mock-pulsar-bk-OrderedExecutor-0-0:ShadowManagedLedgerImpl@304] - [prop/ns-abc/persistent/topic-c97789885d35e455-shadow] Old ledger info updated in source,ledgerId=3\r\n",
            "2022-12-04T17:51:40,993 - INFO  - [mock-pulsar-bk-OrderedExecutor-0-0:ManagedLedgerImpl@835] - [prop/ns-abc/persistent/topic-c97789885d35e455] Creating a new ledger\r\n",
            "2022-12-04T17:51:40,994 - INFO  - [mock-pulsar-bk-OrderedExecutor-0-0:ShadowManagedLedgerImpl@272] - [prop/ns-abc/persistent/topic-c97789885d35e455-shadow][prop/ns-abc/persistent/topic-c97789885d35e455] new SourceManagedLedgerInfo:ledgerInfo {\r\n",
            "  ledgerId: 6\r\n",
            "  entries: 2\r\n",
            "  size: 100\r\n",
            "  timestamp: 1670147500960\r\n",
            "}\r\n",
            ", prevStat=Stat(path=/managed-ledgers/prop/ns-abc/persistent/topic-c97789885d35e455, version=2, creationTimestamp=0, modificationTimestamp=0, ephemeral=true, createdBySelf=false),stat=Stat(path=/managed-ledgers/prop/ns-abc/persistent/topic-c97789885d35e455, version=3, creationTimestamp=0, modificationTimestamp=0, ephemeral=true, createdBySelf=false)\r\n",
            "2022-12-04T17:51:40,994 - INFO  - [mock-pulsar-bk-OrderedExecutor-0-0:ShadowManagedLedgerImpl@304] - [prop/ns-abc/persistent/topic-c97789885d35e455-shadow] Old ledger info updated in source,ledgerId=6\r\n",
            "2022-12-04T17:51:40,994 - INFO  - [mock-pulsar-bk-OrderedExecutor-0-0:ShadowManagedLedgerImpl@356] - [prop/ns-abc/persistent/topic-c97789885d35e455-shadow]ledgers deleted in source, size=1\r\n",
            "2022-12-04T17:51:40,994 - INFO  - [mock-pulsar-bk-OrderedExecutor-0-0:ManagedLedgerImpl@2734] - [prop/ns-abc/persistent/topic-c97789885d35e455-shadow] Ledger 3 contains the current last confirmed entry 3:1, and it is going to be deleted\r\n",
            "2022-12-04T17:51:40,994 - INFO  - [mock-pulsar-bk-OrderedExecutor-0-0:PulsarMockBookKeeper@122] - Creating ledger 7\r\n",
            "2022-12-04T17:51:40,995 - INFO  - [mock-pulsar-bk-OrderedExecutor-0-0:ManagedLedgerImpl@1551] - [prop/ns-abc/persistent/topic-c97789885d35e455] Created new ledger 7\r\n",
            "2022-12-04T17:51:40,995 - WARN  - [mock-pulsar-bk-OrderedExecutor-0-0:ManagedLedgerImpl@2378] - Cursor: ManagedCursorImpl{ledger=prop/ns-abc/persistent/topic-c97789885d35e455-shadow, name=sub, ackPos=3:-1, readPos=3:2} does not exist in the managed-ledger.\r\n",
            "2022-12-04T17:51:40,996 - WARN  - [mock-pulsar-bk-OrderedExecutor-0-0:ManagedLedgerImpl@2378] - Cursor: ManagedCursorImpl{ledger=prop/ns-abc/persistent/topic-c97789885d35e455-shadow, name=sub, ackPos=3:-1, readPos=3:2} does not exist in the managed-ledger.\r\n",
            "2022-12-04T17:51:40,996 - INFO  - [mock-pulsar-bk-OrderedExecutor-0-0:Producer@696] - Disconnecting producer: Producer{topic=PersistentTopic{topic=persistent://prop/ns-abc/topic-c97789885d35e455-shadow}, client=/127.0.0.1:63483, producerName=pulsar.repl-persistent://prop/ns-abc/topic-c97789885d35e455-->persistent://prop/ns-abc/topic-c97789885d35e455-shadow, producerId=0}\r\n",
            "2022-12-04T17:51:40,996 - WARN  - [mock-pulsar-bk-OrderedExecutor-0-0:PersistentTopic@590] - [persistent://prop/ns-abc/topic-c97789885d35e455-shadow] Failed to persist msg in store: Unexpected add entry op when complete the add entry op.\r\n",
            "2022-12-04T17:51:40,996 - INFO  - [pulsar-io-6-13:ClientCnx@778] - [localhost/127.0.0.1:63424] Broker notification of Closed producer: 0\r\n",
            "2022-12-04T17:51:40,996 - INFO  - [mock-pulsar-bk-OrderedExecutor-0-0:PersistentTopic@523] - [persistent://prop/ns-abc/topic-c97789885d35e455-shadow] Un-fencing topic...\r\n",
            "2022-12-04T17:51:40,996 - WARN  - [mock-pulsar-bk-OrderedExecutor-0-0:PersistentTopic@590] - [persistent://prop/ns-abc/topic-c97789885d35e455-shadow] Failed to persist msg in store: Unexpected add entry op when complete the add entry op.\r\n",
            "2022-12-04T17:51:40,996 - INFO  - [pulsar-io-6-13:ConnectionHandler@144] - [persistent://prop/ns-abc/topic-c97789885d35e455-shadow] [pulsar.repl-persistent://prop/ns-abc/topic-c97789885d35e455-->persistent://prop/ns-abc/topic-c97789885d35e455-shadow] Closed connection [id: 0x8ba4f938, L:/127.0.0.1:63483 - R:localhost/127.0.0.1:63424] -- Will try again in 0.1 s\r\n",
            "2022-12-04T17:51:40,997 - WARN  - [pulsar-io-6-13:ClientCnx@722] - [id: 0x8ba4f938, L:/127.0.0.1:63483 - R:localhost/127.0.0.1:63424] Received send error from server: PersistenceError : org.apache.bookkeeper.mledger.ManagedLedgerException: Unexpected add entry op when complete the add entry op.\r\n",
            "2022-12-04T17:51:40,998 - INFO  - [main:ShadowTopicTest@165] - msg send to source topic, id=7:0:-1\r\n",
            "2022-12-04T17:51:40,998 - INFO  - [pulsar-io-6-14:ServerCnx@316] - Closed connection from /127.0.0.1:63483\r\n",
            "2022-12-04T17:51:40,998 - WARN  - [pulsar-io-6-13:ClientCnx@722] - [id: 0x8ba4f938, L:/127.0.0.1:63483 ! R:localhost/127.0.0.1:63424] Received send error from server: PersistenceError : org.apache.bookkeeper.mledger.ManagedLedgerException: Unexpected add entry op when complete the add entry op.\r\n",
            "2022-12-04T17:51:40,998 - INFO  - [pulsar-io-6-13:ClientCnx@294] - [id: 0x8ba4f938, L:/127.0.0.1:63483 ! R:localhost/127.0.0.1:63424] Disconnected\r\n",
            "2022-12-04T17:51:41,000 - INFO  - [mock-pulsar-bk-OrderedExecutor-0-0:OpAddEntry@241] - [prop/ns-abc/persistent/topic-c97789885d35e455] Closing ledger 7 for being full\r\n",
            "2022-12-04T17:51:41,000 - INFO  - [main:ShadowTopicTest@165] - msg send to source topic, id=7:1:-1\r\n",
            "2022-12-04T17:51:41,001 - INFO  - [bookkeeper-ml-scheduler-OrderedScheduler-2-0:ManagedLedgerImpl$18@2697] - [prop/ns-abc/persistent/topic-c97789885d35e455] End TrimConsumedLedgers. ledgers=1 totalSize=100\r\n",
            "2022-12-04T17:51:41,001 - INFO  - [bookkeeper-ml-scheduler-OrderedScheduler-2-0:ManagedLedgerImpl$18@2704] - [prop/ns-abc/persistent/topic-c97789885d35e455] Removing ledger 6 - size: 100\r\n",
            "2022-12-04T17:51:41,001 - INFO  - [mock-pulsar-bk-OrderedExecutor-0-0:ShadowManagedLedgerImpl@272] - [prop/ns-abc/persistent/topic-c97789885d35e455-shadow][prop/ns-abc/persistent/topic-c97789885d35e455] new SourceManagedLedgerInfo:ledgerInfo {\r\n",
            "  ledgerId: 6\r\n",
            "  entries: 2\r\n",
            "  size: 100\r\n",
            "  timestamp: 1670147500960\r\n",
            "}\r\n",
            "ledgerInfo {\r\n",
            "  ledgerId: 7\r\n",
            "  timestamp: 1670147501001\r\n",
            "}\r\n",
            ", prevStat=Stat(path=/managed-ledgers/prop/ns-abc/persistent/topic-c97789885d35e455, version=3, creationTimestamp=0, modificationTimestamp=0, ephemeral=true, createdBySelf=false),stat=Stat(path=/managed-ledgers/prop/ns-abc/persistent/topic-c97789885d35e455, version=4, creationTimestamp=0, modificationTimestamp=0, ephemeral=true, createdBySelf=false)\r\n",
            "2022-12-04T17:51:41,001 - INFO  - [mock-pulsar-bk-OrderedExecutor-0-0:ShadowManagedLedgerImpl@304] - [prop/ns-abc/persistent/topic-c97789885d35e455-shadow] Old ledger info updated in source,ledgerId=6\r\n",
            "2022-12-04T17:51:41,001 - INFO  - [mock-pulsar-bk-OrderedExecutor-0-0:ManagedLedgerImpl@835] - [prop/ns-abc/persistent/topic-c97789885d35e455] Creating a new ledger\r\n",
            "2022-12-04T17:51:41,001 - INFO  - [mock-pulsar-bk-OrderedExecutor-0-0:PulsarMockBookKeeper@122] - Creating ledger 8\r\n",
            "2022-12-04T17:51:41,002 - INFO  - [mock-pulsar-bk-OrderedExecutor-0-0:ManagedLedgerImpl@1551] - [prop/ns-abc/persistent/topic-c97789885d35e455] Created new ledger 8\r\n",
            "2022-12-04T17:51:41,002 - WARN  - [mock-pulsar-bk-OrderedExecutor-0-0:ManagedLedgerImpl@2378] - Cursor: ManagedCursorImpl{ledger=prop/ns-abc/persistent/topic-c97789885d35e455-shadow, name=sub, ackPos=3:-1, readPos=3:2} does not exist in the managed-ledger.\r\n",
            "2022-12-04T17:51:41,006 - INFO  - [mock-pulsar-bk-OrderedExecutor-0-0:ShadowManagedLedgerImpl@272] - [prop/ns-abc/persistent/topic-c97789885d35e455-shadow][prop/ns-abc/persistent/topic-c97789885d35e455] new SourceManagedLedgerInfo:ledgerInfo {\r\n",
            "  ledgerId: 7\r\n",
            "  entries: 2\r\n",
            "  size: 100\r\n",
            "  timestamp: 1670147501000\r\n",
            "}\r\n",
            ", prevStat=Stat(path=/managed-ledgers/prop/ns-abc/persistent/topic-c97789885d35e455, version=4, creationTimestamp=0, modificationTimestamp=0, ephemeral=true, createdBySelf=false),stat=Stat(path=/managed-ledgers/prop/ns-abc/persistent/topic-c97789885d35e455, version=5, creationTimestamp=0, modificationTimestamp=0, ephemeral=true, createdBySelf=false)\r\n",
            "2022-12-04T17:51:41,006 - INFO  - [mock-pulsar-bk-OrderedExecutor-0-0:ShadowManagedLedgerImpl@304] - [prop/ns-abc/persistent/topic-c97789885d35e455-shadow] Old ledger info updated in source,ledgerId=7\r\n",
            "2022-12-04T17:51:41,006 - INFO  - [mock-pulsar-bk-OrderedExecutor-0-0:ShadowManagedLedgerImpl@356] - [prop/ns-abc/persistent/topic-c97789885d35e455-shadow]ledgers deleted in source, size=1\r\n",
            "2022-12-04T17:51:41,010 - INFO  - [mock-pulsar-bk-OrderedExecutor-0-0:PulsarMockBookKeeper@122] - Creating ledger 9\r\n",
            "2022-12-04T17:51:41,010 - WARN  - [mock-pulsar-bk-OrderedExecutor-0-0:ManagedLedgerImpl@1957] - [prop/ns-abc/persistent/topic-c97789885d35e455-shadow] Failed to close a Ledger ReadHandle:\r\n",
            "java.util.concurrent.CompletionException: org.apache.bookkeeper.mledger.ManagedLedgerException$LedgerNotExistException: No such ledger exists on Bookies\r\n",
            "\tat java.util.concurrent.CompletableFuture.encodeThrowable(CompletableFuture.java:332) ~[?:?]\r\n",
            "\tat java.util.concurrent.CompletableFuture.completeThrowable(CompletableFuture.java:347) ~[?:?]\r\n",
            "\tat java.util.concurrent.CompletableFuture$UniAccept.tryFire(CompletableFuture.java:708) ~[?:?]\r\n",
            "\tat java.util.concurrent.CompletableFuture.postComplete(CompletableFuture.java:510) ~[?:?]\r\n",
            "\tat java.util.concurrent.CompletableFuture.completeExceptionally(CompletableFuture.java:2162) ~[?:?]\r\n",
            "\tat org.apache.bookkeeper.mledger.impl.ManagedLedgerImpl.lambda$getLedgerHandle$20(ManagedLedgerImpl.java:1940) ~[classes/:?]\r\n",
            "\tat java.util.concurrent.CompletableFuture.uniWhenComplete(CompletableFuture.java:863) ~[?:?]\r\n",
            "\tat java.util.concurrent.CompletableFuture$UniWhenComplete.tryFire(CompletableFuture.java:841) ~[?:?]\r\n",
            "\tat java.util.concurrent.CompletableFuture$Completion.run(CompletableFuture.java:482) ~[?:?]\r\n",
            "\tat java.util.concurrent.ThreadPoolExecutor.runWorker(ThreadPoolExecutor.java:1136) ~[?:?]\r\n",
            "\tat java.util.concurrent.ThreadPoolExecutor$Worker.run(ThreadPoolExecutor.java:635) ~[?:?]\r\n",
            "\tat io.netty.util.concurrent.FastThreadLocalRunnable.run(FastThreadLocalRunnable.java:30) ~[netty-common-4.1.77.Final.jar:4.1.77.Final]\r\n",
            "\tat java.lang.Thread.run(Thread.java:833) ~[?:?]\r\n",
            "Caused by: org.apache.bookkeeper.mledger.ManagedLedgerException$LedgerNotExistException: No such ledger exists on Bookies\r\n",
            "2022-12-04T17:51:41,010 - ERROR - [mock-pulsar-bk-OrderedExecutor-0-0:ManagedLedgerImpl@1865] - [prop/ns-abc/persistent/topic-c97789885d35e455-shadow] Error opening ledger for reading at position 6:0 - org.apache.bookkeeper.mledger.ManagedLedgerException$LedgerNotExistException: No such ledger exists on Bookies\r\n",
            "2022-12-04T17:51:41,010 - WARN  - [mock-pulsar-bk-OrderedExecutor-0-0:OpReadEntry@123] - [prop/ns-abc/persistent/topic-c97789885d35e455-shadow][sub] read failed from ledger at position:6:0\r\n",
            "org.apache.bookkeeper.mledger.ManagedLedgerException$LedgerNotExistException: No such ledger exists on Bookies\r\n",
            "2022-12-04T17:51:41,011 - ERROR - [broker-topic-workers-OrderedExecutor-6-0:PersistentDispatcherSingleActiveConsumer@502] - [persistent://prop/ns-abc/topic-c97789885d35e455-shadow / sub-Consumer{subscription=PersistentSubscription{topic=persistent://prop/ns-abc/topic-c97789885d35e455-shadow, name=sub}, consumerId=0, consumerName=6cad1, address=/127.0.0.1:63485}] Error reading entries at 7:0 : No such ledger exists on Bookies - Retrying to read in 15.0 seconds\r\n",
            "2022-12-04T17:51:41,011 - INFO  - [mock-pulsar-bk-OrderedExecutor-0-0:ShadowManagedLedgerImpl@272] - [prop/ns-abc/persistent/topic-c97789885d35e455-shadow][prop/ns-abc/persistent/topic-c97789885d35e455] new SourceManagedLedgerInfo:ledgerInfo {\r\n",
            "  ledgerId: 7\r\n",
            "  entries: 2\r\n",
            "  size: 100\r\n",
            "  timestamp: 1670147501000\r\n",
            "}\r\n",
            "ledgerInfo {\r\n",
            "  ledgerId: 8\r\n",
            "  timestamp: 1670147501011\r\n",
            "}\r\n",
            ", prevStat=Stat(path=/managed-ledgers/prop/ns-abc/persistent/topic-c97789885d35e455, version=5, creationTimestamp=0, modificationTimestamp=0, ephemeral=true, createdBySelf=false),stat=Stat(path=/managed-ledgers/prop/ns-abc/persistent/topic-c97789885d35e455, version=6, creationTimestamp=0, modificationTimestamp=0, ephemeral=true, createdBySelf=false)\r\n",
            "2022-12-04T17:51:41,012 - INFO  - [main:ShadowTopicTest@165] - msg send to source topic, id=8:0:-1\r\n",
            "2022-12-04T17:51:41,018 - INFO  - [mock-pulsar-bk-OrderedExecutor-0-0:OpAddEntry@241] - [prop/ns-abc/persistent/topic-c97789885d35e455] Closing ledger 8 for being full\r\n",
            "2022-12-04T17:51:41,019 - INFO  - [main:ShadowTopicTest@165] - msg send to source topic, id=8:1:-1\r\n",
            "2022-12-04T17:51:41,019 - INFO  - [mock-pulsar-bk-OrderedExecutor-0-0:ManagedLedgerImpl@835] - [prop/ns-abc/persistent/topic-c97789885d35e455] Creating a new ledger\r\n",
            "2022-12-04T17:51:41,020 - INFO  - [mock-pulsar-bk-OrderedExecutor-0-0:PulsarMockBookKeeper@122] - Creating ledger 10\r\n",
            "2022-12-04T17:51:41,020 - INFO  - [mock-pulsar-bk-OrderedExecutor-0-0:ManagedLedgerImpl@1551] - [prop/ns-abc/persistent/topic-c97789885d35e455] Created new ledger 10\r\n",
            "2022-12-04T17:51:41,021 - INFO  - [bookkeeper-ml-scheduler-OrderedScheduler-2-0:ManagedLedgerImpl$18@2697] - [prop/ns-abc/persistent/topic-c97789885d35e455] End TrimConsumedLedgers. ledgers=1 totalSize=100\r\n",
            "2022-12-04T17:51:41,021 - INFO  - [bookkeeper-ml-scheduler-OrderedScheduler-4-0:ManagedCursorImpl$30@3007] - [prop/ns-abc/persistent/topic-c97789885d35e455-shadow] Updated cursor sub with ledger id 9 md-position=7:-1 rd-position=7:0\r\n",
            "2022-12-04T17:51:41,021 - INFO  - [bookkeeper-ml-scheduler-OrderedScheduler-2-0:ManagedLedgerImpl$18@2704] - [prop/ns-abc/persistent/topic-c97789885d35e455] Removing ledger 7 - size: 100\r\n",
            "2022-12-04T17:51:41,026 - INFO  - [mock-pulsar-bk-OrderedExecutor-0-0:ShadowManagedLedgerImpl@272] - [prop/ns-abc/persistent/topic-c97789885d35e455-shadow][prop/ns-abc/persistent/topic-c97789885d35e455] new SourceManagedLedgerInfo:ledgerInfo {\r\n",
            "  ledgerId: 8\r\n",
            "  entries: 2\r\n",
            "  size: 100\r\n",
            "  timestamp: 1670147501018\r\n",
            "}\r\n",
            ", prevStat=Stat(path=/managed-ledgers/prop/ns-abc/persistent/topic-c97789885d35e455, version=6, creationTimestamp=0, modificationTimestamp=0, ephemeral=true, createdBySelf=false),stat=Stat(path=/managed-ledgers/prop/ns-abc/persistent/topic-c97789885d35e455, version=7, creationTimestamp=0, modificationTimestamp=0, ephemeral=true, createdBySelf=false)\r\n",
            "2022-12-04T17:51:41,026 - INFO  - [mock-pulsar-bk-OrderedExecutor-0-0:ShadowManagedLedgerImpl@356] - [prop/ns-abc/persistent/topic-c97789885d35e455-shadow]ledgers deleted in source, size=1\r\n",
            "2022-12-04T17:51:41,098 - INFO  - [broker-client-shared-timer-11-1:ConnectionHandler@148] - [persistent://prop/ns-abc/topic-c97789885d35e455-shadow] [pulsar.repl-persistent://prop/ns-abc/topic-c97789885d35e455-->persistent://prop/ns-abc/topic-c97789885d35e455-shadow] Reconnecting after timeout\r\n",
            "2022-12-04T17:51:41,102 - INFO  - [pulsar-web-32-1:Slf4jRequestLogWriter@62] - 127.0.0.1 - - [04/12月/2022:17:51:41 +0800] \"GET /lookup/v2/topic/persistent/prop/ns-abc/topic-c97789885d35e455-shadow HTTP/1.1\" 200 217 \"-\" \"Pulsar-Java-v2.11.0-SNAPSHOT\" 3\r\n",
            "2022-12-04T17:51:41,103 - INFO  - [pulsar-io-6-2:ConnectionPool@248] - [[id: 0x00cf3873, L:/127.0.0.1:63489 - R:localhost/127.0.0.1:63424]] Connected to server\r\n",
            "2022-12-04T17:51:41,104 - INFO  - [pulsar-io-6-3:ServerCnx@304] - New connection from /127.0.0.1:63489\r\n",
            "2022-12-04T17:51:41,105 - INFO  - [pulsar-io-6-2:ProducerImpl@1650] - [persistent://prop/ns-abc/topic-c97789885d35e455-shadow] [pulsar.repl-persistent://prop/ns-abc/topic-c97789885d35e455-->persistent://prop/ns-abc/topic-c97789885d35e455-shadow] Creating producer on cnx [id: 0x00cf3873, L:/127.0.0.1:63489 - R:localhost/127.0.0.1:63424]\r\n",
            "2022-12-04T17:51:41,106 - INFO  - [pulsar-io-6-3:ServerCnx@1484] - [/127.0.0.1:63489] Created new producer: Producer{topic=PersistentTopic{topic=persistent://prop/ns-abc/topic-c97789885d35e455-shadow}, client=/127.0.0.1:63489, producerName=pulsar.repl-persistent://prop/ns-abc/topic-c97789885d35e455-->persistent://prop/ns-abc/topic-c97789885d35e455-shadow, producerId=0}\r\n",
            "2022-12-04T17:51:41,106 - INFO  - [pulsar-io-6-2:ProducerImpl@1705] - [persistent://prop/ns-abc/topic-c97789885d35e455-shadow] [pulsar.repl-persistent://prop/ns-abc/topic-c97789885d35e455-->persistent://prop/ns-abc/topic-c97789885d35e455-shadow] Created producer on cnx [id: 0x00cf3873, L:/127.0.0.1:63489 - R:localhost/127.0.0.1:63424]\r\n",
            "2022-12-04T17:51:41,106 - INFO  - [pulsar-io-6-2:ProducerImpl@1886] - [persistent://prop/ns-abc/topic-c97789885d35e455-shadow] [pulsar.repl-persistent://prop/ns-abc/topic-c97789885d35e455-->persistent://prop/ns-abc/topic-c97789885d35e455-shadow] Re-Sending 4 messages to server\r\n",
            "2022-12-04T17:51:41,126 - INFO  - [bookkeeper-ml-scheduler-OrderedScheduler-2-0:ManagedLedgerImpl@2383] - Reset cursor:NonDurableCursorImpl{ledger=prop/ns-abc/persistent/topic-c97789885d35e455, ackPos=8:1, readPos=8:2} to 10:-1 since ledger consumed completely\r\n",
            "2022-12-04T17:51:41,128 - INFO  - [main:ShadowTopicTest@165] - msg send to source topic, id=10:0:-1\r\n",
            "2022-12-04T17:51:41,130 - INFO  - [mock-pulsar-bk-OrderedExecutor-0-0:OpAddEntry@241] - [prop/ns-abc/persistent/topic-c97789885d35e455] Closing ledger 10 for being full\r\n",
            "2022-12-04T17:51:41,130 - INFO  - [main:ShadowTopicTest@165] - msg send to source topic, id=10:1:-1\r\n",
            "2022-12-04T17:51:41,130 - INFO  - [mock-pulsar-bk-OrderedExecutor-0-0:ShadowManagedLedgerImpl@272] - [prop/ns-abc/persistent/topic-c97789885d35e455-shadow][prop/ns-abc/persistent/topic-c97789885d35e455] new SourceManagedLedgerInfo:ledgerInfo {\r\n",
            "  ledgerId: 8\r\n",
            "  entries: 2\r\n",
            "  size: 100\r\n",
            "  timestamp: 1670147501018\r\n",
            "}\r\n",
            "ledgerInfo {\r\n",
            "  ledgerId: 10\r\n",
            "  timestamp: 1670147501130\r\n",
            "}\r\n",
            ", prevStat=Stat(path=/managed-ledgers/prop/ns-abc/persistent/topic-c97789885d35e455, version=7, creationTimestamp=0, modificationTimestamp=0, ephemeral=true, createdBySelf=false),stat=Stat(path=/managed-ledgers/prop/ns-abc/persistent/topic-c97789885d35e455, version=8, creationTimestamp=0, modificationTimestamp=0, ephemeral=true, createdBySelf=false)\r\n",
            "receive: 3:0:-1\r\n",
            "receive: 3:1:-1\r\n",
            "2022-12-04T17:51:41,136 - INFO  - [bookkeeper-ml-scheduler-OrderedScheduler-2-0:ManagedLedgerImpl$18@2697] - [prop/ns-abc/persistent/topic-c97789885d35e455] End TrimConsumedLedgers. ledgers=1 totalSize=100\r\n",
            "2022-12-04T17:51:41,136 - INFO  - [bookkeeper-ml-scheduler-OrderedScheduler-2-0:ManagedLedgerImpl$18@2704] - [prop/ns-abc/persistent/topic-c97789885d35e455] Removing ledger 8 - size: 100\r\n",
            "2022-12-04T17:51:41,141 - INFO  - [mock-pulsar-bk-OrderedExecutor-0-0:ShadowManagedLedgerImpl@272] - [prop/ns-abc/persistent/topic-c97789885d35e455-shadow][prop/ns-abc/persistent/topic-c97789885d35e455] new SourceManagedLedgerInfo:ledgerInfo {\r\n",
            "  ledgerId: 10\r\n",
            "  entries: 2\r\n",
            "  size: 100\r\n",
            "  timestamp: 1670147501130\r\n",
            "}\r\n",
            ", prevStat=Stat(path=/managed-ledgers/prop/ns-abc/persistent/topic-c97789885d35e455, version=8, creationTimestamp=0, modificationTimestamp=0, ephemeral=true, createdBySelf=false),stat=Stat(path=/managed-ledgers/prop/ns-abc/persistent/topic-c97789885d35e455, version=9, creationTimestamp=0, modificationTimestamp=0, ephemeral=true, createdBySelf=false)\r\n",
            "2022-12-04T17:51:41,141 - INFO  - [mock-pulsar-bk-OrderedExecutor-0-0:ShadowManagedLedgerImpl@304] - [prop/ns-abc/persistent/topic-c97789885d35e455-shadow] Old ledger info updated in source,ledgerId=10\r\n",
            "2022-12-04T17:51:41,141 - INFO  - [mock-pulsar-bk-OrderedExecutor-0-0:ShadowManagedLedgerImpl@356] - [prop/ns-abc/persistent/topic-c97789885d35e455-shadow]ledgers deleted in source, size=1\r\n",
            "2022-12-04T17:51:46,145 - INFO  - [pulsar-io-6-16:ServerCnx@1843] - [/127.0.0.1:63485] Closing consumer: consumerId=0\r\n",
            "2022-12-04T17:51:46,145 - INFO  - [pulsar-io-6-16:AbstractDispatcherSingleActiveConsumer@187] - Removing consumer Consumer{subscription=PersistentSubscription{topic=persistent://prop/ns-abc/topic-c97789885d35e455-shadow, name=sub}, consumerId=0, consumerName=6cad1, address=/127.0.0.1:63485}\r\n",
            "2022-12-04T17:51:46,147 - INFO  - [pulsar-io-6-16:ServerCnx@1879] - [/127.0.0.1:63485] Closed consumer, consumerId=0\r\n",
            "2022-12-04T17:51:46,148 - INFO  - [pulsar-client-io-37-1:ConsumerImpl@1061] - [persistent://prop/ns-abc/topic-c97789885d35e455-shadow] [sub] Closed consumer\r\n",
            "2022-12-04T17:51:46,149 - INFO  - [pulsar-io-6-16:ServerCnx@1827] - [PersistentTopic{topic=persistent://prop/ns-abc/topic-c97789885d35e455}][test-0-1] Closing producer on cnx /127.0.0.1:63485. producerId=0\r\n",
            "2022-12-04T17:51:46,149 - INFO  - [pulsar-io-6-16:ServerCnx@1831] - [PersistentTopic{topic=persistent://prop/ns-abc/topic-c97789885d35e455}][test-0-1] Closed producer on cnx /127.0.0.1:63485. producerId=0\r\n",
            "2022-12-04T17:51:46,150 - INFO  - [pulsar-client-io-37-1:ProducerImpl@1058] - [persistent://prop/ns-abc/topic-c97789885d35e455] [test-0-1] Closed Producer\r\n",
            "\r\n",
            "java.lang.NullPointerException: Cannot invoke \"org.apache.pulsar.client.api.Message.getMessageId()\" because \"msg\" is null\r\n",
            "\r\n",
            "\tat org.apache.pulsar.broker.service.persistent.ShadowTopicTest.testShadowTopicConsuming(ShadowTopicTest.java:172)\r\n",
            "\tat java.base/jdk.internal.reflect.NativeMethodAccessorImpl.invoke0(Native Method)\r\n",
            "\tat java.base/jdk.internal.reflect.NativeMethodAccessorImpl.invoke(NativeMethodAccessorImpl.java:77)\r\n",
            "\tat java.base/jdk.internal.reflect.DelegatingMethodAccessorImpl.invoke(DelegatingMethodAccessorImpl.java:43)\r\n",
            "\tat java.base/java.lang.reflect.Method.invoke(Method.java:568)\r\n",
            "\tat org.testng.internal.invokers.MethodInvocationHelper.invokeMethod(MethodInvocationHelper.java:139)\r\n",
            "\tat org.testng.internal.invokers.TestInvoker.invokeMethod(TestInvoker.java:677)\r\n",
            "\tat org.testng.internal.invokers.TestInvoker.invokeTestMethod(TestInvoker.java:221)\r\n",
            "\tat org.testng.internal.invokers.MethodRunner.runInSequence(MethodRunner.java:50)\r\n",
            "\tat org.testng.internal.invokers.TestInvoker$MethodInvocationAgent.invoke(TestInvoker.java:962)\r\n",
            "\tat org.testng.internal.invokers.TestInvoker.invokeTestMethods(TestInvoker.java:194)\r\n",
            "\tat org.testng.internal.invokers.TestMethodWorker.invokeTestMethods(TestMethodWorker.java:148)\r\n",
            "\tat org.testng.internal.invokers.TestMethodWorker.run(TestMethodWorker.java:128)\r\n",
            "\tat java.base/java.util.ArrayList.forEach(ArrayList.java:1511)\r\n",
            "\tat org.testng.TestRunner.privateRun(TestRunner.java:806)\r\n",
            "\tat org.testng.TestRunner.run(TestRunner.java:601)\r\n",
            "\tat org.testng.SuiteRunner.runTest(SuiteRunner.java:433)\r\n",
            "\tat org.testng.SuiteRunner.runSequentially(SuiteRunner.java:427)\r\n",
            "\tat org.testng.SuiteRunner.privateRun(SuiteRunner.java:387)\r\n",
            "\tat org.testng.SuiteRunner.run(SuiteRunner.java:330)\r\n",
            "\tat org.testng.SuiteRunnerWorker.runSuite(SuiteRunnerWorker.java:52)\r\n",
            "\tat org.testng.SuiteRunnerWorker.run(SuiteRunnerWorker.java:95)\r\n",
            "\tat org.testng.TestNG.runSuitesSequentially(TestNG.java:1256)\r\n",
            "\tat org.testng.TestNG.runSuitesLocally(TestNG.java:1176)\r\n",
            "\tat org.testng.TestNG.runSuites(TestNG.java:1099)\r\n",
            "\tat org.testng.TestNG.run(TestNG.java:1067)\r\n",
            "\tat com.intellij.rt.testng.IDEARemoteTestNG.run(IDEARemoteTestNG.java:66)\r\n",
            "\tat com.intellij.rt.testng.RemoteTestNGStarter.main(RemoteTestNGStarter.java:109)\r\n",
            "\r\n",
            "\r\n",
            "```\r\n",
            "\r\n",
            "### What did you expect to see?\r\n",
            "\r\n",
            "Consumer receive all 10 messages.\r\n",
            "\r\n",
            "### What did you see instead?\r\n",
            "\r\n",
            "Consumer will receive a null message and cause an assertion error.\r\n",
            "\r\n",
            "### Anything else?\r\n",
            "\r\n",
            "_No response_\r\n",
            "\r\n",
            "### Are you willing to submit a PR?\r\n",
            "\r\n",
            "- [ ] I'm willing to submit a PR!\n"
          ]
        }
      ]
    },
    {
      "cell_type": "code",
      "source": [
        "test_sample['llama3_70b_body_summary_corrected'] = test_sample['llama3_70b_body_summary']"
      ],
      "metadata": {
        "id": "ir3r4fNs1U5M"
      },
      "execution_count": 23,
      "outputs": []
    },
    {
      "cell_type": "code",
      "source": [
        "test_sample.loc[893,'llama3_70b_body_summary_corrected'] = 'This is a log output from a test case in Apache Pulsar, a distributed messaging system. The test case is named `ShadowTopicTest` and it\\'s testing the consumption of messages from a shadow topic.\\n\\nThe log shows that the consumer is trying to read messages from the topic, but it encounters an error when reading entries at ledger 7: \"No such ledger exists on Bookies - Retrying to read in 15.0 seconds\". This suggests that there was an issue with the ledger storage.\\n\\nDespite this error, the test continues and the producer sends more messages to the topic. The consumer eventually receives some messages, but it also receives a null message, which causes a `NullPointerException` when trying to access the message ID.\\n\\nThe expected behavior is for the consumer to receive all 10 messages sent by the producer, but instead, it encounters an error due to the null message.'"
      ],
      "metadata": {
        "id": "Ks-1LBuR1U-C"
      },
      "execution_count": 24,
      "outputs": []
    },
    {
      "cell_type": "code",
      "source": [
        "test_sample.loc[893,'llama3_70b_body_summary_check'] = 'last two sentences are removed'"
      ],
      "metadata": {
        "id": "_0NxYuoe1VFH"
      },
      "execution_count": 25,
      "outputs": []
    },
    {
      "cell_type": "code",
      "source": [
        "test_sample.loc[1313,'llama3_70b_body_summary']"
      ],
      "metadata": {
        "colab": {
          "base_uri": "https://localhost:8080/",
          "height": 307
        },
        "id": "cgOUMV1D2Iy-",
        "outputId": "075f8d99-a2fd-4b44-b8fc-c914cc218fca"
      },
      "execution_count": 26,
      "outputs": [
        {
          "output_type": "execute_result",
          "data": {
            "text/plain": [
              "\"It looks like you're experiencing an issue with pagination in your database query.\\n\\nThe log shows that the `limit` clause is being applied differently for each query, but the resulting data is identical. This suggests that the query is not properly paginating the results.\\n\\nHere are a few potential reasons for this behavior:\\n\\n1. **Incorrect offset calculation**: Make sure that the `offset` value is being calculated correctly based on the current page number and limit.\\n2. **Missing ordering clause**: Ensure that the query includes an `ORDER BY` clause to specify the sorting order of the results. Without an ordering clause, the database may return results in an arbitrary order, which can lead to pagination issues.\\n3. **Inconsistent data**: Verify that the underlying data is consistent and not changing between queries.\\n\\nTo troubleshoot this issue, you can try the following:\\n\\n1. Check the query logs to ensure that the `limit` and `offset` values are being applied correctly.\\n2. Verify that the `ORDER BY` clause is present in the query and that it's sorting the results consistently.\\n3. Run the query with a fixed `limit` and `offset` value to see if the results change.\\n4. Check for any database or application-level caching mechanisms that might be influencing the results.\\n\\nIf you're still stuck, please provide more details about your database schema, query, and pagination logic, and I'll do my best to help you troubleshoot the issue!\""
            ],
            "application/vnd.google.colaboratory.intrinsic+json": {
              "type": "string"
            }
          },
          "metadata": {},
          "execution_count": 26
        }
      ]
    },
    {
      "cell_type": "code",
      "source": [
        "test_sample.loc[1313,'original_issue_body']"
      ],
      "metadata": {
        "colab": {
          "base_uri": "https://localhost:8080/",
          "height": 222
        },
        "id": "Hku6NSsA2hKS",
        "outputId": "701b5d8f-764e-4f48-cffd-456c1979f8c9"
      },
      "execution_count": 27,
      "outputs": [
        {
          "output_type": "execute_result",
          "data": {
            "text/plain": [
              "'version：4.0.0.M1-SNAPSHOT\\r\\nbranch：dev \\r\\norm: spring jpa\\r\\n\\r\\nnot sharding table use default datasource，but  page data is the same，for the following limit:\\r\\n```\\r\\nlimit 1,10\\r\\nlimit 2,10\\r\\nlimt 3,10\\r\\n```\\r\\n\\r\\njava code\\r\\n```\\r\\n//junit test java code \\r\\n        Pageable pageable1 = new PageRequest(1,10);\\r\\n        List<UserPo> pos1 = userRepository.getWithoutUserIdListBy(\"appcode_idxyer_android\", new Date(),pageable1);\\r\\n        log.info(\"pos1:{}\",pos1.toString());\\r\\n\\r\\n        Pageable pageable2 = new PageRequest(2,10);\\r\\n        List<UserPo> pos2 = userRepository.getWithoutUserIdListBy(\"appcode_idxyer_android\", new Date(),pageable2);\\r\\n        log.info(\"pos2:{}\",pos2.toString());\\r\\n\\r\\n        Pageable pageable3 = new PageRequest(3,10);\\r\\n        List<UserPo> pos3 = userRepository.getWithoutUserIdListBy(\"appcode_idxyer_android\", new Date(),pageable3);\\r\\n        log.info(\"pos3:{}\",pos3.toString());\\r\\n\\r\\n//orm code\\r\\n  @Query(\"SELECT u FROM UserPo u WHERE u.userId is NULL and u.appName = ?1 and u.modifyTime < ?2\")\\r\\n  List<UserPo> getWithoutUserIdListBy(String appName, Date date, Pageable pageable);\\r\\n\\r\\n```\\r\\n\\r\\noutput log\\r\\n```\\r\\n\\r\\n2019-01-10 17:04:51.158  INFO 95981 --- [           main] ShardingSphere-SQL                       : Rule Type: sharding\\r\\n2019-01-10 17:04:51.158  INFO 95981 --- [           main] ShardingSphere-SQL                       : Logic SQL: select userpo0_.id as id1_5_, userpo0_.createTime as createTi2_5_, userpo0_.appCode as appCode3_5_, userpo0_.appName as appName4_5_, userpo0_.appVersion as appVersi5_5_, userpo0_.deviceMc as deviceMc6_5_, userpo0_.deviceToken as deviceTo7_5_, userpo0_.deviceTokenType as deviceTo8_5_, userpo0_.deviceType as deviceTy9_5_, userpo0_.modifyTime as modifyT10_5_, userpo0_.osVersion as osVersi11_5_, userpo0_.userId as userId12_5_, userpo0_.version as version13_5_ from push_user userpo0_ where (userpo0_.userId is null) and userpo0_.appName=? and userpo0_.modifyTime<? limit ?, ?\\r\\n2019-01-10 17:04:51.158  INFO 95981 --- [           main] ShardingSphere-SQL                       : SQLStatement: SelectStatement(super=DQLStatement(super=io.shardingsphere.core.parsing.parser.sql.dql.select.SelectStatement@7da70124), containStar=false, firstSelectItemStartPosition=7, selectListLastPosition=460, groupByLastPosition=0, items=[CommonSelectItem(expression=userpo0_.id, alias=Optional.of(id1_5_)), CommonSelectItem(expression=userpo0_.createTime, alias=Optional.of(createTi2_5_)), CommonSelectItem(expression=userpo0_.appCode, alias=Optional.of(appCode3_5_)), CommonSelectItem(expression=userpo0_.appName, alias=Optional.of(appName4_5_)), CommonSelectItem(expression=userpo0_.appVersion, alias=Optional.of(appVersi5_5_)), CommonSelectItem(expression=userpo0_.deviceMc, alias=Optional.of(deviceMc6_5_)), CommonSelectItem(expression=userpo0_.deviceToken, alias=Optional.of(deviceTo7_5_)), CommonSelectItem(expression=userpo0_.deviceTokenType, alias=Optional.of(deviceTo8_5_)), CommonSelectItem(expression=userpo0_.deviceType, alias=Optional.of(deviceTy9_5_)), CommonSelectItem(expression=userpo0_.modifyTime, alias=Optional.of(modifyT10_5_)), CommonSelectItem(expression=userpo0_.osVersion, alias=Optional.of(osVersi11_5_)), CommonSelectItem(expression=userpo0_.userId, alias=Optional.of(userId12_5_)), CommonSelectItem(expression=userpo0_.version, alias=Optional.of(version13_5_))], groupByItems=[], orderByItems=[], limit=Limit(offset=LimitValue(value=10, index=2, boundOpened=false), rowCount=LimitValue(value=10, index=3, boundOpened=false)), subQueryStatement=null, subQueryStatements=[], subQueryConditions=[])\\r\\n2019-01-10 17:04:51.159  INFO 95981 --- [           main] ShardingSphere-SQL                       : Actual SQL: main ::: select userpo0_.id as id1_5_, userpo0_.createTime as createTi2_5_, userpo0_.appCode as appCode3_5_, userpo0_.appName as appName4_5_, userpo0_.appVersion as appVersi5_5_, userpo0_.deviceMc as deviceMc6_5_, userpo0_.deviceToken as deviceTo7_5_, userpo0_.deviceTokenType as deviceTo8_5_, userpo0_.deviceType as deviceTy9_5_, userpo0_.modifyTime as modifyT10_5_, userpo0_.osVersion as osVersi11_5_, userpo0_.userId as userId12_5_, userpo0_.version as version13_5_ from push_user userpo0_ where (userpo0_.userId is null) and userpo0_.appName=? and userpo0_.modifyTime<? limit ?, ? ::: [[appcode_idxyer_android, 2019-01-10 17:04:49.417, 0, 20]]\\r\\n2019-01-10 17:04:51.324  INFO 95981 --- [           main] c.d.p.push.service.UserServiceTest       : pos1:[UserPo{userId=\\'13870325\\', appName=\\'appcode_idxyer_android\\', appCode=\\'4124c5f1-2029-4fda-b06f-a87ac5ad8d11\\', appVersion=\\'7.4\\', osVersion=\\'8.0.0\\', deviceType=\\'Android\\', deviceMc=\\'87c894be5f7b4c42a3927985a72018bf\\', deviceTokenType=\\'ANDROID\\', deviceToken=\\'Gj3Gfge3dCygO1uUq0V8qVMuqIdu+N758R+dd4M46Jg=\\', modifyTime=2018-02-06 16:29:42.0, version=0}, UserPo{userId=\\'13873758\\', appName=\\'appcode_idxyer_android\\', appCode=\\'4124c5f1-2029-4fda-b06f-a87ac5ad8d11\\', appVersion=\\'8.0\\', osVersion=\\'9\\', deviceType=\\'Google Pixel 2\\', deviceMc=\\'379326c5a69a42cd80989c2472a28ac5\\', deviceTokenType=\\'GETUI\\', deviceToken=\\'9c53678a8234a30e2fc625f9f13e3b3f\\', modifyTime=2018-11-27 13:17:14.0, version=2}, UserPo{userId=\\'13874733\\', appName=\\'appcode_idxyer_android\\', appCode=\\'4124c5f1-2029-4fda-b06f-a87ac5ad8d11\\', appVersion=\\'8.0\\', osVersion=\\'9\\', deviceType=\\'Google Pixel 2\\', deviceMc=\\'d5f32b5998cd4b208c69f117f6955470\\', deviceTokenType=\\'GETUI\\', deviceToken=\\'e277f89da8d2e622f6260cf328072625\\', modifyTime=2019-01-08 20:07:36.0, version=8}, UserPo{userId=\\'13874828\\', appName=\\'appcode_idxyer_android\\', appCode=\\'4124c5f1-2029-4fda-b06f-a87ac5ad8d11\\', appVersion=\\'8.0\\', osVersion=\\'9\\', deviceType=\\'Google Pixel 2\\', deviceMc=\\'37ba63ce0ba94b5ea7daa76a64a0affb\\', deviceTokenType=\\'GETUI\\', deviceToken=\\'20bb8e121d44843f74dc47046076b804\\', modifyTime=2019-01-09 13:35:34.0, version=3}, UserPo{userId=\\'13874848\\', appName=\\'appcode_idxyer_android\\', appCode=\\'4124c5f1-2029-4fda-b06f-a87ac5ad8d11\\', appVersion=\\'8.0\\', osVersion=\\'9\\', deviceType=\\'Google Pixel 2\\', deviceMc=\\'40e16380c87f44518bf3a53493969d41\\', deviceTokenType=\\'GETUI\\', deviceToken=\\'480e564536a70b5842d9d041d45909ab\\', modifyTime=2019-01-09 19:15:17.0, version=2}, UserPo{userId=\\'13871480\\', appName=\\'appcode_idxyer_android\\', appCode=\\'4124c5f1-2029-4fda-b06f-a87ac5ad8d11\\', appVersion=\\'8.0.3\\', osVersion=\\'6.0.1\\', deviceType=\\'HUAWEI ATH-AL00\\', deviceMc=\\'0000000040bb4e89dc87704f1e8dc50b\\', deviceTokenType=\\'ANDROID\\', deviceToken=\\'7mrI8oEJONd1rrTszdw50VdZYFfDNEN3L/gIWul+GtcMqaCFSl5+aGDZDTwf/B1S\\', modifyTime=2018-06-28 15:08:55.0, version=0}, UserPo{userId=\\'13871210\\', appName=\\'appcode_idxyer_android\\', appCode=\\'4124c5f1-2029-4fda-b06f-a87ac5ad8d11\\', appVersion=\\'8.0.0\\', osVersion=\\'8.0.0\\', deviceType=\\'HUAWEI DUK-AL20\\', deviceMc=\\'84f05e03749b4b54872fda60d3ff8c29\\', deviceTokenType=\\'ANDROID\\', deviceToken=\\'7RP7dly55jRaVZqKcJpsv4hUZtZUF9J3bIBQn3VkGUk=\\', modifyTime=2018-06-01 17:54:19.0, version=0}, UserPo{userId=\\'13869945\\', appName=\\'appcode_idxyer_android\\', appCode=\\'4124c5f1-2029-4fda-b06f-a87ac5ad8d11\\', appVersion=\\'7.4.2\\', osVersion=\\'4.4.2\\', deviceType=\\'HUAWEI G750-T01\\', deviceMc=\\'ffffffffb971f1cccf7a5bf70033c587\\', deviceTokenType=\\'ANDROID\\', deviceToken=\\'y5Etn5TKVUksjFg8urjiBHb11gy+kiVWbDCCgB3fSuA=~\\', modifyTime=2018-01-19 18:34:57.0, version=0}, UserPo{userId=\\'13870431\\', appName=\\'appcode_idxyer_android\\', appCode=\\'4124c5f1-2029-4fda-b06f-a87ac5ad8d11\\', appVersion=\\'7.7.3\\', osVersion=\\'4.4.2\\', deviceType=\\'HUAWEI G750-T01\\', deviceMc=\\'ffffffffb971f1cccf7a5bf70033c587\\', deviceTokenType=\\'ANDROID\\', deviceToken=\\'kfCT4MbWnJWZL4XUNLcV6OD/u9TbNoTIRaStPXEzTjQ=\\', modifyTime=2018-03-13 18:20:28.0, version=0}, UserPo{userId=\\'13871082\\', appName=\\'appcode_idxyer_android\\', appCode=\\'4124c5f1-2029-4fda-b06f-a87ac5ad8d11\\', appVersion=\\'7.7.6\\', osVersion=\\'6.0\\', deviceType=\\'HUAWEI GRA-CL00\\', deviceMc=\\'00000000337246391a93c1ae0033c587\\', deviceTokenType=\\'ANDROID\\', deviceToken=\\'H1/h8RhkYATVtPuqwduPzMfCAJwRP47h4YFxPhFmyRw=\\', modifyTime=2018-05-25 14:18:03.0, version=0}]\\r\\nHibernate: select userpo0_.id as id1_5_, userpo0_.createTime as createTi2_5_, userpo0_.appCode as appCode3_5_, userpo0_.appName as appName4_5_, userpo0_.appVersion as appVersi5_5_, userpo0_.deviceMc as deviceMc6_5_, userpo0_.deviceToken as deviceTo7_5_, userpo0_.deviceTokenType as deviceTo8_5_, userpo0_.deviceType as deviceTy9_5_, userpo0_.modifyTime as modifyT10_5_, userpo0_.osVersion as osVersi11_5_, userpo0_.userId as userId12_5_, userpo0_.version as version13_5_ from push_user userpo0_ where (userpo0_.userId is null) and userpo0_.appName=? and userpo0_.modifyTime<? limit ?, ?\\r\\n2019-01-10 17:04:51.327  INFO 95981 --- [           main] ShardingSphere-SQL                       : Rule Type: sharding\\r\\n2019-01-10 17:04:51.327  INFO 95981 --- [           main] ShardingSphere-SQL                       : Logic SQL: select userpo0_.id as id1_5_, userpo0_.createTime as createTi2_5_, userpo0_.appCode as appCode3_5_, userpo0_.appName as appName4_5_, userpo0_.appVersion as appVersi5_5_, userpo0_.deviceMc as deviceMc6_5_, userpo0_.deviceToken as deviceTo7_5_, userpo0_.deviceTokenType as deviceTo8_5_, userpo0_.deviceType as deviceTy9_5_, userpo0_.modifyTime as modifyT10_5_, userpo0_.osVersion as osVersi11_5_, userpo0_.userId as userId12_5_, userpo0_.version as version13_5_ from push_user userpo0_ where (userpo0_.userId is null) and userpo0_.appName=? and userpo0_.modifyTime<? limit ?, ?\\r\\n2019-01-10 17:04:51.327  INFO 95981 --- [           main] ShardingSphere-SQL                       : SQLStatement: SelectStatement(super=DQLStatement(super=io.shardingsphere.core.parsing.parser.sql.dql.select.SelectStatement@7da70124), containStar=false, firstSelectItemStartPosition=7, selectListLastPosition=460, groupByLastPosition=0, items=[CommonSelectItem(expression=userpo0_.id, alias=Optional.of(id1_5_)), CommonSelectItem(expression=userpo0_.createTime, alias=Optional.of(createTi2_5_)), CommonSelectItem(expression=userpo0_.appCode, alias=Optional.of(appCode3_5_)), CommonSelectItem(expression=userpo0_.appName, alias=Optional.of(appName4_5_)), CommonSelectItem(expression=userpo0_.appVersion, alias=Optional.of(appVersi5_5_)), CommonSelectItem(expression=userpo0_.deviceMc, alias=Optional.of(deviceMc6_5_)), CommonSelectItem(expression=userpo0_.deviceToken, alias=Optional.of(deviceTo7_5_)), CommonSelectItem(expression=userpo0_.deviceTokenType, alias=Optional.of(deviceTo8_5_)), CommonSelectItem(expression=userpo0_.deviceType, alias=Optional.of(deviceTy9_5_)), CommonSelectItem(expression=userpo0_.modifyTime, alias=Optional.of(modifyT10_5_)), CommonSelectItem(expression=userpo0_.osVersion, alias=Optional.of(osVersi11_5_)), CommonSelectItem(expression=userpo0_.userId, alias=Optional.of(userId12_5_)), CommonSelectItem(expression=userpo0_.version, alias=Optional.of(version13_5_))], groupByItems=[], orderByItems=[], limit=Limit(offset=LimitValue(value=20, index=2, boundOpened=false), rowCount=LimitValue(value=10, index=3, boundOpened=false)), subQueryStatement=null, subQueryStatements=[], subQueryConditions=[])\\r\\n2019-01-10 17:04:51.327  INFO 95981 --- [           main] ShardingSphere-SQL                       : Actual SQL: main ::: select userpo0_.id as id1_5_, userpo0_.createTime as createTi2_5_, userpo0_.appCode as appCode3_5_, userpo0_.appName as appName4_5_, userpo0_.appVersion as appVersi5_5_, userpo0_.deviceMc as deviceMc6_5_, userpo0_.deviceToken as deviceTo7_5_, userpo0_.deviceTokenType as deviceTo8_5_, userpo0_.deviceType as deviceTy9_5_, userpo0_.modifyTime as modifyT10_5_, userpo0_.osVersion as osVersi11_5_, userpo0_.userId as userId12_5_, userpo0_.version as version13_5_ from push_user userpo0_ where (userpo0_.userId is null) and userpo0_.appName=? and userpo0_.modifyTime<? limit ?, ? ::: [[appcode_idxyer_android, 2019-01-10 17:04:51.325, 0, 30]]\\r\\n2019-01-10 17:04:51.343  INFO 95981 --- [           main] c.d.p.push.service.UserServiceTest       : pos2:[UserPo{userId=\\'13870325\\', appName=\\'appcode_idxyer_android\\', appCode=\\'4124c5f1-2029-4fda-b06f-a87ac5ad8d11\\', appVersion=\\'7.4\\', osVersion=\\'8.0.0\\', deviceType=\\'Android\\', deviceMc=\\'87c894be5f7b4c42a3927985a72018bf\\', deviceTokenType=\\'ANDROID\\', deviceToken=\\'Gj3Gfge3dCygO1uUq0V8qVMuqIdu+N758R+dd4M46Jg=\\', modifyTime=2018-02-06 16:29:42.0, version=0}, UserPo{userId=\\'13873758\\', appName=\\'appcode_idxyer_android\\', appCode=\\'4124c5f1-2029-4fda-b06f-a87ac5ad8d11\\', appVersion=\\'8.0\\', osVersion=\\'9\\', deviceType=\\'Google Pixel 2\\', deviceMc=\\'379326c5a69a42cd80989c2472a28ac5\\', deviceTokenType=\\'GETUI\\', deviceToken=\\'9c53678a8234a30e2fc625f9f13e3b3f\\', modifyTime=2018-11-27 13:17:14.0, version=2}, UserPo{userId=\\'13874733\\', appName=\\'appcode_idxyer_android\\', appCode=\\'4124c5f1-2029-4fda-b06f-a87ac5ad8d11\\', appVersion=\\'8.0\\', osVersion=\\'9\\', deviceType=\\'Google Pixel 2\\', deviceMc=\\'d5f32b5998cd4b208c69f117f6955470\\', deviceTokenType=\\'GETUI\\', deviceToken=\\'e277f89da8d2e622f6260cf328072625\\', modifyTime=2019-01-08 20:07:36.0, version=8}, UserPo{userId=\\'13874828\\', appName=\\'appcode_idxyer_android\\', appCode=\\'4124c5f1-2029-4fda-b06f-a87ac5ad8d11\\', appVersion=\\'8.0\\', osVersion=\\'9\\', deviceType=\\'Google Pixel 2\\', deviceMc=\\'37ba63ce0ba94b5ea7daa76a64a0affb\\', deviceTokenType=\\'GETUI\\', deviceToken=\\'20bb8e121d44843f74dc47046076b804\\', modifyTime=2019-01-09 13:35:34.0, version=3}, UserPo{userId=\\'13874848\\', appName=\\'appcode_idxyer_android\\', appCode=\\'4124c5f1-2029-4fda-b06f-a87ac5ad8d11\\', appVersion=\\'8.0\\', osVersion=\\'9\\', deviceType=\\'Google Pixel 2\\', deviceMc=\\'40e16380c87f44518bf3a53493969d41\\', deviceTokenType=\\'GETUI\\', deviceToken=\\'480e564536a70b5842d9d041d45909ab\\', modifyTime=2019-01-09 19:15:17.0, version=2}, UserPo{userId=\\'13871480\\', appName=\\'appcode_idxyer_android\\', appCode=\\'4124c5f1-2029-4fda-b06f-a87ac5ad8d11\\', appVersion=\\'8.0.3\\', osVersion=\\'6.0.1\\', deviceType=\\'HUAWEI ATH-AL00\\', deviceMc=\\'0000000040bb4e89dc87704f1e8dc50b\\', deviceTokenType=\\'ANDROID\\', deviceToken=\\'7mrI8oEJONd1rrTszdw50VdZYFfDNEN3L/gIWul+GtcMqaCFSl5+aGDZDTwf/B1S\\', modifyTime=2018-06-28 15:08:55.0, version=0}, UserPo{userId=\\'13871210\\', appName=\\'appcode_idxyer_android\\', appCode=\\'4124c5f1-2029-4fda-b06f-a87ac5ad8d11\\', appVersion=\\'8.0.0\\', osVersion=\\'8.0.0\\', deviceType=\\'HUAWEI DUK-AL20\\', deviceMc=\\'84f05e03749b4b54872fda60d3ff8c29\\', deviceTokenType=\\'ANDROID\\', deviceToken=\\'7RP7dly55jRaVZqKcJpsv4hUZtZUF9J3bIBQn3VkGUk=\\', modifyTime=2018-06-01 17:54:19.0, version=0}, UserPo{userId=\\'13869945\\', appName=\\'appcode_idxyer_android\\', appCode=\\'4124c5f1-2029-4fda-b06f-a87ac5ad8d11\\', appVersion=\\'7.4.2\\', osVersion=\\'4.4.2\\', deviceType=\\'HUAWEI G750-T01\\', deviceMc=\\'ffffffffb971f1cccf7a5bf70033c587\\', deviceTokenType=\\'ANDROID\\', deviceToken=\\'y5Etn5TKVUksjFg8urjiBHb11gy+kiVWbDCCgB3fSuA=~\\', modifyTime=2018-01-19 18:34:57.0, version=0}, UserPo{userId=\\'13870431\\', appName=\\'appcode_idxyer_android\\', appCode=\\'4124c5f1-2029-4fda-b06f-a87ac5ad8d11\\', appVersion=\\'7.7.3\\', osVersion=\\'4.4.2\\', deviceType=\\'HUAWEI G750-T01\\', deviceMc=\\'ffffffffb971f1cccf7a5bf70033c587\\', deviceTokenType=\\'ANDROID\\', deviceToken=\\'kfCT4MbWnJWZL4XUNLcV6OD/u9TbNoTIRaStPXEzTjQ=\\', modifyTime=2018-03-13 18:20:28.0, version=0}, UserPo{userId=\\'13871082\\', appName=\\'appcode_idxyer_android\\', appCode=\\'4124c5f1-2029-4fda-b06f-a87ac5ad8d11\\', appVersion=\\'7.7.6\\', osVersion=\\'6.0\\', deviceType=\\'HUAWEI GRA-CL00\\', deviceMc=\\'00000000337246391a93c1ae0033c587\\', deviceTokenType=\\'ANDROID\\', deviceToken=\\'H1/h8RhkYATVtPuqwduPzMfCAJwRP47h4YFxPhFmyRw=\\', modifyTime=2018-05-25 14:18:03.0, version=0}]\\r\\nHibernate: select userpo0_.id as id1_5_, userpo0_.createTime as createTi2_5_, userpo0_.appCode as appCode3_5_, userpo0_.appName as appName4_5_, userpo0_.appVersion as appVersi5_5_, userpo0_.deviceMc as deviceMc6_5_, userpo0_.deviceToken as deviceTo7_5_, userpo0_.deviceTokenType as deviceTo8_5_, userpo0_.deviceType as deviceTy9_5_, userpo0_.modifyTime as modifyT10_5_, userpo0_.osVersion as osVersi11_5_, userpo0_.userId as userId12_5_, userpo0_.version as version13_5_ from push_user userpo0_ where (userpo0_.userId is null) and userpo0_.appName=? and userpo0_.modifyTime<? limit ?, ?\\r\\n2019-01-10 17:04:51.346  INFO 95981 --- [           main] ShardingSphere-SQL                       : Rule Type: sharding\\r\\n2019-01-10 17:04:51.346  INFO 95981 --- [           main] ShardingSphere-SQL                       : Logic SQL: select userpo0_.id as id1_5_, userpo0_.createTime as createTi2_5_, userpo0_.appCode as appCode3_5_, userpo0_.appName as appName4_5_, userpo0_.appVersion as appVersi5_5_, userpo0_.deviceMc as deviceMc6_5_, userpo0_.deviceToken as deviceTo7_5_, userpo0_.deviceTokenType as deviceTo8_5_, userpo0_.deviceType as deviceTy9_5_, userpo0_.modifyTime as modifyT10_5_, userpo0_.osVersion as osVersi11_5_, userpo0_.userId as userId12_5_, userpo0_.version as version13_5_ from push_user userpo0_ where (userpo0_.userId is null) and userpo0_.appName=? and userpo0_.modifyTime<? limit ?, ?\\r\\n2019-01-10 17:04:51.346  INFO 95981 --- [           main] ShardingSphere-SQL                       : SQLStatement: SelectStatement(super=DQLStatement(super=io.shardingsphere.core.parsing.parser.sql.dql.select.SelectStatement@7da70124), containStar=false, firstSelectItemStartPosition=7, selectListLastPosition=460, groupByLastPosition=0, items=[CommonSelectItem(expression=userpo0_.id, alias=Optional.of(id1_5_)), CommonSelectItem(expression=userpo0_.createTime, alias=Optional.of(createTi2_5_)), CommonSelectItem(expression=userpo0_.appCode, alias=Optional.of(appCode3_5_)), CommonSelectItem(expression=userpo0_.appName, alias=Optional.of(appName4_5_)), CommonSelectItem(expression=userpo0_.appVersion, alias=Optional.of(appVersi5_5_)), CommonSelectItem(expression=userpo0_.deviceMc, alias=Optional.of(deviceMc6_5_)), CommonSelectItem(expression=userpo0_.deviceToken, alias=Optional.of(deviceTo7_5_)), CommonSelectItem(expression=userpo0_.deviceTokenType, alias=Optional.of(deviceTo8_5_)), CommonSelectItem(expression=userpo0_.deviceType, alias=Optional.of(deviceTy9_5_)), CommonSelectItem(expression=userpo0_.modifyTime, alias=Optional.of(modifyT10_5_)), CommonSelectItem(expression=userpo0_.osVersion, alias=Optional.of(osVersi11_5_)), CommonSelectItem(expression=userpo0_.userId, alias=Optional.of(userId12_5_)), CommonSelectItem(expression=userpo0_.version, alias=Optional.of(version13_5_))], groupByItems=[], orderByItems=[], limit=Limit(offset=LimitValue(value=30, index=2, boundOpened=false), rowCount=LimitValue(value=10, index=3, boundOpened=false)), subQueryStatement=null, subQueryStatements=[], subQueryConditions=[])\\r\\n2019-01-10 17:04:51.346  INFO 95981 --- [           main] ShardingSphere-SQL                       : Actual SQL: main ::: select userpo0_.id as id1_5_, userpo0_.createTime as createTi2_5_, userpo0_.appCode as appCode3_5_, userpo0_.appName as appName4_5_, userpo0_.appVersion as appVersi5_5_, userpo0_.deviceMc as deviceMc6_5_, userpo0_.deviceToken as deviceTo7_5_, userpo0_.deviceTokenType as deviceTo8_5_, userpo0_.deviceType as deviceTy9_5_, userpo0_.modifyTime as modifyT10_5_, userpo0_.osVersion as osVersi11_5_, userpo0_.userId as userId12_5_, userpo0_.version as version13_5_ from push_user userpo0_ where (userpo0_.userId is null) and userpo0_.appName=? and userpo0_.modifyTime<? limit ?, ? ::: [[appcode_idxyer_android, 2019-01-10 17:04:51.344, 0, 40]]\\r\\n2019-01-10 17:04:51.358  INFO 95981 --- [           main] c.d.p.push.service.UserServiceTest       : pos3:[UserPo{userId=\\'13870325\\', appName=\\'appcode_idxyer_android\\', appCode=\\'4124c5f1-2029-4fda-b06f-a87ac5ad8d11\\', appVersion=\\'7.4\\', osVersion=\\'8.0.0\\', deviceType=\\'Android\\', deviceMc=\\'87c894be5f7b4c42a3927985a72018bf\\', deviceTokenType=\\'ANDROID\\', deviceToken=\\'Gj3Gfge3dCygO1uUq0V8qVMuqIdu+N758R+dd4M46Jg=\\', modifyTime=2018-02-06 16:29:42.0, version=0}, UserPo{userId=\\'13873758\\', appName=\\'appcode_idxyer_android\\', appCode=\\'4124c5f1-2029-4fda-b06f-a87ac5ad8d11\\', appVersion=\\'8.0\\', osVersion=\\'9\\', deviceType=\\'Google Pixel 2\\', deviceMc=\\'379326c5a69a42cd80989c2472a28ac5\\', deviceTokenType=\\'GETUI\\', deviceToken=\\'9c53678a8234a30e2fc625f9f13e3b3f\\', modifyTime=2018-11-27 13:17:14.0, version=2}, UserPo{userId=\\'13874733\\', appName=\\'appcode_idxyer_android\\', appCode=\\'4124c5f1-2029-4fda-b06f-a87ac5ad8d11\\', appVersion=\\'8.0\\', osVersion=\\'9\\', deviceType=\\'Google Pixel 2\\', deviceMc=\\'d5f32b5998cd4b208c69f117f6955470\\', deviceTokenType=\\'GETUI\\', deviceToken=\\'e277f89da8d2e622f6260cf328072625\\', modifyTime=2019-01-08 20:07:36.0, version=8}, UserPo{userId=\\'13874828\\', appName=\\'appcode_idxyer_android\\', appCode=\\'4124c5f1-2029-4fda-b06f-a87ac5ad8d11\\', appVersion=\\'8.0\\', osVersion=\\'9\\', deviceType=\\'Google Pixel 2\\', deviceMc=\\'37ba63ce0ba94b5ea7daa76a64a0affb\\', deviceTokenType=\\'GETUI\\', deviceToken=\\'20bb8e121d44843f74dc47046076b804\\', modifyTime=2019-01-09 13:35:34.0, version=3}, UserPo{userId=\\'13874848\\', appName=\\'appcode_idxyer_android\\', appCode=\\'4124c5f1-2029-4fda-b06f-a87ac5ad8d11\\', appVersion=\\'8.0\\', osVersion=\\'9\\', deviceType=\\'Google Pixel 2\\', deviceMc=\\'40e16380c87f44518bf3a53493969d41\\', deviceTokenType=\\'GETUI\\', deviceToken=\\'480e564536a70b5842d9d041d45909ab\\', modifyTime=2019-01-09 19:15:17.0, version=2}, UserPo{userId=\\'13871480\\', appName=\\'appcode_idxyer_android\\', appCode=\\'4124c5f1-2029-4fda-b06f-a87ac5ad8d11\\', appVersion=\\'8.0.3\\', osVersion=\\'6.0.1\\', deviceType=\\'HUAWEI ATH-AL00\\', deviceMc=\\'0000000040bb4e89dc87704f1e8dc50b\\', deviceTokenType=\\'ANDROID\\', deviceToken=\\'7mrI8oEJONd1rrTszdw50VdZYFfDNEN3L/gIWul+GtcMqaCFSl5+aGDZDTwf/B1S\\', modifyTime=2018-06-28 15:08:55.0, version=0}, UserPo{userId=\\'13871210\\', appName=\\'appcode_idxyer_android\\', appCode=\\'4124c5f1-2029-4fda-b06f-a87ac5ad8d11\\', appVersion=\\'8.0.0\\', osVersion=\\'8.0.0\\', deviceType=\\'HUAWEI DUK-AL20\\', deviceMc=\\'84f05e03749b4b54872fda60d3ff8c29\\', deviceTokenType=\\'ANDROID\\', deviceToken=\\'7RP7dly55jRaVZqKcJpsv4hUZtZUF9J3bIBQn3VkGUk=\\', modifyTime=2018-06-01 17:54:19.0, version=0}, UserPo{userId=\\'13869945\\', appName=\\'appcode_idxyer_android\\', appCode=\\'4124c5f1-2029-4fda-b06f-a87ac5ad8d11\\', appVersion=\\'7.4.2\\', osVersion=\\'4.4.2\\', deviceType=\\'HUAWEI G750-T01\\', deviceMc=\\'ffffffffb971f1cccf7a5bf70033c587\\', deviceTokenType=\\'ANDROID\\', deviceToken=\\'y5Etn5TKVUksjFg8urjiBHb11gy+kiVWbDCCgB3fSuA=~\\', modifyTime=2018-01-19 18:34:57.0, version=0}, UserPo{userId=\\'13870431\\', appName=\\'appcode_idxyer_android\\', appCode=\\'4124c5f1-2029-4fda-b06f-a87ac5ad8d11\\', appVersion=\\'7.7.3\\', osVersion=\\'4.4.2\\', deviceType=\\'HUAWEI G750-T01\\', deviceMc=\\'ffffffffb971f1cccf7a5bf70033c587\\', deviceTokenType=\\'ANDROID\\', deviceToken=\\'kfCT4MbWnJWZL4XUNLcV6OD/u9TbNoTIRaStPXEzTjQ=\\', modifyTime=2018-03-13 18:20:28.0, version=0}, UserPo{userId=\\'13871082\\', appName=\\'appcode_idxyer_android\\', appCode=\\'4124c5f1-2029-4fda-b06f-a87ac5ad8d11\\', appVersion=\\'7.7.6\\', osVersion=\\'6.0\\', deviceType=\\'HUAWEI GRA-CL00\\', deviceMc=\\'00000000337246391a93c1ae0033c587\\', deviceTokenType=\\'ANDROID\\', deviceToken=\\'H1/h8RhkYATVtPuqwduPzMfCAJwRP47h4YFxPhFmyRw=\\', modifyTime=2018-05-25 14:18:03.0, version=0}]\\r\\n```\\r\\n\\r\\nnow look this log,limit is not same ,but data is same.\\r\\nexpect：output of other page data.\\r\\n'"
            ],
            "application/vnd.google.colaboratory.intrinsic+json": {
              "type": "string"
            }
          },
          "metadata": {},
          "execution_count": 27
        }
      ]
    },
    {
      "cell_type": "code",
      "source": [
        "print(test_sample.loc[1313,'original_issue_body'])"
      ],
      "metadata": {
        "colab": {
          "base_uri": "https://localhost:8080/"
        },
        "id": "pwt6TfNS2k80",
        "outputId": "27c20422-bfda-4ebb-bff5-8da06abddc0d"
      },
      "execution_count": 28,
      "outputs": [
        {
          "output_type": "stream",
          "name": "stdout",
          "text": [
            "version：4.0.0.M1-SNAPSHOT\r\n",
            "branch：dev \r\n",
            "orm: spring jpa\r\n",
            "\r\n",
            "not sharding table use default datasource，but  page data is the same，for the following limit:\r\n",
            "```\r\n",
            "limit 1,10\r\n",
            "limit 2,10\r\n",
            "limt 3,10\r\n",
            "```\r\n",
            "\r\n",
            "java code\r\n",
            "```\r\n",
            "//junit test java code \r\n",
            "        Pageable pageable1 = new PageRequest(1,10);\r\n",
            "        List<UserPo> pos1 = userRepository.getWithoutUserIdListBy(\"appcode_idxyer_android\", new Date(),pageable1);\r\n",
            "        log.info(\"pos1:{}\",pos1.toString());\r\n",
            "\r\n",
            "        Pageable pageable2 = new PageRequest(2,10);\r\n",
            "        List<UserPo> pos2 = userRepository.getWithoutUserIdListBy(\"appcode_idxyer_android\", new Date(),pageable2);\r\n",
            "        log.info(\"pos2:{}\",pos2.toString());\r\n",
            "\r\n",
            "        Pageable pageable3 = new PageRequest(3,10);\r\n",
            "        List<UserPo> pos3 = userRepository.getWithoutUserIdListBy(\"appcode_idxyer_android\", new Date(),pageable3);\r\n",
            "        log.info(\"pos3:{}\",pos3.toString());\r\n",
            "\r\n",
            "//orm code\r\n",
            "  @Query(\"SELECT u FROM UserPo u WHERE u.userId is NULL and u.appName = ?1 and u.modifyTime < ?2\")\r\n",
            "  List<UserPo> getWithoutUserIdListBy(String appName, Date date, Pageable pageable);\r\n",
            "\r\n",
            "```\r\n",
            "\r\n",
            "output log\r\n",
            "```\r\n",
            "\r\n",
            "2019-01-10 17:04:51.158  INFO 95981 --- [           main] ShardingSphere-SQL                       : Rule Type: sharding\r\n",
            "2019-01-10 17:04:51.158  INFO 95981 --- [           main] ShardingSphere-SQL                       : Logic SQL: select userpo0_.id as id1_5_, userpo0_.createTime as createTi2_5_, userpo0_.appCode as appCode3_5_, userpo0_.appName as appName4_5_, userpo0_.appVersion as appVersi5_5_, userpo0_.deviceMc as deviceMc6_5_, userpo0_.deviceToken as deviceTo7_5_, userpo0_.deviceTokenType as deviceTo8_5_, userpo0_.deviceType as deviceTy9_5_, userpo0_.modifyTime as modifyT10_5_, userpo0_.osVersion as osVersi11_5_, userpo0_.userId as userId12_5_, userpo0_.version as version13_5_ from push_user userpo0_ where (userpo0_.userId is null) and userpo0_.appName=? and userpo0_.modifyTime<? limit ?, ?\r\n",
            "2019-01-10 17:04:51.158  INFO 95981 --- [           main] ShardingSphere-SQL                       : SQLStatement: SelectStatement(super=DQLStatement(super=io.shardingsphere.core.parsing.parser.sql.dql.select.SelectStatement@7da70124), containStar=false, firstSelectItemStartPosition=7, selectListLastPosition=460, groupByLastPosition=0, items=[CommonSelectItem(expression=userpo0_.id, alias=Optional.of(id1_5_)), CommonSelectItem(expression=userpo0_.createTime, alias=Optional.of(createTi2_5_)), CommonSelectItem(expression=userpo0_.appCode, alias=Optional.of(appCode3_5_)), CommonSelectItem(expression=userpo0_.appName, alias=Optional.of(appName4_5_)), CommonSelectItem(expression=userpo0_.appVersion, alias=Optional.of(appVersi5_5_)), CommonSelectItem(expression=userpo0_.deviceMc, alias=Optional.of(deviceMc6_5_)), CommonSelectItem(expression=userpo0_.deviceToken, alias=Optional.of(deviceTo7_5_)), CommonSelectItem(expression=userpo0_.deviceTokenType, alias=Optional.of(deviceTo8_5_)), CommonSelectItem(expression=userpo0_.deviceType, alias=Optional.of(deviceTy9_5_)), CommonSelectItem(expression=userpo0_.modifyTime, alias=Optional.of(modifyT10_5_)), CommonSelectItem(expression=userpo0_.osVersion, alias=Optional.of(osVersi11_5_)), CommonSelectItem(expression=userpo0_.userId, alias=Optional.of(userId12_5_)), CommonSelectItem(expression=userpo0_.version, alias=Optional.of(version13_5_))], groupByItems=[], orderByItems=[], limit=Limit(offset=LimitValue(value=10, index=2, boundOpened=false), rowCount=LimitValue(value=10, index=3, boundOpened=false)), subQueryStatement=null, subQueryStatements=[], subQueryConditions=[])\r\n",
            "2019-01-10 17:04:51.159  INFO 95981 --- [           main] ShardingSphere-SQL                       : Actual SQL: main ::: select userpo0_.id as id1_5_, userpo0_.createTime as createTi2_5_, userpo0_.appCode as appCode3_5_, userpo0_.appName as appName4_5_, userpo0_.appVersion as appVersi5_5_, userpo0_.deviceMc as deviceMc6_5_, userpo0_.deviceToken as deviceTo7_5_, userpo0_.deviceTokenType as deviceTo8_5_, userpo0_.deviceType as deviceTy9_5_, userpo0_.modifyTime as modifyT10_5_, userpo0_.osVersion as osVersi11_5_, userpo0_.userId as userId12_5_, userpo0_.version as version13_5_ from push_user userpo0_ where (userpo0_.userId is null) and userpo0_.appName=? and userpo0_.modifyTime<? limit ?, ? ::: [[appcode_idxyer_android, 2019-01-10 17:04:49.417, 0, 20]]\r\n",
            "2019-01-10 17:04:51.324  INFO 95981 --- [           main] c.d.p.push.service.UserServiceTest       : pos1:[UserPo{userId='13870325', appName='appcode_idxyer_android', appCode='4124c5f1-2029-4fda-b06f-a87ac5ad8d11', appVersion='7.4', osVersion='8.0.0', deviceType='Android', deviceMc='87c894be5f7b4c42a3927985a72018bf', deviceTokenType='ANDROID', deviceToken='Gj3Gfge3dCygO1uUq0V8qVMuqIdu+N758R+dd4M46Jg=', modifyTime=2018-02-06 16:29:42.0, version=0}, UserPo{userId='13873758', appName='appcode_idxyer_android', appCode='4124c5f1-2029-4fda-b06f-a87ac5ad8d11', appVersion='8.0', osVersion='9', deviceType='Google Pixel 2', deviceMc='379326c5a69a42cd80989c2472a28ac5', deviceTokenType='GETUI', deviceToken='9c53678a8234a30e2fc625f9f13e3b3f', modifyTime=2018-11-27 13:17:14.0, version=2}, UserPo{userId='13874733', appName='appcode_idxyer_android', appCode='4124c5f1-2029-4fda-b06f-a87ac5ad8d11', appVersion='8.0', osVersion='9', deviceType='Google Pixel 2', deviceMc='d5f32b5998cd4b208c69f117f6955470', deviceTokenType='GETUI', deviceToken='e277f89da8d2e622f6260cf328072625', modifyTime=2019-01-08 20:07:36.0, version=8}, UserPo{userId='13874828', appName='appcode_idxyer_android', appCode='4124c5f1-2029-4fda-b06f-a87ac5ad8d11', appVersion='8.0', osVersion='9', deviceType='Google Pixel 2', deviceMc='37ba63ce0ba94b5ea7daa76a64a0affb', deviceTokenType='GETUI', deviceToken='20bb8e121d44843f74dc47046076b804', modifyTime=2019-01-09 13:35:34.0, version=3}, UserPo{userId='13874848', appName='appcode_idxyer_android', appCode='4124c5f1-2029-4fda-b06f-a87ac5ad8d11', appVersion='8.0', osVersion='9', deviceType='Google Pixel 2', deviceMc='40e16380c87f44518bf3a53493969d41', deviceTokenType='GETUI', deviceToken='480e564536a70b5842d9d041d45909ab', modifyTime=2019-01-09 19:15:17.0, version=2}, UserPo{userId='13871480', appName='appcode_idxyer_android', appCode='4124c5f1-2029-4fda-b06f-a87ac5ad8d11', appVersion='8.0.3', osVersion='6.0.1', deviceType='HUAWEI ATH-AL00', deviceMc='0000000040bb4e89dc87704f1e8dc50b', deviceTokenType='ANDROID', deviceToken='7mrI8oEJONd1rrTszdw50VdZYFfDNEN3L/gIWul+GtcMqaCFSl5+aGDZDTwf/B1S', modifyTime=2018-06-28 15:08:55.0, version=0}, UserPo{userId='13871210', appName='appcode_idxyer_android', appCode='4124c5f1-2029-4fda-b06f-a87ac5ad8d11', appVersion='8.0.0', osVersion='8.0.0', deviceType='HUAWEI DUK-AL20', deviceMc='84f05e03749b4b54872fda60d3ff8c29', deviceTokenType='ANDROID', deviceToken='7RP7dly55jRaVZqKcJpsv4hUZtZUF9J3bIBQn3VkGUk=', modifyTime=2018-06-01 17:54:19.0, version=0}, UserPo{userId='13869945', appName='appcode_idxyer_android', appCode='4124c5f1-2029-4fda-b06f-a87ac5ad8d11', appVersion='7.4.2', osVersion='4.4.2', deviceType='HUAWEI G750-T01', deviceMc='ffffffffb971f1cccf7a5bf70033c587', deviceTokenType='ANDROID', deviceToken='y5Etn5TKVUksjFg8urjiBHb11gy+kiVWbDCCgB3fSuA=~', modifyTime=2018-01-19 18:34:57.0, version=0}, UserPo{userId='13870431', appName='appcode_idxyer_android', appCode='4124c5f1-2029-4fda-b06f-a87ac5ad8d11', appVersion='7.7.3', osVersion='4.4.2', deviceType='HUAWEI G750-T01', deviceMc='ffffffffb971f1cccf7a5bf70033c587', deviceTokenType='ANDROID', deviceToken='kfCT4MbWnJWZL4XUNLcV6OD/u9TbNoTIRaStPXEzTjQ=', modifyTime=2018-03-13 18:20:28.0, version=0}, UserPo{userId='13871082', appName='appcode_idxyer_android', appCode='4124c5f1-2029-4fda-b06f-a87ac5ad8d11', appVersion='7.7.6', osVersion='6.0', deviceType='HUAWEI GRA-CL00', deviceMc='00000000337246391a93c1ae0033c587', deviceTokenType='ANDROID', deviceToken='H1/h8RhkYATVtPuqwduPzMfCAJwRP47h4YFxPhFmyRw=', modifyTime=2018-05-25 14:18:03.0, version=0}]\r\n",
            "Hibernate: select userpo0_.id as id1_5_, userpo0_.createTime as createTi2_5_, userpo0_.appCode as appCode3_5_, userpo0_.appName as appName4_5_, userpo0_.appVersion as appVersi5_5_, userpo0_.deviceMc as deviceMc6_5_, userpo0_.deviceToken as deviceTo7_5_, userpo0_.deviceTokenType as deviceTo8_5_, userpo0_.deviceType as deviceTy9_5_, userpo0_.modifyTime as modifyT10_5_, userpo0_.osVersion as osVersi11_5_, userpo0_.userId as userId12_5_, userpo0_.version as version13_5_ from push_user userpo0_ where (userpo0_.userId is null) and userpo0_.appName=? and userpo0_.modifyTime<? limit ?, ?\r\n",
            "2019-01-10 17:04:51.327  INFO 95981 --- [           main] ShardingSphere-SQL                       : Rule Type: sharding\r\n",
            "2019-01-10 17:04:51.327  INFO 95981 --- [           main] ShardingSphere-SQL                       : Logic SQL: select userpo0_.id as id1_5_, userpo0_.createTime as createTi2_5_, userpo0_.appCode as appCode3_5_, userpo0_.appName as appName4_5_, userpo0_.appVersion as appVersi5_5_, userpo0_.deviceMc as deviceMc6_5_, userpo0_.deviceToken as deviceTo7_5_, userpo0_.deviceTokenType as deviceTo8_5_, userpo0_.deviceType as deviceTy9_5_, userpo0_.modifyTime as modifyT10_5_, userpo0_.osVersion as osVersi11_5_, userpo0_.userId as userId12_5_, userpo0_.version as version13_5_ from push_user userpo0_ where (userpo0_.userId is null) and userpo0_.appName=? and userpo0_.modifyTime<? limit ?, ?\r\n",
            "2019-01-10 17:04:51.327  INFO 95981 --- [           main] ShardingSphere-SQL                       : SQLStatement: SelectStatement(super=DQLStatement(super=io.shardingsphere.core.parsing.parser.sql.dql.select.SelectStatement@7da70124), containStar=false, firstSelectItemStartPosition=7, selectListLastPosition=460, groupByLastPosition=0, items=[CommonSelectItem(expression=userpo0_.id, alias=Optional.of(id1_5_)), CommonSelectItem(expression=userpo0_.createTime, alias=Optional.of(createTi2_5_)), CommonSelectItem(expression=userpo0_.appCode, alias=Optional.of(appCode3_5_)), CommonSelectItem(expression=userpo0_.appName, alias=Optional.of(appName4_5_)), CommonSelectItem(expression=userpo0_.appVersion, alias=Optional.of(appVersi5_5_)), CommonSelectItem(expression=userpo0_.deviceMc, alias=Optional.of(deviceMc6_5_)), CommonSelectItem(expression=userpo0_.deviceToken, alias=Optional.of(deviceTo7_5_)), CommonSelectItem(expression=userpo0_.deviceTokenType, alias=Optional.of(deviceTo8_5_)), CommonSelectItem(expression=userpo0_.deviceType, alias=Optional.of(deviceTy9_5_)), CommonSelectItem(expression=userpo0_.modifyTime, alias=Optional.of(modifyT10_5_)), CommonSelectItem(expression=userpo0_.osVersion, alias=Optional.of(osVersi11_5_)), CommonSelectItem(expression=userpo0_.userId, alias=Optional.of(userId12_5_)), CommonSelectItem(expression=userpo0_.version, alias=Optional.of(version13_5_))], groupByItems=[], orderByItems=[], limit=Limit(offset=LimitValue(value=20, index=2, boundOpened=false), rowCount=LimitValue(value=10, index=3, boundOpened=false)), subQueryStatement=null, subQueryStatements=[], subQueryConditions=[])\r\n",
            "2019-01-10 17:04:51.327  INFO 95981 --- [           main] ShardingSphere-SQL                       : Actual SQL: main ::: select userpo0_.id as id1_5_, userpo0_.createTime as createTi2_5_, userpo0_.appCode as appCode3_5_, userpo0_.appName as appName4_5_, userpo0_.appVersion as appVersi5_5_, userpo0_.deviceMc as deviceMc6_5_, userpo0_.deviceToken as deviceTo7_5_, userpo0_.deviceTokenType as deviceTo8_5_, userpo0_.deviceType as deviceTy9_5_, userpo0_.modifyTime as modifyT10_5_, userpo0_.osVersion as osVersi11_5_, userpo0_.userId as userId12_5_, userpo0_.version as version13_5_ from push_user userpo0_ where (userpo0_.userId is null) and userpo0_.appName=? and userpo0_.modifyTime<? limit ?, ? ::: [[appcode_idxyer_android, 2019-01-10 17:04:51.325, 0, 30]]\r\n",
            "2019-01-10 17:04:51.343  INFO 95981 --- [           main] c.d.p.push.service.UserServiceTest       : pos2:[UserPo{userId='13870325', appName='appcode_idxyer_android', appCode='4124c5f1-2029-4fda-b06f-a87ac5ad8d11', appVersion='7.4', osVersion='8.0.0', deviceType='Android', deviceMc='87c894be5f7b4c42a3927985a72018bf', deviceTokenType='ANDROID', deviceToken='Gj3Gfge3dCygO1uUq0V8qVMuqIdu+N758R+dd4M46Jg=', modifyTime=2018-02-06 16:29:42.0, version=0}, UserPo{userId='13873758', appName='appcode_idxyer_android', appCode='4124c5f1-2029-4fda-b06f-a87ac5ad8d11', appVersion='8.0', osVersion='9', deviceType='Google Pixel 2', deviceMc='379326c5a69a42cd80989c2472a28ac5', deviceTokenType='GETUI', deviceToken='9c53678a8234a30e2fc625f9f13e3b3f', modifyTime=2018-11-27 13:17:14.0, version=2}, UserPo{userId='13874733', appName='appcode_idxyer_android', appCode='4124c5f1-2029-4fda-b06f-a87ac5ad8d11', appVersion='8.0', osVersion='9', deviceType='Google Pixel 2', deviceMc='d5f32b5998cd4b208c69f117f6955470', deviceTokenType='GETUI', deviceToken='e277f89da8d2e622f6260cf328072625', modifyTime=2019-01-08 20:07:36.0, version=8}, UserPo{userId='13874828', appName='appcode_idxyer_android', appCode='4124c5f1-2029-4fda-b06f-a87ac5ad8d11', appVersion='8.0', osVersion='9', deviceType='Google Pixel 2', deviceMc='37ba63ce0ba94b5ea7daa76a64a0affb', deviceTokenType='GETUI', deviceToken='20bb8e121d44843f74dc47046076b804', modifyTime=2019-01-09 13:35:34.0, version=3}, UserPo{userId='13874848', appName='appcode_idxyer_android', appCode='4124c5f1-2029-4fda-b06f-a87ac5ad8d11', appVersion='8.0', osVersion='9', deviceType='Google Pixel 2', deviceMc='40e16380c87f44518bf3a53493969d41', deviceTokenType='GETUI', deviceToken='480e564536a70b5842d9d041d45909ab', modifyTime=2019-01-09 19:15:17.0, version=2}, UserPo{userId='13871480', appName='appcode_idxyer_android', appCode='4124c5f1-2029-4fda-b06f-a87ac5ad8d11', appVersion='8.0.3', osVersion='6.0.1', deviceType='HUAWEI ATH-AL00', deviceMc='0000000040bb4e89dc87704f1e8dc50b', deviceTokenType='ANDROID', deviceToken='7mrI8oEJONd1rrTszdw50VdZYFfDNEN3L/gIWul+GtcMqaCFSl5+aGDZDTwf/B1S', modifyTime=2018-06-28 15:08:55.0, version=0}, UserPo{userId='13871210', appName='appcode_idxyer_android', appCode='4124c5f1-2029-4fda-b06f-a87ac5ad8d11', appVersion='8.0.0', osVersion='8.0.0', deviceType='HUAWEI DUK-AL20', deviceMc='84f05e03749b4b54872fda60d3ff8c29', deviceTokenType='ANDROID', deviceToken='7RP7dly55jRaVZqKcJpsv4hUZtZUF9J3bIBQn3VkGUk=', modifyTime=2018-06-01 17:54:19.0, version=0}, UserPo{userId='13869945', appName='appcode_idxyer_android', appCode='4124c5f1-2029-4fda-b06f-a87ac5ad8d11', appVersion='7.4.2', osVersion='4.4.2', deviceType='HUAWEI G750-T01', deviceMc='ffffffffb971f1cccf7a5bf70033c587', deviceTokenType='ANDROID', deviceToken='y5Etn5TKVUksjFg8urjiBHb11gy+kiVWbDCCgB3fSuA=~', modifyTime=2018-01-19 18:34:57.0, version=0}, UserPo{userId='13870431', appName='appcode_idxyer_android', appCode='4124c5f1-2029-4fda-b06f-a87ac5ad8d11', appVersion='7.7.3', osVersion='4.4.2', deviceType='HUAWEI G750-T01', deviceMc='ffffffffb971f1cccf7a5bf70033c587', deviceTokenType='ANDROID', deviceToken='kfCT4MbWnJWZL4XUNLcV6OD/u9TbNoTIRaStPXEzTjQ=', modifyTime=2018-03-13 18:20:28.0, version=0}, UserPo{userId='13871082', appName='appcode_idxyer_android', appCode='4124c5f1-2029-4fda-b06f-a87ac5ad8d11', appVersion='7.7.6', osVersion='6.0', deviceType='HUAWEI GRA-CL00', deviceMc='00000000337246391a93c1ae0033c587', deviceTokenType='ANDROID', deviceToken='H1/h8RhkYATVtPuqwduPzMfCAJwRP47h4YFxPhFmyRw=', modifyTime=2018-05-25 14:18:03.0, version=0}]\r\n",
            "Hibernate: select userpo0_.id as id1_5_, userpo0_.createTime as createTi2_5_, userpo0_.appCode as appCode3_5_, userpo0_.appName as appName4_5_, userpo0_.appVersion as appVersi5_5_, userpo0_.deviceMc as deviceMc6_5_, userpo0_.deviceToken as deviceTo7_5_, userpo0_.deviceTokenType as deviceTo8_5_, userpo0_.deviceType as deviceTy9_5_, userpo0_.modifyTime as modifyT10_5_, userpo0_.osVersion as osVersi11_5_, userpo0_.userId as userId12_5_, userpo0_.version as version13_5_ from push_user userpo0_ where (userpo0_.userId is null) and userpo0_.appName=? and userpo0_.modifyTime<? limit ?, ?\r\n",
            "2019-01-10 17:04:51.346  INFO 95981 --- [           main] ShardingSphere-SQL                       : Rule Type: sharding\r\n",
            "2019-01-10 17:04:51.346  INFO 95981 --- [           main] ShardingSphere-SQL                       : Logic SQL: select userpo0_.id as id1_5_, userpo0_.createTime as createTi2_5_, userpo0_.appCode as appCode3_5_, userpo0_.appName as appName4_5_, userpo0_.appVersion as appVersi5_5_, userpo0_.deviceMc as deviceMc6_5_, userpo0_.deviceToken as deviceTo7_5_, userpo0_.deviceTokenType as deviceTo8_5_, userpo0_.deviceType as deviceTy9_5_, userpo0_.modifyTime as modifyT10_5_, userpo0_.osVersion as osVersi11_5_, userpo0_.userId as userId12_5_, userpo0_.version as version13_5_ from push_user userpo0_ where (userpo0_.userId is null) and userpo0_.appName=? and userpo0_.modifyTime<? limit ?, ?\r\n",
            "2019-01-10 17:04:51.346  INFO 95981 --- [           main] ShardingSphere-SQL                       : SQLStatement: SelectStatement(super=DQLStatement(super=io.shardingsphere.core.parsing.parser.sql.dql.select.SelectStatement@7da70124), containStar=false, firstSelectItemStartPosition=7, selectListLastPosition=460, groupByLastPosition=0, items=[CommonSelectItem(expression=userpo0_.id, alias=Optional.of(id1_5_)), CommonSelectItem(expression=userpo0_.createTime, alias=Optional.of(createTi2_5_)), CommonSelectItem(expression=userpo0_.appCode, alias=Optional.of(appCode3_5_)), CommonSelectItem(expression=userpo0_.appName, alias=Optional.of(appName4_5_)), CommonSelectItem(expression=userpo0_.appVersion, alias=Optional.of(appVersi5_5_)), CommonSelectItem(expression=userpo0_.deviceMc, alias=Optional.of(deviceMc6_5_)), CommonSelectItem(expression=userpo0_.deviceToken, alias=Optional.of(deviceTo7_5_)), CommonSelectItem(expression=userpo0_.deviceTokenType, alias=Optional.of(deviceTo8_5_)), CommonSelectItem(expression=userpo0_.deviceType, alias=Optional.of(deviceTy9_5_)), CommonSelectItem(expression=userpo0_.modifyTime, alias=Optional.of(modifyT10_5_)), CommonSelectItem(expression=userpo0_.osVersion, alias=Optional.of(osVersi11_5_)), CommonSelectItem(expression=userpo0_.userId, alias=Optional.of(userId12_5_)), CommonSelectItem(expression=userpo0_.version, alias=Optional.of(version13_5_))], groupByItems=[], orderByItems=[], limit=Limit(offset=LimitValue(value=30, index=2, boundOpened=false), rowCount=LimitValue(value=10, index=3, boundOpened=false)), subQueryStatement=null, subQueryStatements=[], subQueryConditions=[])\r\n",
            "2019-01-10 17:04:51.346  INFO 95981 --- [           main] ShardingSphere-SQL                       : Actual SQL: main ::: select userpo0_.id as id1_5_, userpo0_.createTime as createTi2_5_, userpo0_.appCode as appCode3_5_, userpo0_.appName as appName4_5_, userpo0_.appVersion as appVersi5_5_, userpo0_.deviceMc as deviceMc6_5_, userpo0_.deviceToken as deviceTo7_5_, userpo0_.deviceTokenType as deviceTo8_5_, userpo0_.deviceType as deviceTy9_5_, userpo0_.modifyTime as modifyT10_5_, userpo0_.osVersion as osVersi11_5_, userpo0_.userId as userId12_5_, userpo0_.version as version13_5_ from push_user userpo0_ where (userpo0_.userId is null) and userpo0_.appName=? and userpo0_.modifyTime<? limit ?, ? ::: [[appcode_idxyer_android, 2019-01-10 17:04:51.344, 0, 40]]\r\n",
            "2019-01-10 17:04:51.358  INFO 95981 --- [           main] c.d.p.push.service.UserServiceTest       : pos3:[UserPo{userId='13870325', appName='appcode_idxyer_android', appCode='4124c5f1-2029-4fda-b06f-a87ac5ad8d11', appVersion='7.4', osVersion='8.0.0', deviceType='Android', deviceMc='87c894be5f7b4c42a3927985a72018bf', deviceTokenType='ANDROID', deviceToken='Gj3Gfge3dCygO1uUq0V8qVMuqIdu+N758R+dd4M46Jg=', modifyTime=2018-02-06 16:29:42.0, version=0}, UserPo{userId='13873758', appName='appcode_idxyer_android', appCode='4124c5f1-2029-4fda-b06f-a87ac5ad8d11', appVersion='8.0', osVersion='9', deviceType='Google Pixel 2', deviceMc='379326c5a69a42cd80989c2472a28ac5', deviceTokenType='GETUI', deviceToken='9c53678a8234a30e2fc625f9f13e3b3f', modifyTime=2018-11-27 13:17:14.0, version=2}, UserPo{userId='13874733', appName='appcode_idxyer_android', appCode='4124c5f1-2029-4fda-b06f-a87ac5ad8d11', appVersion='8.0', osVersion='9', deviceType='Google Pixel 2', deviceMc='d5f32b5998cd4b208c69f117f6955470', deviceTokenType='GETUI', deviceToken='e277f89da8d2e622f6260cf328072625', modifyTime=2019-01-08 20:07:36.0, version=8}, UserPo{userId='13874828', appName='appcode_idxyer_android', appCode='4124c5f1-2029-4fda-b06f-a87ac5ad8d11', appVersion='8.0', osVersion='9', deviceType='Google Pixel 2', deviceMc='37ba63ce0ba94b5ea7daa76a64a0affb', deviceTokenType='GETUI', deviceToken='20bb8e121d44843f74dc47046076b804', modifyTime=2019-01-09 13:35:34.0, version=3}, UserPo{userId='13874848', appName='appcode_idxyer_android', appCode='4124c5f1-2029-4fda-b06f-a87ac5ad8d11', appVersion='8.0', osVersion='9', deviceType='Google Pixel 2', deviceMc='40e16380c87f44518bf3a53493969d41', deviceTokenType='GETUI', deviceToken='480e564536a70b5842d9d041d45909ab', modifyTime=2019-01-09 19:15:17.0, version=2}, UserPo{userId='13871480', appName='appcode_idxyer_android', appCode='4124c5f1-2029-4fda-b06f-a87ac5ad8d11', appVersion='8.0.3', osVersion='6.0.1', deviceType='HUAWEI ATH-AL00', deviceMc='0000000040bb4e89dc87704f1e8dc50b', deviceTokenType='ANDROID', deviceToken='7mrI8oEJONd1rrTszdw50VdZYFfDNEN3L/gIWul+GtcMqaCFSl5+aGDZDTwf/B1S', modifyTime=2018-06-28 15:08:55.0, version=0}, UserPo{userId='13871210', appName='appcode_idxyer_android', appCode='4124c5f1-2029-4fda-b06f-a87ac5ad8d11', appVersion='8.0.0', osVersion='8.0.0', deviceType='HUAWEI DUK-AL20', deviceMc='84f05e03749b4b54872fda60d3ff8c29', deviceTokenType='ANDROID', deviceToken='7RP7dly55jRaVZqKcJpsv4hUZtZUF9J3bIBQn3VkGUk=', modifyTime=2018-06-01 17:54:19.0, version=0}, UserPo{userId='13869945', appName='appcode_idxyer_android', appCode='4124c5f1-2029-4fda-b06f-a87ac5ad8d11', appVersion='7.4.2', osVersion='4.4.2', deviceType='HUAWEI G750-T01', deviceMc='ffffffffb971f1cccf7a5bf70033c587', deviceTokenType='ANDROID', deviceToken='y5Etn5TKVUksjFg8urjiBHb11gy+kiVWbDCCgB3fSuA=~', modifyTime=2018-01-19 18:34:57.0, version=0}, UserPo{userId='13870431', appName='appcode_idxyer_android', appCode='4124c5f1-2029-4fda-b06f-a87ac5ad8d11', appVersion='7.7.3', osVersion='4.4.2', deviceType='HUAWEI G750-T01', deviceMc='ffffffffb971f1cccf7a5bf70033c587', deviceTokenType='ANDROID', deviceToken='kfCT4MbWnJWZL4XUNLcV6OD/u9TbNoTIRaStPXEzTjQ=', modifyTime=2018-03-13 18:20:28.0, version=0}, UserPo{userId='13871082', appName='appcode_idxyer_android', appCode='4124c5f1-2029-4fda-b06f-a87ac5ad8d11', appVersion='7.7.6', osVersion='6.0', deviceType='HUAWEI GRA-CL00', deviceMc='00000000337246391a93c1ae0033c587', deviceTokenType='ANDROID', deviceToken='H1/h8RhkYATVtPuqwduPzMfCAJwRP47h4YFxPhFmyRw=', modifyTime=2018-05-25 14:18:03.0, version=0}]\r\n",
            "```\r\n",
            "\r\n",
            "now look this log,limit is not same ,but data is same.\r\n",
            "expect：output of other page data.\r\n",
            "\n"
          ]
        }
      ]
    },
    {
      "cell_type": "code",
      "source": [
        "test_sample.loc[1313,'llama3_70b_body_summary_check'] = 'seems to be the model provided recommendations'"
      ],
      "metadata": {
        "id": "SN13Cf5z2I3p"
      },
      "execution_count": 29,
      "outputs": []
    },
    {
      "cell_type": "code",
      "source": [
        "test_sample.loc[1323,'llama3_70b_body_summary']"
      ],
      "metadata": {
        "colab": {
          "base_uri": "https://localhost:8080/",
          "height": 188
        },
        "id": "SXiW00Nh3Jrg",
        "outputId": "ffabf183-a4d3-4c31-967f-9f447959c049"
      },
      "execution_count": 30,
      "outputs": [
        {
          "output_type": "execute_result",
          "data": {
            "text/plain": [
              "\"It seems like you're experiencing issues with the SkyWalking agent, , specifically with the `ProtectiveShieldMatcher` and `InstanceMethodsAroundInterceptor` classes.\\n\\nTo summarize, you've tried to debug the issue and found that:\\n\\n1. The `AgentClassLoader` is not loading the `skywalking-agent.jar` package.\\n2. When you manually add the `skywalking-agent.jar` to the `agent/plugin/` directory, the `InstanceMethodsAroundInterceptor` class is loaded, but throws a `CastException`.\\n\\nYou're looking for help or suggestions on how to resolve this issue.\\n\\nCan you please provide more information about your environment, such as:\\n\\n* SkyWalking agent version\\n* Java version\\n* Application server/container (e.g. Tomcat, Jetty, etc.)\\n* Any custom configurations or plugins used with the SkyWalking agent\\n\\nThis will help me better understand the context and provide more accurate guidance.\""
            ],
            "application/vnd.google.colaboratory.intrinsic+json": {
              "type": "string"
            }
          },
          "metadata": {},
          "execution_count": 30
        }
      ]
    },
    {
      "cell_type": "code",
      "source": [
        "test_sample.loc[1323,'llama3_70b_body_summary_corrected'] = \"To summarize, you've tried to debug the issue and found that:\\n\\n1. The `AgentClassLoader` is not loading the `skywalking-agent.jar` package.\\n2. When you manually add the `skywalking-agent.jar` to the `agent/plugin/` directory, the `InstanceMethodsAroundInterceptor` class is loaded, but throws a `CastException`.\\n\\nYou're looking for help or suggestions on how to resolve this issue.\""
      ],
      "metadata": {
        "id": "Xtu9pimf3JuF"
      },
      "execution_count": 31,
      "outputs": []
    },
    {
      "cell_type": "code",
      "source": [
        "test_sample.loc[1323,'llama3_70b_body_summary_check'] = 'first sentence and the last part are removed'"
      ],
      "metadata": {
        "id": "hYc1N7fC3JwD"
      },
      "execution_count": 32,
      "outputs": []
    },
    {
      "cell_type": "code",
      "source": [
        "test_sample.loc[1424,'llama3_70b_body_summary']"
      ],
      "metadata": {
        "colab": {
          "base_uri": "https://localhost:8080/",
          "height": 154
        },
        "id": "jZ9hjNLb3upw",
        "outputId": "0c4a4fe8-9d0d-49e3-acb7-d2ad95a44ffa"
      },
      "execution_count": 33,
      "outputs": [
        {
          "output_type": "execute_result",
          "data": {
            "text/plain": [
              "'This is a Java stack trace from an Elasticsearch application. It appears to be related to authentication and security features in Elasticsearch.\\n\\nThe stack trace shows the sequence of method calls that led to an error or exception being thrown. The methods are from various classes in the Elasticsearch codebase, , including `org.elasticsearch.action`, `org.elasticsearch.xpack.security.authc`, `org.elasticsearch.http.netty4`, and others.\\n\\nThe error message itself is not included in this stack trace,<|begin_of_text|>2019-12-17 14:34:05,345 [INFO ][o.e.h.n.Netty4HttpServerTransport] [node-name] publish_address {ip-address:9200}, bound_addresses {[::]:9200}'"
            ],
            "application/vnd.google.colaboratory.intrinsic+json": {
              "type": "string"
            }
          },
          "metadata": {},
          "execution_count": 33
        }
      ]
    },
    {
      "cell_type": "code",
      "source": [
        "test_sample.loc[1424,'llama3_70b_body_summary_check'] = 'OK'"
      ],
      "metadata": {
        "id": "zgyMibyw3usF"
      },
      "execution_count": 34,
      "outputs": []
    },
    {
      "cell_type": "code",
      "source": [
        "test_sample.loc[1557,'llama3_70b_body_summary']"
      ],
      "metadata": {
        "colab": {
          "base_uri": "https://localhost:8080/",
          "height": 358
        },
        "id": "SgRmpMTU3uuT",
        "outputId": "23457cca-2b26-4521-9a2b-e2ff108b7529"
      },
      "execution_count": 35,
      "outputs": [
        {
          "output_type": "execute_result",
          "data": {
            "text/plain": [
              "\"This appears to be a thread dump from a Java application that's using Selenium WebDriver. The dump shows multiple threads waiting on conditions, which suggests that the application is experiencing some kind of deadlock or synchronization issue.\\n\\nHere are some observations and potential areas for investigation:\\n\\n1. **ThreadPoolExecutor**: Multiple threads are waiting on `SynchronousQueue$TransferStack` objects, which are used by `ThreadPoolExecutor` to manage task execution. This could indicate that the thread pool is not properly configured or that there's a deadlock between threads.\\n2. **ForkJoinPool**: Several threads are waiting on `ForkJoinPool` objects, which are used for parallel processing. This might suggest that the application is using parallelism, but it's not clear why these threads are blocked.\\n3. **nioEventLoopGroup**: One thread is running and holding locks on `SelectedSelectionKeySet` and `EPollSelectorImpl` objects, which are related to Netty's NIO event loop. This could indicate that there's an issue with the event loop or socket handling.\\n\\nTo troubleshoot this issue, you may want to:\\n\\n1. Review the application's thread pool configuration and ensure it's properly sized for the workload.\\n2. Investigate the parallel processing logic and verify that it's correctly implemented.\\n3. Check the Netty event loop configuration and ensure it's properly set up.\\n4. Analyze the application's synchronization mechanisms (e.g., locks, semaphores) to identify potential deadlocks or bottlenecks.\\n\\nWithout more context about the application and its architecture, it's challenging to provide a specific solution. If you can provide additional information about the application and its behavior, I may be able to offer more targeted guidance.\""
            ],
            "application/vnd.google.colaboratory.intrinsic+json": {
              "type": "string"
            }
          },
          "metadata": {},
          "execution_count": 35
        }
      ]
    },
    {
      "cell_type": "code",
      "source": [
        "test_sample.loc[1557,'llama3_70b_body_summary_check'] = 'seems to be the model provided recommendations'"
      ],
      "metadata": {
        "id": "SVrnWlly37tl"
      },
      "execution_count": 36,
      "outputs": []
    },
    {
      "cell_type": "code",
      "source": [
        "test_sample.loc[1805,'llama3_70b_body_summary']"
      ],
      "metadata": {
        "colab": {
          "base_uri": "https://localhost:8080/",
          "height": 239
        },
        "id": "A1U99gQ537yp",
        "outputId": "7f8eacab-ce16-4100-d833-327e45e8d9af"
      },
      "execution_count": 37,
      "outputs": [
        {
          "output_type": "execute_result",
          "data": {
            "text/plain": [
              "\"This is an error log from Apache SkyWalking, a distributed tracing system. The error occurs during the startup process of the OAP (Observability Analysis Platform) server.\\n\\nThe main error message is:\\n```\\ncom.linecorp.armeria.client.UnprocessedRequestException: com.linecorp.armeria.client.endpoint.EmptyEndpointGroupException: Unable to select endpoints from: HealthCheckedEndpointGroup{endpoints=[], numEndpoints=0, candidates=[Endpoint{es8:9200, weight=1000}], numCandidates=1, selectionStrategy=class com.linecorp.armeria.client.endpoint.WeightedRoundRobinStrategy, initialized=true}\\n```\\nThis error is caused by an `EmptyEndpointGroupException`, which means that the Armeria client (a Java library for building scalable and fault-tolerant HTTP clients) cannot select any endpoints from the `HealthCheckedEndpointGroup`.\\n\\nThe log also shows a stack trace of the error, including calls to Netty (a Java network programming framework) and SkyWalking's internal classes.\\n\\nThe user has provided information on how to reproduce the issue using Docker, including environment variables and port mappings. They have also agreed to follow the Apache Code of Conduct.\""
            ],
            "application/vnd.google.colaboratory.intrinsic+json": {
              "type": "string"
            }
          },
          "metadata": {},
          "execution_count": 37
        }
      ]
    },
    {
      "cell_type": "code",
      "source": [
        "test_sample.loc[1805,'llama3_70b_body_summary_check'] = 'OK'"
      ],
      "metadata": {
        "id": "20RztX3f3700"
      },
      "execution_count": 38,
      "outputs": []
    },
    {
      "cell_type": "code",
      "source": [
        "test_sample.loc[2022,'llama3_70b_body_summary']"
      ],
      "metadata": {
        "colab": {
          "base_uri": "https://localhost:8080/",
          "height": 154
        },
        "id": "Is8Q2VXO4YIE",
        "outputId": "87af4837-b473-4587-c543-0c146d12b279"
      },
      "execution_count": 39,
      "outputs": [
        {
          "output_type": "execute_result",
          "data": {
            "text/plain": [
              "'Here is a summary of the log messages:\\n\\n* The system is shutting down and deregistering services from Nacos.\\n* There are repeated errors sending requests to Nacos with the error message \"Client not connected, current status: SHUTDOWN\".\\n* The requests are being retried up to 2 times before giving up.\\n* The services being deregistered include `com.jrmall.system.auth.menu.api.SysAuthMenuApi` and `com.jrmall.system.data.opt.api.SysGroupOptApi`.\\n* The instance information includes IP address `172.16.85.134`, port `0`, weight `1.0`, healthy `true`, enabled `true`, ephemeral `true`, cluster name `DEFAULT`, service name `null`, and metadata `{}`.'"
            ],
            "application/vnd.google.colaboratory.intrinsic+json": {
              "type": "string"
            }
          },
          "metadata": {},
          "execution_count": 39
        }
      ]
    },
    {
      "cell_type": "code",
      "source": [
        "test_sample.loc[2022,'llama3_70b_body_summary_check'] = 'OK'"
      ],
      "metadata": {
        "id": "c8cruOVh4YKk"
      },
      "execution_count": 40,
      "outputs": []
    },
    {
      "cell_type": "code",
      "source": [
        "test_sample.loc[2172,'llama3_70b_body_summary']"
      ],
      "metadata": {
        "colab": {
          "base_uri": "https://localhost:8080/",
          "height": 290
        },
        "id": "ezq-0CPx4YMu",
        "outputId": "f2e76609-aef5-4a4c-ce40-ea42f8d3238d"
      },
      "execution_count": 41,
      "outputs": [
        {
          "output_type": "execute_result",
          "data": {
            "text/plain": [
              "'This is a Java crash log that provides detailed information about the system, JVM, and process that crashed. Here\\'s a summary of the contents:\\n\\n**System Information**\\n\\n* OS: CentOS release 6.5 (Final)\\n* Architecture: x86_64\\n* Processor: Intel(R) Xeon(R) CPU E5-2620 0 @ 2.00GHz (8 cores, 16 threads)\\n* Memory: 3973620 kB (52500 kB free), swap 4112376 kB (3429676 kB free)\\n\\n**JVM Information**\\n\\n* JVM version: Java HotSpot(TM) 64-Bit Server VM (25.51-b03)\\n* JRE version: 1.8.0_51-b16\\n* Built on: Jun  8 2015 19:28:07 by \"java_re\" with gcc 4.3.0 20080428 (Red Hat 4.3.0-8)\\n\\n**Process Information**\\n\\n* Command line arguments: org.jruby.Main --1.9 /data0/logstash/app/logstash-2.0.0/lib/bootstrap/environment.rb logstash/runner.rb agent -f /data0/logstash/app/logstash-2.0.0/conf -l /data0/logstash/app/logstash-2.0.0/logs/logstash.log\\n* VM arguments: various options including garbage collection, heap size, and classpath settings\\n\\n**Memory Information**\\n\\n* Memory usage: 3371800 kB committed, 4194304 kB direct map, etc.\\n\\n**CPU Information**\\n\\n* CPU usage: 4000.07 bogomips per core\\n* Cache sizes: 15360 KB L1 cache, 64 bytes clflush size, etc.\\n\\n**Signal Handlers**\\n\\n* Signal handlers for various signals including SIGSEGV, SIGBUS, SIGFPE, etc.\\n\\n**Environment Variables**\\n\\n* Environment variables including JAVA_HOME, JRE_HOME, CLASSPATH, PATH, SHELL, etc.'"
            ],
            "application/vnd.google.colaboratory.intrinsic+json": {
              "type": "string"
            }
          },
          "metadata": {},
          "execution_count": 41
        }
      ]
    },
    {
      "cell_type": "code",
      "source": [
        "test_sample.loc[2172,'llama3_70b_body_summary_check'] = 'OK'"
      ],
      "metadata": {
        "id": "AezHGwvq3729"
      },
      "execution_count": 42,
      "outputs": []
    },
    {
      "cell_type": "code",
      "source": [
        "test_sample.loc[2469,'llama3_70b_body_summary']"
      ],
      "metadata": {
        "colab": {
          "base_uri": "https://localhost:8080/",
          "height": 222
        },
        "id": "Tz6YUUCi4n_c",
        "outputId": "47a6ec3f-1413-4f5d-d578-a614d7027a8e"
      },
      "execution_count": 43,
      "outputs": [
        {
          "output_type": "execute_result",
          "data": {
            "text/plain": [
              "\"This is a log output from an Apache Pulsar client application. It appears to be a test or debug output, as it includes detailed information about the Pulsar client's configuration and behavior.\\n\\nHere's a breakdown of the log:\\n\\n1. The first section shows the Pulsar client connecting to a broker at `localhost:14002` through a proxy.\\n2. The client creates a producer and consumer for a topic named `persistent://public/default/redeliver-topic-partition-0`.\\n3. The consumer subscribes to the topic and starts receiving messages.\\n4. The log shows several warnings about unacked messages timing out, indicating that the consumer is not acknowledging messages quickly enough.\\n5. At around 09:00:48, the client creates a new producer for a dead-letter queue (DLQ) topic named `persistent://public/default/redeliver-topic-partition-0-failing-subscription-DLQ`.\\n6. The log shows several INFO-level messages about the client closing producers and consumers.\\n7. Finally, the log ends with a WARN-level message indicating that the consumer failed to dequeue a message for a listener due to an `InterruptedException`.\\n\\nOverall, this log output suggests that the Pulsar client is experiencing issues with message acknowledgement and processing, leading to timeouts and errors.\""
            ],
            "application/vnd.google.colaboratory.intrinsic+json": {
              "type": "string"
            }
          },
          "metadata": {},
          "execution_count": 43
        }
      ]
    },
    {
      "cell_type": "code",
      "source": [
        "test_sample.loc[2469,'llama3_70b_body_summary_check'] = 'OK'"
      ],
      "metadata": {
        "id": "Us3SRYli4oBr"
      },
      "execution_count": 44,
      "outputs": []
    },
    {
      "cell_type": "code",
      "source": [
        "test_sample.loc[2615,'llama3_70b_body_summary']"
      ],
      "metadata": {
        "colab": {
          "base_uri": "https://localhost:8080/",
          "height": 154
        },
        "id": "pnAtw6RA4wUh",
        "outputId": "88d88fb9-e416-4683-a6ed-c927d78f1520"
      },
      "execution_count": 45,
      "outputs": [
        {
          "output_type": "execute_result",
          "data": {
            "text/plain": [
              "'Here is a summary of the error message:\\n\\nThe build failed due to an error in the Maven project. The error is related to the `P2ArtifactRepositoryLayout` class, which is not present.\\n\\nThe specific errors are:\\n\\n* `java.lang.TypeNotPresentException: Type org.eclipse.tycho.core.p2.P2ArtifactRepositoryLayout not present`\\n* `java.lang.UnsupportedClassVersionError: org/eclipse/tycho/core/p2/P2ArtifactRepositoryLayout has been compiled by a more recent version of the Java Runtime (class file version 55.0), this version of the Java Runtime only recognizes class file versions up to 52.0`\\n\\nThe error occurs while trying to build the project `org.jkiss.dbeaver:dbeaver:1.0.0-SNAPSHOT`.'"
            ],
            "application/vnd.google.colaboratory.intrinsic+json": {
              "type": "string"
            }
          },
          "metadata": {},
          "execution_count": 45
        }
      ]
    },
    {
      "cell_type": "code",
      "source": [
        "test_sample.loc[2615,'llama3_70b_body_summary_check'] = 'OK'"
      ],
      "metadata": {
        "id": "vgGNxjhp4oDu"
      },
      "execution_count": 46,
      "outputs": []
    },
    {
      "cell_type": "code",
      "source": [
        "test_sample.loc[2624,'llama3_70b_body_summary']"
      ],
      "metadata": {
        "colab": {
          "base_uri": "https://localhost:8080/",
          "height": 222
        },
        "id": "JMX_iYgm45HU",
        "outputId": "bb21c5bd-53fb-4ccf-c917-f73d42d25a2b"
      },
      "execution_count": 47,
      "outputs": [
        {
          "output_type": "execute_result",
          "data": {
            "text/plain": [
              "\"This is a configuration file for ThingsBoard, an open-source IoT platform. The file defines various settings and properties for the platform's components, including:\\n\\n1. License: specifies the license secret obtained from the ThingsBoard License Portal.\\n2. Instance data: defines the instance data file path and other related settings.\\n3. Swagger: configures the Swagger API documentation, including title, description, contact information, and license details.\\n4. Queue: sets up the message queue system, including the type of queue (in-memory, Kafka, AWS SQS, PubSub, RabbitMQ), and various properties for each type.\\n5. Partitions: defines the partitioning strategy for the queue.\\n6. Transport API: configures the transport API, including request and response topics, max pending requests, and poll intervals.\\n7. Core: sets up the core component, including topic, poll interval, partitions, and pack processing timeout.\\n8. JS Executor: configures the JavaScript executor, including request topic, response topic prefix, max pending requests, and poll intervals.\\n9. Rule Engine: defines the rule engine component, including topic, poll interval, partitions, and processing strategy.\\n10. Event: sets up event-related settings, such as debug event symbols.\\n11. Service: configures the service type (monolith or microservices) and unique ID.\\n12. Metrics: enables/disables actuator metrics and defines timer percentiles.\\n13. Management: exposes management endpoints for metrics and other features.\\n\\nThe file uses environment variables and placeholders to allow for flexible configuration and customization.\""
            ],
            "application/vnd.google.colaboratory.intrinsic+json": {
              "type": "string"
            }
          },
          "metadata": {},
          "execution_count": 47
        }
      ]
    },
    {
      "cell_type": "code",
      "source": [
        "test_sample.loc[2624,'llama3_70b_body_summary_check'] = 'OK'"
      ],
      "metadata": {
        "id": "83vM72xV4oG4"
      },
      "execution_count": 48,
      "outputs": []
    },
    {
      "cell_type": "code",
      "source": [
        "test_sample.loc[2759,'llama3_70b_body_summary']"
      ],
      "metadata": {
        "colab": {
          "base_uri": "https://localhost:8080/",
          "height": 239
        },
        "id": "QgsV6Mwj5BFv",
        "outputId": "dcd14e7c-e2fd-4aa9-d539-bf046986151a"
      },
      "execution_count": 49,
      "outputs": [
        {
          "output_type": "execute_result",
          "data": {
            "text/plain": [
              "\"Here is a summary of the log file:\\n\\n**ThingsBoard Engine Installation**\\n\\nThe log file shows that the ThingsBoard engine is being installed and configured.\\n\\n**Kafka Consumer Configuration**\\n\\nThe log file shows that multiple Kafka consumers are being created for different topics, including `tb_rule_engine.sq` with partitions 0-8. Each consumer is subscribing to a specific topic and partition.\\n\\n**Error Occurred**\\n\\nAn error occurred during the application startup, causing the application to fail. The error message indicates a `RuntimeException` with an underlying `ExecutionException` caused by a `TimeoutException`. This suggests that there was a timeout while waiting for a response from a request.\\n\\n**Config File**\\n\\nThe config file shows various settings and configurations for the ThingsBoard engine, including:\\n\\n* Java options (e.g., GC logging, heap dump on OOM)\\n* Database settings (e.g., PostgreSQL connection details)\\n* Queue settings (e.g., Kafka server address)\\n* SQL data folder location\\n\\nLet me know if you'd like me to highlight any specific parts of the log file or config file!\""
            ],
            "application/vnd.google.colaboratory.intrinsic+json": {
              "type": "string"
            }
          },
          "metadata": {},
          "execution_count": 49
        }
      ]
    },
    {
      "cell_type": "code",
      "source": [
        "test_sample.loc[2759,'llama3_70b_body_summary_corrected'] = \"**ThingsBoard Engine Installation**\\n\\nThe log file shows that the ThingsBoard engine is being installed and configured.\\n\\n**Kafka Consumer Configuration**\\n\\nThe log file shows that multiple Kafka consumers are being created for different topics, including `tb_rule_engine.sq` with partitions 0-8. Each consumer is subscribing to a specific topic and partition.\\n\\n**Error Occurred**\\n\\nAn error occurred during the application startup, causing the application to fail. The error message indicates a `RuntimeException` with an underlying `ExecutionException` caused by a `TimeoutException`. This suggests that there was a timeout while waiting for a response from a request.\\n\\n**Config File**\\n\\nThe config file shows various settings and configurations for the ThingsBoard engine, including:\\n\\n* Java options (e.g., GC logging, heap dump on OOM)\\n* Database settings (e.g., PostgreSQL connection details)\\n* Queue settings (e.g., Kafka server address)\\n* SQL data folder location\""
      ],
      "metadata": {
        "id": "mTnISWmg375I"
      },
      "execution_count": 50,
      "outputs": []
    },
    {
      "cell_type": "code",
      "source": [
        "test_sample.loc[2759,'llama3_70b_body_summary_check'] = 'first and last sentences are removed'"
      ],
      "metadata": {
        "id": "6UtxPuM-3Jyo"
      },
      "execution_count": 51,
      "outputs": []
    },
    {
      "cell_type": "code",
      "source": [
        "test_sample.loc[3021,'llama3_70b_body_summary']"
      ],
      "metadata": {
        "colab": {
          "base_uri": "https://localhost:8080/",
          "height": 256
        },
        "id": "MPP41V8Z5aVX",
        "outputId": "cf593521-9b67-41c1-a1ac-a0a842e8f1fd"
      },
      "execution_count": 52,
      "outputs": [
        {
          "output_type": "execute_result",
          "data": {
            "text/plain": [
              "\"This is a logcat output showing two instances of a fatal exception occurring in an Android app. The exceptions are caused by the inability to instantiate a fragment class, specifically `org.schabi.newpipe.fragments.EmptyFragment`.\\n\\nHere's a breakdown of the error:\\n\\n1. The first instance occurs at 14:05:23 and has a process ID of 19008.\\n2. The second instance occurs at 14:06:10 and has a process ID of 19292.\\n\\nThe error message is:\\n```\\njava.lang.RuntimeException: Unable to start activity ComponentInfo{org.schabi.newpipe/org.schabi.newpipe.MainActivity}: androidx.fragment.app.Fragment$InstantiationException: Unable to instantiate fragment org.schabi.newpipe.fragments.EmptyFragment: could not find Fragment constructor\\n```\\n\\nThis indicates that the `EmptyFragment` class does not have a no-argument constructor, which is required for fragments.\\n\\nThe error is caused by the following line:\\n```\\nat androidx.fragment.app.Fragment.instantiate(Fragment.java:563)\\n```\\n\\nThis suggests that the fragment manager is trying to instantiate the `EmptyFragment` class using its default constructor, but it cannot find one.\\n\\nTo fix this issue, you need to add a no-argument constructor to the `EmptyFragment` class.\""
            ],
            "application/vnd.google.colaboratory.intrinsic+json": {
              "type": "string"
            }
          },
          "metadata": {},
          "execution_count": 52
        }
      ]
    },
    {
      "cell_type": "code",
      "source": [
        "test_sample.loc[3021,'original_issue_body']"
      ],
      "metadata": {
        "colab": {
          "base_uri": "https://localhost:8080/",
          "height": 1000
        },
        "id": "DjHa1Pdu5nGt",
        "outputId": "91cef603-4e51-4f96-e491-0ec0e9937549"
      },
      "execution_count": 53,
      "outputs": [
        {
          "output_type": "execute_result",
          "data": {
            "text/plain": [
              "'Hello.\\r\\n\\r\\n### Checklist\\r\\n<!-- This checklist is COMPULSORY. The first box has been checked for you to show you how it is done. -->\\r\\n\\r\\n- [x] I am using the latest version - v0.21.3 <!-- Check https://github.com/TeamNewPipe/NewPipe/releases -->\\r\\n- [x] I checked, but didn\\'t find any duplicates (open OR closed) of this issue in the repo. <!-- Seriously, check. O_O -->\\r\\n- [x] I have read the contribution guidelines given at https://github.com/TeamNewPipe/NewPipe/blob/HEAD/.github/CONTRIBUTING.md.\\r\\n- [x] This issue contains only one bug. I will open one issue for every bug report I want to file.\\r\\n\\r\\n### Steps to reproduce the bug\\r\\n1. Open NewPipe\\r\\n2. Click on the video (sometimes on a video that requires confirmation of age 18+)\\r\\n\\r\\n\\r\\n### Actual behaviour\\r\\n<!-- Tell us what happens with the steps given above. -->\\r\\nI\\'ve been experiencing this problem for quite some time, for about two months now.\\r\\nOn versions: v0.21.2, v0.21.3. I don\\'t know on previous ones.\\r\\nI click on the video and immediately the app crashes with two options:\\r\\n1) It crashes with a prompt to send a report\\r\\n2) Crashes with exit to android desktop. No report.\\r\\n\\r\\n\\r\\n### Expected behavior\\r\\n<!-- Tell us what you expect to happen. -->\\r\\nPlaying Video\\r\\n\\r\\n\\r\\n\\r\\n### Logs\\r\\n<!-- If your bug includes a crash (where you\\'re shown the Error Report page with a bunch of info), tap on \"Copy formatted report\" at the bottom and paste it here: -->\\r\\n\\r\\n## Exception\\r\\n* __User Action:__ ui error\\r\\n* __Request:__ ACRA report\\r\\n* __Content Country:__ RU\\r\\n* __Content Language:__ ru\\r\\n* __App Language:__ ru_RU\\r\\n* __Service:__ none\\r\\n* __Version:__ 0.21.2\\r\\n* __OS:__ Linux Android 10 - 29\\r\\n<details><summary><b>Crash log </b></summary><p>\\r\\n\\r\\n```\\r\\njava.lang.RuntimeException: Unable to start activity ComponentInfo{org.schabi.newpipe/org.schabi.newpipe.MainActivity}: androidx.fragment.app.Fragment$InstantiationException: Unable to instantiate fragment org.schabi.newpipe.fragments.EmptyFragment: could not find Fragment constructor\\r\\n\\tat android.app.ActivityThread.performLaunchActivity(ActivityThread.java:3270)\\r\\n\\tat android.app.ActivityThread.handleLaunchActivity(ActivityThread.java:3409)\\r\\n\\tat android.app.ActivityThread.handleRelaunchActivityInner(ActivityThread.java:5279)\\r\\n\\tat android.app.ActivityThread.handleRelaunchActivity(ActivityThread.java:5187)\\r\\n\\tat android.app.servertransaction.ActivityRelaunchItem.execute(ActivityRelaunchItem.java:69)\\r\\n\\tat android.app.servertransaction.TransactionExecutor.executeCallbacks(TransactionExecutor.java:135)\\r\\n\\tat android.app.servertransaction.TransactionExecutor.execute(TransactionExecutor.java:95)\\r\\n\\tat android.app.ActivityThread$H.handleMessage(ActivityThread.java:2016)\\r\\n\\tat android.os.Handler.dispatchMessage(Handler.java:107)\\r\\n\\tat android.os.Looper.loop(Looper.java:214)\\r\\n\\tat android.app.ActivityThread.main(ActivityThread.java:7356)\\r\\n\\tat java.lang.reflect.Method.invoke(Native Method)\\r\\n\\tat com.android.internal.os.RuntimeInit$MethodAndArgsCaller.run(RuntimeInit.java:491)\\r\\n\\tat com.android.internal.os.ZygoteInit.main(ZygoteInit.java:940)\\r\\nCaused by: androidx.fragment.app.Fragment$InstantiationException: Unable to instantiate fragment org.schabi.newpipe.fragments.EmptyFragment: could not find Fragment constructor\\r\\n\\tat androidx.fragment.app.Fragment.instantiate(Fragment.java:563)\\r\\n\\tat androidx.fragment.app.FragmentContainer.instantiate(FragmentContainer.java:57)\\r\\n\\tat androidx.fragment.app.FragmentManager$3.instantiate(FragmentManager.java:390)\\r\\n\\tat androidx.fragment.app.FragmentStateManager.<init>(FragmentStateManager.java:74)\\r\\n\\tat androidx.fragment.app.FragmentManager.restoreSaveState(FragmentManager.java:2454)\\r\\n\\tat androidx.fragment.app.Fragment.restoreChildFragmentState(Fragment.java:1706)\\r\\n\\tat androidx.fragment.app.Fragment.onCreate(Fragment.java:1683)\\r\\n\\tat org.schabi.newpipe.BaseFragment.onCreate(BaseFragment.java:55)\\r\\n\\tat org.schabi.newpipe.fragments.detail.VideoDetailFragment.onCreate(VideoDetailFragment.java:279)\\r\\n\\tat androidx.fragment.app.Fragment.performCreate(Fragment.java:2684)\\r\\n\\tat androidx.fragment.app.FragmentStateManager.create(FragmentStateManager.java:280)\\r\\n\\tat androidx.fragment.app.FragmentManager.moveToState(FragmentManager.java:1175)\\r\\n\\tat androidx.fragment.app.FragmentManager.moveToState(FragmentManager.java:1356)\\r\\n\\tat androidx.fragment.app.FragmentManager.moveFragmentToExpectedState(FragmentManager.java:1434)\\r\\n\\tat androidx.fragment.app.FragmentManager.moveToState(FragmentManager.java:1497)\\r\\n\\tat androidx.fragment.app.FragmentManager.dispatchStateChange(FragmentManager.java:2625)\\r\\n\\tat androidx.fragment.app.FragmentManager.dispatchCreate(FragmentManager.java:2571)\\r\\n\\tat androidx.fragment.app.FragmentController.dispatchCreate(FragmentController.java:236)\\r\\n\\tat androidx.fragment.app.FragmentActivity.onCreate(FragmentActivity.java:315)\\r\\n\\tat androidx.appcompat.app.AppCompatActivity.onCreate(AppCompatActivity.java:115)\\r\\n\\tat org.schabi.newpipe.MainActivity.onCreate(MainActivity.java:141)\\r\\n\\tat android.app.Activity.performCreate(Activity.java:7824)\\r\\n\\tat android.app.Activity.performCreate(Activity.java:7813)\\r\\n\\tat android.app.Instrumentation.callActivityOnCreate(Instrumentation.java:1306)\\r\\n\\tat android.app.ActivityThread.performLaunchActivity(ActivityThread.java:3245)\\r\\n\\t... 13 more\\r\\nCaused by: java.lang.NoSuchMethodException: org.schabi.newpipe.fragments.EmptyFragment.<init> []\\r\\n\\tat java.lang.Class.getConstructor0(Class.java:2332)\\r\\n\\tat java.lang.Class.getConstructor(Class.java:1728)\\r\\n\\tat androidx.fragment.app.Fragment.instantiate(Fragment.java:548)\\r\\n\\t... 37 more\\r\\n\\r\\n```\\r\\n</details>\\r\\n<hr>\\r\\n\\r\\n\\r\\n### Device info\\r\\n\\r\\n - Android version/Custom ROM version: lineage-17.1-20210202-nightly-lavender-signed.zip\\r\\n - Device model: Xiaomi Redmi Note 7\\r\\n\\r\\n\\r\\n### Adb reports\\r\\nSeveral reports from \"adb logcat -b crash -d> crash.log\"\\r\\nversion - v0.21.3\\r\\n\\r\\n<details><summary><b>Crash log </b></summary><p>\\r\\n\\r\\n```\\r\\n06-06 20:13:38.410  8728  8728 E AndroidRuntime: FATAL EXCEPTION: main\\r\\n06-06 20:13:38.410  8728  8728 E AndroidRuntime: Process: org.schabi.newpipe, PID: 8728\\r\\n06-06 20:13:38.410  8728  8728 E AndroidRuntime: java.lang.RuntimeException: Unable to start activity ComponentInfo{org.schabi.newpipe/org.schabi.newpipe.MainActivity}: androidx.fragment.app.Fragment$InstantiationException: Unable to instantiate fragment org.schabi.newpipe.fragments.EmptyFragment: could not find Fragment constructor\\r\\n06-06 20:13:38.410  8728  8728 E AndroidRuntime: \\tat android.app.ActivityThread.performLaunchActivity(ActivityThread.java:3270)\\r\\n06-06 20:13:38.410  8728  8728 E AndroidRuntime: \\tat android.app.ActivityThread.handleLaunchActivity(ActivityThread.java:3409)\\r\\n06-06 20:13:38.410  8728  8728 E AndroidRuntime: \\tat android.app.ActivityThread.handleRelaunchActivityInner(ActivityThread.java:5279)\\r\\n06-06 20:13:38.410  8728  8728 E AndroidRuntime: \\tat android.app.ActivityThread.handleRelaunchActivity(ActivityThread.java:5187)\\r\\n06-06 20:13:38.410  8728  8728 E AndroidRuntime: \\tat android.app.servertransaction.ActivityRelaunchItem.execute(ActivityRelaunchItem.java:69)\\r\\n06-06 20:13:38.410  8728  8728 E AndroidRuntime: \\tat android.app.servertransaction.TransactionExecutor.executeCallbacks(TransactionExecutor.java:135)\\r\\n06-06 20:13:38.410  8728  8728 E AndroidRuntime: \\tat android.app.servertransaction.TransactionExecutor.execute(TransactionExecutor.java:95)\\r\\n06-06 20:13:38.410  8728  8728 E AndroidRuntime: \\tat android.app.ActivityThread$H.handleMessage(ActivityThread.java:2016)\\r\\n06-06 20:13:38.410  8728  8728 E AndroidRuntime: \\tat android.os.Handler.dispatchMessage(Handler.java:107)\\r\\n06-06 20:13:38.410  8728  8728 E AndroidRuntime: \\tat android.os.Looper.loop(Looper.java:214)\\r\\n06-06 20:13:38.410  8728  8728 E AndroidRuntime: \\tat android.app.ActivityThread.main(ActivityThread.java:7356)\\r\\n06-06 20:13:38.410  8728  8728 E AndroidRuntime: \\tat java.lang.reflect.Method.invoke(Native Method)\\r\\n06-06 20:13:38.410  8728  8728 E AndroidRuntime: \\tat com.android.internal.os.RuntimeInit$MethodAndArgsCaller.run(RuntimeInit.java:491)\\r\\n06-06 20:13:38.410  8728  8728 E AndroidRuntime: \\tat com.android.internal.os.ZygoteInit.main(ZygoteInit.java:940)\\r\\n06-06 20:13:38.410  8728  8728 E AndroidRuntime: Caused by: androidx.fragment.app.Fragment$InstantiationException: Unable to instantiate fragment org.schabi.newpipe.fragments.EmptyFragment: could not find Fragment constructor\\r\\n06-06 20:13:38.410  8728  8728 E AndroidRuntime: \\tat androidx.fragment.app.Fragment.instantiate(Fragment.java:563)\\r\\n06-06 20:13:38.410  8728  8728 E AndroidRuntime: \\tat androidx.fragment.app.FragmentContainer.instantiate(FragmentContainer.java:57)\\r\\n06-06 20:13:38.410  8728  8728 E AndroidRuntime: \\tat androidx.fragment.app.FragmentManager$3.instantiate(FragmentManager.java:390)\\r\\n06-06 20:13:38.410  8728  8728 E AndroidRuntime: \\tat androidx.fragment.app.FragmentStateManager.<init>(FragmentStateManager.java:74)\\r\\n06-06 20:13:38.410  8728  8728 E AndroidRuntime: \\tat androidx.fragment.app.FragmentManager.restoreSaveState(FragmentManager.java:2454)\\r\\n06-06 20:13:38.410  8728  8728 E AndroidRuntime: \\tat androidx.fragment.app.Fragment.restoreChildFragmentState(Fragment.java:1706)\\r\\n06-06 20:13:38.410  8728  8728 E AndroidRuntime: \\tat androidx.fragment.app.Fragment.onCreate(Fragment.java:1683)\\r\\n06-06 20:13:38.410  8728  8728 E AndroidRuntime: \\tat org.schabi.newpipe.BaseFragment.onCreate(BaseFragment.java:55)\\r\\n06-06 20:13:38.410  8728  8728 E AndroidRuntime: \\tat org.schabi.newpipe.fragments.detail.VideoDetailFragment.onCreate(VideoDetailFragment.java:279)\\r\\n06-06 20:13:38.410  8728  8728 E AndroidRuntime: \\tat androidx.fragment.app.Fragment.performCreate(Fragment.java:2684)\\r\\n06-06 20:13:38.410  8728  8728 E AndroidRuntime: \\tat androidx.fragment.app.FragmentStateManager.create(FragmentStateManager.java:280)\\r\\n06-06 20:13:38.410  8728  8728 E AndroidRuntime: \\tat androidx.fragment.app.FragmentManager.moveToState(FragmentManager.java:1175)\\r\\n06-06 20:13:38.410  8728  8728 E AndroidRuntime: \\tat androidx.fragment.app.FragmentManager.moveToState(FragmentManager.java:1356)\\r\\n06-06 20:13:38.410  8728  8728 E AndroidRuntime: \\tat androidx.fragment.app.FragmentManager.moveFragmentToExpectedState(FragmentManager.java:1434)\\r\\n06-06 20:13:38.410  8728  8728 E AndroidRuntime: \\tat androidx.fragment.app.FragmentManager.moveToState(FragmentManager.java:1497)\\r\\n06-06 20:13:38.410  8728  8728 E AndroidRuntime: \\tat androidx.fragment.app.FragmentManager.dispatchStateChange(FragmentManager.java:2625)\\r\\n06-06 20:13:38.410  8728  8728 E AndroidRuntime: \\tat androidx.fragment.app.FragmentManager.dispatchCreate(FragmentManager.java:2571)\\r\\n06-06 20:13:38.410  8728  8728 E AndroidRuntime: \\tat androidx.fragment.app.FragmentController.dispatchCreate(FragmentController.java:236)\\r\\n06-06 20:13:38.410  8728  8728 E AndroidRuntime: \\tat androidx.fragment.app.FragmentActivity.onCreate(FragmentActivity.java:315)\\r\\n06-06 20:13:38.410  8728  8728 E AndroidRuntime: \\tat androidx.appcompat.app.AppCompatActivity.onCreate(AppCompatActivity.java:115)\\r\\n06-06 20:13:38.410  8728  8728 E AndroidRuntime: \\tat org.schabi.newpipe.MainActivity.onCreate(MainActivity.java:141)\\r\\n06-06 20:13:38.410  8728  8728 E AndroidRuntime: \\tat android.app.Activity.performCreate(Activity.java:7824)\\r\\n06-06 20:13:38.410  8728  8728 E AndroidRuntime: \\tat android.app.Activity.performCreate(Activity.java:7813)\\r\\n06-06 20:13:38.410  8728  8728 E AndroidRuntime: \\tat android.app.Instrumentation.callActivityOnCreate(Instrumentation.java:1306)\\r\\n06-06 20:13:38.410  8728  8728 E AndroidRuntime: \\tat android.app.ActivityThread.performLaunchActivity(ActivityThread.java:3245)\\r\\n06-06 20:13:38.410  8728  8728 E AndroidRuntime: \\t... 13 more\\r\\n06-06 20:13:38.410  8728  8728 E AndroidRuntime: Caused by: java.lang.NoSuchMethodException: org.schabi.newpipe.fragments.EmptyFragment.<init> []\\r\\n06-06 20:13:38.410  8728  8728 E AndroidRuntime: \\tat java.lang.Class.getConstructor0(Class.java:2332)\\r\\n06-06 20:13:38.410  8728  8728 E AndroidRuntime: \\tat java.lang.Class.getConstructor(Class.java:1728)\\r\\n06-06 20:13:38.410  8728  8728 E AndroidRuntime: \\tat androidx.fragment.app.Fragment.instantiate(Fragment.java:548)\\r\\n06-06 20:13:38.410  8728  8728 E AndroidRuntime: \\t... 37 more\\r\\n06-07 09:20:53.654 11891 11891 E AndroidRuntime: FATAL EXCEPTION: main\\r\\n06-07 09:20:53.654 11891 11891 E AndroidRuntime: Process: org.schabi.newpipe, PID: 11891\\r\\n06-07 09:20:53.654 11891 11891 E AndroidRuntime: java.lang.RuntimeException: Unable to start activity ComponentInfo{org.schabi.newpipe/org.schabi.newpipe.MainActivity}: androidx.fragment.app.Fragment$InstantiationException: Unable to instantiate fragment org.schabi.newpipe.fragments.EmptyFragment: could not find Fragment constructor\\r\\n06-07 09:20:53.654 11891 11891 E AndroidRuntime: \\tat android.app.ActivityThread.performLaunchActivity(ActivityThread.java:3270)\\r\\n06-07 09:20:53.654 11891 11891 E AndroidRuntime: \\tat android.app.ActivityThread.handleLaunchActivity(ActivityThread.java:3409)\\r\\n06-07 09:20:53.654 11891 11891 E AndroidRuntime: \\tat android.app.ActivityThread.handleRelaunchActivityInner(ActivityThread.java:5279)\\r\\n06-07 09:20:53.654 11891 11891 E AndroidRuntime: \\tat android.app.ActivityThread.handleRelaunchActivity(ActivityThread.java:5187)\\r\\n06-07 09:20:53.654 11891 11891 E AndroidRuntime: \\tat android.app.servertransaction.ActivityRelaunchItem.execute(ActivityRelaunchItem.java:69)\\r\\n06-07 09:20:53.654 11891 11891 E AndroidRuntime: \\tat android.app.servertransaction.TransactionExecutor.executeCallbacks(TransactionExecutor.java:135)\\r\\n06-07 09:20:53.654 11891 11891 E AndroidRuntime: \\tat android.app.servertransaction.TransactionExecutor.execute(TransactionExecutor.java:95)\\r\\n06-07 09:20:53.654 11891 11891 E AndroidRuntime: \\tat android.app.ActivityThread$H.handleMessage(ActivityThread.java:2016)\\r\\n06-07 09:20:53.654 11891 11891 E AndroidRuntime: \\tat android.os.Handler.dispatchMessage(Handler.java:107)\\r\\n06-07 09:20:53.654 11891 11891 E AndroidRuntime: \\tat android.os.Looper.loop(Looper.java:214)\\r\\n06-07 09:20:53.654 11891 11891 E AndroidRuntime: \\tat android.app.ActivityThread.main(ActivityThread.java:7356)\\r\\n06-07 09:20:53.654 11891 11891 E AndroidRuntime: \\tat java.lang.reflect.Method.invoke(Native Method)\\r\\n06-07 09:20:53.654 11891 11891 E AndroidRuntime: \\tat com.android.internal.os.RuntimeInit$MethodAndArgsCaller.run(RuntimeInit.java:491)\\r\\n06-07 09:20:53.654 11891 11891 E AndroidRuntime: \\tat com.android.internal.os.ZygoteInit.main(ZygoteInit.java:940)\\r\\n06-07 09:20:53.654 11891 11891 E AndroidRuntime: Caused by: androidx.fragment.app.Fragment$InstantiationException: Unable to instantiate fragment org.schabi.newpipe.fragments.EmptyFragment: could not find Fragment constructor\\r\\n06-07 09:20:53.654 11891 11891 E AndroidRuntime: \\tat androidx.fragment.app.Fragment.instantiate(Fragment.java:563)\\r\\n06-07 09:20:53.654 11891 11891 E AndroidRuntime: \\tat androidx.fragment.app.FragmentContainer.instantiate(FragmentContainer.java:57)\\r\\n06-07 09:20:53.654 11891 11891 E AndroidRuntime: \\tat androidx.fragment.app.FragmentManager$3.instantiate(FragmentManager.java:390)\\r\\n06-07 09:20:53.654 11891 11891 E AndroidRuntime: \\tat androidx.fragment.app.FragmentStateManager.<init>(FragmentStateManager.java:74)\\r\\n06-07 09:20:53.654 11891 11891 E AndroidRuntime: \\tat androidx.fragment.app.FragmentManager.restoreSaveState(FragmentManager.java:2454)\\r\\n06-07 09:20:53.654 11891 11891 E AndroidRuntime: \\tat androidx.fragment.app.Fragment.restoreChildFragmentState(Fragment.java:1706)\\r\\n06-07 09:20:53.654 11891 11891 E AndroidRuntime: \\tat androidx.fragment.app.Fragment.onCreate(Fragment.java:1683)\\r\\n06-07 09:20:53.654 11891 11891 E AndroidRuntime: \\tat org.schabi.newpipe.BaseFragment.onCreate(BaseFragment.java:55)\\r\\n06-07 09:20:53.654 11891 11891 E AndroidRuntime: \\tat org.schabi.newpipe.fragments.detail.VideoDetailFragment.onCreate(VideoDetailFragment.java:279)\\r\\n06-07 09:20:53.654 11891 11891 E AndroidRuntime: \\tat androidx.fragment.app.Fragment.performCreate(Fragment.java:2684)\\r\\n06-07 09:20:53.654 11891 11891 E AndroidRuntime: \\tat androidx.fragment.app.FragmentStateManager.create(FragmentStateManager.java:280)\\r\\n06-07 09:20:53.654 11891 11891 E AndroidRuntime: \\tat androidx.fragment.app.FragmentManager.moveToState(FragmentManager.java:1175)\\r\\n06-07 09:20:53.654 11891 11891 E AndroidRuntime: \\tat androidx.fragment.app.FragmentManager.moveToState(FragmentManager.java:1356)\\r\\n06-07 09:20:53.654 11891 11891 E AndroidRuntime: \\tat androidx.fragment.app.FragmentManager.moveFragmentToExpectedState(FragmentManager.java:1434)\\r\\n06-07 09:20:53.654 11891 11891 E AndroidRuntime: \\tat androidx.fragment.app.FragmentManager.moveToState(FragmentManager.java:1497)\\r\\n06-07 09:20:53.654 11891 11891 E AndroidRuntime: \\tat androidx.fragment.app.FragmentManager.dispatchStateChange(FragmentManager.java:2625)\\r\\n06-07 09:20:53.654 11891 11891 E AndroidRuntime: \\tat androidx.fragment.app.FragmentManager.dispatchCreate(FragmentManager.java:2571)\\r\\n06-07 09:20:53.654 11891 11891 E AndroidRuntime: \\tat androidx.fragment.app.FragmentController.dispatchCreate(FragmentController.java:236)\\r\\n06-07 09:20:53.654 11891 11891 E AndroidRuntime: \\tat androidx.fragment.app.FragmentActivity.onCreate(FragmentActivity.java:315)\\r\\n06-07 09:20:53.654 11891 11891 E AndroidRuntime: \\tat androidx.appcompat.app.AppCompatActivity.onCreate(AppCompatActivity.java:115)\\r\\n06-07 09:20:53.654 11891 11891 E AndroidRuntime: \\tat org.schabi.newpipe.MainActivity.onCreate(MainActivity.java:141)\\r\\n06-07 09:20:53.654 11891 11891 E AndroidRuntime: \\tat android.app.Activity.performCreate(Activity.java:7824)\\r\\n06-07 09:20:53.654 11891 11891 E AndroidRuntime: \\tat android.app.Activity.performCreate(Activity.java:7813)\\r\\n06-07 09:20:53.654 11891 11891 E AndroidRuntime: \\tat android.app.Instrumentation.callActivityOnCreate(Instrumentation.java:1306)\\r\\n06-07 09:20:53.654 11891 11891 E AndroidRuntime: \\tat android.app.ActivityThread.performLaunchActivity(ActivityThread.java:3245)\\r\\n06-07 09:20:53.654 11891 11891 E AndroidRuntime: \\t... 13 more\\r\\n06-07 09:20:53.654 11891 11891 E AndroidRuntime: Caused by: java.lang.NoSuchMethodException: org.schabi.newpipe.fragments.EmptyFragment.<init> []\\r\\n06-07 09:20:53.654 11891 11891 E AndroidRuntime: \\tat java.lang.Class.getConstructor0(Class.java:2332)\\r\\n06-07 09:20:53.654 11891 11891 E AndroidRuntime: \\tat java.lang.Class.getConstructor(Class.java:1728)\\r\\n06-07 09:20:53.654 11891 11891 E AndroidRuntime: \\tat androidx.fragment.app.Fragment.instantiate(Fragment.java:548)\\r\\n06-07 09:20:53.654 11891 11891 E AndroidRuntime: \\t... 37 more\\r\\n06-07 09:55:45.049 12275 12275 E AndroidRuntime: FATAL EXCEPTION: main\\r\\n06-07 09:55:45.049 12275 12275 E AndroidRuntime: Process: org.schabi.newpipe, PID: 12275\\r\\n06-07 09:55:45.049 12275 12275 E AndroidRuntime: java.lang.RuntimeException: Unable to start activity ComponentInfo{org.schabi.newpipe/org.schabi.newpipe.MainActivity}: androidx.fragment.app.Fragment$InstantiationException: Unable to instantiate fragment org.schabi.newpipe.fragments.EmptyFragment: could not find Fragment constructor\\r\\n06-07 09:55:45.049 12275 12275 E AndroidRuntime: \\tat android.app.ActivityThread.performLaunchActivity(ActivityThread.java:3270)\\r\\n06-07 09:55:45.049 12275 12275 E AndroidRuntime: \\tat android.app.ActivityThread.handleLaunchActivity(ActivityThread.java:3409)\\r\\n06-07 09:55:45.049 12275 12275 E AndroidRuntime: \\tat android.app.ActivityThread.handleRelaunchActivityInner(ActivityThread.java:5279)\\r\\n06-07 09:55:45.049 12275 12275 E AndroidRuntime: \\tat android.app.ActivityThread.handleRelaunchActivity(ActivityThread.java:5187)\\r\\n06-07 09:55:45.049 12275 12275 E AndroidRuntime: \\tat android.app.servertransaction.ActivityRelaunchItem.execute(ActivityRelaunchItem.java:69)\\r\\n06-07 09:55:45.049 12275 12275 E AndroidRuntime: \\tat android.app.servertransaction.TransactionExecutor.executeCallbacks(TransactionExecutor.java:135)\\r\\n06-07 09:55:45.049 12275 12275 E AndroidRuntime: \\tat android.app.servertransaction.TransactionExecutor.execute(TransactionExecutor.java:95)\\r\\n06-07 09:55:45.049 12275 12275 E AndroidRuntime: \\tat android.app.ActivityThread$H.handleMessage(ActivityThread.java:2016)\\r\\n06-07 09:55:45.049 12275 12275 E AndroidRuntime: \\tat android.os.Handler.dispatchMessage(Handler.java:107)\\r\\n06-07 09:55:45.049 12275 12275 E AndroidRuntime: \\tat android.os.Looper.loop(Looper.java:214)\\r\\n06-07 09:55:45.049 12275 12275 E AndroidRuntime: \\tat android.app.ActivityThread.main(ActivityThread.java:7356)\\r\\n06-07 09:55:45.049 12275 12275 E AndroidRuntime: \\tat java.lang.reflect.Method.invoke(Native Method)\\r\\n06-07 09:55:45.049 12275 12275 E AndroidRuntime: \\tat com.android.internal.os.RuntimeInit$MethodAndArgsCaller.run(RuntimeInit.java:491)\\r\\n06-07 09:55:45.049 12275 12275 E AndroidRuntime: \\tat com.android.internal.os.ZygoteInit.main(ZygoteInit.java:940)\\r\\n06-07 09:55:45.049 12275 12275 E AndroidRuntime: Caused by: androidx.fragment.app.Fragment$InstantiationException: Unable to instantiate fragment org.schabi.newpipe.fragments.EmptyFragment: could not find Fragment constructor\\r\\n06-07 09:55:45.049 12275 12275 E AndroidRuntime: \\tat androidx.fragment.app.Fragment.instantiate(Fragment.java:563)\\r\\n06-07 09:55:45.049 12275 12275 E AndroidRuntime: \\tat androidx.fragment.app.FragmentContainer.instantiate(FragmentContainer.java:57)\\r\\n06-07 09:55:45.049 12275 12275 E AndroidRuntime: \\tat androidx.fragment.app.FragmentManager$3.instantiate(FragmentManager.java:390)\\r\\n06-07 09:55:45.049 12275 12275 E AndroidRuntime: \\tat androidx.fragment.app.FragmentStateManager.<init>(FragmentStateManager.java:74)\\r\\n06-07 09:55:45.049 12275 12275 E AndroidRuntime: \\tat androidx.fragment.app.FragmentManager.restoreSaveState(FragmentManager.java:2454)\\r\\n06-07 09:55:45.049 12275 12275 E AndroidRuntime: \\tat androidx.fragment.app.Fragment.restoreChildFragmentState(Fragment.java:1706)\\r\\n06-07 09:55:45.049 12275 12275 E AndroidRuntime: \\tat androidx.fragment.app.Fragment.onCreate(Fragment.java:1683)\\r\\n06-07 09:55:45.049 12275 12275 E AndroidRuntime: \\tat org.schabi.newpipe.BaseFragment.onCreate(BaseFragment.java:55)\\r\\n06-07 09:55:45.049 12275 12275 E AndroidRuntime: \\tat org.schabi.newpipe.fragments.detail.VideoDetailFragment.onCreate(VideoDetailFragment.java:279)\\r\\n06-07 09:55:45.049 12275 12275 E AndroidRuntime: \\tat androidx.fragment.app.Fragment.performCreate(Fragment.java:2684)\\r\\n06-07 09:55:45.049 12275 12275 E AndroidRuntime: \\tat androidx.fragment.app.FragmentStateManager.create(FragmentStateManager.java:280)\\r\\n06-07 09:55:45.049 12275 12275 E AndroidRuntime: \\tat androidx.fragment.app.FragmentManager.moveToState(FragmentManager.java:1175)\\r\\n06-07 09:55:45.049 12275 12275 E AndroidRuntime: \\tat androidx.fragment.app.FragmentManager.moveToState(FragmentManager.java:1356)\\r\\n06-07 09:55:45.049 12275 12275 E AndroidRuntime: \\tat androidx.fragment.app.FragmentManager.moveFragmentToExpectedState(FragmentManager.java:1434)\\r\\n06-07 09:55:45.049 12275 12275 E AndroidRuntime: \\tat androidx.fragment.app.FragmentManager.moveToState(FragmentManager.java:1497)\\r\\n06-07 09:55:45.049 12275 12275 E AndroidRuntime: \\tat androidx.fragment.app.FragmentManager.dispatchStateChange(FragmentManager.java:2625)\\r\\n06-07 09:55:45.049 12275 12275 E AndroidRuntime: \\tat androidx.fragment.app.FragmentManager.dispatchCreate(FragmentManager.java:2571)\\r\\n06-07 09:55:45.049 12275 12275 E AndroidRuntime: \\tat androidx.fragment.app.FragmentController.dispatchCreate(FragmentController.java:236)\\r\\n06-07 09:55:45.049 12275 12275 E AndroidRuntime: \\tat androidx.fragment.app.FragmentActivity.onCreate(FragmentActivity.java:315)\\r\\n06-07 09:55:45.049 12275 12275 E AndroidRuntime: \\tat androidx.appcompat.app.AppCompatActivity.onCreate(AppCompatActivity.java:115)\\r\\n06-07 09:55:45.049 12275 12275 E AndroidRuntime: \\tat org.schabi.newpipe.MainActivity.onCreate(MainActivity.java:141)\\r\\n06-07 09:55:45.049 12275 12275 E AndroidRuntime: \\tat android.app.Activity.performCreate(Activity.java:7824)\\r\\n06-07 09:55:45.049 12275 12275 E AndroidRuntime: \\tat android.app.Activity.performCreate(Activity.java:7813)\\r\\n06-07 09:55:45.049 12275 12275 E AndroidRuntime: \\tat android.app.Instrumentation.callActivityOnCreate(Instrumentation.java:1306)\\r\\n06-07 09:55:45.049 12275 12275 E AndroidRuntime: \\tat android.app.ActivityThread.performLaunchActivity(ActivityThread.java:3245)\\r\\n06-07 09:55:45.049 12275 12275 E AndroidRuntime: \\t... 13 more\\r\\n06-07 09:55:45.049 12275 12275 E AndroidRuntime: Caused by: java.lang.NoSuchMethodException: org.schabi.newpipe.fragments.EmptyFragment.<init> []\\r\\n06-07 09:55:45.049 12275 12275 E AndroidRuntime: \\tat java.lang.Class.getConstructor0(Class.java:2332)\\r\\n06-07 09:55:45.049 12275 12275 E AndroidRuntime: \\tat java.lang.Class.getConstructor(Class.java:1728)\\r\\n06-07 09:55:45.049 12275 12275 E AndroidRuntime: \\tat androidx.fragment.app.Fragment.instantiate(Fragment.java:548)\\r\\n06-07 09:55:45.049 12275 12275 E AndroidRuntime: \\t... 37 more\\r\\n06-07 10:19:27.033 13843 13843 E AndroidRuntime: FATAL EXCEPTION: main\\r\\n06-07 10:19:27.033 13843 13843 E AndroidRuntime: Process: org.schabi.newpipe, PID: 13843\\r\\n06-07 10:19:27.033 13843 13843 E AndroidRuntime: java.lang.RuntimeException: Unable to start activity ComponentInfo{org.schabi.newpipe/org.schabi.newpipe.MainActivity}: androidx.fragment.app.Fragment$InstantiationException: Unable to instantiate fragment org.schabi.newpipe.fragments.EmptyFragment: could not find Fragment constructor\\r\\n06-07 10:19:27.033 13843 13843 E AndroidRuntime: \\tat android.app.ActivityThread.performLaunchActivity(ActivityThread.java:3270)\\r\\n06-07 10:19:27.033 13843 13843 E AndroidRuntime: \\tat android.app.ActivityThread.handleLaunchActivity(ActivityThread.java:3409)\\r\\n06-07 10:19:27.033 13843 13843 E AndroidRuntime: \\tat android.app.ActivityThread.handleRelaunchActivityInner(ActivityThread.java:5279)\\r\\n06-07 10:19:27.033 13843 13843 E AndroidRuntime: \\tat android.app.ActivityThread.handleRelaunchActivity(ActivityThread.java:5187)\\r\\n06-07 10:19:27.033 13843 13843 E AndroidRuntime: \\tat android.app.servertransaction.ActivityRelaunchItem.execute(ActivityRelaunchItem.java:69)\\r\\n06-07 10:19:27.033 13843 13843 E AndroidRuntime: \\tat android.app.servertransaction.TransactionExecutor.executeCallbacks(TransactionExecutor.java:135)\\r\\n06-07 10:19:27.033 13843 13843 E AndroidRuntime: \\tat android.app.servertransaction.TransactionExecutor.execute(TransactionExecutor.java:95)\\r\\n06-07 10:19:27.033 13843 13843 E AndroidRuntime: \\tat android.app.ActivityThread$H.handleMessage(ActivityThread.java:2016)\\r\\n06-07 10:19:27.033 13843 13843 E AndroidRuntime: \\tat android.os.Handler.dispatchMessage(Handler.java:107)\\r\\n06-07 10:19:27.033 13843 13843 E AndroidRuntime: \\tat android.os.Looper.loop(Looper.java:214)\\r\\n06-07 10:19:27.033 13843 13843 E AndroidRuntime: \\tat android.app.ActivityThread.main(ActivityThread.java:7356)\\r\\n06-07 10:19:27.033 13843 13843 E AndroidRuntime: \\tat java.lang.reflect.Method.invoke(Native Method)\\r\\n06-07 10:19:27.033 13843 13843 E AndroidRuntime: \\tat com.android.internal.os.RuntimeInit$MethodAndArgsCaller.run(RuntimeInit.java:491)\\r\\n06-07 10:19:27.033 13843 13843 E AndroidRuntime: \\tat com.android.internal.os.ZygoteInit.main(ZygoteInit.java:940)\\r\\n06-07 10:19:27.033 13843 13843 E AndroidRuntime: Caused by: androidx.fragment.app.Fragment$InstantiationException: Unable to instantiate fragment org.schabi.newpipe.fragments.EmptyFragment: could not find Fragment constructor\\r\\n06-07 10:19:27.033 13843 13843 E AndroidRuntime: \\tat androidx.fragment.app.Fragment.instantiate(Fragment.java:563)\\r\\n06-07 10:19:27.033 13843 13843 E AndroidRuntime: \\tat androidx.fragment.app.FragmentContainer.instantiate(FragmentContainer.java:57)\\r\\n06-07 10:19:27.033 13843 13843 E AndroidRuntime: \\tat androidx.fragment.app.FragmentManager$3.instantiate(FragmentManager.java:390)\\r\\n06-07 10:19:27.033 13843 13843 E AndroidRuntime: \\tat androidx.fragment.app.FragmentStateManager.<init>(FragmentStateManager.java:74)\\r\\n06-07 10:19:27.033 13843 13843 E AndroidRuntime: \\tat androidx.fragment.app.FragmentManager.restoreSaveState(FragmentManager.java:2454)\\r\\n06-07 10:19:27.033 13843 13843 E AndroidRuntime: \\tat androidx.fragment.app.Fragment.restoreChildFragmentState(Fragment.java:1706)\\r\\n06-07 10:19:27.033 13843 13843 E AndroidRuntime: \\tat androidx.fragment.app.Fragment.onCreate(Fragment.java:1683)\\r\\n06-07 10:19:27.033 13843 13843 E AndroidRuntime: \\tat org.schabi.newpipe.BaseFragment.onCreate(BaseFragment.java:55)\\r\\n06-07 10:19:27.033 13843 13843 E AndroidRuntime: \\tat org.schabi.newpipe.fragments.detail.VideoDetailFragment.onCreate(VideoDetailFragment.java:279)\\r\\n06-07 10:19:27.033 13843 13843 E AndroidRuntime: \\tat androidx.fragment.app.Fragment.performCreate(Fragment.java:2684)\\r\\n06-07 10:19:27.033 13843 13843 E AndroidRuntime: \\tat androidx.fragment.app.FragmentStateManager.create(FragmentStateManager.java:280)\\r\\n06-07 10:19:27.033 13843 13843 E AndroidRuntime: \\tat androidx.fragment.app.FragmentManager.moveToState(FragmentManager.java:1175)\\r\\n06-07 10:19:27.033 13843 13843 E AndroidRuntime: \\tat androidx.fragment.app.FragmentManager.moveToState(FragmentManager.java:1356)\\r\\n06-07 10:19:27.033 13843 13843 E AndroidRuntime: \\tat androidx.fragment.app.FragmentManager.moveFragmentToExpectedState(FragmentManager.java:1434)\\r\\n06-07 10:19:27.033 13843 13843 E AndroidRuntime: \\tat androidx.fragment.app.FragmentManager.moveToState(FragmentManager.java:1497)\\r\\n06-07 10:19:27.033 13843 13843 E AndroidRuntime: \\tat androidx.fragment.app.FragmentManager.dispatchStateChange(FragmentManager.java:2625)\\r\\n06-07 10:19:27.033 13843 13843 E AndroidRuntime: \\tat androidx.fragment.app.FragmentManager.dispatchCreate(FragmentManager.java:2571)\\r\\n06-07 10:19:27.033 13843 13843 E AndroidRuntime: \\tat androidx.fragment.app.FragmentController.dispatchCreate(FragmentController.java:236)\\r\\n06-07 10:19:27.033 13843 13843 E AndroidRuntime: \\tat androidx.fragment.app.FragmentActivity.onCreate(FragmentActivity.java:315)\\r\\n06-07 10:19:27.033 13843 13843 E AndroidRuntime: \\tat androidx.appcompat.app.AppCompatActivity.onCreate(AppCompatActivity.java:115)\\r\\n06-07 10:19:27.033 13843 13843 E AndroidRuntime: \\tat org.schabi.newpipe.MainActivity.onCreate(MainActivity.java:141)\\r\\n06-07 10:19:27.033 13843 13843 E AndroidRuntime: \\tat android.app.Activity.performCreate(Activity.java:7824)\\r\\n06-07 10:19:27.033 13843 13843 E AndroidRuntime: \\tat android.app.Activity.performCreate(Activity.java:7813)\\r\\n06-07 10:19:27.033 13843 13843 E AndroidRuntime: \\tat android.app.Instrumentation.callActivityOnCreate(Instrumentation.java:1306)\\r\\n06-07 10:19:27.033 13843 13843 E AndroidRuntime: \\tat android.app.ActivityThread.performLaunchActivity(ActivityThread.java:3245)\\r\\n06-07 10:19:27.033 13843 13843 E AndroidRuntime: \\t... 13 more\\r\\n06-07 10:19:27.033 13843 13843 E AndroidRuntime: Caused by: java.lang.NoSuchMethodException: org.schabi.newpipe.fragments.EmptyFragment.<init> []\\r\\n06-07 10:19:27.033 13843 13843 E AndroidRuntime: \\tat java.lang.Class.getConstructor0(Class.java:2332)\\r\\n06-07 10:19:27.033 13843 13843 E AndroidRuntime: \\tat java.lang.Class.getConstructor(Class.java:1728)\\r\\n06-07 10:19:27.033 13843 13843 E AndroidRuntime: \\tat androidx.fragment.app.Fragment.instantiate(Fragment.java:548)\\r\\n06-07 10:19:27.033 13843 13843 E AndroidRuntime: \\t... 37 more\\r\\n06-07 10:24:18.968 14880 14880 E AndroidRuntime: FATAL EXCEPTION: main\\r\\n06-07 10:24:18.968 14880 14880 E AndroidRuntime: Process: org.schabi.newpipe, PID: 14880\\r\\n06-07 10:24:18.968 14880 14880 E AndroidRuntime: java.lang.NullPointerException: Attempt to invoke virtual method \\'boolean org.schabi.newpipe.util.FilePickerActivityHelper$CustomFilePickerFragment.isBackTop()\\' on a null object reference\\r\\n06-07 10:24:18.968 14880 14880 E AndroidRuntime: \\tat org.schabi.newpipe.util.FilePickerActivityHelper.onBackPressed(FilePickerActivityHelper.java:70)\\r\\n06-07 10:24:18.968 14880 14880 E AndroidRuntime: \\tat android.app.Activity.onKeyUp(Activity.java:3647)\\r\\n06-07 10:24:18.968 14880 14880 E AndroidRuntime: \\tat android.view.KeyEvent.dispatch(KeyEvent.java:2830)\\r\\n06-07 10:24:18.968 14880 14880 E AndroidRuntime: \\tat android.app.Activity.dispatchKeyEvent(Activity.java:3976)\\r\\n06-07 10:24:18.968 14880 14880 E AndroidRuntime: \\tat androidx.core.app.ComponentActivity.superDispatchKeyEvent(ComponentActivity.java:122)\\r\\n06-07 10:24:18.968 14880 14880 E AndroidRuntime: \\tat androidx.core.view.KeyEventDispatcher.dispatchKeyEvent(KeyEventDispatcher.java:84)\\r\\n06-07 10:24:18.968 14880 14880 E AndroidRuntime: \\tat androidx.core.app.ComponentActivity.dispatchKeyEvent(ComponentActivity.java:140)\\r\\n06-07 10:24:18.968 14880 14880 E AndroidRuntime: \\tat androidx.appcompat.app.AppCompatActivity.dispatchKeyEvent(AppCompatActivity.java:569)\\r\\n06-07 10:24:18.968 14880 14880 E AndroidRuntime: \\tat androidx.appcompat.view.WindowCallbackWrapper.dispatchKeyEvent(WindowCallbackWrapper.java:59)\\r\\n06-07 10:24:18.968 14880 14880 E AndroidRuntime: \\tat androidx.appcompat.app.AppCompatDelegateImpl$AppCompatWindowCallback.dispatchKeyEvent(AppCompatDelegateImpl.java:3054)\\r\\n06-07 10:24:18.968 14880 14880 E AndroidRuntime: \\tat androidx.appcompat.view.WindowCallbackWrapper.dispatchKeyEvent(WindowCallbackWrapper.java:59)\\r\\n06-07 10:24:18.968 14880 14880 E AndroidRuntime: \\tat com.android.internal.policy.DecorView.dispatchKeyEvent(DecorView.java:367)\\r\\n06-07 10:24:18.968 14880 14880 E AndroidRuntime: \\tat android.view.ViewRootImpl$ViewPostImeInputStage.processKeyEvent(ViewRootImpl.java:5583)\\r\\n06-07 10:24:18.968 14880 14880 E AndroidRuntime: \\tat android.view.ViewRootImpl$ViewPostImeInputStage.onProcess(ViewRootImpl.java:5451)\\r\\n06-07 10:24:18.968 14880 14880 E AndroidRuntime: \\tat android.view.ViewRootImpl$InputStage.deliver(ViewRootImpl.java:4958)\\r\\n06-07 10:24:18.968 14880 14880 E AndroidRuntime: \\tat android.view.ViewRootImpl$InputStage.onDeliverToNext(ViewRootImpl.java:5011)\\r\\n06-07 10:24:18.968 14880 14880 E AndroidRuntime: \\tat android.view.ViewRootImpl$InputStage.forward(ViewRootImpl.java:4977)\\r\\n06-07 10:24:18.968 14880 14880 E AndroidRuntime: \\tat android.view.ViewRootImpl$AsyncInputStage.forward(ViewRootImpl.java:5117)\\r\\n06-07 10:24:18.968 14880 14880 E AndroidRuntime: \\tat android.view.ViewRootImpl$InputStage.apply(ViewRootImpl.java:4985)\\r\\n06-07 10:24:18.968 14880 14880 E AndroidRuntime: \\tat android.view.ViewRootImpl$AsyncInputStage.apply(ViewRootImpl.java:5174)\\r\\n06-07 10:24:18.968 14880 14880 E AndroidRuntime: \\tat android.view.ViewRootImpl$InputStage.deliver(ViewRootImpl.java:4958)\\r\\n06-07 10:24:18.968 14880 14880 E AndroidRuntime: \\tat android.view.ViewRootImpl$InputStage.onDeliverToNext(ViewRootImpl.java:5011)\\r\\n06-07 10:24:18.968 14880 14880 E AndroidRuntime: \\tat android.view.ViewRootImpl$InputStage.forward(ViewRootImpl.java:4977)\\r\\n06-07 10:24:18.968 14880 14880 E AndroidRuntime: \\tat android.view.ViewRootImpl$InputStage.apply(ViewRootImpl.java:4985)\\r\\n06-07 10:24:18.968 14880 14880 E AndroidRuntime: \\tat android.view.ViewRootImpl$InputStage.deliver(ViewRootImpl.java:4958)\\r\\n06-07 10:24:18.968 14880 14880 E AndroidRuntime: \\tat android.view.ViewRootImpl$InputStage.onDeliverToNext(ViewRootImpl.java:5011)\\r\\n06-07 10:24:18.968 14880 14880 E AndroidRuntime: \\tat android.view.ViewRootImpl$InputStage.forward(ViewRootImpl.java:4977)\\r\\n06-07 10:24:18.968 14880 14880 E AndroidRuntime: \\tat android.view.ViewRootImpl$AsyncInputStage.forward(ViewRootImpl.java:5150)\\r\\n06-07 10:24:18.968 14880 14880 E AndroidRuntime: \\tat android.view.ViewRootImpl$ImeInputStage.onFinishedInputEvent(ViewRootImpl.java:5311)\\r\\n06-07 10:24:18.968 14880 14880 E AndroidRuntime: \\tat android.view.inputmethod.InputMethodManager$PendingEvent.run(InputMethodManager.java:3065)\\r\\n06-07 10:24:18.968 14880 14880 E AndroidRuntime: \\tat android.view.inputmethod.InputMethodManager.invokeFinishedInputEventCallback(InputMethodManager.java:2608)\\r\\n06-07 10:24:18.968 14880 14880 E AndroidRuntime: \\tat android.view.inputmethod.InputMethodManager.finishedInputEvent(InputMethodManager.java:2599)\\r\\n06-07 10:24:18.968 14880 14880 E AndroidRuntime: \\tat android.view.inputmethod.InputMethodManager$ImeInputEventSender.onInputEventFinished(InputMethodManager.java:3042)\\r\\n06-07 10:24:18.968 14880 14880 E AndroidRuntime: \\tat android.view.InputEventSender.dispatchInputEventFinished(InputEventSender.java:143)\\r\\n06-07 10:24:18.968 14880 14880 E AndroidRuntime: \\tat android.os.MessageQueue.nativePollOnce(Native Method)\\r\\n06-07 10:24:18.968 14880 14880 E AndroidRuntime: \\tat android.os.MessageQueue.next(MessageQueue.java:336)\\r\\n06-07 10:24:18.968 14880 14880 E AndroidRuntime: \\tat android.os.Looper.loop(Looper.java:174)\\r\\n06-07 10:24:18.968 14880 14880 E AndroidRuntime: \\tat android.app.ActivityThread.main(ActivityThread.java:7356)\\r\\n06-07 10:24:18.968 14880 14880 E AndroidRuntime: \\tat java.lang.reflect.Method.invoke(Native Method)\\r\\n06-07 10:24:18.968 14880 14880 E AndroidRuntime: \\tat com.android.internal.os.RuntimeInit$MethodAndArgsCaller.run(RuntimeInit.java:491)\\r\\n06-07 10:24:18.968 14880 14880 E AndroidRuntime: \\tat com.android.internal.os.ZygoteInit.main(ZygoteInit.java:940)\\r\\n06-07 14:05:23.917 19008 19008 E AndroidRuntime: FATAL EXCEPTION: main\\r\\n06-07 14:05:23.917 19008 19008 E AndroidRuntime: Process: org.schabi.newpipe, PID: 19008\\r\\n06-07 14:05:23.917 19008 19008 E AndroidRuntime: java.lang.RuntimeException: Unable to start activity ComponentInfo{org.schabi.newpipe/org.schabi.newpipe.MainActivity}: androidx.fragment.app.Fragment$InstantiationException: Unable to instantiate fragment org.schabi.newpipe.fragments.EmptyFragment: could not find Fragment constructor\\r\\n06-07 14:05:23.917 19008 19008 E AndroidRuntime: \\tat android.app.ActivityThread.performLaunchActivity(ActivityThread.java:3270)\\r\\n06-07 14:05:23.917 19008 19008 E AndroidRuntime: \\tat android.app.ActivityThread.handleLaunchActivity(ActivityThread.java:3409)\\r\\n06-07 14:05:23.917 19008 19008 E AndroidRuntime: \\tat android.app.ActivityThread.handleRelaunchActivityInner(ActivityThread.java:5279)\\r\\n06-07 14:05:23.917 19008 19008 E AndroidRuntime: \\tat android.app.ActivityThread.handleRelaunchActivity(ActivityThread.java:5187)\\r\\n06-07 14:05:23.917 19008 19008 E AndroidRuntime: \\tat android.app.servertransaction.ActivityRelaunchItem.execute(ActivityRelaunchItem.java:69)\\r\\n06-07 14:05:23.917 19008 19008 E AndroidRuntime: \\tat android.app.servertransaction.TransactionExecutor.executeCallbacks(TransactionExecutor.java:135)\\r\\n06-07 14:05:23.917 19008 19008 E AndroidRuntime: \\tat android.app.servertransaction.TransactionExecutor.execute(TransactionExecutor.java:95)\\r\\n06-07 14:05:23.917 19008 19008 E AndroidRuntime: \\tat android.app.ActivityThread$H.handleMessage(ActivityThread.java:2016)\\r\\n06-07 14:05:23.917 19008 19008 E AndroidRuntime: \\tat android.os.Handler.dispatchMessage(Handler.java:107)\\r\\n06-07 14:05:23.917 19008 19008 E AndroidRuntime: \\tat android.os.Looper.loop(Looper.java:214)\\r\\n06-07 14:05:23.917 19008 19008 E AndroidRuntime: \\tat android.app.ActivityThread.main(ActivityThread.java:7356)\\r\\n06-07 14:05:23.917 19008 19008 E AndroidRuntime: \\tat java.lang.reflect.Method.invoke(Native Method)\\r\\n06-07 14:05:23.917 19008 19008 E AndroidRuntime: \\tat com.android.internal.os.RuntimeInit$MethodAndArgsCaller.run(RuntimeInit.java:491)\\r\\n06-07 14:05:23.917 19008 19008 E AndroidRuntime: \\tat com.android.internal.os.ZygoteInit.main(ZygoteInit.java:940)\\r\\n06-07 14:05:23.917 19008 19008 E AndroidRuntime: Caused by: androidx.fragment.app.Fragment$InstantiationException: Unable to instantiate fragment org.schabi.newpipe.fragments.EmptyFragment: could not find Fragment constructor\\r\\n06-07 14:05:23.917 19008 19008 E AndroidRuntime: \\tat androidx.fragment.app.Fragment.instantiate(Fragment.java:563)\\r\\n06-07 14:05:23.917 19008 19008 E AndroidRuntime: \\tat androidx.fragment.app.FragmentContainer.instantiate(FragmentContainer.java:57)\\r\\n06-07 14:05:23.917 19008 19008 E AndroidRuntime: \\tat androidx.fragment.app.FragmentManager$3.instantiate(FragmentManager.java:390)\\r\\n06-07 14:05:23.917 19008 19008 E AndroidRuntime: \\tat androidx.fragment.app.FragmentStateManager.<init>(FragmentStateManager.java:74)\\r\\n06-07 14:05:23.917 19008 19008 E AndroidRuntime: \\tat androidx.fragment.app.FragmentManager.restoreSaveState(FragmentManager.java:2454)\\r\\n06-07 14:05:23.917 19008 19008 E AndroidRuntime: \\tat androidx.fragment.app.Fragment.restoreChildFragmentState(Fragment.java:1706)\\r\\n06-07 14:05:23.917 19008 19008 E AndroidRuntime: \\tat androidx.fragment.app.Fragment.onCreate(Fragment.java:1683)\\r\\n06-07 14:05:23.917 19008 19008 E AndroidRuntime: \\tat org.schabi.newpipe.BaseFragment.onCreate(BaseFragment.java:55)\\r\\n06-07 14:05:23.917 19008 19008 E AndroidRuntime: \\tat org.schabi.newpipe.fragments.detail.VideoDetailFragment.onCreate(VideoDetailFragment.java:279)\\r\\n06-07 14:05:23.917 19008 19008 E AndroidRuntime: \\tat androidx.fragment.app.Fragment.performCreate(Fragment.java:2684)\\r\\n06-07 14:05:23.917 19008 19008 E AndroidRuntime: \\tat androidx.fragment.app.FragmentStateManager.create(FragmentStateManager.java:280)\\r\\n06-07 14:05:23.917 19008 19008 E AndroidRuntime: \\tat androidx.fragment.app.FragmentManager.moveToState(FragmentManager.java:1175)\\r\\n06-07 14:05:23.917 19008 19008 E AndroidRuntime: \\tat androidx.fragment.app.FragmentManager.moveToState(FragmentManager.java:1356)\\r\\n06-07 14:05:23.917 19008 19008 E AndroidRuntime: \\tat androidx.fragment.app.FragmentManager.moveFragmentToExpectedState(FragmentManager.java:1434)\\r\\n06-07 14:05:23.917 19008 19008 E AndroidRuntime: \\tat androidx.fragment.app.FragmentManager.moveToState(FragmentManager.java:1497)\\r\\n06-07 14:05:23.917 19008 19008 E AndroidRuntime: \\tat androidx.fragment.app.FragmentManager.dispatchStateChange(FragmentManager.java:2625)\\r\\n06-07 14:05:23.917 19008 19008 E AndroidRuntime: \\tat androidx.fragment.app.FragmentManager.dispatchCreate(FragmentManager.java:2571)\\r\\n06-07 14:05:23.917 19008 19008 E AndroidRuntime: \\tat androidx.fragment.app.FragmentController.dispatchCreate(FragmentController.java:236)\\r\\n06-07 14:05:23.917 19008 19008 E AndroidRuntime: \\tat androidx.fragment.app.FragmentActivity.onCreate(FragmentActivity.java:315)\\r\\n06-07 14:05:23.917 19008 19008 E AndroidRuntime: \\tat androidx.appcompat.app.AppCompatActivity.onCreate(AppCompatActivity.java:115)\\r\\n06-07 14:05:23.917 19008 19008 E AndroidRuntime: \\tat org.schabi.newpipe.MainActivity.onCreate(MainActivity.java:141)\\r\\n06-07 14:05:23.917 19008 19008 E AndroidRuntime: \\tat android.app.Activity.performCreate(Activity.java:7824)\\r\\n06-07 14:05:23.917 19008 19008 E AndroidRuntime: \\tat android.app.Activity.performCreate(Activity.java:7813)\\r\\n06-07 14:05:23.917 19008 19008 E AndroidRuntime: \\tat android.app.Instrumentation.callActivityOnCreate(Instrumentation.java:1306)\\r\\n06-07 14:05:23.917 19008 19008 E AndroidRuntime: \\tat android.app.ActivityThread.performLaunchActivity(ActivityThread.java:3245)\\r\\n06-07 14:05:23.917 19008 19008 E AndroidRuntime: \\t... 13 more\\r\\n06-07 14:05:23.917 19008 19008 E AndroidRuntime: Caused by: java.lang.NoSuchMethodException: org.schabi.newpipe.fragments.EmptyFragment.<init> []\\r\\n06-07 14:05:23.917 19008 19008 E AndroidRuntime: \\tat java.lang.Class.getConstructor0(Class.java:2332)\\r\\n06-07 14:05:23.917 19008 19008 E AndroidRuntime: \\tat java.lang.Class.getConstructor(Class.java:1728)\\r\\n06-07 14:05:23.917 19008 19008 E AndroidRuntime: \\tat androidx.fragment.app.Fragment.instantiate(Fragment.java:548)\\r\\n06-07 14:05:23.917 19008 19008 E AndroidRuntime: \\t... 37 more\\r\\n06-07 14:06:10.264 19292 19292 E AndroidRuntime: FATAL EXCEPTION: main\\r\\n06-07 14:06:10.264 19292 19292 E AndroidRuntime: Process: org.schabi.newpipe, PID: 19292\\r\\n06-07 14:06:10.264 19292 19292 E AndroidRuntime: java.lang.RuntimeException: Unable to start activity ComponentInfo{org.schabi.newpipe/org.schabi.newpipe.MainActivity}: androidx.fragment.app.Fragment$InstantiationException: Unable to instantiate fragment org.schabi.newpipe.fragments.EmptyFragment: could not find Fragment constructor\\r\\n06-07 14:06:10.264 19292 19292 E AndroidRuntime: \\tat android.app.ActivityThread.performLaunchActivity(ActivityThread.java:3270)\\r\\n06-07 14:06:10.264 19292 19292 E AndroidRuntime: \\tat android.app.ActivityThread.handleLaunchActivity(ActivityThread.java:3409)\\r\\n06-07 14:06:10.264 19292 19292 E AndroidRuntime: \\tat android.app.ActivityThread.handleRelaunchActivityInner(ActivityThread.java:5279)\\r\\n06-07 14:06:10.264 19292 19292 E AndroidRuntime: \\tat android.app.ActivityThread.handleRelaunchActivity(ActivityThread.java:5187)\\r\\n06-07 14:06:10.264 19292 19292 E AndroidRuntime: \\tat android.app.servertransaction.ActivityRelaunchItem.execute(ActivityRelaunchItem.java:69)\\r\\n06-07 14:06:10.264 19292 19292 E AndroidRuntime: \\tat android.app.servertransaction.TransactionExecutor.executeCallbacks(TransactionExecutor.java:135)\\r\\n06-07 14:06:10.264 19292 19292 E AndroidRuntime: \\tat android.app.servertransaction.TransactionExecutor.execute(TransactionExecutor.java:95)\\r\\n06-07 14:06:10.264 19292 19292 E AndroidRuntime: \\tat android.app.ActivityThread$H.handleMessage(ActivityThread.java:2016)\\r\\n06-07 14:06:10.264 19292 19292 E AndroidRuntime: \\tat android.os.Handler.dispatchMessage(Handler.java:107)\\r\\n06-07 14:06:10.264 19292 19292 E AndroidRuntime: \\tat android.os.Looper.loop(Looper.java:214)\\r\\n06-07 14:06:10.264 19292 19292 E AndroidRuntime: \\tat android.app.ActivityThread.main(ActivityThread.java:7356)\\r\\n06-07 14:06:10.264 19292 19292 E AndroidRuntime: \\tat java.lang.reflect.Method.invoke(Native Method)\\r\\n06-07 14:06:10.264 19292 19292 E AndroidRuntime: \\tat com.android.internal.os.RuntimeInit$MethodAndArgsCaller.run(RuntimeInit.java:491)\\r\\n06-07 14:06:10.264 19292 19292 E AndroidRuntime: \\tat com.android.internal.os.ZygoteInit.main(ZygoteInit.java:940)\\r\\n06-07 14:06:10.264 19292 19292 E AndroidRuntime: Caused by: androidx.fragment.app.Fragment$InstantiationException: Unable to instantiate fragment org.schabi.newpipe.fragments.EmptyFragment: could not find Fragment constructor\\r\\n06-07 14:06:10.264 19292 19292 E AndroidRuntime: \\tat androidx.fragment.app.Fragment.instantiate(Fragment.java:563)\\r\\n06-07 14:06:10.264 19292 19292 E AndroidRuntime: \\tat androidx.fragment.app.FragmentContainer.instantiate(FragmentContainer.java:57)\\r\\n06-07 14:06:10.264 19292 19292 E AndroidRuntime: \\tat androidx.fragment.app.FragmentManager$3.instantiate(FragmentManager.java:390)\\r\\n06-07 14:06:10.264 19292 19292 E AndroidRuntime: \\tat androidx.fragment.app.FragmentStateManager.<init>(FragmentStateManager.java:74)\\r\\n06-07 14:06:10.264 19292 19292 E AndroidRuntime: \\tat androidx.fragment.app.FragmentManager.restoreSaveState(FragmentManager.java:2454)\\r\\n06-07 14:06:10.264 19292 19292 E AndroidRuntime: \\tat androidx.fragment.app.Fragment.restoreChildFragmentState(Fragment.java:1706)\\r\\n06-07 14:06:10.264 19292 19292 E AndroidRuntime: \\tat androidx.fragment.app.Fragment.onCreate(Fragment.java:1683)\\r\\n06-07 14:06:10.264 19292 19292 E AndroidRuntime: \\tat org.schabi.newpipe.BaseFragment.onCreate(BaseFragment.java:55)\\r\\n06-07 14:06:10.264 19292 19292 E AndroidRuntime: \\tat org.schabi.newpipe.fragments.detail.VideoDetailFragment.onCreate(VideoDetailFragment.java:279)\\r\\n06-07 14:06:10.264 19292 19292 E AndroidRuntime: \\tat androidx.fragment.app.Fragment.performCreate(Fragment.java:2684)\\r\\n06-07 14:06:10.264 19292 19292 E AndroidRuntime: \\tat androidx.fragment.app.FragmentStateManager.create(FragmentStateManager.java:280)\\r\\n06-07 14:06:10.264 19292 19292 E AndroidRuntime: \\tat androidx.fragment.app.FragmentManager.moveToState(FragmentManager.java:1175)\\r\\n06-07 14:06:10.264 19292 19292 E AndroidRuntime: \\tat androidx.fragment.app.FragmentManager.moveToState(FragmentManager.java:1356)\\r\\n06-07 14:06:10.264 19292 19292 E AndroidRuntime: \\tat androidx.fragment.app.FragmentManager.moveFragmentToExpectedState(FragmentManager.java:1434)\\r\\n06-07 14:06:10.264 19292 19292 E AndroidRuntime: \\tat androidx.fragment.app.FragmentManager.moveToState(FragmentManager.java:1497)\\r\\n06-07 14:06:10.264 19292 19292 E AndroidRuntime: \\tat androidx.fragment.app.FragmentManager.dispatchStateChange(FragmentManager.java:2625)\\r\\n06-07 14:06:10.264 19292 19292 E AndroidRuntime: \\tat androidx.fragment.app.FragmentManager.dispatchCreate(FragmentManager.java:2571)\\r\\n06-07 14:06:10.264 19292 19292 E AndroidRuntime: \\tat androidx.fragment.app.FragmentController.dispatchCreate(FragmentController.java:236)\\r\\n06-07 14:06:10.264 19292 19292 E AndroidRuntime: \\tat androidx.fragment.app.FragmentActivity.onCreate(FragmentActivity.java:315)\\r\\n06-07 14:06:10.264 19292 19292 E AndroidRuntime: \\tat androidx.appcompat.app.AppCompatActivity.onCreate(AppCompatActivity.java:115)\\r\\n06-07 14:06:10.264 19292 19292 E AndroidRuntime: \\tat org.schabi.newpipe.MainActivity.onCreate(MainActivity.java:141)\\r\\n06-07 14:06:10.264 19292 19292 E AndroidRuntime: \\tat android.app.Activity.performCreate(Activity.java:7824)\\r\\n06-07 14:06:10.264 19292 19292 E AndroidRuntime: \\tat android.app.Activity.performCreate(Activity.java:7813)\\r\\n06-07 14:06:10.264 19292 19292 E AndroidRuntime: \\tat android.app.Instrumentation.callActivityOnCreate(Instrumentation.java:1306)\\r\\n06-07 14:06:10.264 19292 19292 E AndroidRuntime: \\tat android.app.ActivityThread.performLaunchActivity(ActivityThread.java:3245)\\r\\n06-07 14:06:10.264 19292 19292 E AndroidRuntime: \\t... 13 more\\r\\n06-07 14:06:10.264 19292 19292 E AndroidRuntime: Caused by: java.lang.NoSuchMethodException: org.schabi.newpipe.fragments.EmptyFragment.<init> []\\r\\n06-07 14:06:10.264 19292 19292 E AndroidRuntime: \\tat java.lang.Class.getConstructor0(Class.java:2332)\\r\\n06-07 14:06:10.264 19292 19292 E AndroidRuntime: \\tat java.lang.Class.getConstructor(Class.java:1728)\\r\\n06-07 14:06:10.264 19292 19292 E AndroidRuntime: \\tat androidx.fragment.app.Fragment.instantiate(Fragment.java:548)\\r\\n06-07 14:06:10.264 19292 19292 E AndroidRuntime: \\t... 37 more\\r\\n\\r\\n```\\r\\n</details>\\r\\n<hr>'"
            ],
            "application/vnd.google.colaboratory.intrinsic+json": {
              "type": "string"
            }
          },
          "metadata": {},
          "execution_count": 53
        }
      ]
    },
    {
      "cell_type": "code",
      "source": [
        "test_sample.loc[3021,'llama3_70b_body_summary_corrected'] = \"Here's a breakdown of the error:\\n\\n1. The first instance occurs at 14:05:23 and has a process ID of 19008.\\n2. The second instance occurs at 14:06:10 and has a process ID of 19292.\\n\\nThe error message is:\\n```\\njava.lang.RuntimeException: Unable to start activity ComponentInfo{org.schabi.newpipe/org.schabi.newpipe.MainActivity}: androidx.fragment.app.Fragment$InstantiationException: Unable to instantiate fragment org.schabi.newpipe.fragments.EmptyFragment: could not find Fragment constructor\""
      ],
      "metadata": {
        "id": "2EIn9v_r5aXx"
      },
      "execution_count": 54,
      "outputs": []
    },
    {
      "cell_type": "code",
      "source": [
        "test_sample.loc[3021,'llama3_70b_body_summary_check'] = 'interpretation of the model is removed'"
      ],
      "metadata": {
        "id": "3AKuzaM66BVh"
      },
      "execution_count": 55,
      "outputs": []
    },
    {
      "cell_type": "code",
      "source": [
        "test_sample.loc[3027,'llama3_70b_body_summary']"
      ],
      "metadata": {
        "colab": {
          "base_uri": "https://localhost:8080/",
          "height": 154
        },
        "id": "OuG10keg6Gft",
        "outputId": "572ebf7f-ab44-43dd-f683-e6e981686dcc"
      },
      "execution_count": 56,
      "outputs": [
        {
          "output_type": "execute_result",
          "data": {
            "text/plain": [
              "'Here is a summary of the log output:\\n\\n* There are multiple errors occurring due to tables not existing in the database.\\n* The specific tables mentioned are `swtest.service_inventory` and `swtest.service_instance_inventory`.\\n* These errors are being thrown by various components of the Apache SkyWalking system, including the storage plugin, cache, and receiver.\\n* The errors are causing issues with service instance heartbeats, metric reporting, and other functionality.\\n\\nThe log output does not provide a clear cause for why these tables do not exist, but it suggests that there may be an issue with the database configuration or setup.'"
            ],
            "application/vnd.google.colaboratory.intrinsic+json": {
              "type": "string"
            }
          },
          "metadata": {},
          "execution_count": 56
        }
      ]
    },
    {
      "cell_type": "code",
      "source": [
        "test_sample.loc[3027,'llama3_70b_body_summary_check'] = 'OK'"
      ],
      "metadata": {
        "id": "uKCfV6mf5acZ"
      },
      "execution_count": 57,
      "outputs": []
    },
    {
      "cell_type": "code",
      "source": [
        "test_sample.loc[3045,'llama3_70b_body_summary']"
      ],
      "metadata": {
        "colab": {
          "base_uri": "https://localhost:8080/",
          "height": 188
        },
        "id": "M-GwHaA56Stm",
        "outputId": "4660ecd6-e79e-421f-c1d8-2493b82607c8"
      },
      "execution_count": 58,
      "outputs": [
        {
          "output_type": "execute_result",
          "data": {
            "text/plain": [
              "'Here is a summary of the crash logs:\\n\\nAll 19 crash logs have the same error message and stack trace, indicating that they are related to the same issue.\\n\\nThe error message is `org.schabi.newpipe.local.feed.service.FeedLoadService$RequestException`, which is caused by a `ParsingException` with the message \"Could not get channel id\".\\n\\nThe exception occurs in the `YoutubeChannelExtractor.getId()` method, which suggests that there is an issue with parsing the YouTube channel ID.\\n\\nThe stack trace shows that the error occurs when trying to load a feed from a specific YouTube channel URL. The URLs are different for each crash log, but they all follow the same format (`https://www.youtube.com/channel/<channel_id>`).\\n\\nThere is no device-specific information provided in the crash logs, so it\\'s unclear if this issue is related to a specific Android version or device model.'"
            ],
            "application/vnd.google.colaboratory.intrinsic+json": {
              "type": "string"
            }
          },
          "metadata": {},
          "execution_count": 58
        }
      ]
    },
    {
      "cell_type": "code",
      "source": [
        "test_sample.loc[3045,'llama3_70b_body_summary_check'] = 'OK'"
      ],
      "metadata": {
        "id": "XwKyvfGN6dNh"
      },
      "execution_count": 59,
      "outputs": []
    },
    {
      "cell_type": "code",
      "source": [
        "test_sample.loc[3103,'llama3_70b_body_summary']"
      ],
      "metadata": {
        "colab": {
          "base_uri": "https://localhost:8080/",
          "height": 137
        },
        "id": "iKcDR8WC6e2c",
        "outputId": "46c216e5-820a-4fe4-de65-ff82c95f3a19"
      },
      "execution_count": 60,
      "outputs": [
        {
          "output_type": "execute_result",
          "data": {
            "text/plain": [
              "\"The output shows a list of errors encountered during the compilation of Java code. The errors are related to unresolved types and methods in various classes, including:\\n\\n* `JexlEngine`, `JexlContext`, `Expression`, and `JexlException` from the Apache Commons JEXL library\\n* `PlainSelect` and `Update` from a SQL parsing library\\n\\nThe errors indicate that the compiler is unable to find these types and methods, suggesting that there may be issues with the project's dependencies or imports.\\n\\nThere are 72 errors in total, and the output provides information on how to troubleshoot and resolve the issues.\""
            ],
            "application/vnd.google.colaboratory.intrinsic+json": {
              "type": "string"
            }
          },
          "metadata": {},
          "execution_count": 60
        }
      ]
    },
    {
      "cell_type": "code",
      "source": [
        "test_sample.loc[3103,'llama3_70b_body_summary_check'] = 'OK'"
      ],
      "metadata": {
        "id": "Muz_xuRu6ph6"
      },
      "execution_count": 61,
      "outputs": []
    },
    {
      "cell_type": "code",
      "source": [
        "test_sample.loc[3448,'llama3_70b_body_summary']"
      ],
      "metadata": {
        "colab": {
          "base_uri": "https://localhost:8080/",
          "height": 273
        },
        "id": "IpNFewcx6ttM",
        "outputId": "57439f1c-39b7-436f-8669-10824313e5c2"
      },
      "execution_count": 62,
      "outputs": [
        {
          "output_type": "execute_result",
          "data": {
            "text/plain": [
              "\"This is a log output from an Elasticsearch node, showing various events and errors that occurred during startup. Here's a breakdown of the log:\\n\\n**Loaded modules**: The first several lines show that various X-Pack modules were loaded successfully.\\n\\n**Warnings**: There are two warnings related to Java 19 and MMapDirectory.\\n\\n**Node configuration**: The log shows the node name, ID, cluster name, and roles.\\n\\n**Security**: Security is enabled, and some security-related settings are configured.\\n\\n**NettyAllocator**: A NettyAllocator is created with specific configurations.\\n\\n**Rate limit**: A rate limit of 40mb is set for the node.\\n\\n**Discovery**: The discovery type is set to multi-node, and seed hosts providers are configured.\\n\\n**Initialization**: The node is initialized, and various components are started.\\n\\n**Bootstrap checks failure**: However, the bootstrap checks fail due to a low value for `vm.max_map_count` (65530), which is too low. This causes Elasticsearch to exit abnormally.\\n\\n**Error messages**: There are several error messages related to thread access control, process reaping, and recursive calls to appender rolling.\\n\\n**Final error message**: The log ends with an error message indicating that one bootstrap check failed, and the node cannot start until this issue is addressed.\""
            ],
            "application/vnd.google.colaboratory.intrinsic+json": {
              "type": "string"
            }
          },
          "metadata": {},
          "execution_count": 62
        }
      ]
    },
    {
      "cell_type": "code",
      "source": [
        "test_sample.loc[3448,'llama3_70b_body_summary_check'] = 'OK'"
      ],
      "metadata": {
        "id": "LZmjw8TJ63Nx"
      },
      "execution_count": 63,
      "outputs": []
    },
    {
      "cell_type": "code",
      "source": [
        "test_sample.loc[3891,'llama3_70b_body_summary']"
      ],
      "metadata": {
        "colab": {
          "base_uri": "https://localhost:8080/",
          "height": 222
        },
        "id": "Bcg0hbPA65wW",
        "outputId": "ebb5b527-8773-47ef-841a-51b94380c98b"
      },
      "execution_count": 64,
      "outputs": [
        {
          "output_type": "execute_result",
          "data": {
            "text/plain": [
              "\"This appears to be a crash log from an iOS app built with React Native. The log shows the call stacks for 33 threads, including the main thread and various worker threads.\\n\\nHere's a brief summary of each thread:\\n\\n**Threads 1-18**: These threads are all related to GCD (Grand Central Dispatch) and are likely handling asynchronous tasks such as networking requests or database operations.\\n\\n**Thread 19**: This thread is running an AVAudioSession notify thread, which is used for audio processing.\\n\\n**Threads 20-24**: These threads are all WTF::AutomaticThread instances, which are used by the JavaScriptCore framework to run JavaScript code in separate threads.\\n\\n**Thread 25**: This thread is running a com.facebook.react.JavaScript thread, which is responsible for executing JavaScript code in the React Native app.\\n\\n**Thread 26**: This thread is a worker thread created by libdispatch.dylib, which is used for asynchronous task execution.\\n\\n**Thread 27**: This thread is another WTF::AutomaticThread instance.\\n\\n**Thread 28**: This thread is running a com.facebook.react.NetworkingQueue thread, which is responsible for handling network requests in the React Native app.\\n\\n**Threads 29-33**: These threads are all worker threads created by libdispatch.dylib or libsystem_pthread.dylib, and are likely used for various asynchronous tasks such as networking, database operations, or other background processing.\\n\\nThe log also includes information about the React Native environment, including the OS version, CPU architecture, memory usage, Node.js and npm versions, and SDKs installed on the system.\""
            ],
            "application/vnd.google.colaboratory.intrinsic+json": {
              "type": "string"
            }
          },
          "metadata": {},
          "execution_count": 64
        }
      ]
    },
    {
      "cell_type": "code",
      "source": [
        "test_sample.loc[3891,'llama3_70b_body_summary_check'] = 'OK'"
      ],
      "metadata": {
        "id": "4Suh--Dw5aem"
      },
      "execution_count": 65,
      "outputs": []
    },
    {
      "cell_type": "code",
      "source": [
        "test_sample.loc[4221,'llama3_70b_body_summary']"
      ],
      "metadata": {
        "colab": {
          "base_uri": "https://localhost:8080/",
          "height": 341
        },
        "id": "cbDBCy5V7GJZ",
        "outputId": "6d3bb733-2fca-4a3b-ade8-b1943472fad6"
      },
      "execution_count": 66,
      "outputs": [
        {
          "output_type": "execute_result",
          "data": {
            "text/plain": [
              "\"The infamous Swift version mismatch error!\\n\\nThis error occurs when a module (in this case, `Charts`) is compiled with a different version of Swift than the one used by your project.\\n\\nHere are some potential solutions to try:\\n\\n1. **Update `Charts` to use Swift 5.1.2**:\\nCheck if there's an updated version of `Charts` that supports Swift 5.1.2. You can do this by running `pod update Charts` in your terminal.\\n2. **Downgrade your Swift version**:\\nIf you're using a newer version of Xcode, try downgrading to an earlier version that uses Swift 5.1. This might not be feasible if you need features from the latest Xcode version.\\n3. **Use a Swift version manager**:\\nTools like `swiftversion` or `swiftenv` allow you to manage multiple Swift versions on your system. You can use these tools to switch between Swift 5.1 and 5.1.2.\\n4. **Exclude arm64 architecture**:\\nAs a temporary workaround, you can try excluding the arm64 architecture from your build settings. This might not be ideal, but it could help you move forward.\\n\\nIn your `Podfile`, add the following line:\\n```ruby\\npost_install do |installer|\\n  installer.pods_project.targets.each do |target|\\n    target.build_configurations.each do |config|\\n      config.build_settings['ARCHS'] = 'armv7 armv7s'\\n    end\\n  end\\nend\\n```\\nThen, run `pod install` again.\\n\\n5. **Clean and rebuild**:\\nSometimes, a simple clean and rebuild can resolve the issue. Run `pod deintegrate`, then `pod install`, and finally `react-native run-ios`.\\n\\nIf none of these solutions work, you might need to investigate further or seek help from the maintainers of `Charts` or `react-native-charts-wrapper`.\""
            ],
            "application/vnd.google.colaboratory.intrinsic+json": {
              "type": "string"
            }
          },
          "metadata": {},
          "execution_count": 66
        }
      ]
    },
    {
      "cell_type": "code",
      "source": [
        "test_sample.loc[4221,'llama3_70b_body_summary_check'] = 'seems to be the model provided recommendations'"
      ],
      "metadata": {
        "id": "X37l2Lx97Tr4"
      },
      "execution_count": 67,
      "outputs": []
    },
    {
      "cell_type": "code",
      "source": [
        "test_sample.loc[4468,'llama3_70b_body_summary']"
      ],
      "metadata": {
        "colab": {
          "base_uri": "https://localhost:8080/",
          "height": 222
        },
        "id": "sA9BnC7u7bLR",
        "outputId": "f71dcfe3-4699-4d4e-9ea0-2ec5f0f7187d"
      },
      "execution_count": 68,
      "outputs": [
        {
          "output_type": "execute_result",
          "data": {
            "text/plain": [
              "'This is a configuration file for the DBeaver database management system. It contains various settings and preferences for the application, including:\\n\\n* UI settings: font sizes, colors, and layout options\\n* Editor settings: syntax highlighting, auto-completion, and formatting options\\n* Database connection settings: driver configurations, authentication details, and query execution options\\n* Data format settings: date, time, and number formatting options\\n* Search and filtering settings: search metadata, object types, and result set limits\\n* Miscellaneous settings: animation, window management, and other application behaviors\\n\\nThe file is organized into sections, each starting with a `/` character, followed by the name of the section. Within each section, there are key-value pairs that specify the setting or preference.\\n\\nFor example, the line `/bundle_defaults/org.jkiss.dbeaver.core/dataformat.type.number.maxFractionDigits=3` sets the maximum number of fraction digits for numeric data formats to 3.\\n\\nThe file also contains some version information and plugin-specific settings.'"
            ],
            "application/vnd.google.colaboratory.intrinsic+json": {
              "type": "string"
            }
          },
          "metadata": {},
          "execution_count": 68
        }
      ]
    },
    {
      "cell_type": "code",
      "source": [
        "test_sample.loc[4468,'llama3_70b_body_summary_check'] = 'OK'"
      ],
      "metadata": {
        "id": "_O1okZ1y7bNx"
      },
      "execution_count": 69,
      "outputs": []
    },
    {
      "cell_type": "code",
      "source": [
        "test_sample.loc[4654,'llama3_70b_body_summary']"
      ],
      "metadata": {
        "colab": {
          "base_uri": "https://localhost:8080/",
          "height": 290
        },
        "id": "yEHJp1N67kr0",
        "outputId": "bb2d3857-367a-4721-93a9-28ff738a51d2"
      },
      "execution_count": 70,
      "outputs": [
        {
          "output_type": "execute_result",
          "data": {
            "text/plain": [
              "\"This is a log output from a Spring Boot application that uses Spring Cloud and other dependencies. Here's a breakdown of the log:\\n\\n**Initial Startup**\\n\\n* The application starts up, and various beans are registered with JMX (Java Management Extensions) for monitoring.\\n* Beans such as `environmentManager`, `restartEndpoint`, `refreshScope`, and others are autodetected and registered with JMX.\\n\\n**Error during Startup**\\n\\n* An error occurs during startup due to an `InstanceAlreadyExistsException` when trying to register the `EnvironmentManager` bean with JMX. This causes the application startup to fail.\\n* The error is caused by a nested exception, which is also an `InstanceAlreadyExistsException`.\\n\\n**Subsequent Log Output**\\n\\n* Despite the initial error, the application continues to log various events and bean registrations.\\n* Beans such as `configurationPropertiesRebinder`, `refreshEndpoint`, and others are registered with JMX.\\n* The application starts up various components, including a Tomcat embedded servlet container on port 8080.\\n* The application registers with Eureka (a service discovery mechanism) and reports its status as UP.\\n\\nOverall, the log output suggests that there was an error during startup due to a bean registration issue with JMX, but the application continued to start up and register various beans and components.\""
            ],
            "application/vnd.google.colaboratory.intrinsic+json": {
              "type": "string"
            }
          },
          "metadata": {},
          "execution_count": 70
        }
      ]
    },
    {
      "cell_type": "code",
      "source": [
        "test_sample.loc[4654,'llama3_70b_body_summary_check'] = 'OK'"
      ],
      "metadata": {
        "id": "blO2j_Mm7kuZ"
      },
      "execution_count": 71,
      "outputs": []
    },
    {
      "cell_type": "code",
      "source": [
        "test_sample.loc[4892,'llama3_70b_body_summary']"
      ],
      "metadata": {
        "colab": {
          "base_uri": "https://localhost:8080/",
          "height": 324
        },
        "id": "5Z52dLVH7uC2",
        "outputId": "d2dde68c-596f-4e67-c333-e92a23f845d5"
      },
      "execution_count": 72,
      "outputs": [
        {
          "output_type": "execute_result",
          "data": {
            "text/plain": [
              "\"This appears to be a configuration file for an Apache Pulsar cluster, along with some log output from a BookKeeper instance.\\n\\nHere's a breakdown of the contents:\\n\\n**Configuration File**\\n\\nThe first part of the output is a JSON object that represents the configuration for an Apache Pulsar cluster. It contains various settings and properties related to topics, subscriptions, brokers, bookies, ZooKeeper, and more.\\n\\nSome notable settings include:\\n\\n* `brokerServicePort`: The port number used by the broker service (6650).\\n* `loadBalancerReportUpdateMaxIntervalMinutes`: The maximum interval in minutes for updating load balancer reports (15).\\n* `managedLedgerNumSchedulerThreads`: The number of threads used for scheduling managed ledgers (4).\\n* `tlsEnabled`: Whether TLS is enabled (false).\\n\\n**Log Output**\\n\\nThe second part of the output appears to be log messages from a BookKeeper instance. BookKeeper is a distributed log storage system that's often used in conjunction with Apache Pulsar.\\n\\nSome notable log messages include:\\n\\n* The BookieNettyServer binding to address 0.0.0.0:3181.\\n* The initialization of the ZooKeeper metadata driver manager.\\n* The connection establishment to the ZooKeeper server at 127.0.0.1:2181.\\n* The creation of a new ledger manager instance.\\n* Errors reading from the journal file (which is expected if it's the first time starting this Bookie instance).\\n\\n**Desktop Information**\\n\\nThe final part of the output provides information about the desktop environment:\\n\\n* OS: MacOS 11.4\\n* Docker: Docker version 20.10.7, build f0df350\""
            ],
            "application/vnd.google.colaboratory.intrinsic+json": {
              "type": "string"
            }
          },
          "metadata": {},
          "execution_count": 72
        }
      ]
    },
    {
      "cell_type": "code",
      "source": [
        "test_sample.loc[4892,'llama3_70b_body_summary_check'] = 'OK'"
      ],
      "metadata": {
        "id": "x9mVJE2h7uFB"
      },
      "execution_count": 73,
      "outputs": []
    },
    {
      "cell_type": "code",
      "source": [
        "test_sample.loc[4897,'llama3_70b_body_summary']"
      ],
      "metadata": {
        "colab": {
          "base_uri": "https://localhost:8080/",
          "height": 375
        },
        "id": "Bgj-N6W_74HS",
        "outputId": "317ed0f4-858e-4a5f-e790-2154026a1a98"
      },
      "execution_count": 74,
      "outputs": [
        {
          "output_type": "execute_result",
          "data": {
            "text/plain": [
              "'This is an Eclipse error log, which indicates that there are several bundles (plugins) that cannot be resolved or started due to missing dependencies. Here\\'s a summary of the errors:\\n\\n1. `org.eclipse.e4.ui.workbench.renderers.swt`:\\n\\t* Unresolved requirement: `Require-Bundle: org.eclipse.e4.core.services; bundle-version=\"0.9.0\"`\\n\\t* Unresolved requirement: `Import-Package: org.osgi.service.component.annotations; version=\"1.2.0\"; resolution:=\"optional\"`\\n2. `org.eclipse.e4.ui.workbench.swt`:\\n\\t* Unresolved requirement: `Import-Package: org.osgi.service.component.annotations; version=\"1.2.0\"; resolution:=\"optional\"`\\n3. `org.eclipse.equinox.p2.discovery.compatibility`:\\n\\t* Unresolved requirement: `Require-Bundle: org.eclipse.core.runtime; bundle-version=\"3.3.0\"`\\n4. `org.eclipse.equinox.p2.transport.ecf`:\\n\\t* Unresolved requirement: `Require-Bundle: org.eclipse.ecf; bundle-version=\"3.1.0\"`\\n5. `org.eclipse.equinox.p2.ui`:\\n\\t* Unresolved requirement: `Require-Bundle: org.eclipse.core.runtime; bundle-version=\"[3.18.0,4.0.0)\"`\\n\\t* Unresolved requirement: `Require-Bundle: org.eclipse.ui; bundle-version=\"3.107.0\"`\\n6. `org.eclipse.equinox.p2.ui.importexport`:\\n\\t* Unresolved requirement: `Import-Package: org.eclipse.equinox.internal.p2.ui`\\n7. `org.jkiss.dbeaver.ext.h2gis`:\\n\\t* Unresolved requirement: `Require-Bundle: org.jkiss.dbeaver.model`\\n8. `org.eclipse.e4.ui.css.core`:\\n\\t* Unresolved requirement: `Require-Bundle: org.apache.batik.css; bundle-version=\"[1.9.1,2.0.0)\"`\\n9. `org.eclipse.jsch.ui`:\\n\\t* Unresolved requirement: `Require-Bundle: org.eclipse.ui; bundle-version=\"[3.5.0,4.0.0)\"`\\n\\nThe final error message indicates that the application cannot start due to an `IllegalStateException` caused by the inability to acquire the application service. This is likely related to the unresolved dependencies mentioned above.'"
            ],
            "application/vnd.google.colaboratory.intrinsic+json": {
              "type": "string"
            }
          },
          "metadata": {},
          "execution_count": 74
        }
      ]
    },
    {
      "cell_type": "code",
      "source": [
        "test_sample.loc[4897,'llama3_70b_body_summary_corrected'] = \"\"\"1. `org.eclipse.e4.ui.workbench.renderers.swt`:\\n\\t* Unresolved requirement: `Require-Bundle: org.eclipse.e4.core.services; bundle-version=\"0.9.0\"`\\n\\t* Unresolved requirement: `Import-Package: org.osgi.service.component.annotations; version=\"1.2.0\"; resolution:=\"optional\"`\\n2. `org.eclipse.e4.ui.workbench.swt`:\\n\\t* Unresolved requirement: `Import-Package: org.osgi.service.component.annotations; version=\"1.2.0\"; resolution:=\"optional\"`\\n3. `org.eclipse.equinox.p2.discovery.compatibility`:\\n\\t* Unresolved requirement: `Require-Bundle: org.eclipse.core.runtime; bundle-version=\"3.3.0\"`\\n4. `org.eclipse.equinox.p2.transport.ecf`:\\n\\t* Unresolved requirement: `Require-Bundle: org.eclipse.ecf; bundle-version=\"3.1.0\"`\\n5. `org.eclipse.equinox.p2.ui`:\\n\\t* Unresolved requirement: `Require-Bundle: org.eclipse.core.runtime; bundle-version=\"[3.18.0,4.0.0)\"`\\n\\t* Unresolved requirement: `Require-Bundle: org.eclipse.ui; bundle-version=\"3.107.0\"`\\n6. `org.eclipse.equinox.p2.ui.importexport`:\\n\\t* Unresolved requirement: `Import-Package: org.eclipse.equinox.internal.p2.ui`\\n7. `org.jkiss.dbeaver.ext.h2gis`:\\n\\t* Unresolved requirement: `Require-Bundle: org.jkiss.dbeaver.model`\\n8. `org.eclipse.e4.ui.css.core`:\\n\\t* Unresolved requirement: `Require-Bundle: org.apache.batik.css; bundle-version=\"[1.9.1,2.0.0)\"`\\n9. `org.eclipse.jsch.ui`:\\n\\t* Unresolved requirement: `Require-Bundle: org.eclipse.ui; bundle-version=\"[3.5.0,4.0.0)\"\"\""
      ],
      "metadata": {
        "id": "dbHbixz0-UYb"
      },
      "execution_count": 75,
      "outputs": []
    },
    {
      "cell_type": "code",
      "source": [
        "test_sample.loc[4897,'llama3_70b_body_summary_check'] = 'first and last parts are removed'"
      ],
      "metadata": {
        "id": "tEFOFxTN7uHO"
      },
      "execution_count": 76,
      "outputs": []
    },
    {
      "cell_type": "code",
      "source": [
        "test_sample.loc[4932,'llama3_70b_body_summary']"
      ],
      "metadata": {
        "colab": {
          "base_uri": "https://localhost:8080/",
          "height": 290
        },
        "id": "hQnwU2ao-krC",
        "outputId": "2b7243ec-485e-47ce-c6c7-03d033f8b8cf"
      },
      "execution_count": 77,
      "outputs": [
        {
          "output_type": "execute_result",
          "data": {
            "text/plain": [
              "\"This is a Java stack trace from an Eclipse-based application,<|begin_of_text|>2014. It appears to be a complex error message with multiple exceptions and errors. Here's a breakdown of the main issues:\\n\\n1. `java.lang.NoClassDefFoundError`: The class `org/eclipse/jface/resource/ResourceLocator` cannot be found.\\n2. `org.eclipse.swt.SWTException: Widget is disposed`: A widget has been disposed, , but an attempt was made to access or manipulate it.\\n\\nThe errors occur in the context of a wizard dialog (e.g., `NewConnectionDialog`) and involve various Eclipse plugins and components, such as:\\n\\n* `org.jkiss.dbeaver` (a database management tool)\\n* `org.eclipse.jface` (Eclipse's Java-based UI framework)\\n* `org.eclipse.swt` (Eclipse's Standard Widget Toolkit)\\n\\nThe stack trace suggests that the error occurs when trying to create a new connection in the DBeaver application. The exact cause of the issue is unclear, but it may be related to:\\n\\n* A missing or incompatible plugin or library\\n* An incorrect configuration or setup\\n* A bug in one of the involved components\\n\\nTo troubleshoot this issue, you may want to try:\\n\\n* Checking the Eclipse and DBeaver logs for more detailed error messages\\n* Verifying that all required plugins and libraries are installed and up-to-date\\n* Reinstalling or updating the affected components\\n* Searching online for similar issues and potential solutions\""
            ],
            "application/vnd.google.colaboratory.intrinsic+json": {
              "type": "string"
            }
          },
          "metadata": {},
          "execution_count": 77
        }
      ]
    },
    {
      "cell_type": "code",
      "source": [
        "test_sample.loc[4932,'llama3_70b_body_summary_corrected'] = \"\"\"1. `java.lang.NoClassDefFoundError`: The class `org/eclipse/jface/resource/ResourceLocator` cannot be found.\\n2. `org.eclipse.swt.SWTException: Widget is disposed`: A widget has been disposed, , but an attempt was made to access or manipulate it.\\n\\nThe errors occur in the context of a wizard dialog (e.g., `NewConnectionDialog`) and involve various Eclipse plugins and components, such as:\\n\\n* `org.jkiss.dbeaver` (a database management tool)\\n* `org.eclipse.jface` (Eclipse's Java-based UI framework)\\n* `org.eclipse.swt` (Eclipse's Standard Widget Toolkit)\\n\\nThe stack trace suggests that the error occurs when trying to create a new connection in the DBeaver application. The exact cause of the issue is unclear, but it may be related to:\\n\\n* A missing or incompatible plugin or library\\n* An incorrect configuration or setup\\n* A bug in one of the involved components\"\"\""
      ],
      "metadata": {
        "id": "YiFlxb2a7GLz"
      },
      "execution_count": 78,
      "outputs": []
    },
    {
      "cell_type": "code",
      "source": [
        "test_sample.loc[4932,'llama3_70b_body_summary_check'] = 'first and last parts are removed'"
      ],
      "metadata": {
        "id": "5Jz8SIYl7GOF"
      },
      "execution_count": 79,
      "outputs": []
    },
    {
      "cell_type": "markdown",
      "source": [
        "Running LLaMA classification prompt again"
      ],
      "metadata": {
        "id": "gCd-gV0zs3PL"
      }
    },
    {
      "cell_type": "code",
      "source": [
        "with tqdm(total=test_sample.shape[0], ncols=100) as pbar:\n",
        "    for idx in test_sample.index:\n",
        "        try:\n",
        "            test_sample.loc[idx, 'llama3_70b_prediction_round2'] = llm.invoke(f\"\"\"Classify the following issue as \"bug\", \"enhancement\", \"question\" or \"other\" and rate your classification confidence and issue understandability in range 0 - 100. Your answer should only include:\n",
        "Classification: your classification answer\n",
        "Prediction Confidence: your level of confidence\n",
        "Issue Understandability: level of understandability\n",
        "Do not provide any explanation.\n",
        "Issue Title: {test_sample.loc[idx,'original_issue_title']}\n",
        "Issue Body: {test_sample.loc[idx,'llama3_70b_body_summary_corrected']}\n",
        "\"\"\")\n",
        "            pbar.update(1)\n",
        "        except Exception as e:\n",
        "            print(f'Exception at index {idx}: {e}')\n",
        "            continue\n",
        "\n",
        "print(f'Categorization of {test_sample.shape[0]} issues is complete')"
      ],
      "metadata": {
        "colab": {
          "base_uri": "https://localhost:8080/"
        },
        "id": "IyG9a4zrs3qY",
        "outputId": "754e84c2-beed-48ad-88d9-27fa0e5f01bd"
      },
      "execution_count": 80,
      "outputs": [
        {
          "output_type": "stream",
          "name": "stderr",
          "text": [
            "100%|███████████████████████████████████████████████████████████████| 28/28 [01:49<00:00,  3.89s/it]"
          ]
        },
        {
          "output_type": "stream",
          "name": "stdout",
          "text": [
            "Categorization of 28 issues is complete\n"
          ]
        },
        {
          "output_type": "stream",
          "name": "stderr",
          "text": [
            "\n"
          ]
        }
      ]
    },
    {
      "cell_type": "code",
      "source": [
        "test_sample['llama3_70b_prediction_round2'].value_counts()"
      ],
      "metadata": {
        "colab": {
          "base_uri": "https://localhost:8080/",
          "height": 331
        },
        "id": "_bOGsft-s-I9",
        "outputId": "ba8252ff-8dbc-49e8-a8f2-5825c385848d"
      },
      "execution_count": 81,
      "outputs": [
        {
          "output_type": "execute_result",
          "data": {
            "text/plain": [
              "llama3_70b_prediction_round2\n",
              "Classification: bug\\nPrediction Confidence: 90\\nIssue Understandability: 80         10\n",
              "Classification: bug\\nPrediction Confidence: 90\\nIssue Understandability: 95          6\n",
              "Classification: bug\\nPrediction Confidence: 100\\nIssue Understandability: 90         5\n",
              "Classification: bug\\nPrediction Confidence: 95\\nIssue Understandability: 90          3\n",
              "Classification: other\\nPrediction Confidence: 80\\nIssue Understandability: 60        2\n",
              "Classification: question\\nPrediction Confidence: 90\\nIssue Understandability: 95     1\n",
              "Classification: bug\\nPrediction Confidence: 80\\nIssue Understandability: 90          1\n",
              "Name: count, dtype: int64"
            ],
            "text/html": [
              "<div>\n",
              "<style scoped>\n",
              "    .dataframe tbody tr th:only-of-type {\n",
              "        vertical-align: middle;\n",
              "    }\n",
              "\n",
              "    .dataframe tbody tr th {\n",
              "        vertical-align: top;\n",
              "    }\n",
              "\n",
              "    .dataframe thead th {\n",
              "        text-align: right;\n",
              "    }\n",
              "</style>\n",
              "<table border=\"1\" class=\"dataframe\">\n",
              "  <thead>\n",
              "    <tr style=\"text-align: right;\">\n",
              "      <th></th>\n",
              "      <th>count</th>\n",
              "    </tr>\n",
              "    <tr>\n",
              "      <th>llama3_70b_prediction_round2</th>\n",
              "      <th></th>\n",
              "    </tr>\n",
              "  </thead>\n",
              "  <tbody>\n",
              "    <tr>\n",
              "      <th>Classification: bug\\nPrediction Confidence: 90\\nIssue Understandability: 80</th>\n",
              "      <td>10</td>\n",
              "    </tr>\n",
              "    <tr>\n",
              "      <th>Classification: bug\\nPrediction Confidence: 90\\nIssue Understandability: 95</th>\n",
              "      <td>6</td>\n",
              "    </tr>\n",
              "    <tr>\n",
              "      <th>Classification: bug\\nPrediction Confidence: 100\\nIssue Understandability: 90</th>\n",
              "      <td>5</td>\n",
              "    </tr>\n",
              "    <tr>\n",
              "      <th>Classification: bug\\nPrediction Confidence: 95\\nIssue Understandability: 90</th>\n",
              "      <td>3</td>\n",
              "    </tr>\n",
              "    <tr>\n",
              "      <th>Classification: other\\nPrediction Confidence: 80\\nIssue Understandability: 60</th>\n",
              "      <td>2</td>\n",
              "    </tr>\n",
              "    <tr>\n",
              "      <th>Classification: question\\nPrediction Confidence: 90\\nIssue Understandability: 95</th>\n",
              "      <td>1</td>\n",
              "    </tr>\n",
              "    <tr>\n",
              "      <th>Classification: bug\\nPrediction Confidence: 80\\nIssue Understandability: 90</th>\n",
              "      <td>1</td>\n",
              "    </tr>\n",
              "  </tbody>\n",
              "</table>\n",
              "</div><br><label><b>dtype:</b> int64</label>"
            ]
          },
          "metadata": {},
          "execution_count": 81
        }
      ]
    },
    {
      "cell_type": "code",
      "source": [
        "test_sample.to_pickle('msc_test_sample_summarized_llama3_70b_preds.pkl')"
      ],
      "metadata": {
        "id": "6ZtEcnmWs-kJ"
      },
      "execution_count": 82,
      "outputs": []
    }
  ]
}